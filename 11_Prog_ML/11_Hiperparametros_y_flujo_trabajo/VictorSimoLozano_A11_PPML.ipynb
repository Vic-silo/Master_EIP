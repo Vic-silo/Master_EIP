{
 "cells": [
  {
   "cell_type": "markdown",
   "metadata": {
    "tags": []
   },
   "source": [
    "# Programación Python para Machine Learning.\n",
    "\n",
    "## Autor: Victor Simo Lozano\n",
    "\n",
    "## Actividad 11\n",
    "<p>Ajuste de hiperparámetros y flujos de trabajo en Machine Learning.</p>\n",
    "    \n",
    "\n",
    "<hr style=\"border-color:red\">"
   ]
  },
  {
   "cell_type": "markdown",
   "metadata": {},
   "source": [
    " "
   ]
  },
  {
   "cell_type": "markdown",
   "metadata": {},
   "source": [
    " "
   ]
  },
  {
   "cell_type": "code",
   "execution_count": 1,
   "metadata": {},
   "outputs": [],
   "source": [
    "# Generales \n",
    "from pandas import pandas as pd\n",
    "from scipy.io import arff\n",
    "import numpy as np\n",
    "# import matplotlib.pyplot as plt\n",
    "import random\n",
    "from time import time\n",
    "# from IPython.display import clear_output\n",
    "\n",
    "# Seleccion de caracteristicas\n",
    "# from sklearn.preprocessing import MinMaxScaler\n",
    "from sklearn.preprocessing import OneHotEncoder\n",
    "# # from sklearn.feature_selection import SelectKBest\n",
    "# # from sklearn.feature_selection import f_classif\n",
    "# from sklearn.model_selection import train_test_split\n",
    "from sklearn.preprocessing import StandardScaler, RobustScaler\n",
    "# # from sklearn.metrics import plot_confusion_matrix\n",
    "# # from sklearn.utils import resample\n",
    "# from imblearn.over_sampling import RandomOverSampler\n",
    "from sklearn.pipeline import Pipeline, FeatureUnion, make_pipeline\n",
    "from sklearn.impute import SimpleImputer\n",
    "\n",
    "# Metricas\n",
    "# from sklearn.metrics import mean_squared_error\n",
    "\n",
    "# Calculo de modelos\n",
    "from sklearn.compose import ColumnTransformer\n",
    "from sklearn.model_selection import GridSearchCV, RepeatedStratifiedKFold, KFold\n",
    "# from sklearn.tree import DecisionTreeClassifier, DecisionTreeRegressor\n",
    "from sklearn.neural_network import MLPClassifier\n",
    "from sklearn.ensemble import BaggingClassifier, RandomForestClassifier, BaggingRegressor, RandomForestRegressor"
   ]
  },
  {
   "cell_type": "code",
   "execution_count": 2,
   "metadata": {},
   "outputs": [],
   "source": [
    "import warnings\n",
    "warnings.filterwarnings('ignore')"
   ]
  },
  {
   "cell_type": "markdown",
   "metadata": {},
   "source": [
    "Selecciona un conjunto de datos de los múltiples repositorios existentes correspondiente a un problema de clasificación múltiple y realiza los siguientes apartados:\n",
    "- Implementa un flujo de trabajo que incluya:\n",
    "    - Imputación de valores perdidos.\n",
    "    - Normalización de datos.\n",
    "    - Ajuste de hiperparametros mediante búsqueda grid.\n",
    "    - Entrenamiento de una red neuronal mediante validación cruzada.\n",
    "<br>\n",
    "- Finalmente, reporta la mejor combinación posible de hiperparámetros y la correspondiente métrica de evaluación de su rendimiento.\n",
    "\n",
    "\n",
    "***Fuente:*** <br>\n",
    "*https://www.kaggle.com/datasets/ppsheth91/two-target-variables-classification-problem*"
   ]
  },
  {
   "cell_type": "markdown",
   "metadata": {},
   "source": [
    " "
   ]
  },
  {
   "cell_type": "markdown",
   "metadata": {},
   "source": [
    " "
   ]
  },
  {
   "cell_type": "markdown",
   "metadata": {},
   "source": [
    "<div style=\"font-size:14px; text-align:justify\"><b>PRIMERA PARTE.-</b><br></div>"
   ]
  },
  {
   "cell_type": "code",
   "execution_count": 3,
   "metadata": {},
   "outputs": [
    {
     "data": {
      "text/html": [
       "<div>\n",
       "<style scoped>\n",
       "    .dataframe tbody tr th:only-of-type {\n",
       "        vertical-align: middle;\n",
       "    }\n",
       "\n",
       "    .dataframe tbody tr th {\n",
       "        vertical-align: top;\n",
       "    }\n",
       "\n",
       "    .dataframe thead th {\n",
       "        text-align: right;\n",
       "    }\n",
       "</style>\n",
       "<table border=\"1\" class=\"dataframe\">\n",
       "  <thead>\n",
       "    <tr style=\"text-align: right;\">\n",
       "      <th></th>\n",
       "      <th>pet_id</th>\n",
       "      <th>issue_date</th>\n",
       "      <th>listing_date</th>\n",
       "      <th>condition</th>\n",
       "      <th>color_type</th>\n",
       "      <th>length(m)</th>\n",
       "      <th>height(cm)</th>\n",
       "      <th>X1</th>\n",
       "      <th>X2</th>\n",
       "      <th>breed_category</th>\n",
       "    </tr>\n",
       "  </thead>\n",
       "  <tbody>\n",
       "    <tr>\n",
       "      <th>18205</th>\n",
       "      <td>ANSL_56709</td>\n",
       "      <td>2016-12-24 00:00:00</td>\n",
       "      <td>2017-03-17 18:12:00</td>\n",
       "      <td>1.0</td>\n",
       "      <td>Black</td>\n",
       "      <td>0.54</td>\n",
       "      <td>29.95</td>\n",
       "      <td>0</td>\n",
       "      <td>1</td>\n",
       "      <td>0.0</td>\n",
       "    </tr>\n",
       "    <tr>\n",
       "      <th>6895</th>\n",
       "      <td>ANSL_59675</td>\n",
       "      <td>2016-12-23 00:00:00</td>\n",
       "      <td>2019-01-14 17:13:00</td>\n",
       "      <td>2.0</td>\n",
       "      <td>Brown</td>\n",
       "      <td>0.13</td>\n",
       "      <td>18.90</td>\n",
       "      <td>0</td>\n",
       "      <td>7</td>\n",
       "      <td>1.0</td>\n",
       "    </tr>\n",
       "    <tr>\n",
       "      <th>4245</th>\n",
       "      <td>ANSL_59248</td>\n",
       "      <td>2015-08-22 00:00:00</td>\n",
       "      <td>2017-09-19 18:32:00</td>\n",
       "      <td>0.0</td>\n",
       "      <td>Tan</td>\n",
       "      <td>0.62</td>\n",
       "      <td>24.78</td>\n",
       "      <td>0</td>\n",
       "      <td>1</td>\n",
       "      <td>1.0</td>\n",
       "    </tr>\n",
       "  </tbody>\n",
       "</table>\n",
       "</div>"
      ],
      "text/plain": [
       "           pet_id           issue_date         listing_date  condition  \\\n",
       "18205  ANSL_56709  2016-12-24 00:00:00  2017-03-17 18:12:00        1.0   \n",
       "6895   ANSL_59675  2016-12-23 00:00:00  2019-01-14 17:13:00        2.0   \n",
       "4245   ANSL_59248  2015-08-22 00:00:00  2017-09-19 18:32:00        0.0   \n",
       "\n",
       "      color_type  length(m)  height(cm)  X1  X2  breed_category  \n",
       "18205      Black       0.54       29.95   0   1             0.0  \n",
       "6895       Brown       0.13       18.90   0   7             1.0  \n",
       "4245         Tan       0.62       24.78   0   1             1.0  "
      ]
     },
     "metadata": {},
     "output_type": "display_data"
    },
    {
     "data": {
      "text/plain": [
       "9673     1\n",
       "805      2\n",
       "12647    2\n",
       "Name: pet_category, dtype: int64"
      ]
     },
     "metadata": {},
     "output_type": "display_data"
    }
   ],
   "source": [
    "seed=random.randint(0,100)\n",
    "\n",
    "# Carga del dataset\n",
    "df=pd.read_csv('train.csv', sep=',')\n",
    "\n",
    "# Separación en datos de entrada y salida del dataframe\n",
    "X=df[df.columns[:-1]]\n",
    "# y=df[df.columns[-1:]]\n",
    "y=df['pet_category']\n",
    "\n",
    "display(X.sample(3), y.sample(3))"
   ]
  },
  {
   "cell_type": "code",
   "execution_count": 4,
   "metadata": {},
   "outputs": [
    {
     "data": {
      "text/plain": [
       "2    10621\n",
       "1     7184\n",
       "4      941\n",
       "0       88\n",
       "Name: pet_category, dtype: int64"
      ]
     },
     "execution_count": 4,
     "metadata": {},
     "output_type": "execute_result"
    }
   ],
   "source": [
    "y.value_counts()"
   ]
  },
  {
   "cell_type": "markdown",
   "metadata": {},
   "source": [
    "Como se puede observar, se trata de un conjunto de datos muy desbalanceado."
   ]
  },
  {
   "cell_type": "code",
   "execution_count": 5,
   "metadata": {},
   "outputs": [
    {
     "name": "stdout",
     "output_type": "stream",
     "text": [
      "<class 'pandas.core.frame.DataFrame'>\n",
      "RangeIndex: 18834 entries, 0 to 18833\n",
      "Data columns (total 10 columns):\n",
      " #   Column          Non-Null Count  Dtype  \n",
      "---  ------          --------------  -----  \n",
      " 0   pet_id          18834 non-null  object \n",
      " 1   issue_date      18834 non-null  object \n",
      " 2   listing_date    18834 non-null  object \n",
      " 3   condition       17357 non-null  float64\n",
      " 4   color_type      18834 non-null  object \n",
      " 5   length(m)       18834 non-null  float64\n",
      " 6   height(cm)      18834 non-null  float64\n",
      " 7   X1              18834 non-null  int64  \n",
      " 8   X2              18834 non-null  int64  \n",
      " 9   breed_category  18834 non-null  float64\n",
      "dtypes: float64(4), int64(2), object(4)\n",
      "memory usage: 1.4+ MB\n"
     ]
    }
   ],
   "source": [
    "X.info()"
   ]
  },
  {
   "cell_type": "markdown",
   "metadata": {},
   "source": [
    "Visualizando la información de los datos, se observa que para el atributo *\"condition\"* existe valores faltantes. Además, esta columna así como *\"breed_category\"* son numéricas, y en realidad, las mismas categóricas por lo que será necesario realizar un One Hot Encoding para su uso correcto."
   ]
  },
  {
   "cell_type": "code",
   "execution_count": 6,
   "metadata": {},
   "outputs": [
    {
     "data": {
      "text/plain": [
       "1.0    6819\n",
       "0.0    6281\n",
       "2.0    4257\n",
       "Name: condition, dtype: int64"
      ]
     },
     "execution_count": 6,
     "metadata": {},
     "output_type": "execute_result"
    }
   ],
   "source": [
    "X['condition'].value_counts()"
   ]
  },
  {
   "cell_type": "markdown",
   "metadata": {},
   "source": [
    " "
   ]
  },
  {
   "cell_type": "markdown",
   "metadata": {},
   "source": [
    "Primeramente, generamos dos clases que serán empleadas para el tratamiento de los datos mediante el uso de Pipelines con sus metodos *fit* y *transform*."
   ]
  },
  {
   "cell_type": "code",
   "execution_count": 7,
   "metadata": {},
   "outputs": [],
   "source": [
    "from sklearn.base import BaseEstimator, TransformerMixin\n",
    "\n",
    "# Clase creada para usar en Pipeline que permitirá eliminar las columnas deseadas\n",
    "class Column_Dropper(BaseEstimator, TransformerMixin):\n",
    "    \n",
    "    def __init__(self,columns):\n",
    "        self.columns=columns\n",
    "\n",
    "    def transform(self,X,y=None):\n",
    "        X_=X.copy()\n",
    "        X_=X_.drop(self.columns,axis=1)\n",
    "        self.actual_columns = X_.columns\n",
    "        # print(list(self.actual_columns))\n",
    "        return X_\n",
    "\n",
    "    def fit(self, X, y=None):\n",
    "        return self \n",
    "    \n",
    "    def get_feature_names(self, X):\n",
    "        # print(list(self.actual_columns))\n",
    "        return list(self.actual_columns)\n",
    "    \n",
    "\n",
    "# Clase creada para convertir tipo de columna.\n",
    "class Column_Casting():\n",
    "    \n",
    "    def __init__(self,feature):\n",
    "        self.feature_name=feature\n",
    "    \n",
    "    def fit(self, X, y=None):  \n",
    "            \n",
    "        return self\n",
    "    \n",
    "    def transform(self, X, y=None):\n",
    "        X_=X.copy()\n",
    "        for feature_name in self.feature_name: \n",
    "            X_[feature_name]=X_[feature_name].astype('object')\n",
    "            \n",
    "        return X_"
   ]
  },
  {
   "cell_type": "code",
   "execution_count": 8,
   "metadata": {},
   "outputs": [
    {
     "data": {
      "text/html": [
       "<style>#sk-container-id-1 {color: black;background-color: white;}#sk-container-id-1 pre{padding: 0;}#sk-container-id-1 div.sk-toggleable {background-color: white;}#sk-container-id-1 label.sk-toggleable__label {cursor: pointer;display: block;width: 100%;margin-bottom: 0;padding: 0.3em;box-sizing: border-box;text-align: center;}#sk-container-id-1 label.sk-toggleable__label-arrow:before {content: \"▸\";float: left;margin-right: 0.25em;color: #696969;}#sk-container-id-1 label.sk-toggleable__label-arrow:hover:before {color: black;}#sk-container-id-1 div.sk-estimator:hover label.sk-toggleable__label-arrow:before {color: black;}#sk-container-id-1 div.sk-toggleable__content {max-height: 0;max-width: 0;overflow: hidden;text-align: left;background-color: #f0f8ff;}#sk-container-id-1 div.sk-toggleable__content pre {margin: 0.2em;color: black;border-radius: 0.25em;background-color: #f0f8ff;}#sk-container-id-1 input.sk-toggleable__control:checked~div.sk-toggleable__content {max-height: 200px;max-width: 100%;overflow: auto;}#sk-container-id-1 input.sk-toggleable__control:checked~label.sk-toggleable__label-arrow:before {content: \"▾\";}#sk-container-id-1 div.sk-estimator input.sk-toggleable__control:checked~label.sk-toggleable__label {background-color: #d4ebff;}#sk-container-id-1 div.sk-label input.sk-toggleable__control:checked~label.sk-toggleable__label {background-color: #d4ebff;}#sk-container-id-1 input.sk-hidden--visually {border: 0;clip: rect(1px 1px 1px 1px);clip: rect(1px, 1px, 1px, 1px);height: 1px;margin: -1px;overflow: hidden;padding: 0;position: absolute;width: 1px;}#sk-container-id-1 div.sk-estimator {font-family: monospace;background-color: #f0f8ff;border: 1px dotted black;border-radius: 0.25em;box-sizing: border-box;margin-bottom: 0.5em;}#sk-container-id-1 div.sk-estimator:hover {background-color: #d4ebff;}#sk-container-id-1 div.sk-parallel-item::after {content: \"\";width: 100%;border-bottom: 1px solid gray;flex-grow: 1;}#sk-container-id-1 div.sk-label:hover label.sk-toggleable__label {background-color: #d4ebff;}#sk-container-id-1 div.sk-serial::before {content: \"\";position: absolute;border-left: 1px solid gray;box-sizing: border-box;top: 0;bottom: 0;left: 50%;z-index: 0;}#sk-container-id-1 div.sk-serial {display: flex;flex-direction: column;align-items: center;background-color: white;padding-right: 0.2em;padding-left: 0.2em;position: relative;}#sk-container-id-1 div.sk-item {position: relative;z-index: 1;}#sk-container-id-1 div.sk-parallel {display: flex;align-items: stretch;justify-content: center;background-color: white;position: relative;}#sk-container-id-1 div.sk-item::before, #sk-container-id-1 div.sk-parallel-item::before {content: \"\";position: absolute;border-left: 1px solid gray;box-sizing: border-box;top: 0;bottom: 0;left: 50%;z-index: -1;}#sk-container-id-1 div.sk-parallel-item {display: flex;flex-direction: column;z-index: 1;position: relative;background-color: white;}#sk-container-id-1 div.sk-parallel-item:first-child::after {align-self: flex-end;width: 50%;}#sk-container-id-1 div.sk-parallel-item:last-child::after {align-self: flex-start;width: 50%;}#sk-container-id-1 div.sk-parallel-item:only-child::after {width: 0;}#sk-container-id-1 div.sk-dashed-wrapped {border: 1px dashed gray;margin: 0 0.4em 0.5em 0.4em;box-sizing: border-box;padding-bottom: 0.4em;background-color: white;}#sk-container-id-1 div.sk-label label {font-family: monospace;font-weight: bold;display: inline-block;line-height: 1.2em;}#sk-container-id-1 div.sk-label-container {text-align: center;}#sk-container-id-1 div.sk-container {/* jupyter's `normalize.less` sets `[hidden] { display: none; }` but bootstrap.min.css set `[hidden] { display: none !important; }` so we also need the `!important` here to be able to override the default hidden behavior on the sphinx rendered scikit-learn.org. See: https://github.com/scikit-learn/scikit-learn/issues/21755 */display: inline-block !important;position: relative;}#sk-container-id-1 div.sk-text-repr-fallback {display: none;}</style><div id=\"sk-container-id-1\" class=\"sk-top-container\"><div class=\"sk-text-repr-fallback\"><pre>Pipeline(steps=[(&#x27;data_proccess&#x27;,\n",
       "                 Pipeline(steps=[(&#x27;column_Dropper&#x27;,\n",
       "                                  Column_Dropper(columns=[&#x27;pet_id&#x27;,\n",
       "                                                          &#x27;issue_date&#x27;,\n",
       "                                                          &#x27;listing_date&#x27;])),\n",
       "                                 (&#x27;casting1&#x27;,\n",
       "                                  &lt;__main__.Column_Casting object at 0x000001E30F9B31F0&gt;),\n",
       "                                 (&#x27;casting2&#x27;,\n",
       "                                  &lt;__main__.Column_Casting object at 0x000001E30F9B3220&gt;)])),\n",
       "                (&#x27;preprocessor&#x27;,\n",
       "                 ColumnTransformer(transformers=[(&#x27;imputing&#x27;,\n",
       "                                                  Pipeline(steps=[(&#x27;imputer&#x27;,\n",
       "                                                                   SimpleImputer(fill_value=&#x27;0&#x27;,\n",
       "                                                                                 strategy=&#x27;constant&#x27;))]),\n",
       "                                                  [&#x27;condition&#x27;]),\n",
       "                                                 (&#x27;scaling&#x27;,\n",
       "                                                  Pipeline(steps=[(&#x27;scaler&#x27;,\n",
       "                                                                   RobustScaler())]),\n",
       "                                                  [&#x27;length(m)&#x27;, &#x27;height(cm)&#x27;,\n",
       "                                                   &#x27;X1&#x27;, &#x27;X2&#x27;]),\n",
       "                                                 (&#x27;encoding&#x27;,\n",
       "                                                  Pipeline(steps=[(&#x27;ohe&#x27;,\n",
       "                                                                   OneHotEncoder(handle_unknown=&#x27;ignore&#x27;,\n",
       "                                                                                 sparse=False))]),\n",
       "                                                  [&#x27;condition&#x27;, &#x27;color_type&#x27;,\n",
       "                                                   &#x27;breed_category&#x27;])])),\n",
       "                (&#x27;MLPClassifier&#x27;, MLPClassifier(random_state=28))])</pre><b>In a Jupyter environment, please rerun this cell to show the HTML representation or trust the notebook. <br />On GitHub, the HTML representation is unable to render, please try loading this page with nbviewer.org.</b></div><div class=\"sk-container\" hidden><div class=\"sk-item sk-dashed-wrapped\"><div class=\"sk-label-container\"><div class=\"sk-label sk-toggleable\"><input class=\"sk-toggleable__control sk-hidden--visually\" id=\"sk-estimator-id-1\" type=\"checkbox\" ><label for=\"sk-estimator-id-1\" class=\"sk-toggleable__label sk-toggleable__label-arrow\">Pipeline</label><div class=\"sk-toggleable__content\"><pre>Pipeline(steps=[(&#x27;data_proccess&#x27;,\n",
       "                 Pipeline(steps=[(&#x27;column_Dropper&#x27;,\n",
       "                                  Column_Dropper(columns=[&#x27;pet_id&#x27;,\n",
       "                                                          &#x27;issue_date&#x27;,\n",
       "                                                          &#x27;listing_date&#x27;])),\n",
       "                                 (&#x27;casting1&#x27;,\n",
       "                                  &lt;__main__.Column_Casting object at 0x000001E30F9B31F0&gt;),\n",
       "                                 (&#x27;casting2&#x27;,\n",
       "                                  &lt;__main__.Column_Casting object at 0x000001E30F9B3220&gt;)])),\n",
       "                (&#x27;preprocessor&#x27;,\n",
       "                 ColumnTransformer(transformers=[(&#x27;imputing&#x27;,\n",
       "                                                  Pipeline(steps=[(&#x27;imputer&#x27;,\n",
       "                                                                   SimpleImputer(fill_value=&#x27;0&#x27;,\n",
       "                                                                                 strategy=&#x27;constant&#x27;))]),\n",
       "                                                  [&#x27;condition&#x27;]),\n",
       "                                                 (&#x27;scaling&#x27;,\n",
       "                                                  Pipeline(steps=[(&#x27;scaler&#x27;,\n",
       "                                                                   RobustScaler())]),\n",
       "                                                  [&#x27;length(m)&#x27;, &#x27;height(cm)&#x27;,\n",
       "                                                   &#x27;X1&#x27;, &#x27;X2&#x27;]),\n",
       "                                                 (&#x27;encoding&#x27;,\n",
       "                                                  Pipeline(steps=[(&#x27;ohe&#x27;,\n",
       "                                                                   OneHotEncoder(handle_unknown=&#x27;ignore&#x27;,\n",
       "                                                                                 sparse=False))]),\n",
       "                                                  [&#x27;condition&#x27;, &#x27;color_type&#x27;,\n",
       "                                                   &#x27;breed_category&#x27;])])),\n",
       "                (&#x27;MLPClassifier&#x27;, MLPClassifier(random_state=28))])</pre></div></div></div><div class=\"sk-serial\"><div class=\"sk-item\"><div class=\"sk-label-container\"><div class=\"sk-label sk-toggleable\"><input class=\"sk-toggleable__control sk-hidden--visually\" id=\"sk-estimator-id-2\" type=\"checkbox\" ><label for=\"sk-estimator-id-2\" class=\"sk-toggleable__label sk-toggleable__label-arrow\">data_proccess: Pipeline</label><div class=\"sk-toggleable__content\"><pre>Pipeline(steps=[(&#x27;column_Dropper&#x27;,\n",
       "                 Column_Dropper(columns=[&#x27;pet_id&#x27;, &#x27;issue_date&#x27;,\n",
       "                                         &#x27;listing_date&#x27;])),\n",
       "                (&#x27;casting1&#x27;,\n",
       "                 &lt;__main__.Column_Casting object at 0x000001E30F9B31F0&gt;),\n",
       "                (&#x27;casting2&#x27;,\n",
       "                 &lt;__main__.Column_Casting object at 0x000001E30F9B3220&gt;)])</pre></div></div></div><div class=\"sk-serial\"><div class=\"sk-item\"><div class=\"sk-estimator sk-toggleable\"><input class=\"sk-toggleable__control sk-hidden--visually\" id=\"sk-estimator-id-3\" type=\"checkbox\" ><label for=\"sk-estimator-id-3\" class=\"sk-toggleable__label sk-toggleable__label-arrow\">Column_Dropper</label><div class=\"sk-toggleable__content\"><pre>Column_Dropper(columns=[&#x27;pet_id&#x27;, &#x27;issue_date&#x27;, &#x27;listing_date&#x27;])</pre></div></div></div><div class=\"sk-item\"><div class=\"sk-estimator sk-toggleable\"><input class=\"sk-toggleable__control sk-hidden--visually\" id=\"sk-estimator-id-4\" type=\"checkbox\" ><label for=\"sk-estimator-id-4\" class=\"sk-toggleable__label sk-toggleable__label-arrow\">Column_Casting</label><div class=\"sk-toggleable__content\"><pre>&lt;__main__.Column_Casting object at 0x000001E30F9B31F0&gt;</pre></div></div></div><div class=\"sk-item\"><div class=\"sk-estimator sk-toggleable\"><input class=\"sk-toggleable__control sk-hidden--visually\" id=\"sk-estimator-id-5\" type=\"checkbox\" ><label for=\"sk-estimator-id-5\" class=\"sk-toggleable__label sk-toggleable__label-arrow\">Column_Casting</label><div class=\"sk-toggleable__content\"><pre>&lt;__main__.Column_Casting object at 0x000001E30F9B3220&gt;</pre></div></div></div></div></div><div class=\"sk-item sk-dashed-wrapped\"><div class=\"sk-label-container\"><div class=\"sk-label sk-toggleable\"><input class=\"sk-toggleable__control sk-hidden--visually\" id=\"sk-estimator-id-6\" type=\"checkbox\" ><label for=\"sk-estimator-id-6\" class=\"sk-toggleable__label sk-toggleable__label-arrow\">preprocessor: ColumnTransformer</label><div class=\"sk-toggleable__content\"><pre>ColumnTransformer(transformers=[(&#x27;imputing&#x27;,\n",
       "                                 Pipeline(steps=[(&#x27;imputer&#x27;,\n",
       "                                                  SimpleImputer(fill_value=&#x27;0&#x27;,\n",
       "                                                                strategy=&#x27;constant&#x27;))]),\n",
       "                                 [&#x27;condition&#x27;]),\n",
       "                                (&#x27;scaling&#x27;,\n",
       "                                 Pipeline(steps=[(&#x27;scaler&#x27;, RobustScaler())]),\n",
       "                                 [&#x27;length(m)&#x27;, &#x27;height(cm)&#x27;, &#x27;X1&#x27;, &#x27;X2&#x27;]),\n",
       "                                (&#x27;encoding&#x27;,\n",
       "                                 Pipeline(steps=[(&#x27;ohe&#x27;,\n",
       "                                                  OneHotEncoder(handle_unknown=&#x27;ignore&#x27;,\n",
       "                                                                sparse=False))]),\n",
       "                                 [&#x27;condition&#x27;, &#x27;color_type&#x27;,\n",
       "                                  &#x27;breed_category&#x27;])])</pre></div></div></div><div class=\"sk-parallel\"><div class=\"sk-parallel-item\"><div class=\"sk-item\"><div class=\"sk-label-container\"><div class=\"sk-label sk-toggleable\"><input class=\"sk-toggleable__control sk-hidden--visually\" id=\"sk-estimator-id-7\" type=\"checkbox\" ><label for=\"sk-estimator-id-7\" class=\"sk-toggleable__label sk-toggleable__label-arrow\">imputing</label><div class=\"sk-toggleable__content\"><pre>[&#x27;condition&#x27;]</pre></div></div></div><div class=\"sk-serial\"><div class=\"sk-item\"><div class=\"sk-serial\"><div class=\"sk-item\"><div class=\"sk-estimator sk-toggleable\"><input class=\"sk-toggleable__control sk-hidden--visually\" id=\"sk-estimator-id-8\" type=\"checkbox\" ><label for=\"sk-estimator-id-8\" class=\"sk-toggleable__label sk-toggleable__label-arrow\">SimpleImputer</label><div class=\"sk-toggleable__content\"><pre>SimpleImputer(fill_value=&#x27;0&#x27;, strategy=&#x27;constant&#x27;)</pre></div></div></div></div></div></div></div></div><div class=\"sk-parallel-item\"><div class=\"sk-item\"><div class=\"sk-label-container\"><div class=\"sk-label sk-toggleable\"><input class=\"sk-toggleable__control sk-hidden--visually\" id=\"sk-estimator-id-9\" type=\"checkbox\" ><label for=\"sk-estimator-id-9\" class=\"sk-toggleable__label sk-toggleable__label-arrow\">scaling</label><div class=\"sk-toggleable__content\"><pre>[&#x27;length(m)&#x27;, &#x27;height(cm)&#x27;, &#x27;X1&#x27;, &#x27;X2&#x27;]</pre></div></div></div><div class=\"sk-serial\"><div class=\"sk-item\"><div class=\"sk-serial\"><div class=\"sk-item\"><div class=\"sk-estimator sk-toggleable\"><input class=\"sk-toggleable__control sk-hidden--visually\" id=\"sk-estimator-id-10\" type=\"checkbox\" ><label for=\"sk-estimator-id-10\" class=\"sk-toggleable__label sk-toggleable__label-arrow\">RobustScaler</label><div class=\"sk-toggleable__content\"><pre>RobustScaler()</pre></div></div></div></div></div></div></div></div><div class=\"sk-parallel-item\"><div class=\"sk-item\"><div class=\"sk-label-container\"><div class=\"sk-label sk-toggleable\"><input class=\"sk-toggleable__control sk-hidden--visually\" id=\"sk-estimator-id-11\" type=\"checkbox\" ><label for=\"sk-estimator-id-11\" class=\"sk-toggleable__label sk-toggleable__label-arrow\">encoding</label><div class=\"sk-toggleable__content\"><pre>[&#x27;condition&#x27;, &#x27;color_type&#x27;, &#x27;breed_category&#x27;]</pre></div></div></div><div class=\"sk-serial\"><div class=\"sk-item\"><div class=\"sk-serial\"><div class=\"sk-item\"><div class=\"sk-estimator sk-toggleable\"><input class=\"sk-toggleable__control sk-hidden--visually\" id=\"sk-estimator-id-12\" type=\"checkbox\" ><label for=\"sk-estimator-id-12\" class=\"sk-toggleable__label sk-toggleable__label-arrow\">OneHotEncoder</label><div class=\"sk-toggleable__content\"><pre>OneHotEncoder(handle_unknown=&#x27;ignore&#x27;, sparse=False)</pre></div></div></div></div></div></div></div></div></div></div><div class=\"sk-item\"><div class=\"sk-estimator sk-toggleable\"><input class=\"sk-toggleable__control sk-hidden--visually\" id=\"sk-estimator-id-13\" type=\"checkbox\" ><label for=\"sk-estimator-id-13\" class=\"sk-toggleable__label sk-toggleable__label-arrow\">MLPClassifier</label><div class=\"sk-toggleable__content\"><pre>MLPClassifier(random_state=28)</pre></div></div></div></div></div></div></div>"
      ],
      "text/plain": [
       "Pipeline(steps=[('data_proccess',\n",
       "                 Pipeline(steps=[('column_Dropper',\n",
       "                                  Column_Dropper(columns=['pet_id',\n",
       "                                                          'issue_date',\n",
       "                                                          'listing_date'])),\n",
       "                                 ('casting1',\n",
       "                                  <__main__.Column_Casting object at 0x000001E30F9B31F0>),\n",
       "                                 ('casting2',\n",
       "                                  <__main__.Column_Casting object at 0x000001E30F9B3220>)])),\n",
       "                ('preprocessor',\n",
       "                 ColumnTransformer(transformers=[('imputing',\n",
       "                                                  Pipeline(steps=[('imputer',\n",
       "                                                                   SimpleImputer(fill_value='0',\n",
       "                                                                                 strategy='constant'))]),\n",
       "                                                  ['condition']),\n",
       "                                                 ('scaling',\n",
       "                                                  Pipeline(steps=[('scaler',\n",
       "                                                                   RobustScaler())]),\n",
       "                                                  ['length(m)', 'height(cm)',\n",
       "                                                   'X1', 'X2']),\n",
       "                                                 ('encoding',\n",
       "                                                  Pipeline(steps=[('ohe',\n",
       "                                                                   OneHotEncoder(handle_unknown='ignore',\n",
       "                                                                                 sparse=False))]),\n",
       "                                                  ['condition', 'color_type',\n",
       "                                                   'breed_category'])])),\n",
       "                ('MLPClassifier', MLPClassifier(random_state=28))])"
      ]
     },
     "metadata": {},
     "output_type": "display_data"
    },
    {
     "name": "stdout",
     "output_type": "stream",
     "text": [
      "Tiempo empleado 1045.25 (s)\n"
     ]
    }
   ],
   "source": [
    "# Inicio del procesamiento de datos con Pipeline.\n",
    "start_time=time()\n",
    "\n",
    "# Pipeline inicial para el preprocesamiento de los datos:\n",
    "# 1: Eliminar columnas indeseadas.\n",
    "# 2: Formatear el tipo de columna deseado.\n",
    "\n",
    "pre_proccess=Pipeline(steps=[\n",
    "    ('column_Dropper', Column_Dropper(['pet_id','issue_date','listing_date'])),\n",
    "    ('casting1', Column_Casting(['condition'])),\n",
    "    ('casting2', Column_Casting(['breed_category']))\n",
    "])\n",
    "# pre_proccess.fit_transform(X)\n",
    "\n",
    "\n",
    "# Pipeline para el tratamiento de los datos:\n",
    "# 1: Imputación de valores perdidos.\n",
    "# 2: Normalización de los datos.\n",
    "# ColumnComposer para el tratado de diferentes columnas del dataframe que despues se unirán en un PipeLine\n",
    "\n",
    "numerical_features=['length(m)','height(cm)','X1','X2']\n",
    "categorical_features=['condition','color_type','breed_category']\n",
    "impute_features=['condition']\n",
    "\n",
    "impute_values=Pipeline(steps=[('imputer', SimpleImputer(strategy='constant', fill_value='0'))])\n",
    "\n",
    "scaler=Pipeline(steps=[('scaler', RobustScaler())])\n",
    "\n",
    "ohe_transform=Pipeline(steps=[('ohe', OneHotEncoder(handle_unknown='ignore', sparse=False))])\n",
    "          \n",
    "    \n",
    "# Union de todos los pipelines empleados y creación del Pipeline principal con el modelo de Red Neuronal\n",
    "\n",
    "preprocessor=ColumnTransformer([\n",
    "    # ('data_proccess', pre_proccess, list(X.columns)),\n",
    "    ('imputing', impute_values, impute_features),\n",
    "    ('scaling', scaler, numerical_features),\n",
    "    ('encoding', ohe_transform, categorical_features)\n",
    "])\n",
    "\n",
    "\n",
    "pipe = Pipeline([\n",
    "    ('data_proccess', pre_proccess),\n",
    "    ('preprocessor', preprocessor),\n",
    "    ('MLPClassifier', MLPClassifier(random_state=seed))\n",
    "])\n",
    "\n",
    "\n",
    "# Ajuste parametros GridSearchCV \n",
    "\n",
    "param_grid = {\n",
    "    # \"MLPClassifier__solver\": ['sgd','adam'],\n",
    "    \"MLPClassifier__max_iter\": [2000,3000],\n",
    "    \"MLPClassifier__activation\": ['relu','logistic','tanh'],\n",
    "    \"MLPClassifier__hidden_layer_sizes\": [(10,10),(20,)],\n",
    "}\n",
    "\n",
    "# cross_validation=RepeatedStratifiedKFold(n_splits=7,n_repeats=2,random_state=seed)\n",
    "cross_validation=KFold(n_splits=7, shuffle=True, random_state=seed)\n",
    "\n",
    "grid_search=GridSearchCV(\n",
    "    estimator=pipe,\n",
    "    param_grid=param_grid,\n",
    "    cv=cross_validation,\n",
    "    return_train_score=True,\n",
    "    scoring='balanced_accuracy',\n",
    "    # n_jobs=-1\n",
    ")\n",
    "\n",
    "result=grid_search.fit(X, y)\n",
    "# result = pipe.fit(X, y)\n",
    "\n",
    "display(pipe)\n",
    "\n",
    "# Finalización del modelo\n",
    "total_time=time()-start_time\n",
    "\n",
    "print(f'''Tiempo empleado {total_time:.2f} (s)''')\n"
   ]
  },
  {
   "cell_type": "code",
   "execution_count": 15,
   "metadata": {},
   "outputs": [
    {
     "name": "stdout",
     "output_type": "stream",
     "text": [
      "Accuracy obtenida: 0.672\n",
      "Balanced Score obtenida: 0.710\n",
      "Mejores parámetros para el modelo: {'MLPClassifier__activation': 'tanh', 'MLPClassifier__hidden_layer_sizes': (20,), 'MLPClassifier__max_iter': 2000}\n"
     ]
    }
   ],
   "source": [
    "print(f'''Accuracy obtenida: {result.best_score_:.3f}''')\n",
    "print(f'''Balanced Score obtenida: {result.score(X, y):.3f}''')\n",
    "print(f'''Mejores parámetros para el modelo: {result.best_params_}''')"
   ]
  }
 ],
 "metadata": {
  "kernelspec": {
   "display_name": "Python 3 (ipykernel)",
   "language": "python",
   "name": "python3"
  },
  "language_info": {
   "codemirror_mode": {
    "name": "ipython",
    "version": 3
   },
   "file_extension": ".py",
   "mimetype": "text/x-python",
   "name": "python",
   "nbconvert_exporter": "python",
   "pygments_lexer": "ipython3",
   "version": "3.8.5"
  }
 },
 "nbformat": 4,
 "nbformat_minor": 4
}
