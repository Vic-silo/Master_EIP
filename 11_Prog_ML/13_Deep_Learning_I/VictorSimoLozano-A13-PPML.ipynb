{
 "cells": [
  {
   "cell_type": "markdown",
   "metadata": {},
   "source": [
    "# Programación Python para Machine Learning.\n",
    "\n",
    "## Autor: Victor Simo Lozano\n",
    "\n",
    "## Actividad 13\n",
    "<p>Deep Learning I.</p>\n",
    "    \n",
    "\n",
    "<hr style=\"border-color:red\">"
   ]
  },
  {
   "cell_type": "markdown",
   "metadata": {},
   "source": [
    "- Instala adecuadamente las bibliotecas para Deep Learning TensorFlow y Keras. Si dispones de GPU, trata de realizar la instalación teniendo en cuenta ese aspecto. Comprueba mediante un script que la instalación ha sido completada de manera correcta.\n",
    "\n",
    "- Carga el conjunto de datos MNIST que trae la propia biblioteca Keras:\n",
    "    - Diseña, implementa y prueba un modelo de Red Neuronal Profunda (DNN) que trate de resolver este problema de clasificación multiclase de imágenes.\n"
   ]
  },
  {
   "cell_type": "markdown",
   "metadata": {},
   "source": [
    " "
   ]
  },
  {
   "cell_type": "markdown",
   "metadata": {},
   "source": [
    " "
   ]
  },
  {
   "cell_type": "code",
   "execution_count": 1,
   "metadata": {
    "execution": {
     "iopub.execute_input": "2022-10-13T19:28:12.941983Z",
     "iopub.status.busy": "2022-10-13T19:28:12.941508Z",
     "iopub.status.idle": "2022-10-13T19:28:12.975109Z",
     "shell.execute_reply": "2022-10-13T19:28:12.973183Z",
     "shell.execute_reply.started": "2022-10-13T19:28:12.941875Z"
    }
   },
   "outputs": [],
   "source": [
    "# Generales \n",
    "from pandas import pandas as pd\n",
    "import numpy as np\n",
    "import matplotlib.pyplot as plt"
   ]
  },
  {
   "cell_type": "code",
   "execution_count": 2,
   "metadata": {
    "execution": {
     "iopub.execute_input": "2022-10-13T19:28:12.978683Z",
     "iopub.status.busy": "2022-10-13T19:28:12.978171Z",
     "iopub.status.idle": "2022-10-13T19:28:12.985404Z",
     "shell.execute_reply": "2022-10-13T19:28:12.984429Z",
     "shell.execute_reply.started": "2022-10-13T19:28:12.978579Z"
    }
   },
   "outputs": [],
   "source": [
    "from IPython.display import clear_output\n",
    "import warnings\n",
    "\n",
    "warnings.filterwarnings('ignore')"
   ]
  },
  {
   "cell_type": "markdown",
   "metadata": {},
   "source": [
    "<div style=\"font-size:14px; text-align:justify\"><b>PRIMERA PARTE.-</b><br></div>"
   ]
  },
  {
   "cell_type": "markdown",
   "metadata": {},
   "source": [
    "<div style=\"font-size:14px; text-align:justify\"><b>1: </b>Instala las bibliotecas para Deep Learning Tensorflow y Keras.</div>"
   ]
  },
  {
   "cell_type": "code",
   "execution_count": 3,
   "metadata": {
    "_cell_guid": "b1076dfc-b9ad-4769-8c92-a6c4dae69d19",
    "_uuid": "8f2839f25d086af736a60e9eeb907d3b93b6e0e5",
    "execution": {
     "iopub.execute_input": "2022-10-13T19:28:12.987708Z",
     "iopub.status.busy": "2022-10-13T19:28:12.986936Z",
     "iopub.status.idle": "2022-10-13T19:28:12.995043Z",
     "shell.execute_reply": "2022-10-13T19:28:12.992932Z",
     "shell.execute_reply.started": "2022-10-13T19:28:12.987670Z"
    }
   },
   "outputs": [],
   "source": [
    "# !pip install tensorflow-gpu\n",
    "# clear_output()"
   ]
  },
  {
   "cell_type": "code",
   "execution_count": 4,
   "metadata": {
    "execution": {
     "iopub.execute_input": "2022-10-13T19:28:13.025827Z",
     "iopub.status.busy": "2022-10-13T19:28:13.025424Z",
     "iopub.status.idle": "2022-10-13T19:28:17.677226Z",
     "shell.execute_reply": "2022-10-13T19:28:17.676255Z",
     "shell.execute_reply.started": "2022-10-13T19:28:13.025786Z"
    }
   },
   "outputs": [],
   "source": [
    "import tensorflow as tf\n",
    "from tensorflow import keras"
   ]
  },
  {
   "cell_type": "code",
   "execution_count": 5,
   "metadata": {
    "execution": {
     "iopub.execute_input": "2022-10-13T19:28:17.681218Z",
     "iopub.status.busy": "2022-10-13T19:28:17.680304Z",
     "iopub.status.idle": "2022-10-13T19:28:27.542352Z",
     "shell.execute_reply": "2022-10-13T19:28:27.541153Z",
     "shell.execute_reply.started": "2022-10-13T19:28:17.681177Z"
    }
   },
   "outputs": [
    {
     "name": "stdout",
     "output_type": "stream",
     "text": [
      "Name: keras\n",
      "Version: 2.6.0\n",
      "Summary: TensorFlow Keras.\n",
      "Home-page: https://keras.io/\n",
      "Author: Google Inc.\n",
      "Author-email: packages@tensorflow.org\n",
      "License: Apache 2.0\n",
      "Location: /opt/conda/lib/python3.7/site-packages\n",
      "Requires: \n",
      "Required-by: tensorflow\n"
     ]
    }
   ],
   "source": [
    "!pip show keras"
   ]
  },
  {
   "cell_type": "code",
   "execution_count": 6,
   "metadata": {
    "execution": {
     "iopub.execute_input": "2022-10-13T19:28:27.545289Z",
     "iopub.status.busy": "2022-10-13T19:28:27.544885Z",
     "iopub.status.idle": "2022-10-13T19:28:37.038905Z",
     "shell.execute_reply": "2022-10-13T19:28:37.037685Z",
     "shell.execute_reply.started": "2022-10-13T19:28:27.545247Z"
    }
   },
   "outputs": [
    {
     "name": "stdout",
     "output_type": "stream",
     "text": [
      "Name: tensorflow\n",
      "Version: 2.6.4\n",
      "Summary: TensorFlow is an open source machine learning framework for everyone.\n",
      "Home-page: https://www.tensorflow.org/\n",
      "Author: Google Inc.\n",
      "Author-email: packages@tensorflow.org\n",
      "License: Apache 2.0\n",
      "Location: /opt/conda/lib/python3.7/site-packages\n",
      "Requires: absl-py, astunparse, clang, flatbuffers, gast, google-pasta, grpcio, h5py, keras, keras-preprocessing, numpy, opt-einsum, protobuf, six, tensorboard, tensorflow-estimator, termcolor, typing-extensions, wheel, wrapt\n",
      "Required-by: explainable-ai-sdk, tensorflow-cloud, tensorflow-decision-forests, tensorflow-io, tensorflow-serving-api, tensorflow-transform, tfx-bsl, witwidget\n"
     ]
    }
   ],
   "source": [
    "!pip show tensorflow"
   ]
  },
  {
   "cell_type": "markdown",
   "metadata": {},
   "source": [
    "Comprobar si esta disponible el uso de GPU para Tensorflow."
   ]
  },
  {
   "cell_type": "code",
   "execution_count": 7,
   "metadata": {
    "execution": {
     "iopub.execute_input": "2022-10-13T19:28:37.042693Z",
     "iopub.status.busy": "2022-10-13T19:28:37.042258Z",
     "iopub.status.idle": "2022-10-13T19:28:39.263983Z",
     "shell.execute_reply": "2022-10-13T19:28:39.263082Z",
     "shell.execute_reply.started": "2022-10-13T19:28:37.042644Z"
    }
   },
   "outputs": [
    {
     "name": "stderr",
     "output_type": "stream",
     "text": [
      "2022-10-13 19:28:37.046289: I tensorflow/core/platform/cpu_feature_guard.cc:142] This TensorFlow binary is optimized with oneAPI Deep Neural Network Library (oneDNN) to use the following CPU instructions in performance-critical operations:  AVX2 AVX512F FMA\n",
      "To enable them in other operations, rebuild TensorFlow with the appropriate compiler flags.\n",
      "2022-10-13 19:28:37.106526: I tensorflow/stream_executor/cuda/cuda_gpu_executor.cc:937] successful NUMA node read from SysFS had negative value (-1), but there must be at least one NUMA node, so returning NUMA node zero\n",
      "2022-10-13 19:28:37.195914: I tensorflow/stream_executor/cuda/cuda_gpu_executor.cc:937] successful NUMA node read from SysFS had negative value (-1), but there must be at least one NUMA node, so returning NUMA node zero\n",
      "2022-10-13 19:28:37.197072: I tensorflow/stream_executor/cuda/cuda_gpu_executor.cc:937] successful NUMA node read from SysFS had negative value (-1), but there must be at least one NUMA node, so returning NUMA node zero\n",
      "2022-10-13 19:28:39.241961: I tensorflow/stream_executor/cuda/cuda_gpu_executor.cc:937] successful NUMA node read from SysFS had negative value (-1), but there must be at least one NUMA node, so returning NUMA node zero\n",
      "2022-10-13 19:28:39.242905: I tensorflow/stream_executor/cuda/cuda_gpu_executor.cc:937] successful NUMA node read from SysFS had negative value (-1), but there must be at least one NUMA node, so returning NUMA node zero\n",
      "2022-10-13 19:28:39.243571: I tensorflow/stream_executor/cuda/cuda_gpu_executor.cc:937] successful NUMA node read from SysFS had negative value (-1), but there must be at least one NUMA node, so returning NUMA node zero\n",
      "2022-10-13 19:28:39.244155: I tensorflow/core/common_runtime/gpu/gpu_device.cc:1510] Created device /device:GPU:0 with 15401 MB memory:  -> device: 0, name: Tesla P100-PCIE-16GB, pci bus id: 0000:00:04.0, compute capability: 6.0\n"
     ]
    },
    {
     "data": {
      "text/plain": [
       "True"
      ]
     },
     "execution_count": 7,
     "metadata": {},
     "output_type": "execute_result"
    }
   ],
   "source": [
    "tf.test.is_gpu_available()"
   ]
  },
  {
   "cell_type": "code",
   "execution_count": 8,
   "metadata": {
    "execution": {
     "iopub.execute_input": "2022-10-13T19:28:39.267809Z",
     "iopub.status.busy": "2022-10-13T19:28:39.267456Z",
     "iopub.status.idle": "2022-10-13T19:28:39.286108Z",
     "shell.execute_reply": "2022-10-13T19:28:39.284248Z",
     "shell.execute_reply.started": "2022-10-13T19:28:39.267768Z"
    }
   },
   "outputs": [
    {
     "name": "stdout",
     "output_type": "stream",
     "text": [
      "Name: /physical_device:GPU:0   Type: GPU\n"
     ]
    },
    {
     "name": "stderr",
     "output_type": "stream",
     "text": [
      "2022-10-13 19:28:39.278595: I tensorflow/stream_executor/cuda/cuda_gpu_executor.cc:937] successful NUMA node read from SysFS had negative value (-1), but there must be at least one NUMA node, so returning NUMA node zero\n",
      "2022-10-13 19:28:39.279466: I tensorflow/stream_executor/cuda/cuda_gpu_executor.cc:937] successful NUMA node read from SysFS had negative value (-1), but there must be at least one NUMA node, so returning NUMA node zero\n",
      "2022-10-13 19:28:39.280101: I tensorflow/stream_executor/cuda/cuda_gpu_executor.cc:937] successful NUMA node read from SysFS had negative value (-1), but there must be at least one NUMA node, so returning NUMA node zero\n"
     ]
    }
   ],
   "source": [
    "gpus = tf.config.experimental.list_physical_devices('GPU')\n",
    "for gpu in gpus:\n",
    "    tf.config.experimental.set_memory_growth(gpu, True)\n",
    "    print(\"Name:\", gpu.name, \"  Type:\", gpu.device_type)"
   ]
  },
  {
   "cell_type": "markdown",
   "metadata": {},
   "source": [
    " "
   ]
  },
  {
   "cell_type": "markdown",
   "metadata": {},
   "source": [
    " "
   ]
  },
  {
   "cell_type": "markdown",
   "metadata": {},
   "source": [
    "<div style=\"font-size:14px; text-align:justify\"><b>SEGUNDA PARTE.-</b><br></div>"
   ]
  },
  {
   "cell_type": "markdown",
   "metadata": {},
   "source": [
    "<div style=\"font-size:14px; text-align:justify\"><b>2: </b>Carga el conjunto de datos MNIST que trae la propia biblioteca Keras.</div>"
   ]
  },
  {
   "cell_type": "markdown",
   "metadata": {},
   "source": [
    "***Fuente:*** *# https://keras.io/examples/vision/mnist_convnet/*"
   ]
  },
  {
   "cell_type": "code",
   "execution_count": 9,
   "metadata": {
    "execution": {
     "iopub.execute_input": "2022-10-13T19:28:39.288524Z",
     "iopub.status.busy": "2022-10-13T19:28:39.287764Z",
     "iopub.status.idle": "2022-10-13T19:28:40.838521Z",
     "shell.execute_reply": "2022-10-13T19:28:40.837388Z",
     "shell.execute_reply.started": "2022-10-13T19:28:39.288487Z"
    }
   },
   "outputs": [
    {
     "name": "stdout",
     "output_type": "stream",
     "text": [
      "Downloading data from https://storage.googleapis.com/tensorflow/tf-keras-datasets/mnist.npz\n",
      "11493376/11490434 [==============================] - 0s 0us/step\n",
      "11501568/11490434 [==============================] - 0s 0us/step\n",
      "x_train shape: (60000, 28, 28, 1)\n",
      "60000 train samples\n",
      "10000 test samples\n"
     ]
    }
   ],
   "source": [
    "# Model / data parameters\n",
    "num_classes = 10\n",
    "input_shape = (28, 28, 1)\n",
    "\n",
    "# Load the data and split it between train and test sets\n",
    "(x_train, y_train), (x_test, y_test) = keras.datasets.mnist.load_data()\n",
    "\n",
    "# Scale images to the [0, 1] range\n",
    "x_train = x_train.astype(\"float32\") / 255\n",
    "x_test = x_test.astype(\"float32\") / 255\n",
    "\n",
    "# Make sure images have shape (28, 28, 1)\n",
    "x_train = np.expand_dims(x_train, -1)\n",
    "x_test = np.expand_dims(x_test, -1)\n",
    "print(\"x_train shape:\", x_train.shape)\n",
    "print(x_train.shape[0], \"train samples\")\n",
    "print(x_test.shape[0], \"test samples\")\n",
    "\n",
    "# convert class vectors to binary class matrices\n",
    "y_train = keras.utils.to_categorical(y_train, num_classes)\n",
    "y_test = keras.utils.to_categorical(y_test, num_classes)"
   ]
  },
  {
   "cell_type": "markdown",
   "metadata": {},
   "source": [
    " "
   ]
  },
  {
   "cell_type": "markdown",
   "metadata": {},
   "source": [
    "<div style=\"font-size:14px; text-align:justify\"><b>2.1.: </b>Diseña, implementa y prueba un modelo de Red Neuronal Profunda (DNN) que trate de resolver este problema de clasificación multiclase de imágenes.</div>"
   ]
  },
  {
   "cell_type": "markdown",
   "metadata": {},
   "source": [
    "Primeramente, se crea el modelo con la clase **Sequential**. Con ello, almacenaremos en un contenerdor todo el numero de capas y las caracteristicas de estas."
   ]
  },
  {
   "cell_type": "code",
   "execution_count": 10,
   "metadata": {
    "execution": {
     "iopub.execute_input": "2022-10-13T19:28:40.840784Z",
     "iopub.status.busy": "2022-10-13T19:28:40.840394Z",
     "iopub.status.idle": "2022-10-13T19:28:41.294694Z",
     "shell.execute_reply": "2022-10-13T19:28:41.293415Z",
     "shell.execute_reply.started": "2022-10-13T19:28:40.840746Z"
    }
   },
   "outputs": [
    {
     "name": "stdout",
     "output_type": "stream",
     "text": [
      "Model: \"sequential\"\n",
      "_________________________________________________________________\n",
      "Layer (type)                 Output Shape              Param #   \n",
      "=================================================================\n",
      "conv2d (Conv2D)              (None, 26, 26, 32)        320       \n",
      "_________________________________________________________________\n",
      "max_pooling2d (MaxPooling2D) (None, 13, 13, 32)        0         \n",
      "_________________________________________________________________\n",
      "conv2d_1 (Conv2D)            (None, 11, 11, 64)        18496     \n",
      "_________________________________________________________________\n",
      "max_pooling2d_1 (MaxPooling2 (None, 5, 5, 64)          0         \n",
      "_________________________________________________________________\n",
      "flatten (Flatten)            (None, 1600)              0         \n",
      "_________________________________________________________________\n",
      "dropout (Dropout)            (None, 1600)              0         \n",
      "_________________________________________________________________\n",
      "dense (Dense)                (None, 10)                16010     \n",
      "=================================================================\n",
      "Total params: 34,826\n",
      "Trainable params: 34,826\n",
      "Non-trainable params: 0\n",
      "_________________________________________________________________\n"
     ]
    },
    {
     "name": "stderr",
     "output_type": "stream",
     "text": [
      "2022-10-13 19:28:40.881245: I tensorflow/stream_executor/cuda/cuda_gpu_executor.cc:937] successful NUMA node read from SysFS had negative value (-1), but there must be at least one NUMA node, so returning NUMA node zero\n",
      "2022-10-13 19:28:40.882179: I tensorflow/stream_executor/cuda/cuda_gpu_executor.cc:937] successful NUMA node read from SysFS had negative value (-1), but there must be at least one NUMA node, so returning NUMA node zero\n",
      "2022-10-13 19:28:40.882832: I tensorflow/stream_executor/cuda/cuda_gpu_executor.cc:937] successful NUMA node read from SysFS had negative value (-1), but there must be at least one NUMA node, so returning NUMA node zero\n",
      "2022-10-13 19:28:40.883512: I tensorflow/stream_executor/cuda/cuda_gpu_executor.cc:937] successful NUMA node read from SysFS had negative value (-1), but there must be at least one NUMA node, so returning NUMA node zero\n",
      "2022-10-13 19:28:40.884131: I tensorflow/stream_executor/cuda/cuda_gpu_executor.cc:937] successful NUMA node read from SysFS had negative value (-1), but there must be at least one NUMA node, so returning NUMA node zero\n",
      "2022-10-13 19:28:40.884700: I tensorflow/core/common_runtime/gpu/gpu_device.cc:1510] Created device /job:localhost/replica:0/task:0/device:GPU:0 with 15401 MB memory:  -> device: 0, name: Tesla P100-PCIE-16GB, pci bus id: 0000:00:04.0, compute capability: 6.0\n"
     ]
    }
   ],
   "source": [
    "from tensorflow.keras import layers\n",
    "\n",
    "# Instancia de clase \"Sequential\" que almacene las capas de la red neuronal. Definiendo alguna de ellas en su instancia\n",
    "model=keras.Sequential([\n",
    "        keras.Input(shape=input_shape),\n",
    "        layers.Conv2D(32, kernel_size=(3, 3), activation=\"relu\"),\n",
    "        layers.MaxPooling2D(pool_size=(2, 2)),\n",
    "        layers.Conv2D(64, kernel_size=(3, 3), activation=\"relu\"),\n",
    "        layers.MaxPooling2D(pool_size=(2, 2)),\n",
    "        layers.Flatten(),\n",
    "        layers.Dropout(0.5),    \n",
    "])\n",
    "\n",
    "# Añadir las capas de la red neuronal con el metodo \"add\"\n",
    "model.add(layers.Dense(num_classes, activation='softmax'),)\n",
    "\n",
    "model.summary()"
   ]
  },
  {
   "cell_type": "markdown",
   "metadata": {},
   "source": [
    "Mediante el metodo **compile**, se configurará el modelo para el entrenamiento que despues será ejecutado con la instrucción **fit**."
   ]
  },
  {
   "cell_type": "code",
   "execution_count": 11,
   "metadata": {
    "execution": {
     "iopub.execute_input": "2022-10-13T19:28:41.296988Z",
     "iopub.status.busy": "2022-10-13T19:28:41.296249Z",
     "iopub.status.idle": "2022-10-13T19:29:23.273392Z",
     "shell.execute_reply": "2022-10-13T19:29:23.272381Z",
     "shell.execute_reply.started": "2022-10-13T19:28:41.296948Z"
    }
   },
   "outputs": [
    {
     "name": "stderr",
     "output_type": "stream",
     "text": [
      "2022-10-13 19:28:41.873460: I tensorflow/compiler/mlir/mlir_graph_optimization_pass.cc:185] None of the MLIR Optimization Passes are enabled (registered 2)\n"
     ]
    },
    {
     "name": "stdout",
     "output_type": "stream",
     "text": [
      "Epoch 1/15\n"
     ]
    },
    {
     "name": "stderr",
     "output_type": "stream",
     "text": [
      "2022-10-13 19:28:43.070565: I tensorflow/stream_executor/cuda/cuda_dnn.cc:369] Loaded cuDNN version 8005\n"
     ]
    },
    {
     "name": "stdout",
     "output_type": "stream",
     "text": [
      "422/422 [==============================] - 9s 5ms/step - loss: 0.3573 - accuracy: 0.8952 - val_loss: 0.0861 - val_accuracy: 0.9755\n",
      "Epoch 2/15\n",
      "422/422 [==============================] - 2s 4ms/step - loss: 0.1106 - accuracy: 0.9666 - val_loss: 0.0590 - val_accuracy: 0.9852\n",
      "Epoch 3/15\n",
      "422/422 [==============================] - 2s 4ms/step - loss: 0.0842 - accuracy: 0.9742 - val_loss: 0.0493 - val_accuracy: 0.9855\n",
      "Epoch 4/15\n",
      "422/422 [==============================] - 2s 5ms/step - loss: 0.0701 - accuracy: 0.9786 - val_loss: 0.0403 - val_accuracy: 0.9882\n",
      "Epoch 5/15\n",
      "422/422 [==============================] - 2s 4ms/step - loss: 0.0617 - accuracy: 0.9806 - val_loss: 0.0382 - val_accuracy: 0.9888\n",
      "Epoch 6/15\n",
      "422/422 [==============================] - 2s 4ms/step - loss: 0.0550 - accuracy: 0.9828 - val_loss: 0.0343 - val_accuracy: 0.9910\n",
      "Epoch 7/15\n",
      "422/422 [==============================] - 2s 4ms/step - loss: 0.0509 - accuracy: 0.9842 - val_loss: 0.0342 - val_accuracy: 0.9907\n",
      "Epoch 8/15\n",
      "422/422 [==============================] - 2s 4ms/step - loss: 0.0482 - accuracy: 0.9849 - val_loss: 0.0342 - val_accuracy: 0.9910\n",
      "Epoch 9/15\n",
      "422/422 [==============================] - 2s 4ms/step - loss: 0.0431 - accuracy: 0.9861 - val_loss: 0.0330 - val_accuracy: 0.9907\n",
      "Epoch 10/15\n",
      "422/422 [==============================] - 2s 4ms/step - loss: 0.0414 - accuracy: 0.9868 - val_loss: 0.0365 - val_accuracy: 0.9907\n",
      "Epoch 11/15\n",
      "422/422 [==============================] - 2s 4ms/step - loss: 0.0405 - accuracy: 0.9868 - val_loss: 0.0295 - val_accuracy: 0.9913\n",
      "Epoch 12/15\n",
      "422/422 [==============================] - 2s 4ms/step - loss: 0.0383 - accuracy: 0.9878 - val_loss: 0.0308 - val_accuracy: 0.9908\n",
      "Epoch 13/15\n",
      "422/422 [==============================] - 2s 4ms/step - loss: 0.0357 - accuracy: 0.9881 - val_loss: 0.0318 - val_accuracy: 0.9908\n",
      "Epoch 14/15\n",
      "422/422 [==============================] - 2s 4ms/step - loss: 0.0345 - accuracy: 0.9891 - val_loss: 0.0295 - val_accuracy: 0.9917\n",
      "Epoch 15/15\n",
      "422/422 [==============================] - 2s 4ms/step - loss: 0.0334 - accuracy: 0.9892 - val_loss: 0.0280 - val_accuracy: 0.9922\n"
     ]
    }
   ],
   "source": [
    "# Modelo de entrenamiento\n",
    "model.compile(optimizer='adam',\n",
    "             loss='categorical_crossentropy',\n",
    "             metrics=['accuracy']\n",
    "             )\n",
    "\n",
    "# Entrenamiento del modelo\n",
    "batch_size = 128\n",
    "epochs = 15\n",
    "\n",
    "epochs_history=model.fit(x_train, y_train, batch_size=batch_size, epochs=epochs, validation_split=0.1)"
   ]
  },
  {
   "cell_type": "code",
   "execution_count": 12,
   "metadata": {
    "execution": {
     "iopub.execute_input": "2022-10-13T19:29:23.275327Z",
     "iopub.status.busy": "2022-10-13T19:29:23.275013Z",
     "iopub.status.idle": "2022-10-13T19:29:24.214807Z",
     "shell.execute_reply": "2022-10-13T19:29:24.212761Z",
     "shell.execute_reply.started": "2022-10-13T19:29:23.275299Z"
    }
   },
   "outputs": [
    {
     "name": "stdout",
     "output_type": "stream",
     "text": [
      "Test loss: 0.024397820234298706\n",
      "Test accuracy: 0.9915000200271606\n"
     ]
    },
    {
     "data": {
      "image/png": "[encoded data removed]",
      "text/plain": [
       "<Figure size 720x720 with 1 Axes>"
      ]
     },
     "metadata": {
      "needs_background": "light"
     },
     "output_type": "display_data"
    }
   ],
   "source": [
    "# Evaluacion del modelo\n",
    "score = model.evaluate(x_test, y_test, verbose=0)\n",
    "print(\"Test loss:\", score[0])\n",
    "print(\"Test accuracy:\", score[1])\n",
    "\n",
    "# Grafica de evolucion\n",
    "result_df=pd.DataFrame(epochs_history.history)\n",
    "result_df['epoch']=epochs_history.epoch\n",
    "\n",
    "fig, ax= plt.subplots(figsize=(10,10))\n",
    "num_epochs=result_df.shape[0]\n",
    "ax.plot(np.arange(0, num_epochs), result_df['accuracy'], label='Training Accuracy')\n",
    "ax.plot(np.arange(0, num_epochs), result_df['val_accuracy'], label='Validation Accuracy')\n",
    "\n",
    "ax.legend()\n",
    "plt.show()"
   ]
  }
 ],
 "metadata": {
  "kernelspec": {
   "display_name": "Python 3 (ipykernel)",
   "language": "python",
   "name": "python3"
  },
  "language_info": {
   "codemirror_mode": {
    "name": "ipython",
    "version": 3
   },
   "file_extension": ".py",
   "mimetype": "text/x-python",
   "name": "python",
   "nbconvert_exporter": "python",
   "pygments_lexer": "ipython3",
   "version": "3.8.5"
  }
 },
 "nbformat": 4,
 "nbformat_minor": 4
}
