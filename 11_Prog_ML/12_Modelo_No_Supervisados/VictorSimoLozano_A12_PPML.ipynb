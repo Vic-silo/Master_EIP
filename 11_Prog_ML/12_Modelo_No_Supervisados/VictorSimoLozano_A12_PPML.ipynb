{
 "cells": [
  {
   "cell_type": "markdown",
   "metadata": {
    "tags": []
   },
   "source": [
    "# Programación Python para Machine Learning.\n",
    "\n",
    "## Autor: Victor Simo Lozano\n",
    "\n",
    "## Actividad 12\n",
    "<p>Modelos no supervisados.</p>\n",
    "    \n",
    "\n",
    "<hr style=\"border-color:red\">"
   ]
  },
  {
   "cell_type": "markdown",
   "metadata": {},
   "source": [
    " "
   ]
  },
  {
   "cell_type": "markdown",
   "metadata": {},
   "source": [
    " "
   ]
  },
  {
   "cell_type": "code",
   "execution_count": 1,
   "metadata": {},
   "outputs": [],
   "source": [
    "# Generales \n",
    "from pandas import pandas as pd\n",
    "# from scipy.io import arff\n",
    "import numpy as np\n",
    "import matplotlib.pyplot as plt\n",
    "# import random\n",
    "# from time import time\n",
    "# from IPython.display import clear_output\n",
    "import seaborn as sns\n",
    "\n",
    "# Seleccion de caracteristicas\n",
    "# from sklearn.preprocessing import MinMaxScaler\n",
    "# from sklearn.preprocessing import OneHotEncoder\n",
    "# # from sklearn.feature_selection import SelectKBest\n",
    "# # from sklearn.feature_selection import f_classif\n",
    "# from sklearn.model_selection import train_test_split\n",
    "from sklearn.preprocessing import StandardScaler, RobustScaler, LabelEncoder\n",
    "# # from sklearn.metrics import plot_confusion_matrix\n",
    "# # from sklearn.utils import resample\n",
    "# from imblearn.over_sampling import RandomOverSampler\n",
    "from sklearn.pipeline import Pipeline\n",
    "# from sklearn.impute import SimpleImputer\n",
    "from sklearn.decomposition import PCA\n",
    "\n",
    "# Metricas\n",
    "# from sklearn.metrics import mean_squared_error\n",
    "from sklearn.metrics import silhouette_score, adjusted_rand_score\n",
    "\n",
    "# Calculo de modelos\n",
    "from scipy.cluster.hierarchy import dendrogram, linkage\n",
    "from sklearn.cluster import KMeans, AgglomerativeClustering\n",
    "# from sklearn.compose import ColumnTransformer\n",
    "# from sklearn.model_selection import GridSearchCV, RepeatedStratifiedKFold, KFold\n",
    "# from sklearn.tree import DecisionTreeClassifier, DecisionTreeRegressor\n",
    "# from sklearn.neural_network import MLPClassifier\n",
    "# from sklearn.ensemble import BaggingClassifier, RandomForestClassifier, BaggingRegressor, RandomForestRegressor"
   ]
  },
  {
   "cell_type": "code",
   "execution_count": 2,
   "metadata": {},
   "outputs": [],
   "source": [
    "import warnings\n",
    "warnings.filterwarnings('ignore')"
   ]
  },
  {
   "cell_type": "markdown",
   "metadata": {},
   "source": [
    "Cargar el conjunto de datos *\"User Knowledge Modeling\"* del repositorio UCI Machine Learning y desarrollar los siguientes puntos:\n",
    "- Cargar el conjunto de datos considerando únicamente las variables independientes.\n",
    "- Realiza un estudio con los modelos no supervisados estudiados en el que consideres tantos grupos como clases haya en el conjunto. \n",
    "- Responde a las siguientes preguntas:\n",
    "    -  ¿El número de clústeres sería el adecuado con los datos disponibles? Utiliza la regla del codo para justificar la respuesta.\n",
    "    -  ¿Se corresponden los clústeres en los que han sido incluidos los patrones con las clases a la que realmente pertenecen? Utiliza un PCA para justificar gráficamente la respuesta.\n",
    "\n",
    "***Fuente:*** <br>\n",
    "*https://archive-beta.ics.uci.edu/ml/datasets/user+knowledge+modeling*"
   ]
  },
  {
   "cell_type": "markdown",
   "metadata": {},
   "source": [
    " "
   ]
  },
  {
   "cell_type": "markdown",
   "metadata": {},
   "source": [
    " "
   ]
  },
  {
   "cell_type": "markdown",
   "metadata": {},
   "source": [
    "<div style=\"font-size:14px; text-align:justify\"><b>PRIMERA PARTE.-</b><br></div>"
   ]
  },
  {
   "cell_type": "markdown",
   "metadata": {},
   "source": [
    "<div style=\"font-size:14px; text-align:justify\"><b>1: </b>Cargar el conjunto de datos considerando únicamente las variables independientes.</div>"
   ]
  },
  {
   "cell_type": "code",
   "execution_count": 3,
   "metadata": {},
   "outputs": [
    {
     "data": {
      "text/html": [
       "<div>\n",
       "<style scoped>\n",
       "    .dataframe tbody tr th:only-of-type {\n",
       "        vertical-align: middle;\n",
       "    }\n",
       "\n",
       "    .dataframe tbody tr th {\n",
       "        vertical-align: top;\n",
       "    }\n",
       "\n",
       "    .dataframe thead th {\n",
       "        text-align: right;\n",
       "    }\n",
       "</style>\n",
       "<table border=\"1\" class=\"dataframe\">\n",
       "  <thead>\n",
       "    <tr style=\"text-align: right;\">\n",
       "      <th></th>\n",
       "      <th>STG</th>\n",
       "      <th>SCG</th>\n",
       "      <th>STR</th>\n",
       "      <th>LPR</th>\n",
       "      <th>PEG</th>\n",
       "      <th>UNS</th>\n",
       "      <th>Unnamed: 6</th>\n",
       "      <th>Unnamed: 7</th>\n",
       "      <th>Attribute Information:</th>\n",
       "    </tr>\n",
       "  </thead>\n",
       "  <tbody>\n",
       "    <tr>\n",
       "      <th>0</th>\n",
       "      <td>0.00</td>\n",
       "      <td>0.00</td>\n",
       "      <td>0.00</td>\n",
       "      <td>0.00</td>\n",
       "      <td>0.00</td>\n",
       "      <td>very_low</td>\n",
       "      <td>NaN</td>\n",
       "      <td>NaN</td>\n",
       "      <td>STG (The degree of study time for goal object ...</td>\n",
       "    </tr>\n",
       "    <tr>\n",
       "      <th>1</th>\n",
       "      <td>0.08</td>\n",
       "      <td>0.08</td>\n",
       "      <td>0.10</td>\n",
       "      <td>0.24</td>\n",
       "      <td>0.90</td>\n",
       "      <td>High</td>\n",
       "      <td>NaN</td>\n",
       "      <td>NaN</td>\n",
       "      <td>SCG (The degree of repetition number of user f...</td>\n",
       "    </tr>\n",
       "    <tr>\n",
       "      <th>2</th>\n",
       "      <td>0.06</td>\n",
       "      <td>0.06</td>\n",
       "      <td>0.05</td>\n",
       "      <td>0.25</td>\n",
       "      <td>0.33</td>\n",
       "      <td>Low</td>\n",
       "      <td>NaN</td>\n",
       "      <td>NaN</td>\n",
       "      <td>STR (The degree of study time of user for rela...</td>\n",
       "    </tr>\n",
       "    <tr>\n",
       "      <th>3</th>\n",
       "      <td>0.10</td>\n",
       "      <td>0.10</td>\n",
       "      <td>0.15</td>\n",
       "      <td>0.65</td>\n",
       "      <td>0.30</td>\n",
       "      <td>Middle</td>\n",
       "      <td>NaN</td>\n",
       "      <td>NaN</td>\n",
       "      <td>LPR (The exam performance of user for related ...</td>\n",
       "    </tr>\n",
       "    <tr>\n",
       "      <th>4</th>\n",
       "      <td>0.08</td>\n",
       "      <td>0.08</td>\n",
       "      <td>0.08</td>\n",
       "      <td>0.98</td>\n",
       "      <td>0.24</td>\n",
       "      <td>Low</td>\n",
       "      <td>NaN</td>\n",
       "      <td>NaN</td>\n",
       "      <td>PEG (The exam performance of user for goal obj...</td>\n",
       "    </tr>\n",
       "    <tr>\n",
       "      <th>...</th>\n",
       "      <td>...</td>\n",
       "      <td>...</td>\n",
       "      <td>...</td>\n",
       "      <td>...</td>\n",
       "      <td>...</td>\n",
       "      <td>...</td>\n",
       "      <td>...</td>\n",
       "      <td>...</td>\n",
       "      <td>...</td>\n",
       "    </tr>\n",
       "    <tr>\n",
       "      <th>140</th>\n",
       "      <td>0.90</td>\n",
       "      <td>0.78</td>\n",
       "      <td>0.62</td>\n",
       "      <td>0.32</td>\n",
       "      <td>0.89</td>\n",
       "      <td>High</td>\n",
       "      <td>NaN</td>\n",
       "      <td>NaN</td>\n",
       "      <td>NaN</td>\n",
       "    </tr>\n",
       "    <tr>\n",
       "      <th>141</th>\n",
       "      <td>0.85</td>\n",
       "      <td>0.82</td>\n",
       "      <td>0.66</td>\n",
       "      <td>0.83</td>\n",
       "      <td>0.83</td>\n",
       "      <td>High</td>\n",
       "      <td>NaN</td>\n",
       "      <td>NaN</td>\n",
       "      <td>NaN</td>\n",
       "    </tr>\n",
       "    <tr>\n",
       "      <th>142</th>\n",
       "      <td>0.56</td>\n",
       "      <td>0.60</td>\n",
       "      <td>0.77</td>\n",
       "      <td>0.13</td>\n",
       "      <td>0.32</td>\n",
       "      <td>Low</td>\n",
       "      <td>NaN</td>\n",
       "      <td>NaN</td>\n",
       "      <td>NaN</td>\n",
       "    </tr>\n",
       "    <tr>\n",
       "      <th>143</th>\n",
       "      <td>0.66</td>\n",
       "      <td>0.68</td>\n",
       "      <td>0.81</td>\n",
       "      <td>0.57</td>\n",
       "      <td>0.57</td>\n",
       "      <td>Middle</td>\n",
       "      <td>NaN</td>\n",
       "      <td>NaN</td>\n",
       "      <td>NaN</td>\n",
       "    </tr>\n",
       "    <tr>\n",
       "      <th>144</th>\n",
       "      <td>0.68</td>\n",
       "      <td>0.64</td>\n",
       "      <td>0.79</td>\n",
       "      <td>0.97</td>\n",
       "      <td>0.24</td>\n",
       "      <td>Middle</td>\n",
       "      <td>NaN</td>\n",
       "      <td>NaN</td>\n",
       "      <td>NaN</td>\n",
       "    </tr>\n",
       "  </tbody>\n",
       "</table>\n",
       "<p>403 rows × 9 columns</p>\n",
       "</div>"
      ],
      "text/plain": [
       "      STG   SCG   STR   LPR   PEG       UNS  Unnamed: 6  Unnamed: 7  \\\n",
       "0    0.00  0.00  0.00  0.00  0.00  very_low         NaN         NaN   \n",
       "1    0.08  0.08  0.10  0.24  0.90      High         NaN         NaN   \n",
       "2    0.06  0.06  0.05  0.25  0.33       Low         NaN         NaN   \n",
       "3    0.10  0.10  0.15  0.65  0.30    Middle         NaN         NaN   \n",
       "4    0.08  0.08  0.08  0.98  0.24       Low         NaN         NaN   \n",
       "..    ...   ...   ...   ...   ...       ...         ...         ...   \n",
       "140  0.90  0.78  0.62  0.32  0.89      High         NaN         NaN   \n",
       "141  0.85  0.82  0.66  0.83  0.83      High         NaN         NaN   \n",
       "142  0.56  0.60  0.77  0.13  0.32       Low         NaN         NaN   \n",
       "143  0.66  0.68  0.81  0.57  0.57    Middle         NaN         NaN   \n",
       "144  0.68  0.64  0.79  0.97  0.24    Middle         NaN         NaN   \n",
       "\n",
       "                                Attribute Information:  \n",
       "0    STG (The degree of study time for goal object ...  \n",
       "1    SCG (The degree of repetition number of user f...  \n",
       "2    STR (The degree of study time of user for rela...  \n",
       "3    LPR (The exam performance of user for related ...  \n",
       "4    PEG (The exam performance of user for goal obj...  \n",
       "..                                                 ...  \n",
       "140                                                NaN  \n",
       "141                                                NaN  \n",
       "142                                                NaN  \n",
       "143                                                NaN  \n",
       "144                                                NaN  \n",
       "\n",
       "[403 rows x 9 columns]"
      ]
     },
     "execution_count": 3,
     "metadata": {},
     "output_type": "execute_result"
    }
   ],
   "source": [
    "# Carga del conjunto de datos\n",
    "df_train=pd.read_excel(\n",
    "    'Data_User_Modeling_Dataset_Hamdi Tolga KAHRAMAN.xls',\n",
    "    sheet_name='Training_Data'\n",
    ")\n",
    "\n",
    "df_test=pd.read_excel(\n",
    "    'Data_User_Modeling_Dataset_Hamdi Tolga KAHRAMAN.xls',\n",
    "    sheet_name='Test_Data'\n",
    ")\n",
    "\n",
    "# Union de los dos conjuntos de datos\n",
    "df=pd.concat([df_train, df_test])\n",
    "\n",
    "df"
   ]
  },
  {
   "cell_type": "markdown",
   "metadata": {},
   "source": [
    "Una vez cargado el conjunto de datos desde un archivo *.xls*, se extrae la columnas de las variables independientes. Además, se contabiliza el total de clases existentes en el conjunto de datos."
   ]
  },
  {
   "cell_type": "code",
   "execution_count": 4,
   "metadata": {},
   "outputs": [
    {
     "data": {
      "text/html": [
       "<div>\n",
       "<style scoped>\n",
       "    .dataframe tbody tr th:only-of-type {\n",
       "        vertical-align: middle;\n",
       "    }\n",
       "\n",
       "    .dataframe tbody tr th {\n",
       "        vertical-align: top;\n",
       "    }\n",
       "\n",
       "    .dataframe thead th {\n",
       "        text-align: right;\n",
       "    }\n",
       "</style>\n",
       "<table border=\"1\" class=\"dataframe\">\n",
       "  <thead>\n",
       "    <tr style=\"text-align: right;\">\n",
       "      <th></th>\n",
       "      <th>STG</th>\n",
       "      <th>SCG</th>\n",
       "      <th>STR</th>\n",
       "      <th>LPR</th>\n",
       "      <th>PEG</th>\n",
       "    </tr>\n",
       "  </thead>\n",
       "  <tbody>\n",
       "    <tr>\n",
       "      <th>0</th>\n",
       "      <td>0.00</td>\n",
       "      <td>0.00</td>\n",
       "      <td>0.00</td>\n",
       "      <td>0.00</td>\n",
       "      <td>0.00</td>\n",
       "    </tr>\n",
       "    <tr>\n",
       "      <th>1</th>\n",
       "      <td>0.08</td>\n",
       "      <td>0.08</td>\n",
       "      <td>0.10</td>\n",
       "      <td>0.24</td>\n",
       "      <td>0.90</td>\n",
       "    </tr>\n",
       "    <tr>\n",
       "      <th>2</th>\n",
       "      <td>0.06</td>\n",
       "      <td>0.06</td>\n",
       "      <td>0.05</td>\n",
       "      <td>0.25</td>\n",
       "      <td>0.33</td>\n",
       "    </tr>\n",
       "    <tr>\n",
       "      <th>3</th>\n",
       "      <td>0.10</td>\n",
       "      <td>0.10</td>\n",
       "      <td>0.15</td>\n",
       "      <td>0.65</td>\n",
       "      <td>0.30</td>\n",
       "    </tr>\n",
       "    <tr>\n",
       "      <th>4</th>\n",
       "      <td>0.08</td>\n",
       "      <td>0.08</td>\n",
       "      <td>0.08</td>\n",
       "      <td>0.98</td>\n",
       "      <td>0.24</td>\n",
       "    </tr>\n",
       "    <tr>\n",
       "      <th>...</th>\n",
       "      <td>...</td>\n",
       "      <td>...</td>\n",
       "      <td>...</td>\n",
       "      <td>...</td>\n",
       "      <td>...</td>\n",
       "    </tr>\n",
       "    <tr>\n",
       "      <th>140</th>\n",
       "      <td>0.90</td>\n",
       "      <td>0.78</td>\n",
       "      <td>0.62</td>\n",
       "      <td>0.32</td>\n",
       "      <td>0.89</td>\n",
       "    </tr>\n",
       "    <tr>\n",
       "      <th>141</th>\n",
       "      <td>0.85</td>\n",
       "      <td>0.82</td>\n",
       "      <td>0.66</td>\n",
       "      <td>0.83</td>\n",
       "      <td>0.83</td>\n",
       "    </tr>\n",
       "    <tr>\n",
       "      <th>142</th>\n",
       "      <td>0.56</td>\n",
       "      <td>0.60</td>\n",
       "      <td>0.77</td>\n",
       "      <td>0.13</td>\n",
       "      <td>0.32</td>\n",
       "    </tr>\n",
       "    <tr>\n",
       "      <th>143</th>\n",
       "      <td>0.66</td>\n",
       "      <td>0.68</td>\n",
       "      <td>0.81</td>\n",
       "      <td>0.57</td>\n",
       "      <td>0.57</td>\n",
       "    </tr>\n",
       "    <tr>\n",
       "      <th>144</th>\n",
       "      <td>0.68</td>\n",
       "      <td>0.64</td>\n",
       "      <td>0.79</td>\n",
       "      <td>0.97</td>\n",
       "      <td>0.24</td>\n",
       "    </tr>\n",
       "  </tbody>\n",
       "</table>\n",
       "<p>403 rows × 5 columns</p>\n",
       "</div>"
      ],
      "text/plain": [
       "      STG   SCG   STR   LPR   PEG\n",
       "0    0.00  0.00  0.00  0.00  0.00\n",
       "1    0.08  0.08  0.10  0.24  0.90\n",
       "2    0.06  0.06  0.05  0.25  0.33\n",
       "3    0.10  0.10  0.15  0.65  0.30\n",
       "4    0.08  0.08  0.08  0.98  0.24\n",
       "..    ...   ...   ...   ...   ...\n",
       "140  0.90  0.78  0.62  0.32  0.89\n",
       "141  0.85  0.82  0.66  0.83  0.83\n",
       "142  0.56  0.60  0.77  0.13  0.32\n",
       "143  0.66  0.68  0.81  0.57  0.57\n",
       "144  0.68  0.64  0.79  0.97  0.24\n",
       "\n",
       "[403 rows x 5 columns]"
      ]
     },
     "metadata": {},
     "output_type": "display_data"
    },
    {
     "name": "stdout",
     "output_type": "stream",
     "text": [
      "El total de clases existentes en el conjunto son 5.\n"
     ]
    }
   ],
   "source": [
    "# Variables independientes: Las cinco primeras columnas\n",
    "X=df[df.columns[:5]]\n",
    "y=df.iloc[:,5]\n",
    "\n",
    "# Obtención de las clases\n",
    "total_clases=df[' UNS'].unique()\n",
    "\n",
    "display(X)\n",
    "print(f'''El total de clases existentes en el conjunto son {len(total_clases)}.''')"
   ]
  },
  {
   "cell_type": "markdown",
   "metadata": {},
   "source": [
    " "
   ]
  },
  {
   "cell_type": "markdown",
   "metadata": {},
   "source": [
    " "
   ]
  },
  {
   "cell_type": "markdown",
   "metadata": {},
   "source": [
    "<div style=\"font-size:14px; text-align:justify\"><b>2: </b>Realiza un estudio con los modelos no supervisados estudiados en el que consideres tantos grupos como clases haya en el conjunto.</div>"
   ]
  },
  {
   "cell_type": "code",
   "execution_count": 5,
   "metadata": {},
   "outputs": [
    {
     "name": "stdout",
     "output_type": "stream",
     "text": [
      "<class 'pandas.core.frame.DataFrame'>\n",
      "Int64Index: 403 entries, 0 to 144\n",
      "Data columns (total 5 columns):\n",
      " #   Column  Non-Null Count  Dtype  \n",
      "---  ------  --------------  -----  \n",
      " 0   STG     403 non-null    float64\n",
      " 1   SCG     403 non-null    float64\n",
      " 2   STR     403 non-null    float64\n",
      " 3   LPR     403 non-null    float64\n",
      " 4   PEG     403 non-null    float64\n",
      "dtypes: float64(5)\n",
      "memory usage: 18.9 KB\n"
     ]
    },
    {
     "data": {
      "text/plain": [
       "None"
      ]
     },
     "metadata": {},
     "output_type": "display_data"
    },
    {
     "data": {
      "text/html": [
       "<div>\n",
       "<style scoped>\n",
       "    .dataframe tbody tr th:only-of-type {\n",
       "        vertical-align: middle;\n",
       "    }\n",
       "\n",
       "    .dataframe tbody tr th {\n",
       "        vertical-align: top;\n",
       "    }\n",
       "\n",
       "    .dataframe thead th {\n",
       "        text-align: right;\n",
       "    }\n",
       "</style>\n",
       "<table border=\"1\" class=\"dataframe\">\n",
       "  <thead>\n",
       "    <tr style=\"text-align: right;\">\n",
       "      <th></th>\n",
       "      <th>STG</th>\n",
       "      <th>SCG</th>\n",
       "      <th>STR</th>\n",
       "      <th>LPR</th>\n",
       "      <th>PEG</th>\n",
       "    </tr>\n",
       "  </thead>\n",
       "  <tbody>\n",
       "    <tr>\n",
       "      <th>count</th>\n",
       "      <td>403.000000</td>\n",
       "      <td>403.000000</td>\n",
       "      <td>403.000000</td>\n",
       "      <td>403.000000</td>\n",
       "      <td>403.000000</td>\n",
       "    </tr>\n",
       "    <tr>\n",
       "      <th>mean</th>\n",
       "      <td>0.353141</td>\n",
       "      <td>0.355940</td>\n",
       "      <td>0.457655</td>\n",
       "      <td>0.431342</td>\n",
       "      <td>0.456360</td>\n",
       "    </tr>\n",
       "    <tr>\n",
       "      <th>std</th>\n",
       "      <td>0.212018</td>\n",
       "      <td>0.215531</td>\n",
       "      <td>0.246684</td>\n",
       "      <td>0.257545</td>\n",
       "      <td>0.266775</td>\n",
       "    </tr>\n",
       "    <tr>\n",
       "      <th>min</th>\n",
       "      <td>0.000000</td>\n",
       "      <td>0.000000</td>\n",
       "      <td>0.000000</td>\n",
       "      <td>0.000000</td>\n",
       "      <td>0.000000</td>\n",
       "    </tr>\n",
       "    <tr>\n",
       "      <th>25%</th>\n",
       "      <td>0.200000</td>\n",
       "      <td>0.200000</td>\n",
       "      <td>0.265000</td>\n",
       "      <td>0.250000</td>\n",
       "      <td>0.250000</td>\n",
       "    </tr>\n",
       "    <tr>\n",
       "      <th>50%</th>\n",
       "      <td>0.300000</td>\n",
       "      <td>0.300000</td>\n",
       "      <td>0.440000</td>\n",
       "      <td>0.330000</td>\n",
       "      <td>0.400000</td>\n",
       "    </tr>\n",
       "    <tr>\n",
       "      <th>75%</th>\n",
       "      <td>0.480000</td>\n",
       "      <td>0.510000</td>\n",
       "      <td>0.680000</td>\n",
       "      <td>0.650000</td>\n",
       "      <td>0.660000</td>\n",
       "    </tr>\n",
       "    <tr>\n",
       "      <th>max</th>\n",
       "      <td>0.990000</td>\n",
       "      <td>0.900000</td>\n",
       "      <td>0.950000</td>\n",
       "      <td>0.990000</td>\n",
       "      <td>0.990000</td>\n",
       "    </tr>\n",
       "  </tbody>\n",
       "</table>\n",
       "</div>"
      ],
      "text/plain": [
       "              STG         SCG         STR         LPR         PEG\n",
       "count  403.000000  403.000000  403.000000  403.000000  403.000000\n",
       "mean     0.353141    0.355940    0.457655    0.431342    0.456360\n",
       "std      0.212018    0.215531    0.246684    0.257545    0.266775\n",
       "min      0.000000    0.000000    0.000000    0.000000    0.000000\n",
       "25%      0.200000    0.200000    0.265000    0.250000    0.250000\n",
       "50%      0.300000    0.300000    0.440000    0.330000    0.400000\n",
       "75%      0.480000    0.510000    0.680000    0.650000    0.660000\n",
       "max      0.990000    0.900000    0.950000    0.990000    0.990000"
      ]
     },
     "metadata": {},
     "output_type": "display_data"
    }
   ],
   "source": [
    "# Preprocesamiento de los datos\n",
    "\n",
    "display(X.info())\n",
    "display(X.describe())"
   ]
  },
  {
   "cell_type": "markdown",
   "metadata": {},
   "source": [
    "Como se observa, se trata de un dataset sin valores faltantes, y que además, sus datos vienen están en el rango de 0 a 0,99 y tienen una desviación estándar de 0,2. Estos datos, se consideran adecuados para poder realizar el estudio de Clustering posterior. "
   ]
  },
  {
   "cell_type": "markdown",
   "metadata": {},
   "source": [
    "<div style=\"font-size:14px; text-align:center\"><b>KMeans</b><br></div>"
   ]
  },
  {
   "cell_type": "code",
   "execution_count": 6,
   "metadata": {},
   "outputs": [
    {
     "data": {
      "text/html": [
       "<style>#sk-container-id-1 {color: black;background-color: white;}#sk-container-id-1 pre{padding: 0;}#sk-container-id-1 div.sk-toggleable {background-color: white;}#sk-container-id-1 label.sk-toggleable__label {cursor: pointer;display: block;width: 100%;margin-bottom: 0;padding: 0.3em;box-sizing: border-box;text-align: center;}#sk-container-id-1 label.sk-toggleable__label-arrow:before {content: \"▸\";float: left;margin-right: 0.25em;color: #696969;}#sk-container-id-1 label.sk-toggleable__label-arrow:hover:before {color: black;}#sk-container-id-1 div.sk-estimator:hover label.sk-toggleable__label-arrow:before {color: black;}#sk-container-id-1 div.sk-toggleable__content {max-height: 0;max-width: 0;overflow: hidden;text-align: left;background-color: #f0f8ff;}#sk-container-id-1 div.sk-toggleable__content pre {margin: 0.2em;color: black;border-radius: 0.25em;background-color: #f0f8ff;}#sk-container-id-1 input.sk-toggleable__control:checked~div.sk-toggleable__content {max-height: 200px;max-width: 100%;overflow: auto;}#sk-container-id-1 input.sk-toggleable__control:checked~label.sk-toggleable__label-arrow:before {content: \"▾\";}#sk-container-id-1 div.sk-estimator input.sk-toggleable__control:checked~label.sk-toggleable__label {background-color: #d4ebff;}#sk-container-id-1 div.sk-label input.sk-toggleable__control:checked~label.sk-toggleable__label {background-color: #d4ebff;}#sk-container-id-1 input.sk-hidden--visually {border: 0;clip: rect(1px 1px 1px 1px);clip: rect(1px, 1px, 1px, 1px);height: 1px;margin: -1px;overflow: hidden;padding: 0;position: absolute;width: 1px;}#sk-container-id-1 div.sk-estimator {font-family: monospace;background-color: #f0f8ff;border: 1px dotted black;border-radius: 0.25em;box-sizing: border-box;margin-bottom: 0.5em;}#sk-container-id-1 div.sk-estimator:hover {background-color: #d4ebff;}#sk-container-id-1 div.sk-parallel-item::after {content: \"\";width: 100%;border-bottom: 1px solid gray;flex-grow: 1;}#sk-container-id-1 div.sk-label:hover label.sk-toggleable__label {background-color: #d4ebff;}#sk-container-id-1 div.sk-serial::before {content: \"\";position: absolute;border-left: 1px solid gray;box-sizing: border-box;top: 0;bottom: 0;left: 50%;z-index: 0;}#sk-container-id-1 div.sk-serial {display: flex;flex-direction: column;align-items: center;background-color: white;padding-right: 0.2em;padding-left: 0.2em;position: relative;}#sk-container-id-1 div.sk-item {position: relative;z-index: 1;}#sk-container-id-1 div.sk-parallel {display: flex;align-items: stretch;justify-content: center;background-color: white;position: relative;}#sk-container-id-1 div.sk-item::before, #sk-container-id-1 div.sk-parallel-item::before {content: \"\";position: absolute;border-left: 1px solid gray;box-sizing: border-box;top: 0;bottom: 0;left: 50%;z-index: -1;}#sk-container-id-1 div.sk-parallel-item {display: flex;flex-direction: column;z-index: 1;position: relative;background-color: white;}#sk-container-id-1 div.sk-parallel-item:first-child::after {align-self: flex-end;width: 50%;}#sk-container-id-1 div.sk-parallel-item:last-child::after {align-self: flex-start;width: 50%;}#sk-container-id-1 div.sk-parallel-item:only-child::after {width: 0;}#sk-container-id-1 div.sk-dashed-wrapped {border: 1px dashed gray;margin: 0 0.4em 0.5em 0.4em;box-sizing: border-box;padding-bottom: 0.4em;background-color: white;}#sk-container-id-1 div.sk-label label {font-family: monospace;font-weight: bold;display: inline-block;line-height: 1.2em;}#sk-container-id-1 div.sk-label-container {text-align: center;}#sk-container-id-1 div.sk-container {/* jupyter's `normalize.less` sets `[hidden] { display: none; }` but bootstrap.min.css set `[hidden] { display: none !important; }` so we also need the `!important` here to be able to override the default hidden behavior on the sphinx rendered scikit-learn.org. See: https://github.com/scikit-learn/scikit-learn/issues/21755 */display: inline-block !important;position: relative;}#sk-container-id-1 div.sk-text-repr-fallback {display: none;}</style><div id=\"sk-container-id-1\" class=\"sk-top-container\"><div class=\"sk-text-repr-fallback\"><pre>KMeans(n_clusters=5)</pre><b>In a Jupyter environment, please rerun this cell to show the HTML representation or trust the notebook. <br />On GitHub, the HTML representation is unable to render, please try loading this page with nbviewer.org.</b></div><div class=\"sk-container\" hidden><div class=\"sk-item\"><div class=\"sk-estimator sk-toggleable\"><input class=\"sk-toggleable__control sk-hidden--visually\" id=\"sk-estimator-id-1\" type=\"checkbox\" checked><label for=\"sk-estimator-id-1\" class=\"sk-toggleable__label sk-toggleable__label-arrow\">KMeans</label><div class=\"sk-toggleable__content\"><pre>KMeans(n_clusters=5)</pre></div></div></div></div></div>"
      ],
      "text/plain": [
       "KMeans(n_clusters=5)"
      ]
     },
     "execution_count": 6,
     "metadata": {},
     "output_type": "execute_result"
    }
   ],
   "source": [
    "# Instancia de KMeans\n",
    "kmeans=KMeans(n_clusters=len(total_clases))\n",
    "\n",
    "# Fit del modelo\n",
    "kmeans.fit(X)"
   ]
  },
  {
   "cell_type": "code",
   "execution_count": 7,
   "metadata": {},
   "outputs": [
    {
     "name": "stdout",
     "output_type": "stream",
     "text": [
      "El SSE minimo es: 61.64\n",
      "\n",
      "Los centroides resultantes son:\n",
      " [[0.51605085 0.4530339  0.51559322 0.75813559 0.73152542]\n",
      " [0.32272727 0.27367677 0.25858586 0.29920202 0.20929293]\n",
      " [0.33645556 0.36513333 0.71322222 0.24355556 0.54703333]\n",
      " [0.35432877 0.37657534 0.29773973 0.26808219 0.70876712]\n",
      " [0.28990244 0.35693902 0.51817073 0.70719512 0.23243902]]\n",
      "\n",
      "Numero de iteraciones hasta converger: 16\n",
      "\n",
      "La asignación de cada instancia resulta:\n",
      "[1 3 1 1 4 3 3 1 4 3 3 1 4 2 2 2 1 1 1 3 4 3 3 1 4 2 1 4 4 2 2 4 4 3 3 1 4\n",
      " 1 1 4 4 2 2 4 1 2 2 2 0 3 1 3 4 3 3 1 4 2 3 4 4 2 2 4 4 1 1 1 1 3 3 3 4 2\n",
      " 2 1 4 2 2 2 4 3 3 1 1 1 3 1 4 2 2 4 4 2 2 4 4 3 3 1 1 3 3 1 4 2 2 2 4 2 2\n",
      " 2 0 3 3 4 4 0 3 3 4 4 2 3 0 0 2 2 4 4 1 3 1 0 3 3 1 4 2 1 4 4 2 2 2 0 1 1\n",
      " 1 0 3 1 1 4 2 2 2 0 2 2 4 4 3 3 1 3 3 3 4 3 2 2 0 4 2 2 4 0 3 3 4 0 3 1 4\n",
      " 4 2 2 4 0 2 2 2 0 3 1 1 1 3 1 1 0 1 2 0 4 2 2 4 0 3 3 0 0 3 1 1 0 2 2 4 4\n",
      " 2 2 4 0 3 1 0 0 3 1 4 0 2 1 4 0 2 2 4 0 3 1 4 0 3 1 0 0 2 2 4 0 2 2 4 0 1\n",
      " 4 0 0 2 4 2 4 0 1 3 1 3 4 3 1 0 1 2 2 2 4 4 2 2 1 2 4 4 1 1 1 4 0 2 2 4 0\n",
      " 3 3 1 1 0 1 3 1 3 4 0 1 2 1 0 2 2 2 2 0 0 0 1 4 0 1 3 1 3 4 0 1 2 1 0 4 2\n",
      " 2 4 0 3 3 0 1 1 1 3 4 0 1 2 2 4 4 2 1 1 3 3 4 1 1 3 1 3 4 1 1 3 3 1 0 2 2\n",
      " 1 4 4 1 3 1 0 0 0 1 1 2 1 3 1 0 1 3 1 1 0 1 0 2 1 1 1 1 0 0 2 0 4]\n"
     ]
    }
   ],
   "source": [
    "# Minimo SSE\n",
    "print(f'''El SSE minimo es: {kmeans.inertia_:.2f}''')\n",
    "\n",
    "# Localizacion de los centroides\n",
    "print(f'''\\nLos centroides resultantes son:\\n {kmeans.cluster_centers_}''')\n",
    "\n",
    "# Numero de iteraciones hasta converger\n",
    "print(f'''\\nNumero de iteraciones hasta converger: {kmeans.n_iter_}''')\n",
    "\n",
    "# Clasificacion por cada instancia\n",
    "print(f'''\\nLa asignación de cada instancia resulta:\\n{kmeans.labels_}''')"
   ]
  },
  {
   "cell_type": "markdown",
   "metadata": {},
   "source": [
    " "
   ]
  },
  {
   "cell_type": "markdown",
   "metadata": {},
   "source": [
    " "
   ]
  },
  {
   "cell_type": "markdown",
   "metadata": {},
   "source": [
    "<div style=\"font-size:14px; text-align:center\"><b>Jerarquico: Aglomerativo</b><br></div>"
   ]
  },
  {
   "cell_type": "code",
   "execution_count": 8,
   "metadata": {},
   "outputs": [
    {
     "data": {
      "text/html": [
       "<style>#sk-container-id-2 {color: black;background-color: white;}#sk-container-id-2 pre{padding: 0;}#sk-container-id-2 div.sk-toggleable {background-color: white;}#sk-container-id-2 label.sk-toggleable__label {cursor: pointer;display: block;width: 100%;margin-bottom: 0;padding: 0.3em;box-sizing: border-box;text-align: center;}#sk-container-id-2 label.sk-toggleable__label-arrow:before {content: \"▸\";float: left;margin-right: 0.25em;color: #696969;}#sk-container-id-2 label.sk-toggleable__label-arrow:hover:before {color: black;}#sk-container-id-2 div.sk-estimator:hover label.sk-toggleable__label-arrow:before {color: black;}#sk-container-id-2 div.sk-toggleable__content {max-height: 0;max-width: 0;overflow: hidden;text-align: left;background-color: #f0f8ff;}#sk-container-id-2 div.sk-toggleable__content pre {margin: 0.2em;color: black;border-radius: 0.25em;background-color: #f0f8ff;}#sk-container-id-2 input.sk-toggleable__control:checked~div.sk-toggleable__content {max-height: 200px;max-width: 100%;overflow: auto;}#sk-container-id-2 input.sk-toggleable__control:checked~label.sk-toggleable__label-arrow:before {content: \"▾\";}#sk-container-id-2 div.sk-estimator input.sk-toggleable__control:checked~label.sk-toggleable__label {background-color: #d4ebff;}#sk-container-id-2 div.sk-label input.sk-toggleable__control:checked~label.sk-toggleable__label {background-color: #d4ebff;}#sk-container-id-2 input.sk-hidden--visually {border: 0;clip: rect(1px 1px 1px 1px);clip: rect(1px, 1px, 1px, 1px);height: 1px;margin: -1px;overflow: hidden;padding: 0;position: absolute;width: 1px;}#sk-container-id-2 div.sk-estimator {font-family: monospace;background-color: #f0f8ff;border: 1px dotted black;border-radius: 0.25em;box-sizing: border-box;margin-bottom: 0.5em;}#sk-container-id-2 div.sk-estimator:hover {background-color: #d4ebff;}#sk-container-id-2 div.sk-parallel-item::after {content: \"\";width: 100%;border-bottom: 1px solid gray;flex-grow: 1;}#sk-container-id-2 div.sk-label:hover label.sk-toggleable__label {background-color: #d4ebff;}#sk-container-id-2 div.sk-serial::before {content: \"\";position: absolute;border-left: 1px solid gray;box-sizing: border-box;top: 0;bottom: 0;left: 50%;z-index: 0;}#sk-container-id-2 div.sk-serial {display: flex;flex-direction: column;align-items: center;background-color: white;padding-right: 0.2em;padding-left: 0.2em;position: relative;}#sk-container-id-2 div.sk-item {position: relative;z-index: 1;}#sk-container-id-2 div.sk-parallel {display: flex;align-items: stretch;justify-content: center;background-color: white;position: relative;}#sk-container-id-2 div.sk-item::before, #sk-container-id-2 div.sk-parallel-item::before {content: \"\";position: absolute;border-left: 1px solid gray;box-sizing: border-box;top: 0;bottom: 0;left: 50%;z-index: -1;}#sk-container-id-2 div.sk-parallel-item {display: flex;flex-direction: column;z-index: 1;position: relative;background-color: white;}#sk-container-id-2 div.sk-parallel-item:first-child::after {align-self: flex-end;width: 50%;}#sk-container-id-2 div.sk-parallel-item:last-child::after {align-self: flex-start;width: 50%;}#sk-container-id-2 div.sk-parallel-item:only-child::after {width: 0;}#sk-container-id-2 div.sk-dashed-wrapped {border: 1px dashed gray;margin: 0 0.4em 0.5em 0.4em;box-sizing: border-box;padding-bottom: 0.4em;background-color: white;}#sk-container-id-2 div.sk-label label {font-family: monospace;font-weight: bold;display: inline-block;line-height: 1.2em;}#sk-container-id-2 div.sk-label-container {text-align: center;}#sk-container-id-2 div.sk-container {/* jupyter's `normalize.less` sets `[hidden] { display: none; }` but bootstrap.min.css set `[hidden] { display: none !important; }` so we also need the `!important` here to be able to override the default hidden behavior on the sphinx rendered scikit-learn.org. See: https://github.com/scikit-learn/scikit-learn/issues/21755 */display: inline-block !important;position: relative;}#sk-container-id-2 div.sk-text-repr-fallback {display: none;}</style><div id=\"sk-container-id-2\" class=\"sk-top-container\"><div class=\"sk-text-repr-fallback\"><pre>AgglomerativeClustering(compute_distances=True, n_clusters=5)</pre><b>In a Jupyter environment, please rerun this cell to show the HTML representation or trust the notebook. <br />On GitHub, the HTML representation is unable to render, please try loading this page with nbviewer.org.</b></div><div class=\"sk-container\" hidden><div class=\"sk-item\"><div class=\"sk-estimator sk-toggleable\"><input class=\"sk-toggleable__control sk-hidden--visually\" id=\"sk-estimator-id-2\" type=\"checkbox\" checked><label for=\"sk-estimator-id-2\" class=\"sk-toggleable__label sk-toggleable__label-arrow\">AgglomerativeClustering</label><div class=\"sk-toggleable__content\"><pre>AgglomerativeClustering(compute_distances=True, n_clusters=5)</pre></div></div></div></div></div>"
      ],
      "text/plain": [
       "AgglomerativeClustering(compute_distances=True, n_clusters=5)"
      ]
     },
     "execution_count": 8,
     "metadata": {},
     "output_type": "execute_result"
    }
   ],
   "source": [
    "# Instancia de KMeans\n",
    "cluster_agg=AgglomerativeClustering(n_clusters=len(total_clases), compute_distances=True, linkage='ward')\n",
    "\n",
    "# Fit del modelo\n",
    "cluster_agg.fit(X)"
   ]
  },
  {
   "cell_type": "code",
   "execution_count": 9,
   "metadata": {},
   "outputs": [
    {
     "name": "stdout",
     "output_type": "stream",
     "text": [
      "\n",
      "Los centroides resultantes son:\n",
      " [0.03741657 0.04690416 0.05003998 0.06020797 0.07887332 0.08381527\n",
      " 0.08485281 0.08544004 0.08660254 0.08717798 0.08798295 0.08911229\n",
      " 0.08944272 0.09055385 0.09055385 0.09055385 0.09380832 0.09497895\n",
      " 0.09623063 0.09797959 0.09949874 0.10366292 0.10452272 0.10499524\n",
      " 0.10547512 0.10547512 0.10677078 0.10688779 0.1086278  0.11045361\n",
      " 0.11090537 0.11186599 0.11224972 0.11269428 0.11308846 0.11401754\n",
      " 0.11519115 0.11576269 0.117047   0.11874342 0.11958261 0.11963486\n",
      " 0.12247449 0.12247449 0.12257651 0.12328828 0.12338963 0.1238709\n",
      " 0.12569805 0.12569805 0.12597222 0.12649111 0.12767145 0.12774454\n",
      " 0.12932517 0.12961867 0.13       0.13114877 0.13200379 0.13228757\n",
      " 0.13266499 0.13316656 0.1335103  0.13601471 0.14008926 0.14035669\n",
      " 0.14221463 0.143527   0.14361407 0.14387495 0.14415732 0.1443087\n",
      " 0.14456832 0.14525839 0.14534442 0.14764823 0.14798649 0.14832397\n",
      " 0.14899664 0.14933185 0.15087743 0.15402922 0.15654392 0.15818028\n",
      " 0.15890249 0.15905974 0.16       0.16062378 0.16124515 0.16124515\n",
      " 0.16155494 0.16248077 0.16340135 0.16411378 0.16539347 0.16552945\n",
      " 0.16583124 0.16613248 0.16613248 0.16703293 0.16703293 0.16710775\n",
      " 0.16733201 0.16733201 0.17146428 0.17187302 0.17268565 0.17291616\n",
      " 0.17378147 0.17528548 0.17568912 0.17748239 0.17832555 0.17900838\n",
      " 0.17983604 0.18067005 0.18165902 0.18223154 0.18248288 0.18303005\n",
      " 0.18484228 0.18690461 0.18734994 0.19       0.19078784 0.19183326\n",
      " 0.19235384 0.1926136  0.19287302 0.19306389 0.1933908  0.19435809\n",
      " 0.19442222 0.19451135 0.19553005 0.19570386 0.19576772 0.19906029\n",
      " 0.19924859 0.19927117 0.20174241 0.20223748 0.20273135 0.20322401\n",
      " 0.20401225 0.20412415 0.20546533 0.20639767 0.20952327 0.20952327\n",
      " 0.20952327 0.20952327 0.21063396 0.21260292 0.21342446 0.21424285\n",
      " 0.21488369 0.21587033 0.21610183 0.21639085 0.21725561 0.21817997\n",
      " 0.22068076 0.22125325 0.22212984 0.22226223 0.22271057 0.22338308\n",
      " 0.22383029 0.22494444 0.22612681 0.22627417 0.22720695 0.23065125\n",
      " 0.23086793 0.23190731 0.23323808 0.23537205 0.23784238 0.23853721\n",
      " 0.23859939 0.23860707 0.23989581 0.24103942 0.24283053 0.24494897\n",
      " 0.24721111 0.24827525 0.24867985 0.24913183 0.24962872 0.2506824\n",
      " 0.25189283 0.2521904  0.25278449 0.25462391 0.25589842 0.25679823\n",
      " 0.25922963 0.25987176 0.26038433 0.26086567 0.2655419  0.26612967\n",
      " 0.26620794 0.26721527 0.27073973 0.27092434 0.2716981  0.27325202\n",
      " 0.2741046  0.27466646 0.27610385 0.2764899  0.27658633 0.27975436\n",
      " 0.28354894 0.28401056 0.28539446 0.28751812 0.28757608 0.28929858\n",
      " 0.28959742 0.29028004 0.29068884 0.2912044  0.29342802 0.29473152\n",
      " 0.29506271 0.29563491 0.29589553 0.29744747 0.2995441  0.30002222\n",
      " 0.30033315 0.30182777 0.30844448 0.30882843 0.3118854  0.31235663\n",
      " 0.32017573 0.32039741 0.32101402 0.32301703 0.33076114 0.33188602\n",
      " 0.33233718 0.33381632 0.3342155  0.33451457 0.33539043 0.33894444\n",
      " 0.33960762 0.34112559 0.34391133 0.34545863 0.34574557 0.34847286\n",
      " 0.35060662 0.35135452 0.35203138 0.35263295 0.35805028 0.35917788\n",
      " 0.36569568 0.36679435 0.36742346 0.36752145 0.36927293 0.36986484\n",
      " 0.37260345 0.37287174 0.37585636 0.37964896 0.38002631 0.38063981\n",
      " 0.38816878 0.38867331 0.38908011 0.39038976 0.39124417 0.3945056\n",
      " 0.39576418 0.39705163 0.39848881 0.40080282 0.4019121  0.40311289\n",
      " 0.40755368 0.41030476 0.41376322 0.4177958  0.42059482 0.42225585\n",
      " 0.42424443 0.42502006 0.43220366 0.43246426 0.43721195 0.43819668\n",
      " 0.43923008 0.44113762 0.4412505  0.44158578 0.44361301 0.44449409\n",
      " 0.4543324  0.45680047 0.45831212 0.45912961 0.46030461 0.46758279\n",
      " 0.46889942 0.486458   0.48743986 0.49031028 0.49053712 0.49998889\n",
      " 0.50084096 0.50589619 0.50673793 0.5068218  0.51445116 0.51471286\n",
      " 0.51668118 0.51987789 0.52035244 0.53394756 0.53549043 0.53919607\n",
      " 0.54134148 0.54247163 0.54612881 0.55003106 0.55280675 0.55584199\n",
      " 0.56024229 0.58809491 0.59204167 0.59306709 0.59873312 0.61511855\n",
      " 0.61832772 0.63974957 0.66313828 0.6783881  0.68153334 0.68848815\n",
      " 0.69035498 0.71520021 0.74036227 0.74269161 0.74536403 0.74939023\n",
      " 0.75461356 0.78316605 0.80028696 0.81137469 0.81863911 0.8312325\n",
      " 0.84835532 0.86252043 0.8751153  0.89008427 0.89283399 0.90759155\n",
      " 0.9186011  0.92674704 0.92879531 0.94855906 1.00752757 1.03738907\n",
      " 1.03903379 1.06845007 1.09886709 1.1486992  1.15486186 1.21274895\n",
      " 1.22056821 1.26823221 1.27065463 1.39768226 1.45093075 1.45474209\n",
      " 1.46295882 1.5084596  1.58327874 1.77103261 1.79563298 1.88180499\n",
      " 2.12500528 2.16324312 2.23912855 2.36602615 2.47501594 2.70422579\n",
      " 2.84054688 3.11711825 3.31011732 4.38303816 5.56105871 6.07039088]\n",
      "\n",
      "La asignación de cada instancia resulta:\n",
      "[2 0 2 1 1 0 0 2 1 0 0 1 1 0 0 0 4 2 2 0 1 0 0 2 1 0 4 1 1 0 0 1 1 0 0 2 1\n",
      " 2 2 0 1 0 0 1 4 0 0 0 3 0 2 1 1 0 1 2 1 0 0 1 1 0 0 1 1 2 2 0 2 0 0 0 1 0\n",
      " 0 1 1 4 4 4 1 0 0 2 1 2 0 2 1 0 0 1 1 4 0 1 1 0 0 2 2 0 0 2 1 0 0 0 1 0 4\n",
      " 4 1 0 1 1 1 3 0 0 1 1 2 0 0 3 0 1 1 1 2 0 2 0 0 0 1 1 0 2 1 1 0 4 4 1 2 2\n",
      " 2 0 0 2 2 1 0 0 0 3 0 0 1 1 0 0 2 0 0 3 2 0 4 0 3 1 0 4 1 3 0 0 1 3 0 2 1\n",
      " 1 0 1 1 3 0 0 1 3 0 2 2 2 0 2 2 0 2 0 3 1 0 0 1 3 0 0 3 2 0 2 2 3 0 4 1 1\n",
      " 0 0 1 3 0 2 3 3 0 2 2 3 0 4 1 0 0 0 1 3 0 2 2 3 0 2 3 3 0 1 1 3 0 0 1 3 4\n",
      " 1 3 3 0 1 0 1 3 2 0 2 0 1 0 2 3 4 4 0 0 1 1 4 0 4 4 1 1 2 2 2 1 3 4 0 1 3\n",
      " 1 1 2 2 3 2 0 2 1 1 3 4 0 4 3 4 0 4 1 3 3 3 2 0 3 2 0 2 0 1 3 2 0 2 3 1 4\n",
      " 0 1 3 0 0 3 2 2 2 0 1 3 2 2 0 1 1 4 2 2 1 0 1 2 2 0 2 0 1 2 2 0 0 0 3 4 4\n",
      " 2 1 1 2 0 2 0 3 3 2 2 0 2 0 2 3 2 0 2 2 3 2 0 4 2 2 2 2 0 3 4 1 1]\n"
     ]
    }
   ],
   "source": [
    "# Minimo SSE\n",
    "# print(f'''El SSE minimo es: {cluster_agg.inertia_:.2f}''')\n",
    "\n",
    "# Localizacion de los centroides\n",
    "print(f'''\\nLos centroides resultantes son:\\n {cluster_agg.distances_}''')\n",
    "\n",
    "# Numero de iteraciones hasta converger\n",
    "# print(f'''\\nNumero de iteraciones hasta converger: {cluster_agg.n_iter_}''')\n",
    "\n",
    "# Clasificacion por cada instancia\n",
    "print(f'''\\nLa asignación de cada instancia resulta:\\n{cluster_agg.labels_}''')"
   ]
  },
  {
   "cell_type": "markdown",
   "metadata": {},
   "source": [
    " "
   ]
  },
  {
   "cell_type": "markdown",
   "metadata": {},
   "source": [
    " "
   ]
  },
  {
   "cell_type": "markdown",
   "metadata": {},
   "source": [
    "<div style=\"font-size:14px; text-align:center\"><b>Comparación</b><br></div>"
   ]
  },
  {
   "cell_type": "markdown",
   "metadata": {},
   "source": [
    "De acuerdo con la función **dendogram** de **Scipy**, la representación gráfica del clustering por el método *ward* de este conjunto de datos, quedaría del siguiente modo."
   ]
  },
  {
   "cell_type": "code",
   "execution_count": 10,
   "metadata": {},
   "outputs": [
    {
     "data": {
      "image/png": "[encoded data removed]",
      "text/plain": [
       "<Figure size 432x288 with 1 Axes>"
      ]
     },
     "metadata": {
      "needs_background": "light"
     },
     "output_type": "display_data"
    }
   ],
   "source": [
    "# Calculo del clustering por el método de enlace simple\n",
    "Z = linkage(X, 'ward')\n",
    " \n",
    "# Ploteo de resultado\n",
    "dendrogram(Z, truncate_mode='lastp', p=5)\n",
    "plt.show()"
   ]
  },
  {
   "cell_type": "code",
   "execution_count": 11,
   "metadata": {},
   "outputs": [
    {
     "name": "stdout",
     "output_type": "stream",
     "text": [
      "El porcentaje de simulitud entre asignaciones previas es del 3.97 %\n",
      "Las instancias asignadas de forma identica son:\n",
      " [3, 11, 75, 84, 122, 124, 133, 136, 149, 167, 201, 237, 346, 376, 392, 398]\n"
     ]
    }
   ],
   "source": [
    "# Comparación de Clustering entre Kmeans y Jerarquico Aglomerativo\n",
    "diferencia=round(np.mean(cluster_agg.labels_ == kmeans.labels_),4)\n",
    "\n",
    "# Resultados True-False de misma asignación entre Kmeans y Jerarquico Aglomerativo\n",
    "comparativa_label=(cluster_agg.labels_ == kmeans.labels_)\n",
    "comparativa_label=list(comparativa_label)\n",
    "# Indices de instancia asignados de forma diferente\n",
    "diferencia_label=[i for i, val in enumerate(comparativa_label) if val==True]\n",
    "diferencia_label\n",
    "\n",
    "print(f'''El porcentaje de simulitud entre asignaciones previas es del {diferencia*100:.2f} %''')\n",
    "print(f'''Las instancias asignadas de forma identica son:\\n {diferencia_label}''')"
   ]
  },
  {
   "cell_type": "markdown",
   "metadata": {},
   "source": [
    " "
   ]
  },
  {
   "cell_type": "markdown",
   "metadata": {},
   "source": [
    " "
   ]
  },
  {
   "cell_type": "markdown",
   "metadata": {},
   "source": [
    "<div style=\"font-size:14px; text-align:justify\"><b>RESPONDE A LAS SIGUIENTES PREGUNTAS:</b><br></div>"
   ]
  },
  {
   "cell_type": "markdown",
   "metadata": {},
   "source": [
    "<div style=\"font-size:14px; text-align:justify\"><b>3.1.: </b>¿El número de clústeres sería el adecuado con los datos disponibles? Utiliza la regla del codo para justificar la respuesta.</div>"
   ]
  },
  {
   "cell_type": "code",
   "execution_count": 12,
   "metadata": {},
   "outputs": [],
   "source": [
    "def k_optima(inercia, ini_k=2, dif_max=0.5, dif_min=0.3):\n",
    "    dif=[]\n",
    "    variacion=[]\n",
    "    j=1\n",
    "    k=0\n",
    "    variacion_minima=0\n",
    "    \n",
    "    # Obtener diferencia de k respecto a primera k\n",
    "    for i, value in enumerate(inercia):\n",
    "        # print('\\ni: ', i, '   VALOR: ', value)\n",
    "        if i != 0:\n",
    "            # print(f'''-> Diferencia de {value} - {inercia[0]}: {value-inercia[0]}''')\n",
    "            dif.append(round(abs(value-inercia[0]),2))\n",
    "            \n",
    "        # Hallar la variación por cada iteración\n",
    "        if len(dif)>1:\n",
    "            # print('j: ',j)\n",
    "            # print(f'''-> Diferencia de {dif[j]} - {dif[j-1]}: {dif[j]-dif[j-1]}''')\n",
    "            variacion.append(round(dif[j]-dif[j-1],2))\n",
    "            j+=1\n",
    "    \n",
    "    # Obtener minima variación\n",
    "    variacion_minima=min(filter(lambda x: (x >= dif_min and x<=dif_max) , variacion))\n",
    "    k=variacion.index(variacion_minima)+ ini_k + 1 # Va un valor por detras de dif \n",
    "    \n",
    "    return k, variacion_minima"
   ]
  },
  {
   "cell_type": "markdown",
   "metadata": {},
   "source": [
    "<div style=\"font-size:14px; text-align:center\"><b>KMeans</b><br></div>"
   ]
  },
  {
   "cell_type": "code",
   "execution_count": 13,
   "metadata": {},
   "outputs": [
    {
     "data": {
      "image/png": "[encoded data removed]",
      "text/plain": [
       "<Figure size 864x432 with 1 Axes>"
      ]
     },
     "metadata": {
      "needs_background": "light"
     },
     "output_type": "display_data"
    }
   ],
   "source": [
    "INI_K=2\n",
    "FIN_K=50\n",
    "\n",
    "inercias_k=[]\n",
    "for k in range(INI_K,FIN_K):\n",
    "    kmeans=KMeans(n_clusters=k)\n",
    "    kmeans.fit(X)\n",
    "    inercias_k.append(kmeans.inertia_)\n",
    "        \n",
    "fig, grafica_kmeans = plt.subplots(figsize=(12, 6))\n",
    "\n",
    "grafica_kmeans.plot(range(INI_K,FIN_K), inercias_k, '-o')\n",
    "\n",
    "plt.show()"
   ]
  },
  {
   "cell_type": "markdown",
   "metadata": {},
   "source": [
    "En la gráfica, se aprecia un codo un poco antes **K=20**. Un valor optimo de K podría ser **17**."
   ]
  },
  {
   "cell_type": "markdown",
   "metadata": {},
   "source": [
    "No obstante, atendiendo a la función para obtener el valor optimo de k de acuerdo con un valor de diferencia entre un minimo y un máximo, se obtiene que:"
   ]
  },
  {
   "cell_type": "code",
   "execution_count": 14,
   "metadata": {},
   "outputs": [
    {
     "name": "stdout",
     "output_type": "stream",
     "text": [
      "El valor optimo de k es 47 con una variación respecto a la siguiente k de 0.33.\n"
     ]
    }
   ],
   "source": [
    "kmeans_k, variacion= k_optima(inercias_k, 5)\n",
    "print(f'''El valor optimo de k es {kmeans_k} con una variación respecto a la siguiente k de {variacion}.''')"
   ]
  },
  {
   "cell_type": "markdown",
   "metadata": {},
   "source": [
    " "
   ]
  },
  {
   "cell_type": "markdown",
   "metadata": {},
   "source": [
    " "
   ]
  },
  {
   "cell_type": "markdown",
   "metadata": {},
   "source": [
    "<div style=\"font-size:14px; text-align:justify\"><b>3.2.: </b>¿Se corresponden los clústeres en los que han sido incluidos los patrones con las clases a la que realmente pertenecen? Utiliza un PCA para justificar gráficamente la respuesta.</div>"
   ]
  },
  {
   "cell_type": "markdown",
   "metadata": {},
   "source": [
    "<div style=\"font-size:14px; text-align:center\"><b>KMeans</b><br></div>"
   ]
  },
  {
   "cell_type": "code",
   "execution_count": 15,
   "metadata": {},
   "outputs": [
    {
     "data": {
      "text/html": [
       "<style>#sk-container-id-3 {color: black;background-color: white;}#sk-container-id-3 pre{padding: 0;}#sk-container-id-3 div.sk-toggleable {background-color: white;}#sk-container-id-3 label.sk-toggleable__label {cursor: pointer;display: block;width: 100%;margin-bottom: 0;padding: 0.3em;box-sizing: border-box;text-align: center;}#sk-container-id-3 label.sk-toggleable__label-arrow:before {content: \"▸\";float: left;margin-right: 0.25em;color: #696969;}#sk-container-id-3 label.sk-toggleable__label-arrow:hover:before {color: black;}#sk-container-id-3 div.sk-estimator:hover label.sk-toggleable__label-arrow:before {color: black;}#sk-container-id-3 div.sk-toggleable__content {max-height: 0;max-width: 0;overflow: hidden;text-align: left;background-color: #f0f8ff;}#sk-container-id-3 div.sk-toggleable__content pre {margin: 0.2em;color: black;border-radius: 0.25em;background-color: #f0f8ff;}#sk-container-id-3 input.sk-toggleable__control:checked~div.sk-toggleable__content {max-height: 200px;max-width: 100%;overflow: auto;}#sk-container-id-3 input.sk-toggleable__control:checked~label.sk-toggleable__label-arrow:before {content: \"▾\";}#sk-container-id-3 div.sk-estimator input.sk-toggleable__control:checked~label.sk-toggleable__label {background-color: #d4ebff;}#sk-container-id-3 div.sk-label input.sk-toggleable__control:checked~label.sk-toggleable__label {background-color: #d4ebff;}#sk-container-id-3 input.sk-hidden--visually {border: 0;clip: rect(1px 1px 1px 1px);clip: rect(1px, 1px, 1px, 1px);height: 1px;margin: -1px;overflow: hidden;padding: 0;position: absolute;width: 1px;}#sk-container-id-3 div.sk-estimator {font-family: monospace;background-color: #f0f8ff;border: 1px dotted black;border-radius: 0.25em;box-sizing: border-box;margin-bottom: 0.5em;}#sk-container-id-3 div.sk-estimator:hover {background-color: #d4ebff;}#sk-container-id-3 div.sk-parallel-item::after {content: \"\";width: 100%;border-bottom: 1px solid gray;flex-grow: 1;}#sk-container-id-3 div.sk-label:hover label.sk-toggleable__label {background-color: #d4ebff;}#sk-container-id-3 div.sk-serial::before {content: \"\";position: absolute;border-left: 1px solid gray;box-sizing: border-box;top: 0;bottom: 0;left: 50%;z-index: 0;}#sk-container-id-3 div.sk-serial {display: flex;flex-direction: column;align-items: center;background-color: white;padding-right: 0.2em;padding-left: 0.2em;position: relative;}#sk-container-id-3 div.sk-item {position: relative;z-index: 1;}#sk-container-id-3 div.sk-parallel {display: flex;align-items: stretch;justify-content: center;background-color: white;position: relative;}#sk-container-id-3 div.sk-item::before, #sk-container-id-3 div.sk-parallel-item::before {content: \"\";position: absolute;border-left: 1px solid gray;box-sizing: border-box;top: 0;bottom: 0;left: 50%;z-index: -1;}#sk-container-id-3 div.sk-parallel-item {display: flex;flex-direction: column;z-index: 1;position: relative;background-color: white;}#sk-container-id-3 div.sk-parallel-item:first-child::after {align-self: flex-end;width: 50%;}#sk-container-id-3 div.sk-parallel-item:last-child::after {align-self: flex-start;width: 50%;}#sk-container-id-3 div.sk-parallel-item:only-child::after {width: 0;}#sk-container-id-3 div.sk-dashed-wrapped {border: 1px dashed gray;margin: 0 0.4em 0.5em 0.4em;box-sizing: border-box;padding-bottom: 0.4em;background-color: white;}#sk-container-id-3 div.sk-label label {font-family: monospace;font-weight: bold;display: inline-block;line-height: 1.2em;}#sk-container-id-3 div.sk-label-container {text-align: center;}#sk-container-id-3 div.sk-container {/* jupyter's `normalize.less` sets `[hidden] { display: none; }` but bootstrap.min.css set `[hidden] { display: none !important; }` so we also need the `!important` here to be able to override the default hidden behavior on the sphinx rendered scikit-learn.org. See: https://github.com/scikit-learn/scikit-learn/issues/21755 */display: inline-block !important;position: relative;}#sk-container-id-3 div.sk-text-repr-fallback {display: none;}</style><div id=\"sk-container-id-3\" class=\"sk-top-container\"><div class=\"sk-text-repr-fallback\"><pre>Pipeline(steps=[(&#x27;preprocessor&#x27;,\n",
       "                 Pipeline(steps=[(&#x27;pca&#x27;, PCA(n_components=2))])),\n",
       "                (&#x27;clustering&#x27;,\n",
       "                 Pipeline(steps=[(&#x27;kmeans&#x27;, KMeans(n_clusters=5))]))])</pre><b>In a Jupyter environment, please rerun this cell to show the HTML representation or trust the notebook. <br />On GitHub, the HTML representation is unable to render, please try loading this page with nbviewer.org.</b></div><div class=\"sk-container\" hidden><div class=\"sk-item sk-dashed-wrapped\"><div class=\"sk-label-container\"><div class=\"sk-label sk-toggleable\"><input class=\"sk-toggleable__control sk-hidden--visually\" id=\"sk-estimator-id-3\" type=\"checkbox\" ><label for=\"sk-estimator-id-3\" class=\"sk-toggleable__label sk-toggleable__label-arrow\">Pipeline</label><div class=\"sk-toggleable__content\"><pre>Pipeline(steps=[(&#x27;preprocessor&#x27;,\n",
       "                 Pipeline(steps=[(&#x27;pca&#x27;, PCA(n_components=2))])),\n",
       "                (&#x27;clustering&#x27;,\n",
       "                 Pipeline(steps=[(&#x27;kmeans&#x27;, KMeans(n_clusters=5))]))])</pre></div></div></div><div class=\"sk-serial\"><div class=\"sk-item\"><div class=\"sk-label-container\"><div class=\"sk-label sk-toggleable\"><input class=\"sk-toggleable__control sk-hidden--visually\" id=\"sk-estimator-id-4\" type=\"checkbox\" ><label for=\"sk-estimator-id-4\" class=\"sk-toggleable__label sk-toggleable__label-arrow\">preprocessor: Pipeline</label><div class=\"sk-toggleable__content\"><pre>Pipeline(steps=[(&#x27;pca&#x27;, PCA(n_components=2))])</pre></div></div></div><div class=\"sk-serial\"><div class=\"sk-item\"><div class=\"sk-estimator sk-toggleable\"><input class=\"sk-toggleable__control sk-hidden--visually\" id=\"sk-estimator-id-5\" type=\"checkbox\" ><label for=\"sk-estimator-id-5\" class=\"sk-toggleable__label sk-toggleable__label-arrow\">PCA</label><div class=\"sk-toggleable__content\"><pre>PCA(n_components=2)</pre></div></div></div></div></div><div class=\"sk-item\"><div class=\"sk-label-container\"><div class=\"sk-label sk-toggleable\"><input class=\"sk-toggleable__control sk-hidden--visually\" id=\"sk-estimator-id-6\" type=\"checkbox\" ><label for=\"sk-estimator-id-6\" class=\"sk-toggleable__label sk-toggleable__label-arrow\">clustering: Pipeline</label><div class=\"sk-toggleable__content\"><pre>Pipeline(steps=[(&#x27;kmeans&#x27;, KMeans(n_clusters=5))])</pre></div></div></div><div class=\"sk-serial\"><div class=\"sk-item\"><div class=\"sk-estimator sk-toggleable\"><input class=\"sk-toggleable__control sk-hidden--visually\" id=\"sk-estimator-id-7\" type=\"checkbox\" ><label for=\"sk-estimator-id-7\" class=\"sk-toggleable__label sk-toggleable__label-arrow\">KMeans</label><div class=\"sk-toggleable__content\"><pre>KMeans(n_clusters=5)</pre></div></div></div></div></div></div></div></div></div>"
      ],
      "text/plain": [
       "Pipeline(steps=[('preprocessor',\n",
       "                 Pipeline(steps=[('pca', PCA(n_components=2))])),\n",
       "                ('clustering',\n",
       "                 Pipeline(steps=[('kmeans', KMeans(n_clusters=5))]))])"
      ]
     },
     "metadata": {},
     "output_type": "display_data"
    },
    {
     "name": "stdout",
     "output_type": "stream",
     "text": [
      "Coeficiente Silhouette: 0.3882\n",
      "ARI: 0.2541\n"
     ]
    }
   ],
   "source": [
    "# Pipeline calculo PCA y clustering KMeans\n",
    "preprocessor=Pipeline([\n",
    "    ('pca', PCA(n_components=2))\n",
    "])\n",
    "\n",
    "clusterer=Pipeline([\n",
    "    ('kmeans', KMeans(n_clusters=len(total_clases)))\n",
    "])\n",
    "\n",
    "pipe=Pipeline([\n",
    "    ('preprocessor', preprocessor),\n",
    "    ('clustering', clusterer)\n",
    "])\n",
    "\n",
    "display(pipe.fit(X))\n",
    "\n",
    "# Transformacion de los datos\n",
    "preprocess_data=pipe['preprocessor'].transform(X)\n",
    "predicted_labels=pipe['clustering']['kmeans'].labels_\n",
    "\n",
    "# Evaluacion de los resultados\n",
    "label_encoder=LabelEncoder()\n",
    "true_labels=label_encoder.fit_transform(y)\n",
    "\n",
    "silhouette=silhouette_score(preprocess_data, predicted_labels)\n",
    "ari=adjusted_rand_score(true_labels, predicted_labels)\n",
    "\n",
    "print(f'''Coeficiente Silhouette: {silhouette:.4f}''')\n",
    "print(f'''ARI: {ari:.4f}''')\n"
   ]
  },
  {
   "cell_type": "markdown",
   "metadata": {},
   "source": [
    "Interpretando estos resultados, y como ya se ha observado previamente, no resulta una buena selección de 5 como numero de cluster.<br>\n",
    "Para el coeficiente Silhoutte de 0.38, obtnemos que los cluster no estan lo suficientemente diferenciados, un 1 en este coeficiente indicaria que los cluster están completamente separados.<br>\n",
    "Para el ARI de 0.25, obtenemos que los valores no han sido correctamente asignados al cluster pues un 1 indicaría que los valores se han asignado correctamente."
   ]
  },
  {
   "cell_type": "markdown",
   "metadata": {},
   "source": [
    "De forma gráfica empleando los 2 componentes asignados en el PCA, obtendríamos los siguientes resultados."
   ]
  },
  {
   "cell_type": "code",
   "execution_count": 16,
   "metadata": {},
   "outputs": [
    {
     "data": {
      "text/plain": [
       "['Solarize_Light2',\n",
       " '_classic_test_patch',\n",
       " '_mpl-gallery',\n",
       " '_mpl-gallery-nogrid',\n",
       " 'bmh',\n",
       " 'classic',\n",
       " 'dark_background',\n",
       " 'fast',\n",
       " 'fivethirtyeight',\n",
       " 'ggplot',\n",
       " 'grayscale',\n",
       " 'seaborn',\n",
       " 'seaborn-bright',\n",
       " 'seaborn-colorblind',\n",
       " 'seaborn-dark',\n",
       " 'seaborn-dark-palette',\n",
       " 'seaborn-darkgrid',\n",
       " 'seaborn-deep',\n",
       " 'seaborn-muted',\n",
       " 'seaborn-notebook',\n",
       " 'seaborn-paper',\n",
       " 'seaborn-pastel',\n",
       " 'seaborn-poster',\n",
       " 'seaborn-talk',\n",
       " 'seaborn-ticks',\n",
       " 'seaborn-white',\n",
       " 'seaborn-whitegrid',\n",
       " 'tableau-colorblind10']"
      ]
     },
     "execution_count": 16,
     "metadata": {},
     "output_type": "execute_result"
    }
   ],
   "source": [
    "plt.style.available"
   ]
  },
  {
   "cell_type": "code",
   "execution_count": 17,
   "metadata": {},
   "outputs": [
    {
     "data": {
      "text/html": [
       "<div>\n",
       "<style scoped>\n",
       "    .dataframe tbody tr th:only-of-type {\n",
       "        vertical-align: middle;\n",
       "    }\n",
       "\n",
       "    .dataframe tbody tr th {\n",
       "        vertical-align: top;\n",
       "    }\n",
       "\n",
       "    .dataframe thead th {\n",
       "        text-align: right;\n",
       "    }\n",
       "</style>\n",
       "<table border=\"1\" class=\"dataframe\">\n",
       "  <thead>\n",
       "    <tr style=\"text-align: right;\">\n",
       "      <th></th>\n",
       "      <th>PCA1</th>\n",
       "      <th>PCA2</th>\n",
       "      <th>Cluster_pred</th>\n",
       "      <th>Cluster_real</th>\n",
       "    </tr>\n",
       "  </thead>\n",
       "  <tbody>\n",
       "    <tr>\n",
       "      <th>0</th>\n",
       "      <td>0.851933</td>\n",
       "      <td>-0.320158</td>\n",
       "      <td>3</td>\n",
       "      <td>very_low</td>\n",
       "    </tr>\n",
       "    <tr>\n",
       "      <th>1</th>\n",
       "      <td>0.020553</td>\n",
       "      <td>-0.446032</td>\n",
       "      <td>2</td>\n",
       "      <td>High</td>\n",
       "    </tr>\n",
       "    <tr>\n",
       "      <th>2</th>\n",
       "      <td>0.487168</td>\n",
       "      <td>-0.215345</td>\n",
       "      <td>3</td>\n",
       "      <td>Low</td>\n",
       "    </tr>\n",
       "    <tr>\n",
       "      <th>3</th>\n",
       "      <td>0.354270</td>\n",
       "      <td>0.175159</td>\n",
       "      <td>0</td>\n",
       "      <td>Middle</td>\n",
       "    </tr>\n",
       "    <tr>\n",
       "      <th>4</th>\n",
       "      <td>0.368738</td>\n",
       "      <td>0.480435</td>\n",
       "      <td>0</td>\n",
       "      <td>Low</td>\n",
       "    </tr>\n",
       "    <tr>\n",
       "      <th>...</th>\n",
       "      <td>...</td>\n",
       "      <td>...</td>\n",
       "      <td>...</td>\n",
       "      <td>...</td>\n",
       "    </tr>\n",
       "    <tr>\n",
       "      <th>398</th>\n",
       "      <td>-0.656978</td>\n",
       "      <td>-0.187663</td>\n",
       "      <td>1</td>\n",
       "      <td>High</td>\n",
       "    </tr>\n",
       "    <tr>\n",
       "      <th>399</th>\n",
       "      <td>-0.743754</td>\n",
       "      <td>0.300973</td>\n",
       "      <td>4</td>\n",
       "      <td>High</td>\n",
       "    </tr>\n",
       "    <tr>\n",
       "      <th>400</th>\n",
       "      <td>-0.098946</td>\n",
       "      <td>-0.131658</td>\n",
       "      <td>2</td>\n",
       "      <td>Low</td>\n",
       "    </tr>\n",
       "    <tr>\n",
       "      <th>401</th>\n",
       "      <td>-0.457211</td>\n",
       "      <td>0.177232</td>\n",
       "      <td>4</td>\n",
       "      <td>Middle</td>\n",
       "    </tr>\n",
       "    <tr>\n",
       "      <th>402</th>\n",
       "      <td>-0.276341</td>\n",
       "      <td>0.662029</td>\n",
       "      <td>4</td>\n",
       "      <td>Middle</td>\n",
       "    </tr>\n",
       "  </tbody>\n",
       "</table>\n",
       "<p>403 rows × 4 columns</p>\n",
       "</div>"
      ],
      "text/plain": [
       "         PCA1      PCA2  Cluster_pred Cluster_real\n",
       "0    0.851933 -0.320158             3     very_low\n",
       "1    0.020553 -0.446032             2         High\n",
       "2    0.487168 -0.215345             3          Low\n",
       "3    0.354270  0.175159             0       Middle\n",
       "4    0.368738  0.480435             0          Low\n",
       "..        ...       ...           ...          ...\n",
       "398 -0.656978 -0.187663             1         High\n",
       "399 -0.743754  0.300973             4         High\n",
       "400 -0.098946 -0.131658             2          Low\n",
       "401 -0.457211  0.177232             4       Middle\n",
       "402 -0.276341  0.662029             4       Middle\n",
       "\n",
       "[403 rows x 4 columns]"
      ]
     },
     "metadata": {},
     "output_type": "display_data"
    },
    {
     "data": {
      "image/png": "[encoded data removed]",
      "text/plain": [
       "<Figure size 576x576 with 1 Axes>"
      ]
     },
     "metadata": {},
     "output_type": "display_data"
    }
   ],
   "source": [
    "# Dataframe con los resultados obtenidos\n",
    "pca_df=pd.DataFrame(\n",
    "    preprocess_data, columns=['PCA1', 'PCA2']\n",
    ")\n",
    "pca_df['Cluster_pred']=predicted_labels\n",
    "pca_df['Cluster_real']=label_encoder.inverse_transform(true_labels)\n",
    "\n",
    "display(pca_df)\n",
    "\n",
    "# Ploteo de resultado\n",
    "plt.style.use('seaborn-ticks')\n",
    "plt.figure(figsize=(8, 8))\n",
    "\n",
    "scat = sns.scatterplot('PCA1', 'PCA2', s=50, data=pca_df,\n",
    "                       hue='Cluster_pred', style='Cluster_real',\n",
    "                       palette='deep')\n",
    "\n",
    "\n",
    "plt.legend(bbox_to_anchor=(1.05, 1), loc=2, borderaxespad=0.0)\n",
    "\n",
    "plt.show()"
   ]
  },
  {
   "cell_type": "markdown",
   "metadata": {},
   "source": [
    "Como se puede apreciar, hay gran variedad de instancias clasificadas en clases a las que realmente no corresponden."
   ]
  }
 ],
 "metadata": {
  "kernelspec": {
   "display_name": "Python 3 (ipykernel)",
   "language": "python",
   "name": "python3"
  },
  "language_info": {
   "codemirror_mode": {
    "name": "ipython",
    "version": 3
   },
   "file_extension": ".py",
   "mimetype": "text/x-python",
   "name": "python",
   "nbconvert_exporter": "python",
   "pygments_lexer": "ipython3",
   "version": "3.8.5"
  }
 },
 "nbformat": 4,
 "nbformat_minor": 4
}
