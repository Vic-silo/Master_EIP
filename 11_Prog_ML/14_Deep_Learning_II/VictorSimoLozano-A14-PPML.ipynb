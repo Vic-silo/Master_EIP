{
 "cells": [
  {
   "cell_type": "markdown",
   "metadata": {},
   "source": [
    "# Programación Python para Machine Learning.\n",
    "\n",
    "## Autor: Victor Simo Lozano\n",
    "\n",
    "## Actividad 14\n",
    "<p>Deep Learning II.</p>\n",
    "    \n",
    "\n",
    "<hr style=\"border-color:red\">"
   ]
  },
  {
   "cell_type": "markdown",
   "metadata": {},
   "source": [
    "- Carga el conjunto de datos RockPaperScissors que trae la propia biblioteca TensorFlow y realiza los siguientes puntos:\n",
    "    - Diseña, implementa y prueba un modelo de Red Neuronal Convolucional (CNN) que trate de resolver este problema de clasificación multiclase de imágenes.\n",
    "    - Muestra la matriz de confusión para comprobar el rendimiento del modelo."
   ]
  },
  {
   "cell_type": "markdown",
   "metadata": {},
   "source": [
    " "
   ]
  },
  {
   "cell_type": "markdown",
   "metadata": {},
   "source": [
    " "
   ]
  },
  {
   "cell_type": "code",
   "execution_count": 1,
   "metadata": {},
   "outputs": [],
   "source": [
    "# Generales \n",
    "from pandas import pandas as pd\n",
    "import numpy as np\n",
    "import matplotlib.pyplot as plt"
   ]
  },
  {
   "cell_type": "code",
   "execution_count": 2,
   "metadata": {},
   "outputs": [],
   "source": [
    "from IPython.display import clear_output\n",
    "import warnings\n",
    "\n",
    "warnings.filterwarnings('ignore')"
   ]
  },
  {
   "cell_type": "markdown",
   "metadata": {},
   "source": [
    "<div style=\"font-size:14px; text-align:justify\"><b>PRIMERA PARTE.-</b><br></div>"
   ]
  },
  {
   "cell_type": "markdown",
   "metadata": {},
   "source": [
    "<div style=\"font-size:14px; text-align:justify\"><b>1: </b>Carga el conjunto de datos RockPaperScissors que trae la propia biblioteca TensorFlow.</div>"
   ]
  },
  {
   "cell_type": "code",
   "execution_count": 3,
   "metadata": {
    "tags": []
   },
   "outputs": [
    {
     "name": "stdout",
     "output_type": "stream",
     "text": [
      "Name: tensorflow-datasets\n",
      "Version: 4.7.0\n",
      "Summary: tensorflow/datasets is a library of datasets ready to use with TensorFlow.\n",
      "Home-page: https://github.com/tensorflow/datasets\n",
      "Author: Google Inc.\n",
      "Author-email: packages@tensorflow.org\n",
      "License: Apache 2.0\n",
      "Location: c:\\python3_8_5\\lib\\site-packages\n",
      "Requires: absl-py, dill, etils, importlib-resources, numpy, promise, protobuf, requests, six, tensorflow-metadata, termcolor, toml, tqdm\n",
      "Required-by: \n"
     ]
    }
   ],
   "source": [
    "!pip show tensorflow-datasets"
   ]
  },
  {
   "cell_type": "code",
   "execution_count": 4,
   "metadata": {},
   "outputs": [],
   "source": [
    "import tensorflow_datasets as tfds\n",
    "import tensorflow as tf"
   ]
  },
  {
   "cell_type": "code",
   "execution_count": 5,
   "metadata": {},
   "outputs": [
    {
     "data": {
      "text/plain": [
       "tfds.core.DatasetInfo(\n",
       "    name='rock_paper_scissors',\n",
       "    full_name='rock_paper_scissors/3.0.0',\n",
       "    description=\"\"\"\n",
       "    Images of hands playing rock, paper, scissor game.\n",
       "    \"\"\",\n",
       "    homepage='http://laurencemoroney.com/rock-paper-scissors-dataset',\n",
       "    data_path='C:\\\\Users\\\\vicsi\\\\tensorflow_datasets\\\\rock_paper_scissors\\\\3.0.0',\n",
       "    file_format=tfrecord,\n",
       "    download_size=219.53 MiB,\n",
       "    dataset_size=219.23 MiB,\n",
       "    features=FeaturesDict({\n",
       "        'image': Image(shape=(300, 300, 3), dtype=tf.uint8),\n",
       "        'label': ClassLabel(shape=(), dtype=tf.int64, num_classes=3),\n",
       "    }),\n",
       "    supervised_keys=('image', 'label'),\n",
       "    disable_shuffling=False,\n",
       "    splits={\n",
       "        'test': <SplitInfo num_examples=372, num_shards=1>,\n",
       "        'train': <SplitInfo num_examples=2520, num_shards=2>,\n",
       "    },\n",
       "    citation=\"\"\"@ONLINE {rps,\n",
       "    author = \"Laurence Moroney\",\n",
       "    title = \"Rock, Paper, Scissors Dataset\",\n",
       "    month = \"feb\",\n",
       "    year = \"2019\",\n",
       "    url = \"http://laurencemoroney.com/rock-paper-scissors-dataset\"\n",
       "    }\"\"\",\n",
       ")"
      ]
     },
     "execution_count": 5,
     "metadata": {},
     "output_type": "execute_result"
    }
   ],
   "source": [
    "(ds_train, ds_test), ds_info = tfds.load(\n",
    "    'rock_paper_scissors',\n",
    "    split=['train', 'test'],\n",
    "    shuffle_files=True,\n",
    "    as_supervised=True,\n",
    "    with_info=True,\n",
    ")\n",
    "\n",
    "# Muestra de los datos\n",
    "ds_info"
   ]
  },
  {
   "cell_type": "code",
   "execution_count": 7,
   "metadata": {},
   "outputs": [],
   "source": [
    "num_classes=ds_info.features['label'].num_classes\n",
    "input_shape=ds_info.features['image'].shape\n",
    "class_names=ds_info.features['label'].names"
   ]
  },
  {
   "cell_type": "markdown",
   "metadata": {},
   "source": [
    " "
   ]
  },
  {
   "cell_type": "markdown",
   "metadata": {},
   "source": [
    " "
   ]
  },
  {
   "cell_type": "markdown",
   "metadata": {},
   "source": [
    "<div style=\"font-size:14px; text-align:justify\"><b>2.1.: </b>Diseña, implementa y prueba un modelo de Red Neuronal Convolucional (CNN) que trate de resolver este problema de clasificación multiclase de imágenes.</div>"
   ]
  },
  {
   "cell_type": "code",
   "execution_count": 8,
   "metadata": {},
   "outputs": [],
   "source": [
    "def normalize_img(image, label):\n",
    "  \"\"\"Normalizes images: `uint8` -> `float32`.\"\"\"\n",
    "  return tf.cast(image, tf.float32) / 255., label\n",
    "\n",
    "\n",
    "def split_data(ds):\n",
    "    train=[]\n",
    "    test=[]\n",
    "    for data, label in ds:\n",
    "        train.append(data)\n",
    "        test.append(label)\n",
    "    \n",
    "    return train, test\n",
    "\n",
    "ds_train = ds_train.map(normalize_img, num_parallel_calls=tf.data.AUTOTUNE)\n",
    "ds_train = ds_train.cache()\n",
    "ds_train = ds_train.shuffle(ds_info.splits['train'].num_examples)\n",
    "ds_train = ds_train.batch(128)\n",
    "ds_train = ds_train.prefetch(tf.data.AUTOTUNE)\n",
    "X_train, y_train = split_data(ds_train)\n",
    "\n",
    "ds_test = ds_test.map(normalize_img, num_parallel_calls=tf.data.AUTOTUNE)\n",
    "ds_test = ds_test.batch(128)\n",
    "ds_test = ds_test.cache()\n",
    "ds_test = ds_test.prefetch(tf.data.AUTOTUNE)\n",
    "X_test, y_test = split_data(ds_test)"
   ]
  },
  {
   "cell_type": "code",
   "execution_count": 9,
   "metadata": {},
   "outputs": [
    {
     "name": "stdout",
     "output_type": "stream",
     "text": [
      "Model: \"sequential\"\n",
      "_________________________________________________________________\n",
      " Layer (type)                Output Shape              Param #   \n",
      "=================================================================\n",
      " conv2d (Conv2D)             (None, 298, 298, 64)      1792      \n",
      "                                                                 \n",
      " max_pooling2d (MaxPooling2D  (None, 149, 149, 64)     0         \n",
      " )                                                               \n",
      "                                                                 \n",
      " conv2d_1 (Conv2D)           (None, 147, 147, 64)      36928     \n",
      "                                                                 \n",
      " max_pooling2d_1 (MaxPooling  (None, 73, 73, 64)       0         \n",
      " 2D)                                                             \n",
      "                                                                 \n",
      " conv2d_2 (Conv2D)           (None, 71, 71, 32)        18464     \n",
      "                                                                 \n",
      " max_pooling2d_2 (MaxPooling  (None, 35, 35, 32)       0         \n",
      " 2D)                                                             \n",
      "                                                                 \n",
      " flatten (Flatten)           (None, 39200)             0         \n",
      "                                                                 \n",
      " dense (Dense)               (None, 16)                627216    \n",
      "                                                                 \n",
      " dense_1 (Dense)             (None, 16)                272       \n",
      "                                                                 \n",
      " dense_2 (Dense)             (None, 3)                 51        \n",
      "                                                                 \n",
      "=================================================================\n",
      "Total params: 684,723\n",
      "Trainable params: 684,723\n",
      "Non-trainable params: 0\n",
      "_________________________________________________________________\n"
     ]
    },
    {
     "data": {
      "text/plain": [
       "None"
      ]
     },
     "metadata": {},
     "output_type": "display_data"
    },
    {
     "name": "stdout",
     "output_type": "stream",
     "text": [
      "Epoch 1/10\n",
      "20/20 [==============================] - 638s 30s/step - loss: 1.0350 - accuracy: 0.4917 - val_loss: 0.9780 - val_accuracy: 0.4328\n",
      "Epoch 2/10\n",
      "20/20 [==============================] - 512s 26s/step - loss: 0.4409 - accuracy: 0.8278 - val_loss: 0.5467 - val_accuracy: 0.7285\n",
      "Epoch 3/10\n",
      "20/20 [==============================] - 523s 26s/step - loss: 0.1109 - accuracy: 0.9702 - val_loss: 0.3926 - val_accuracy: 0.8575\n",
      "Epoch 4/10\n",
      "20/20 [==============================] - 523s 26s/step - loss: 0.0380 - accuracy: 0.9905 - val_loss: 0.7143 - val_accuracy: 0.7661\n",
      "Epoch 5/10\n",
      "20/20 [==============================] - 510s 25s/step - loss: 0.0225 - accuracy: 0.9956 - val_loss: 0.4769 - val_accuracy: 0.8253\n",
      "Epoch 6/10\n",
      "20/20 [==============================] - 535s 27s/step - loss: 0.0066 - accuracy: 0.9988 - val_loss: 0.5571 - val_accuracy: 0.8387\n",
      "Epoch 7/10\n",
      "20/20 [==============================] - 599s 30s/step - loss: 0.0017 - accuracy: 1.0000 - val_loss: 0.5756 - val_accuracy: 0.8468\n",
      "Epoch 8/10\n",
      "20/20 [==============================] - 530s 26s/step - loss: 8.0527e-04 - accuracy: 1.0000 - val_loss: 0.6073 - val_accuracy: 0.8360\n",
      "Epoch 9/10\n",
      "20/20 [==============================] - 522s 26s/step - loss: 5.7651e-04 - accuracy: 1.0000 - val_loss: 0.6417 - val_accuracy: 0.8253\n",
      "Epoch 10/10\n",
      "20/20 [==============================] - 502s 25s/step - loss: 4.4080e-04 - accuracy: 1.0000 - val_loss: 0.6644 - val_accuracy: 0.8199\n"
     ]
    }
   ],
   "source": [
    "model = tf.keras.models.Sequential([\n",
    "    tf.keras.layers.Conv2D(64, kernel_size=(3,3), activation='relu', input_shape=input_shape),\n",
    "    tf.keras.layers.MaxPooling2D(2,2),\n",
    "    tf.keras.layers.Conv2D(64, kernel_size=(3,3), activation='relu'),\n",
    "    tf.keras.layers.MaxPooling2D(2,2),\n",
    "    tf.keras.layers.Conv2D(32, kernel_size=(3,3), activation='relu'),\n",
    "    tf.keras.layers.MaxPooling2D(2,2),\n",
    "    tf.keras.layers.Flatten(),\n",
    "    tf.keras.layers.Dense(16, activation='relu'),\n",
    "    tf.keras.layers.Dense(16, activation='relu'),\n",
    "    tf.keras.layers.Dense(num_classes)\n",
    "])\n",
    "\n",
    "display(model.summary())\n",
    "\n",
    "model.compile(\n",
    "    optimizer=tf.keras.optimizers.Adam(0.001),\n",
    "    loss=tf.keras.losses.SparseCategoricalCrossentropy(from_logits=True),\n",
    "    metrics=['accuracy'],\n",
    ")\n",
    "\n",
    "train_history=model.fit(\n",
    "    ds_train,\n",
    "    epochs=10,\n",
    "    validation_data=ds_test,\n",
    ")"
   ]
  },
  {
   "cell_type": "code",
   "execution_count": 10,
   "metadata": {
    "tags": []
   },
   "outputs": [
    {
     "name": "stdout",
     "output_type": "stream",
     "text": [
      "Test loss: 0.6644497513771057\n",
      "Test accuracy: 0.8198924660682678\n"
     ]
    },
    {
     "data": {
      "image/png": "[encoded data removed]",
      "text/plain": [
       "<Figure size 720x720 with 1 Axes>"
      ]
     },
     "metadata": {
      "needs_background": "light"
     },
     "output_type": "display_data"
    }
   ],
   "source": [
    "# Evaluacion del modelo\n",
    "score = model.evaluate(ds_test, verbose=0)\n",
    "print(\"Test loss:\", score[0])\n",
    "print(\"Test accuracy:\", score[1])\n",
    "\n",
    "# Grafica de evolucion\n",
    "result_df=pd.DataFrame(train_history.history)\n",
    "result_df['epoch']=train_history.epoch\n",
    "\n",
    "fig, ax= plt.subplots(figsize=(10,10))\n",
    "num_epochs=result_df.shape[0]\n",
    "ax.plot(np.arange(0, num_epochs), result_df['accuracy'], label='Training Accuracy')\n",
    "ax.plot(np.arange(0, num_epochs), result_df['val_accuracy'], label='Validation Accuracy')\n",
    "ax.plot(np.arange(0, num_epochs), result_df['loss'], label='Training Loss')\n",
    "ax.plot(np.arange(0, num_epochs), result_df['val_loss'], label='Validation Loss')\n",
    "\n",
    "ax.legend()\n",
    "plt.show()"
   ]
  },
  {
   "cell_type": "markdown",
   "metadata": {},
   "source": [
    " "
   ]
  },
  {
   "cell_type": "markdown",
   "metadata": {},
   "source": [
    " "
   ]
  },
  {
   "cell_type": "markdown",
   "metadata": {},
   "source": [
    "<div style=\"font-size:14px; text-align:justify\"><b>2.2.: </b>Muestra la matriz de confusión para comprobar el rendimiento del modelo.</div>"
   ]
  },
  {
   "cell_type": "code",
   "execution_count": 19,
   "metadata": {},
   "outputs": [
    {
     "name": "stdout",
     "output_type": "stream",
     "text": [
      "12/12 [==============================] - 8s 676ms/step\n"
     ]
    },
    {
     "data": {
      "text/plain": [
       "<sklearn.metrics._plot.confusion_matrix.ConfusionMatrixDisplay at 0x1d21fd18250>"
      ]
     },
     "execution_count": 19,
     "metadata": {},
     "output_type": "execute_result"
    },
    {
     "data": {
      "image/png": "[encoded data removed]",
      "text/plain": [
       "<Figure size 432x288 with 2 Axes>"
      ]
     },
     "metadata": {
      "needs_background": "light"
     },
     "output_type": "display_data"
    }
   ],
   "source": [
    "from sklearn.metrics import plot_confusion_matrix\n",
    "\n",
    "class estimator:\n",
    "    _estimator_type = ''\n",
    "    classes_=[]\n",
    "    def __init__(self, model, classes):\n",
    "        self.model = model\n",
    "        self._estimator_type = 'classifier'\n",
    "        self.classes_ = classes\n",
    "    def predict(self, X):\n",
    "        y_prob= self.model.predict(X)\n",
    "        y_pred = y_prob.argmax(axis=1)\n",
    "        return y_pred\n",
    "\n",
    "classifier = estimator(model, class_names)\n",
    "\n",
    "try:\n",
    "    y_test=np.concatenate((y_test[0],y_test[1],y_test[2]))\n",
    "    X_test=np.concatenate((X_test[0],X_test[1],X_test[2]))\n",
    "except:\n",
    "    pass\n",
    "\n",
    "plot_confusion_matrix(estimator=classifier, X=X_test, y_true=y_test)"
   ]
  }
 ],
 "metadata": {
  "kernelspec": {
   "display_name": "Python 3 (ipykernel)",
   "language": "python",
   "name": "python3"
  },
  "language_info": {
   "codemirror_mode": {
    "name": "ipython",
    "version": 3
   },
   "file_extension": ".py",
   "mimetype": "text/x-python",
   "name": "python",
   "nbconvert_exporter": "python",
   "pygments_lexer": "ipython3",
   "version": "3.8.5"
  }
 },
 "nbformat": 4,
 "nbformat_minor": 4
}
