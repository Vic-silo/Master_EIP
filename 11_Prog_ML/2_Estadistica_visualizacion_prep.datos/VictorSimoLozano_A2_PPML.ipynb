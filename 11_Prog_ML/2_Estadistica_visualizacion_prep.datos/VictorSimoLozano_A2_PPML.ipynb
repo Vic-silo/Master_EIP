{
 "cells": [
  {
   "cell_type": "markdown",
   "metadata": {
    "tags": []
   },
   "source": [
    "# Programación Python para Machine Learning.\n",
    "\n",
    "## Autor: Victor Simo Lozano\n",
    "\n",
    "## Actividad 2\n",
    "<p>Estadística descriptiva, visualización y preparación de datos.</p>\n",
    "    \n",
    "\n",
    "<hr style=\"border-color:red\">"
   ]
  },
  {
   "cell_type": "markdown",
   "metadata": {},
   "source": [
    " "
   ]
  },
  {
   "cell_type": "markdown",
   "metadata": {},
   "source": [
    " "
   ]
  },
  {
   "cell_type": "code",
   "execution_count": 1,
   "metadata": {},
   "outputs": [],
   "source": [
    "# Generales \n",
    "from pandas import read_csv, DataFrame\n",
    "import matplotlib.pyplot as plt"
   ]
  },
  {
   "cell_type": "markdown",
   "metadata": {},
   "source": [
    "<div style=\"font-size:14px; text-align:justify\"><b>PRIMERA PARTE.-</b><br></div>"
   ]
  },
  {
   "cell_type": "markdown",
   "metadata": {},
   "source": [
    "Cargar el Dataset \"*Indian-Liver-Patient*\" del repositorio UCI Machine Learning y desarrollar los siguientes puntos:\n",
    "- Identificar las variables susceptibles de aplicar transformación.\n",
    "- Aplicar a una variable numerica todos los metodos de escalado vistos.\n",
    "- Comparar gráficamente la variación para cada caso de la variable escalada respecto a la original.\n",
    "\n",
    "***Fuente:*** *https://archive.ics.uci.edu/ml/datasets/ILPD+(Indian+Liver+Patient+Dataset)*"
   ]
  },
  {
   "cell_type": "markdown",
   "metadata": {},
   "source": [
    " "
   ]
  },
  {
   "cell_type": "markdown",
   "metadata": {},
   "source": [
    "<div style=\"font-size:14px; text-align:justify\"><b>1: </b>Identificación variables susceptibles de aplicar transformación.</div>"
   ]
  },
  {
   "cell_type": "markdown",
   "metadata": {},
   "source": [
    "Como transformaciones a realizar a un atributo del dataset, tenemos:\n",
    "- Tratamiento de datos categóricos.\n",
    "- Reescalado de datos.\n",
    "- Estandarización de datos.\n",
    "\n",
    "Para conocer los atributos susceptibles de dischas trnasformaciones, es necesario conocer la descripción de los mismos para el caso de datos categóricos en las variables de entrada, ya que debemos tener valores numericos en estas para poder ser tratados.<br>\n",
    "En el caso de el reescalado y/o estandarización, se deberá conocer la distribución de los datos y evitar por ejemplo, un sesgo de datos."
   ]
  },
  {
   "cell_type": "code",
   "execution_count": 2,
   "metadata": {},
   "outputs": [
    {
     "data": {
      "text/html": [
       "<div>\n",
       "<style scoped>\n",
       "    .dataframe tbody tr th:only-of-type {\n",
       "        vertical-align: middle;\n",
       "    }\n",
       "\n",
       "    .dataframe tbody tr th {\n",
       "        vertical-align: top;\n",
       "    }\n",
       "\n",
       "    .dataframe thead th {\n",
       "        text-align: right;\n",
       "    }\n",
       "</style>\n",
       "<table border=\"1\" class=\"dataframe\">\n",
       "  <thead>\n",
       "    <tr style=\"text-align: right;\">\n",
       "      <th></th>\n",
       "      <th>age</th>\n",
       "      <th>gen</th>\n",
       "      <th>tbili</th>\n",
       "      <th>dbili</th>\n",
       "      <th>alkphos</th>\n",
       "      <th>sgpt</th>\n",
       "      <th>sgot</th>\n",
       "      <th>tp</th>\n",
       "      <th>alb</th>\n",
       "      <th>ag</th>\n",
       "    </tr>\n",
       "  </thead>\n",
       "  <tbody>\n",
       "    <tr>\n",
       "      <th>0</th>\n",
       "      <td>65</td>\n",
       "      <td>Female</td>\n",
       "      <td>0.7</td>\n",
       "      <td>0.1</td>\n",
       "      <td>187</td>\n",
       "      <td>16</td>\n",
       "      <td>18</td>\n",
       "      <td>6.8</td>\n",
       "      <td>3.3</td>\n",
       "      <td>0.90</td>\n",
       "    </tr>\n",
       "    <tr>\n",
       "      <th>1</th>\n",
       "      <td>62</td>\n",
       "      <td>Male</td>\n",
       "      <td>10.9</td>\n",
       "      <td>5.5</td>\n",
       "      <td>699</td>\n",
       "      <td>64</td>\n",
       "      <td>100</td>\n",
       "      <td>7.5</td>\n",
       "      <td>3.2</td>\n",
       "      <td>0.74</td>\n",
       "    </tr>\n",
       "    <tr>\n",
       "      <th>2</th>\n",
       "      <td>62</td>\n",
       "      <td>Male</td>\n",
       "      <td>7.3</td>\n",
       "      <td>4.1</td>\n",
       "      <td>490</td>\n",
       "      <td>60</td>\n",
       "      <td>68</td>\n",
       "      <td>7.0</td>\n",
       "      <td>3.3</td>\n",
       "      <td>0.89</td>\n",
       "    </tr>\n",
       "    <tr>\n",
       "      <th>3</th>\n",
       "      <td>58</td>\n",
       "      <td>Male</td>\n",
       "      <td>1.0</td>\n",
       "      <td>0.4</td>\n",
       "      <td>182</td>\n",
       "      <td>14</td>\n",
       "      <td>20</td>\n",
       "      <td>6.8</td>\n",
       "      <td>3.4</td>\n",
       "      <td>1.00</td>\n",
       "    </tr>\n",
       "    <tr>\n",
       "      <th>4</th>\n",
       "      <td>72</td>\n",
       "      <td>Male</td>\n",
       "      <td>3.9</td>\n",
       "      <td>2.0</td>\n",
       "      <td>195</td>\n",
       "      <td>27</td>\n",
       "      <td>59</td>\n",
       "      <td>7.3</td>\n",
       "      <td>2.4</td>\n",
       "      <td>0.40</td>\n",
       "    </tr>\n",
       "    <tr>\n",
       "      <th>...</th>\n",
       "      <td>...</td>\n",
       "      <td>...</td>\n",
       "      <td>...</td>\n",
       "      <td>...</td>\n",
       "      <td>...</td>\n",
       "      <td>...</td>\n",
       "      <td>...</td>\n",
       "      <td>...</td>\n",
       "      <td>...</td>\n",
       "      <td>...</td>\n",
       "    </tr>\n",
       "    <tr>\n",
       "      <th>578</th>\n",
       "      <td>60</td>\n",
       "      <td>Male</td>\n",
       "      <td>0.5</td>\n",
       "      <td>0.1</td>\n",
       "      <td>500</td>\n",
       "      <td>20</td>\n",
       "      <td>34</td>\n",
       "      <td>5.9</td>\n",
       "      <td>1.6</td>\n",
       "      <td>0.37</td>\n",
       "    </tr>\n",
       "    <tr>\n",
       "      <th>579</th>\n",
       "      <td>40</td>\n",
       "      <td>Male</td>\n",
       "      <td>0.6</td>\n",
       "      <td>0.1</td>\n",
       "      <td>98</td>\n",
       "      <td>35</td>\n",
       "      <td>31</td>\n",
       "      <td>6.0</td>\n",
       "      <td>3.2</td>\n",
       "      <td>1.10</td>\n",
       "    </tr>\n",
       "    <tr>\n",
       "      <th>580</th>\n",
       "      <td>52</td>\n",
       "      <td>Male</td>\n",
       "      <td>0.8</td>\n",
       "      <td>0.2</td>\n",
       "      <td>245</td>\n",
       "      <td>48</td>\n",
       "      <td>49</td>\n",
       "      <td>6.4</td>\n",
       "      <td>3.2</td>\n",
       "      <td>1.00</td>\n",
       "    </tr>\n",
       "    <tr>\n",
       "      <th>581</th>\n",
       "      <td>31</td>\n",
       "      <td>Male</td>\n",
       "      <td>1.3</td>\n",
       "      <td>0.5</td>\n",
       "      <td>184</td>\n",
       "      <td>29</td>\n",
       "      <td>32</td>\n",
       "      <td>6.8</td>\n",
       "      <td>3.4</td>\n",
       "      <td>1.00</td>\n",
       "    </tr>\n",
       "    <tr>\n",
       "      <th>582</th>\n",
       "      <td>38</td>\n",
       "      <td>Male</td>\n",
       "      <td>1.0</td>\n",
       "      <td>0.3</td>\n",
       "      <td>216</td>\n",
       "      <td>21</td>\n",
       "      <td>24</td>\n",
       "      <td>7.3</td>\n",
       "      <td>4.4</td>\n",
       "      <td>1.50</td>\n",
       "    </tr>\n",
       "  </tbody>\n",
       "</table>\n",
       "<p>583 rows × 10 columns</p>\n",
       "</div>"
      ],
      "text/plain": [
       "     age     gen  tbili  dbili  alkphos  sgpt  sgot   tp  alb    ag\n",
       "0     65  Female    0.7    0.1      187    16    18  6.8  3.3  0.90\n",
       "1     62    Male   10.9    5.5      699    64   100  7.5  3.2  0.74\n",
       "2     62    Male    7.3    4.1      490    60    68  7.0  3.3  0.89\n",
       "3     58    Male    1.0    0.4      182    14    20  6.8  3.4  1.00\n",
       "4     72    Male    3.9    2.0      195    27    59  7.3  2.4  0.40\n",
       "..   ...     ...    ...    ...      ...   ...   ...  ...  ...   ...\n",
       "578   60    Male    0.5    0.1      500    20    34  5.9  1.6  0.37\n",
       "579   40    Male    0.6    0.1       98    35    31  6.0  3.2  1.10\n",
       "580   52    Male    0.8    0.2      245    48    49  6.4  3.2  1.00\n",
       "581   31    Male    1.3    0.5      184    29    32  6.8  3.4  1.00\n",
       "582   38    Male    1.0    0.3      216    21    24  7.3  4.4  1.50\n",
       "\n",
       "[583 rows x 10 columns]"
      ]
     },
     "metadata": {},
     "output_type": "display_data"
    },
    {
     "data": {
      "text/html": [
       "<div>\n",
       "<style scoped>\n",
       "    .dataframe tbody tr th:only-of-type {\n",
       "        vertical-align: middle;\n",
       "    }\n",
       "\n",
       "    .dataframe tbody tr th {\n",
       "        vertical-align: top;\n",
       "    }\n",
       "\n",
       "    .dataframe thead th {\n",
       "        text-align: right;\n",
       "    }\n",
       "</style>\n",
       "<table border=\"1\" class=\"dataframe\">\n",
       "  <thead>\n",
       "    <tr style=\"text-align: right;\">\n",
       "      <th></th>\n",
       "      <th>class</th>\n",
       "    </tr>\n",
       "  </thead>\n",
       "  <tbody>\n",
       "    <tr>\n",
       "      <th>0</th>\n",
       "      <td>1</td>\n",
       "    </tr>\n",
       "    <tr>\n",
       "      <th>1</th>\n",
       "      <td>1</td>\n",
       "    </tr>\n",
       "    <tr>\n",
       "      <th>2</th>\n",
       "      <td>1</td>\n",
       "    </tr>\n",
       "    <tr>\n",
       "      <th>3</th>\n",
       "      <td>1</td>\n",
       "    </tr>\n",
       "    <tr>\n",
       "      <th>4</th>\n",
       "      <td>1</td>\n",
       "    </tr>\n",
       "    <tr>\n",
       "      <th>...</th>\n",
       "      <td>...</td>\n",
       "    </tr>\n",
       "    <tr>\n",
       "      <th>578</th>\n",
       "      <td>2</td>\n",
       "    </tr>\n",
       "    <tr>\n",
       "      <th>579</th>\n",
       "      <td>1</td>\n",
       "    </tr>\n",
       "    <tr>\n",
       "      <th>580</th>\n",
       "      <td>1</td>\n",
       "    </tr>\n",
       "    <tr>\n",
       "      <th>581</th>\n",
       "      <td>1</td>\n",
       "    </tr>\n",
       "    <tr>\n",
       "      <th>582</th>\n",
       "      <td>2</td>\n",
       "    </tr>\n",
       "  </tbody>\n",
       "</table>\n",
       "<p>583 rows × 1 columns</p>\n",
       "</div>"
      ],
      "text/plain": [
       "     class\n",
       "0        1\n",
       "1        1\n",
       "2        1\n",
       "3        1\n",
       "4        1\n",
       "..     ...\n",
       "578      2\n",
       "579      1\n",
       "580      1\n",
       "581      1\n",
       "582      2\n",
       "\n",
       "[583 rows x 1 columns]"
      ]
     },
     "metadata": {},
     "output_type": "display_data"
    }
   ],
   "source": [
    "# Constantes del dataframe\n",
    "ATRIB_NAMES=['age', 'gen', 'tbili', 'dbili', 'alkphos', 'sgpt','sgot', 'tp', 'alb', 'ag' ,'class']\n",
    "FILENAME='Indian Liver Patient Dataset (ILPD).csv'\n",
    "\n",
    "# Lectura del dataset\n",
    "df=read_csv(filepath_or_buffer=FILENAME, names=ATRIB_NAMES)\n",
    "\n",
    "# Separar en datos de entrada y variable independiente\n",
    "x=df[df.columns[:-1]].copy()\n",
    "y=df[df.columns[-1:]].copy()\n",
    "display(x,y)"
   ]
  },
  {
   "cell_type": "code",
   "execution_count": 3,
   "metadata": {},
   "outputs": [
    {
     "name": "stdout",
     "output_type": "stream",
     "text": [
      "<class 'pandas.core.frame.DataFrame'>\n",
      "RangeIndex: 583 entries, 0 to 582\n",
      "Data columns (total 10 columns):\n",
      " #   Column   Non-Null Count  Dtype  \n",
      "---  ------   --------------  -----  \n",
      " 0   age      583 non-null    int64  \n",
      " 1   gen      583 non-null    object \n",
      " 2   tbili    583 non-null    float64\n",
      " 3   dbili    583 non-null    float64\n",
      " 4   alkphos  583 non-null    int64  \n",
      " 5   sgpt     583 non-null    int64  \n",
      " 6   sgot     583 non-null    int64  \n",
      " 7   tp       583 non-null    float64\n",
      " 8   alb      583 non-null    float64\n",
      " 9   ag       579 non-null    float64\n",
      "dtypes: float64(5), int64(4), object(1)\n",
      "memory usage: 45.7+ KB\n"
     ]
    }
   ],
   "source": [
    "# Mostrar caracteristicas de los atributos del dataset\n",
    "x.info()"
   ]
  },
  {
   "cell_type": "markdown",
   "metadata": {},
   "source": [
    " "
   ]
  },
  {
   "cell_type": "markdown",
   "metadata": {},
   "source": [
    "Con la información obtenida del dataframe, la variable *gen* se describe como *object*, por lo que debe ser transformada en un valor que posteriormente el modelo pueda interpretar. Por tanto, se le aplica **OneHotEncoder** de Scikit-learn para obtener un valor numerico de la caracteristica."
   ]
  },
  {
   "cell_type": "code",
   "execution_count": 4,
   "metadata": {},
   "outputs": [
    {
     "data": {
      "text/plain": [
       "(        gen\n",
       " 0    Female\n",
       " 1      Male\n",
       " 2      Male\n",
       " 3      Male\n",
       " 4      Male\n",
       " ..      ...\n",
       " 578    Male\n",
       " 579    Male\n",
       " 580    Male\n",
       " 581    Male\n",
       " 582    Male\n",
       " \n",
       " [583 rows x 1 columns],\n",
       " array([[0.],\n",
       "        [1.],\n",
       "        [1.],\n",
       "        [1.],\n",
       "        [1.]]),\n",
       " array([[1.],\n",
       "        [1.],\n",
       "        [1.],\n",
       "        [1.],\n",
       "        [1.]]),\n",
       " numpy.float64)"
      ]
     },
     "execution_count": 4,
     "metadata": {},
     "output_type": "execute_result"
    }
   ],
   "source": [
    "from sklearn.preprocessing import OneHotEncoder\n",
    "\n",
    "# Creamos  una instancia de OneHotEncoder con los paramteros pertinentes\n",
    "ohe=OneHotEncoder(drop='if_binary')\n",
    "\n",
    "# Crear un daraframe auxiliar con las columnas categoricas a procesar\n",
    "x_cat=x.select_dtypes(include=['object'])\n",
    "\n",
    "# Transformación de las variables categóricas con la instancia OHE\n",
    "ohe.fit(x_cat)\n",
    "x_cat_trs=ohe.transform(x_cat).toarray()\n",
    "\n",
    "# Comparación de los datos transformados\n",
    "x_cat, x_cat_trs[:5], x_cat_trs[-5:], type(x_cat_trs[0][0])"
   ]
  },
  {
   "cell_type": "markdown",
   "metadata": {},
   "source": [
    "Con la transformación OHE, se ve en la comparación como los parámetros *Female*  han tomado el valor *0* y *Male* el valor *1*, cuyo formato es *float64*."
   ]
  },
  {
   "cell_type": "markdown",
   "metadata": {},
   "source": [
    " "
   ]
  },
  {
   "cell_type": "markdown",
   "metadata": {},
   "source": [
    "Para la tranformación de los atributos numéricos, se hará en base a al **análisis visual de los datos** y que por sus características se vean sujetos a una necesaria transformación."
   ]
  },
  {
   "cell_type": "code",
   "execution_count": 5,
   "metadata": {},
   "outputs": [
    {
     "data": {
      "text/plain": [
       "<AxesSubplot:>"
      ]
     },
     "metadata": {},
     "output_type": "display_data"
    },
    {
     "data": {
      "text/html": [
       "<div>\n",
       "<style scoped>\n",
       "    .dataframe tbody tr th:only-of-type {\n",
       "        vertical-align: middle;\n",
       "    }\n",
       "\n",
       "    .dataframe tbody tr th {\n",
       "        vertical-align: top;\n",
       "    }\n",
       "\n",
       "    .dataframe thead th {\n",
       "        text-align: right;\n",
       "    }\n",
       "</style>\n",
       "<table border=\"1\" class=\"dataframe\">\n",
       "  <thead>\n",
       "    <tr style=\"text-align: right;\">\n",
       "      <th></th>\n",
       "      <th>age</th>\n",
       "      <th>tbili</th>\n",
       "      <th>dbili</th>\n",
       "      <th>alkphos</th>\n",
       "      <th>sgpt</th>\n",
       "      <th>sgot</th>\n",
       "      <th>tp</th>\n",
       "      <th>alb</th>\n",
       "      <th>ag</th>\n",
       "    </tr>\n",
       "  </thead>\n",
       "  <tbody>\n",
       "    <tr>\n",
       "      <th>count</th>\n",
       "      <td>583.000000</td>\n",
       "      <td>583.000000</td>\n",
       "      <td>583.000000</td>\n",
       "      <td>583.000000</td>\n",
       "      <td>583.000000</td>\n",
       "      <td>583.000000</td>\n",
       "      <td>583.000000</td>\n",
       "      <td>583.000000</td>\n",
       "      <td>579.000000</td>\n",
       "    </tr>\n",
       "    <tr>\n",
       "      <th>mean</th>\n",
       "      <td>44.746141</td>\n",
       "      <td>3.298799</td>\n",
       "      <td>1.486106</td>\n",
       "      <td>290.576329</td>\n",
       "      <td>80.713551</td>\n",
       "      <td>109.910806</td>\n",
       "      <td>6.483190</td>\n",
       "      <td>3.141852</td>\n",
       "      <td>0.947064</td>\n",
       "    </tr>\n",
       "    <tr>\n",
       "      <th>std</th>\n",
       "      <td>16.189833</td>\n",
       "      <td>6.209522</td>\n",
       "      <td>2.808498</td>\n",
       "      <td>242.937989</td>\n",
       "      <td>182.620356</td>\n",
       "      <td>288.918529</td>\n",
       "      <td>1.085451</td>\n",
       "      <td>0.795519</td>\n",
       "      <td>0.319592</td>\n",
       "    </tr>\n",
       "    <tr>\n",
       "      <th>min</th>\n",
       "      <td>4.000000</td>\n",
       "      <td>0.400000</td>\n",
       "      <td>0.100000</td>\n",
       "      <td>63.000000</td>\n",
       "      <td>10.000000</td>\n",
       "      <td>10.000000</td>\n",
       "      <td>2.700000</td>\n",
       "      <td>0.900000</td>\n",
       "      <td>0.300000</td>\n",
       "    </tr>\n",
       "    <tr>\n",
       "      <th>25%</th>\n",
       "      <td>33.000000</td>\n",
       "      <td>0.800000</td>\n",
       "      <td>0.200000</td>\n",
       "      <td>175.500000</td>\n",
       "      <td>23.000000</td>\n",
       "      <td>25.000000</td>\n",
       "      <td>5.800000</td>\n",
       "      <td>2.600000</td>\n",
       "      <td>0.700000</td>\n",
       "    </tr>\n",
       "    <tr>\n",
       "      <th>50%</th>\n",
       "      <td>45.000000</td>\n",
       "      <td>1.000000</td>\n",
       "      <td>0.300000</td>\n",
       "      <td>208.000000</td>\n",
       "      <td>35.000000</td>\n",
       "      <td>42.000000</td>\n",
       "      <td>6.600000</td>\n",
       "      <td>3.100000</td>\n",
       "      <td>0.930000</td>\n",
       "    </tr>\n",
       "    <tr>\n",
       "      <th>75%</th>\n",
       "      <td>58.000000</td>\n",
       "      <td>2.600000</td>\n",
       "      <td>1.300000</td>\n",
       "      <td>298.000000</td>\n",
       "      <td>60.500000</td>\n",
       "      <td>87.000000</td>\n",
       "      <td>7.200000</td>\n",
       "      <td>3.800000</td>\n",
       "      <td>1.100000</td>\n",
       "    </tr>\n",
       "    <tr>\n",
       "      <th>max</th>\n",
       "      <td>90.000000</td>\n",
       "      <td>75.000000</td>\n",
       "      <td>19.700000</td>\n",
       "      <td>2110.000000</td>\n",
       "      <td>2000.000000</td>\n",
       "      <td>4929.000000</td>\n",
       "      <td>9.600000</td>\n",
       "      <td>5.500000</td>\n",
       "      <td>2.800000</td>\n",
       "    </tr>\n",
       "  </tbody>\n",
       "</table>\n",
       "</div>"
      ],
      "text/plain": [
       "              age       tbili       dbili      alkphos         sgpt  \\\n",
       "count  583.000000  583.000000  583.000000   583.000000   583.000000   \n",
       "mean    44.746141    3.298799    1.486106   290.576329    80.713551   \n",
       "std     16.189833    6.209522    2.808498   242.937989   182.620356   \n",
       "min      4.000000    0.400000    0.100000    63.000000    10.000000   \n",
       "25%     33.000000    0.800000    0.200000   175.500000    23.000000   \n",
       "50%     45.000000    1.000000    0.300000   208.000000    35.000000   \n",
       "75%     58.000000    2.600000    1.300000   298.000000    60.500000   \n",
       "max     90.000000   75.000000   19.700000  2110.000000  2000.000000   \n",
       "\n",
       "              sgot          tp         alb          ag  \n",
       "count   583.000000  583.000000  583.000000  579.000000  \n",
       "mean    109.910806    6.483190    3.141852    0.947064  \n",
       "std     288.918529    1.085451    0.795519    0.319592  \n",
       "min      10.000000    2.700000    0.900000    0.300000  \n",
       "25%      25.000000    5.800000    2.600000    0.700000  \n",
       "50%      42.000000    6.600000    3.100000    0.930000  \n",
       "75%      87.000000    7.200000    3.800000    1.100000  \n",
       "max    4929.000000    9.600000    5.500000    2.800000  "
      ]
     },
     "metadata": {},
     "output_type": "display_data"
    },
    {
     "data": {
      "text/plain": [
       "'Sesgo de la distribución:'"
      ]
     },
     "metadata": {},
     "output_type": "display_data"
    },
    {
     "data": {
      "text/plain": [
       "age        -0.029385\n",
       "tbili       4.907474\n",
       "dbili       3.212403\n",
       "alkphos     3.765106\n",
       "sgpt        6.549192\n",
       "sgot       10.546177\n",
       "tp         -0.285672\n",
       "alb        -0.043685\n",
       "ag          0.992299\n",
       "dtype: float64"
      ]
     },
     "metadata": {},
     "output_type": "display_data"
    },
    {
     "data": {
      "image/png": "[encoded data removed]",
      "text/plain": [
       "<Figure size 432x288 with 1 Axes>"
      ]
     },
     "metadata": {
      "needs_background": "light"
     },
     "output_type": "display_data"
    }
   ],
   "source": [
    "# Dataframe auxiliar con los  atributos numéricos\n",
    "x_num=x.select_dtypes(include=['int64', 'float64'])\n",
    "\n",
    "# Representación boxplot de los atributos\n",
    "display(x_num.plot(kind='box'), x_num.describe(), 'Sesgo de la distribución:', x_num.skew())"
   ]
  },
  {
   "cell_type": "markdown",
   "metadata": {},
   "source": [
    "Con la ayuda de la descripción de los parámetros y el Diagrama de Caja, observamos que:<br>\n",
    "- **Age**: Valores minimo y máximo lógicos. Sin sesgado de valores.\n",
    "- **Tbili** (Total Bilirubin): Valores sesgados a la derecha, con un valor máximo elevado según valores normales (de 1.71 a 20.5 µmol/L).\n",
    "- **Dbili** (Direct Bilirubin): Valores sesgados a la derecha, con un valor máximo elevado según valores normale (menos de 5.1 µmol/L).\n",
    "- **Alkphos** (Alkaline Phosphotase): Valores sesgados a la derecha, con valor máximo muy elevado según valores normales (44 a 147 (IU/L)).\n",
    "- **Sgpt** (Alamine Aminotransferase): Valores sesgados a la derecha, con valor máximo muy elevado según valores normales (4 a 36 U/L).\n",
    "- **Sgot** (Aspartate Aminotransferase): Valores muy sesgados a la derecha, con valor máximo excesivamente elevado según valores normales (8 a 33 U/L).\n",
    "- **Tp** (Total Protiens): Valores sin sesgado con valores minimo y máximo dentro del rango de las medidas normales (6.0 a 8.3 g/dL).\n",
    "- **Alb** (Albumin): Valores sin sesgados, con valor minimo por debajo según valores normales (3.4 a 5.4 g/dL).\n",
    "- **Ag** (Ratio Albumin and Globulin Ratio): Valores ligeramente sesgados a la derecha, con valores minimo y maximo fuera del rango normal (1 a 2)\n",
    "\n",
    "\n",
    "En base a estos datos y sin tener algún comentario por parte de expertos de los datos, la transformación de los datos a realizar sería para *Alkphos*, *Sgpt* y *Sgot* con la \n",
    "idea de la **Estandarización Robusta de los datos** ya que se trata de atributos cuyos valores difieren del resto. En adición a esto, se debería revisar los datos y comprobar que no \n",
    "existe un error en los mismos.<br>\n",
    "Para *tbili*, *dbili*, *tp* y *ag*, realizaría una **Estandarización estándar de los datos** de modo que no existiera un sesgo en los mismos.\n",
    "\n",
    "***Nota:*** *Estas conclusiones se han obtenido sin tener información de las unidades de las medidas del Dataset.*\n",
    "\n",
    "***Fuente:***<br>\n",
    "*- https://medlineplus.gov/spanish/ency/article/003479.htm#:~:text=Un%20nivel%20normal%20es%3A,1.71%20a%2020.5%20%C2%B5mol%2FL)*<br>\n",
    "*- https://www.mountsinai.org/health-library/tests/alp-blood-test#:~:text=Normal%20Results,vary%20with%20age%20and%20sex.*<br>\n",
    "*- https://www.mountsinai.org/health-library/tests/aspartate-aminotransferase-ast-blood-test#:~:text=Normal%20Results,or%20may%20test%20different%20samples.*<br>\n",
    "*- https://www.mountsinai.org/health-library/tests/alanine-transaminase-alt-blood-test#:~:text=Normal%20Results,vary%20slightly%20among%20different%20laboratories.*<br>\n",
    "*- https://www.mountsinai.org/health-library/tests/total-protein#:~:text=Normal%20Results,of%20your%20specific%20test%20results.*<br>\n",
    "*- https://medlineplus.gov/spanish/ency/article/003480.htm#:~:text=El%20rango%20normal%20es%20de,o%20pueden%20evaluar%20diferentes%20muestras.*<br>\n",
    "*- https://www.healthline.com/health/a-g-ratio-high#:~:text=The%20normal%20range%20for%20albumin,classified%20as%20high%20or%20low.*<br>"
   ]
  },
  {
   "cell_type": "markdown",
   "metadata": {},
   "source": [
    " "
   ]
  },
  {
   "cell_type": "markdown",
   "metadata": {},
   "source": [
    "<div style=\"font-size:14px; text-align:justify\"><b>2: </b>Aplicacion de los diferentes métodos de escalado a una de las variables.</div>"
   ]
  },
  {
   "cell_type": "markdown",
   "metadata": {},
   "source": [
    "Para el escalado de los datos, se decide escoger el atributo **sgpt** (Alamine Aminotransferase)."
   ]
  },
  {
   "cell_type": "code",
   "execution_count": 6,
   "metadata": {},
   "outputs": [],
   "source": [
    "# Dataframe para el resultado de reescalados\n",
    "df_resc=x_num[['sgpt']].copy()"
   ]
  },
  {
   "cell_type": "markdown",
   "metadata": {},
   "source": [
    "<div style=\"font-size:14px; text-align:center\"><b>MinMax Scaler</b><br></div>"
   ]
  },
  {
   "cell_type": "code",
   "execution_count": 17,
   "metadata": {},
   "outputs": [],
   "source": [
    "from sklearn.preprocessing import MinMaxScaler\n",
    "\n",
    "# Instancia del escalado según Minimo y Maximo\n",
    "minmax_scaler=MinMaxScaler(feature_range=(0, 1))\n",
    "\n",
    "# Modelo en base a los datos y reescalado en base a este\n",
    "minmax_scaler.fit(x_num[['sgpt']])\n",
    "sgpt_minmax=minmax_scaler.transform(x_num[['sgpt']])\n",
    "\n",
    "# Datos obtenidos\n",
    "df_resc=df_resc.assign(sgpt_minmax = sgpt_minmax)"
   ]
  },
  {
   "cell_type": "markdown",
   "metadata": {},
   "source": [
    "<div style=\"font-size:14px; text-align:center\"><b>Estandarización Estándar</b><br></div>"
   ]
  },
  {
   "cell_type": "code",
   "execution_count": 8,
   "metadata": {},
   "outputs": [],
   "source": [
    "from sklearn.preprocessing import StandardScaler\n",
    "\n",
    "# Instancia del escalado\n",
    "std_scaler=StandardScaler()\n",
    "\n",
    "# Modelo en base a los datos y reescalado en base a este\n",
    "sgpt_std=std_scaler.fit_transform(x_num[['sgpt']])\n",
    "\n",
    "# Datos obtenidos\n",
    "df_resc=df_resc.assign(sgpt_std = sgpt_std)"
   ]
  },
  {
   "cell_type": "markdown",
   "metadata": {},
   "source": [
    "<div style=\"font-size:14px; text-align:center\"><b>Estandarización Robusta</b><br></div>"
   ]
  },
  {
   "cell_type": "code",
   "execution_count": 9,
   "metadata": {},
   "outputs": [],
   "source": [
    "from sklearn.preprocessing import RobustScaler\n",
    "\n",
    "# Instancia del escalado y creación de modelo\n",
    "rbst_scaler=RobustScaler().fit(x_num[['sgpt']])\n",
    "\n",
    "# Reescalado en base a modelo\n",
    "sgpt_rbst=rbst_scaler.transform(x_num[['sgpt']])\n",
    "\n",
    "# Datos obtenidos\n",
    "df_resc=df_resc.assign(sgpt_rbst = sgpt_rbst)"
   ]
  },
  {
   "cell_type": "markdown",
   "metadata": {},
   "source": [
    " "
   ]
  },
  {
   "cell_type": "markdown",
   "metadata": {},
   "source": [
    "<div style=\"font-size:14px; text-align:justify\"><b>3: </b>Comparación gráfica del reescalado de la variable escogida.</div>"
   ]
  },
  {
   "cell_type": "markdown",
   "metadata": {},
   "source": [
    "En base a los cambios realizados, los resultados para cada una de las transformaciones resulta el siguiente:"
   ]
  },
  {
   "cell_type": "code",
   "execution_count": 18,
   "metadata": {},
   "outputs": [
    {
     "data": {
      "text/html": [
       "<div>\n",
       "<style scoped>\n",
       "    .dataframe tbody tr th:only-of-type {\n",
       "        vertical-align: middle;\n",
       "    }\n",
       "\n",
       "    .dataframe tbody tr th {\n",
       "        vertical-align: top;\n",
       "    }\n",
       "\n",
       "    .dataframe thead th {\n",
       "        text-align: right;\n",
       "    }\n",
       "</style>\n",
       "<table border=\"1\" class=\"dataframe\">\n",
       "  <thead>\n",
       "    <tr style=\"text-align: right;\">\n",
       "      <th></th>\n",
       "      <th>sgpt</th>\n",
       "      <th>sgpt_minmax</th>\n",
       "      <th>sgpt_std</th>\n",
       "      <th>sgpt_rbst</th>\n",
       "    </tr>\n",
       "  </thead>\n",
       "  <tbody>\n",
       "    <tr>\n",
       "      <th>count</th>\n",
       "      <td>583.000000</td>\n",
       "      <td>583.000000</td>\n",
       "      <td>5.830000e+02</td>\n",
       "      <td>583.000000</td>\n",
       "    </tr>\n",
       "    <tr>\n",
       "      <th>mean</th>\n",
       "      <td>80.713551</td>\n",
       "      <td>0.035534</td>\n",
       "      <td>-1.218770e-17</td>\n",
       "      <td>1.219028</td>\n",
       "    </tr>\n",
       "    <tr>\n",
       "      <th>std</th>\n",
       "      <td>182.620356</td>\n",
       "      <td>0.091769</td>\n",
       "      <td>1.000859e+00</td>\n",
       "      <td>4.869876</td>\n",
       "    </tr>\n",
       "    <tr>\n",
       "      <th>min</th>\n",
       "      <td>10.000000</td>\n",
       "      <td>0.000000</td>\n",
       "      <td>-3.875487e-01</td>\n",
       "      <td>-0.666667</td>\n",
       "    </tr>\n",
       "    <tr>\n",
       "      <th>25%</th>\n",
       "      <td>23.000000</td>\n",
       "      <td>0.006533</td>\n",
       "      <td>-3.163016e-01</td>\n",
       "      <td>-0.320000</td>\n",
       "    </tr>\n",
       "    <tr>\n",
       "      <th>50%</th>\n",
       "      <td>35.000000</td>\n",
       "      <td>0.012563</td>\n",
       "      <td>-2.505351e-01</td>\n",
       "      <td>0.000000</td>\n",
       "    </tr>\n",
       "    <tr>\n",
       "      <th>75%</th>\n",
       "      <td>60.500000</td>\n",
       "      <td>0.025377</td>\n",
       "      <td>-1.107812e-01</td>\n",
       "      <td>0.680000</td>\n",
       "    </tr>\n",
       "    <tr>\n",
       "      <th>max</th>\n",
       "      <td>2000.000000</td>\n",
       "      <td>1.000000</td>\n",
       "      <td>1.051873e+01</td>\n",
       "      <td>52.400000</td>\n",
       "    </tr>\n",
       "  </tbody>\n",
       "</table>\n",
       "</div>"
      ],
      "text/plain": [
       "              sgpt  sgpt_minmax      sgpt_std   sgpt_rbst\n",
       "count   583.000000   583.000000  5.830000e+02  583.000000\n",
       "mean     80.713551     0.035534 -1.218770e-17    1.219028\n",
       "std     182.620356     0.091769  1.000859e+00    4.869876\n",
       "min      10.000000     0.000000 -3.875487e-01   -0.666667\n",
       "25%      23.000000     0.006533 -3.163016e-01   -0.320000\n",
       "50%      35.000000     0.012563 -2.505351e-01    0.000000\n",
       "75%      60.500000     0.025377 -1.107812e-01    0.680000\n",
       "max    2000.000000     1.000000  1.051873e+01   52.400000"
      ]
     },
     "execution_count": 18,
     "metadata": {},
     "output_type": "execute_result"
    }
   ],
   "source": [
    "df_resc.describe()"
   ]
  },
  {
   "cell_type": "code",
   "execution_count": 19,
   "metadata": {},
   "outputs": [
    {
     "data": {
      "image/png": "[encoded data removed]",
      "text/plain": [
       "<Figure size 1440x360 with 2 Axes>"
      ]
     },
     "metadata": {
      "needs_background": "light"
     },
     "output_type": "display_data"
    },
    {
     "data": {
      "image/png": "[encoded data removed]",
      "text/plain": [
       "<Figure size 1440x720 with 6 Axes>"
      ]
     },
     "metadata": {
      "needs_background": "light"
     },
     "output_type": "display_data"
    },
    {
     "data": {
      "text/plain": [
       "(None,\n",
       " sgpt           6.549192\n",
       " sgpt_minmax    6.549192\n",
       " sgpt_std       6.549192\n",
       " sgpt_rbst      6.549192\n",
       " dtype: float64)"
      ]
     },
     "execution_count": 19,
     "metadata": {},
     "output_type": "execute_result"
    }
   ],
   "source": [
    "# Representación actual de los datos para dicho atributo\n",
    "fig, axes = plt.subplots(nrows=1, ncols=2,figsize=(20,5))\n",
    "\n",
    "df_resc['sgpt'].plot(kind='density', ax=axes[0]).set(title='SGPT - Distribución de los datos')\n",
    "df_resc['sgpt'].plot(kind='box', ax=axes[1]).set(title='SGPT - Resumen distribución')\n",
    "\n",
    "fig, axes = plt.subplots(nrows=2, ncols=3,figsize=(20,10))\n",
    "\n",
    "df_resc['sgpt_minmax'].plot(kind='density', ax=axes[0,0]).set(title='SGPT MinMax - Distribución de los datos')\n",
    "df_resc['sgpt_std'].plot(kind='density', ax=axes[0,1]).set(title='SGPT Estandar - Distribución de los datos')\n",
    "df_resc['sgpt_rbst'].plot(kind='density', ax=axes[0,2]).set(title='SGPT Robusta - Distribución de los datos')\n",
    "\n",
    "df_resc['sgpt_minmax'].plot(kind='box', ax=axes[1,0]).set(title='SGPT MinMax - Resumen distribución')\n",
    "df_resc['sgpt_std'].plot(kind='box', ax=axes[1,1]).set(title='SGPT Estandar - Resumen distribución')\n",
    "df_resc['sgpt_rbst'].plot(kind='box', ax=axes[1,2]).set(title='SGPT Robusta - Resumen distribución')\n",
    "\n",
    "plt.show(), df_resc.skew()"
   ]
  }
 ],
 "metadata": {
  "kernelspec": {
   "display_name": "Python 3 (ipykernel)",
   "language": "python",
   "name": "python3"
  },
  "language_info": {
   "codemirror_mode": {
    "name": "ipython",
    "version": 3
   },
   "file_extension": ".py",
   "mimetype": "text/x-python",
   "name": "python",
   "nbconvert_exporter": "python",
   "pygments_lexer": "ipython3",
   "version": "3.8.5"
  }
 },
 "nbformat": 4,
 "nbformat_minor": 4
}
