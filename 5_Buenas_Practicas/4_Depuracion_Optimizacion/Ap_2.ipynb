{
 "cells": [
  {
   "cell_type": "markdown",
   "id": "12ada4ff",
   "metadata": {},
   "source": [
    "# Depuración y reglas de optimización de código.\n",
    "\n",
    "## Autor: Victor Simo Lozano\n",
    "\n",
    "## Actividad 1\n",
    "<p>Realizar un programa en el que dada una lista de numeros [3, 4, 8, 5, 5, 22, 13] se devuelva los numeros primos.</p>\n",
    "<p>Para ello, se empleará la función <b>filter</b> así como compresión de listas.</p>\n",
    "    \n",
    "\n",
    "<hr style=\"border-color:red\">"
   ]
  },
  {
   "cell_type": "markdown",
   "id": "e1f6887a",
   "metadata": {},
   "source": [
    "<h3>SOLUCION</h3>"
   ]
  },
  {
   "cell_type": "markdown",
   "id": "b543a0fc",
   "metadata": {},
   "source": [
    "<div style=\"font-size:14px; text-align:justify\"><b>1.-</b><br>\n",
    "    <p>Se crea la función <b>primos</b> con la que se calcula si dado un número, este es primo o no."
   ]
  },
  {
   "cell_type": "code",
   "execution_count": 1,
   "id": "dc84390d",
   "metadata": {},
   "outputs": [],
   "source": [
    "'''\n",
    "Un numero primo es aquel que es mayor a 1 y \n",
    "divisble únicamente entre 1 y el mismo.\n",
    "'''\n",
    "\n",
    "def Primo(x):\n",
    "    if x > 1:\n",
    "        primo = True\n",
    "        n = 2\n",
    "        while primo and n<x:\n",
    "            if x % n == 0:\n",
    "                primo = False\n",
    "            n += 1\n",
    "    else:\n",
    "        primo = False\n",
    "        \n",
    "    return primo\n"
   ]
  },
  {
   "cell_type": "markdown",
   "id": "02b4e0e4",
   "metadata": {},
   "source": [
    "<div style=\"font-size:14px; text-align:justify\"><b>2.-</b><br>\n",
    "    <p>Mediante la función <b>filter</b>, pasamos a la funcion <b>Primo</b> definida previamente. Esta función <b>filter</b> reornará una lista con aquellos valores que <b>Primo</b> los ha reotnado como <b>True</b>."
   ]
  },
  {
   "cell_type": "code",
   "execution_count": 2,
   "id": "51f9ee61",
   "metadata": {},
   "outputs": [
    {
     "name": "stdout",
     "output_type": "stream",
     "text": [
      "[3, 5, 5, 13]\n"
     ]
    }
   ],
   "source": [
    "numeros = [3, 4, 8, 5, 5, 22, 13]\n",
    "\n",
    "primos = list(filter(Primo, numeros))\n",
    "\n",
    "print(primos)"
   ]
  },
  {
   "cell_type": "markdown",
   "id": "67f43059",
   "metadata": {},
   "source": [
    "<div style=\"font-size:12px; text-align:justify\">\n",
    "    <p><i><b>Nota:</b><br>\n",
    "        La función <b>filter (function, iterable)</b> funciona del modo en que, partiendo de una funcion definida, en nuestro caso Primo, recorre un iterable de Python, en nuestro caso la lista numeros, y almacena en en forma de lista mediante <b>list()</b> aquellos valores que han retornado True en la función.\n",
    "   </div>"
   ]
  }
 ],
 "metadata": {
  "kernelspec": {
   "display_name": "Python 3 (ipykernel)",
   "language": "python",
   "name": "python3"
  },
  "language_info": {
   "codemirror_mode": {
    "name": "ipython",
    "version": 3
   },
   "file_extension": ".py",
   "mimetype": "text/x-python",
   "name": "python",
   "nbconvert_exporter": "python",
   "pygments_lexer": "ipython3",
   "version": "3.9.6"
  }
 },
 "nbformat": 4,
 "nbformat_minor": 5
}
