{
 "cells": [
  {
   "cell_type": "markdown",
   "id": "e34c1066",
   "metadata": {},
   "source": [
    "# Desarrollo guiado por pruebas\n",
    "\n",
    "## Autor: Victor Simo Lozano\n",
    "\n",
    "## Actividad 2\n",
    "En base al archivo .py de la actividad anterior, ejecutar una serie de test a las funciones del mismo.\n",
    "\n",
    "<p style=\"font-size:12px\"><i><b>Nota:</b> Para la realización de los test, se ha modificado el archivo original de modo que este incluya las funciones necesarias para realizar la práctica.</i></p>"
   ]
  },
  {
   "cell_type": "markdown",
   "id": "374a09c3",
   "metadata": {},
   "source": [
    "<hr style=\"border-color:red\">\n",
    "<h3>CONTENIDO</h3>\n",
    "\n",
    "<p>Implementar un conjunto de test unitarios para validar las funciones que implementó en la actividad anterior. <br>Para desarrollar este conjunto de tests puede hacer uso de la herramienta unittest o pytest.</p>\n"
   ]
  },
  {
   "cell_type": "markdown",
   "id": "974d834b",
   "metadata": {},
   "source": [
    "<h3>SOLUCION</h3> "
   ]
  },
  {
   "cell_type": "markdown",
   "id": "37c0fe62",
   "metadata": {},
   "source": [
    "<p style=\"font-size:14px\"><b>1.-</b><br>\n",
    "    Importamos la libreria para los test asi como las funciones de la práctica 1 a evaluar.</p>"
   ]
  },
  {
   "cell_type": "code",
   "execution_count": 1,
   "id": "30c6e25b",
   "metadata": {},
   "outputs": [],
   "source": [
    "import os\n",
    "import sys\n",
    "\n",
    "funcPath = os.path.abspath(os.path.join('..'))\n",
    "if funcPath not in sys.path:\n",
    "    sys.path.append(funcPath)"
   ]
  },
  {
   "cell_type": "code",
   "execution_count": 2,
   "id": "91e42398",
   "metadata": {
    "scrolled": false
   },
   "outputs": [
    {
     "name": "stdout",
     "output_type": "stream",
     "text": [
      "COMPROBACIONES: \n",
      "En curso...\n",
      "CheckDataLength...\n",
      "... finished.\n",
      "\n",
      "CheckEmpty...\n",
      "... finished.\n",
      "\n",
      "CheckValues...\n",
      "Atención! El valor \"'-541'\" del mes de Enero no se ha convertido a valor numerico.\n",
      "Introduzca un nuevo valor o 0 si lo descarta: -541\n",
      "\n",
      "\n",
      "Atención! El valor \"'-602'\" del mes de Julio no se ha convertido a valor numerico.\n",
      "Introduzca un nuevo valor o 0 si lo descarta: -602\n",
      "\n",
      "\n",
      "Atención! El valor \"bug\" del mes de Septiembre no se ha convertido a valor numerico.\n",
      "Introduzca un nuevo valor o 0 si lo descarta: 0\n",
      "\n",
      "\n",
      "Atención! El valor \"ups\" del mes de Octubre no se ha convertido a valor numerico.\n",
      "Introduzca un nuevo valor o 0 si lo descarta: 0\n",
      "\n",
      "\n",
      "Atención! El valor \"'00'\" del mes de Noviembre no se ha convertido a valor numerico.\n",
      "Introduzca un nuevo valor o 0 si lo descarta: 0\n",
      "\n",
      "\n",
      "... finished.\n",
      "\n",
      "... COMPROBACIONES DONE.\n"
     ]
    }
   ],
   "source": [
    "import unittest\n",
    "\n",
    "# Try en la importacion al tratarse de un modulo susceptible de errores en .csv que este trabaja.\n",
    "try:\n",
    "    from Actividad_Control_Gastos import MayorGasto, MayorAhorro, \\\n",
    "        CheckDataLength, CheckEmpty, CheckValues\n",
    "except Exception as e:\n",
    "    print(f'Import Error: {e}')"
   ]
  },
  {
   "cell_type": "markdown",
   "id": "20ad1900",
   "metadata": {},
   "source": [
    "<p style=\"font-size:12px\"><i><b>Nota:</b><br>La libreria escogida para el desarrollo de test es \"unittest\" como se observa.<br>Debido a que el modulo de la actividad 1 ejecuta una serie de checks debido a que es susceptible al contenido del .csv que este emplea, durante su importacion se observa dichos checks.<b>No se trata de ninguna clase de test</b></i></p>"
   ]
  },
  {
   "cell_type": "markdown",
   "id": "64a6bf80",
   "metadata": {},
   "source": [
    "<p style=\"font-size:14px\"><b>2.-</b><br>\n",
    "    Creacion de la clase test y definicion de estos.</p>"
   ]
  },
  {
   "cell_type": "code",
   "execution_count": 3,
   "id": "25e7e1d4",
   "metadata": {},
   "outputs": [
    {
     "name": "stderr",
     "output_type": "stream",
     "text": [
      "test_Ahorro (__main__.TestClass)\n",
      "Test para comprobar el mes de mayor ahorro. ... ok\n",
      "test_CheckEmpty (__main__.TestClass)\n",
      "Test para comprobar que todas las columnas poseen datos. ... ok\n",
      "test_CheckLength (__main__.TestClass)\n",
      "Test para comprobar el numero de columnas de nuestro set de datos. ... ok\n",
      "test_Gasto (__main__.TestClass)\n",
      "Test para comprobar que el mes de mayor gasto. ... ok\n",
      "test_Values (__main__.TestClass) ... ok\n",
      "\n",
      "----------------------------------------------------------------------\n",
      "Ran 5 tests in 0.082s\n",
      "\n",
      "OK\n"
     ]
    },
    {
     "data": {
      "text/plain": [
       "<unittest.main.TestProgram at 0x221f6f6d610>"
      ]
     },
     "execution_count": 3,
     "metadata": {},
     "output_type": "execute_result"
    }
   ],
   "source": [
    "# De acuerdo con documentación de unittest, creacion de la clase de test que hereda de unittest.TestCase\n",
    "\n",
    "# Dada la posibilidad de error de importación, ejecutamos un try en cada evaluacion de test\n",
    "# para evitar una interrupción en nuestro código si nuestra funcion no existe mediante la excepción \"NameError\".\n",
    "# En el caso de excepción, decimos al usuario que hay un error y hacemos fallar nuestro test.\n",
    "\n",
    "\n",
    "class TestClass(unittest.TestCase):\n",
    "    def test_Gasto(self):\n",
    "        ''' Test para comprobar que el mes de mayor gasto.'''\n",
    "        try:\n",
    "            # Evaluacion de igualdad entre nuestra función y el resultado que esperamos \"Abril\"\n",
    "            self.assertEqual(MayorGasto(), 'Abril')\n",
    "        except NameError:\n",
    "            print('Error testing function.')\n",
    "            self.fail()\n",
    "\n",
    "    def test_Ahorro(self):\n",
    "        '''Test para comprobar el mes de mayor ahorro.'''\n",
    "        try:\n",
    "            # Evualuacion de igualdad entre nuestra función y el resultado que esperamos \"Enero\"\n",
    "            self.assertEqual(MayorAhorro(), 'Enero')\n",
    "        except NameError:\n",
    "            print('Error testing function.')\n",
    "            self.fail()\n",
    "\n",
    "    def test_CheckLength(self):\n",
    "        '''Test para comprobar el numero de columnas de nuestro set de datos.'''\n",
    "        try:\n",
    "            # Evaluación de igualdad entre el numero de columnas de nuestro set y el numero de meses.\n",
    "            self.assertEqual(CheckDataLength(), 12)\n",
    "        except NameError:\n",
    "            print('Error testing function.')\n",
    "            self.fail()\n",
    "\n",
    "    def test_CheckEmpty(self):\n",
    "        '''Test para comprobar que todas las columnas poseen datos.'''\n",
    "        try:\n",
    "            # Evaluación de la diferencia entre nuestra función y el resultado esperado. Si nuestra función no retorna\n",
    "            # \"Sucess\" saltará una excepción\n",
    "            self.assertFalse(CheckEmpty() != 'Success')\n",
    "        except NameError:\n",
    "            print('Error testing function.')\n",
    "            self.fail()\n",
    "\n",
    "    def test_Values(self):\n",
    "        try:\n",
    "            self.assertFalse(CheckValues() != 'Success')\n",
    "        except NameError:\n",
    "            print('Error testing function.')\n",
    "            self.fail()\n",
    "            \n",
    "\n",
    "unittest.main(argv=[''], verbosity=2, exit=False)"
   ]
  }
 ],
 "metadata": {
  "kernelspec": {
   "display_name": "Python 3 (ipykernel)",
   "language": "python",
   "name": "python3"
  },
  "language_info": {
   "codemirror_mode": {
    "name": "ipython",
    "version": 3
   },
   "file_extension": ".py",
   "mimetype": "text/x-python",
   "name": "python",
   "nbconvert_exporter": "python",
   "pygments_lexer": "ipython3",
   "version": "3.9.6"
  }
 },
 "nbformat": 4,
 "nbformat_minor": 5
}
