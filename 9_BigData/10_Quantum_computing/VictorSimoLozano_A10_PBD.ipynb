{
 "cells": [
  {
   "cell_type": "markdown",
   "metadata": {
    "tags": []
   },
   "source": [
    "# Programación Big Data.\n",
    "\n",
    "## Autor: Victor Simo Lozano\n",
    "\n",
    "## Actividad 10\n",
    "<p>Quantum computing.</p>\n",
    "    \n",
    "\n",
    "<hr style=\"border-color:red\">"
   ]
  },
  {
   "cell_type": "markdown",
   "metadata": {},
   "source": [
    " "
   ]
  },
  {
   "cell_type": "markdown",
   "metadata": {},
   "source": [
    " "
   ]
  },
  {
   "cell_type": "markdown",
   "metadata": {},
   "source": [
    "<div style=\"font-size:14px; text-align:justify\"><b>PRIMERA PARTE.-</b><br></div>"
   ]
  },
  {
   "cell_type": "markdown",
   "metadata": {},
   "source": [
    "Desarrollar ciruito cuantico con **Qiskit**"
   ]
  },
  {
   "cell_type": "markdown",
   "metadata": {},
   "source": [
    "<div style=\"font-size:14px; text-align:justify\"><b>1: </b>Importación de librería.</div>"
   ]
  },
  {
   "cell_type": "code",
   "execution_count": 1,
   "metadata": {
    "execution": {
     "iopub.execute_input": "2022-07-14T17:56:21.332073Z",
     "iopub.status.busy": "2022-07-14T17:56:21.331542Z",
     "iopub.status.idle": "2022-07-14T17:56:21.338699Z",
     "shell.execute_reply": "2022-07-14T17:56:21.337633Z",
     "shell.execute_reply.started": "2022-07-14T17:56:21.331954Z"
    }
   },
   "outputs": [],
   "source": [
    "# !pip install qiskit\n",
    "# !pip install pylatexenc"
   ]
  },
  {
   "cell_type": "code",
   "execution_count": 2,
   "metadata": {
    "execution": {
     "iopub.execute_input": "2022-07-14T17:56:21.342429Z",
     "iopub.status.busy": "2022-07-14T17:56:21.341679Z",
     "iopub.status.idle": "2022-07-14T17:56:21.848032Z",
     "shell.execute_reply": "2022-07-14T17:56:21.847050Z",
     "shell.execute_reply.started": "2022-07-14T17:56:21.342384Z"
    },
    "tags": []
   },
   "outputs": [],
   "source": [
    "import qiskit as qk"
   ]
  },
  {
   "cell_type": "markdown",
   "metadata": {},
   "source": [
    "<div style=\"font-size:14px; text-align:justify\"><b>2: </b>Version de qiskit empleada.</div>"
   ]
  },
  {
   "cell_type": "code",
   "execution_count": 3,
   "metadata": {
    "execution": {
     "iopub.execute_input": "2022-07-14T17:56:21.850488Z",
     "iopub.status.busy": "2022-07-14T17:56:21.849715Z",
     "iopub.status.idle": "2022-07-14T17:56:22.141427Z",
     "shell.execute_reply": "2022-07-14T17:56:22.139972Z",
     "shell.execute_reply.started": "2022-07-14T17:56:21.850434Z"
    }
   },
   "outputs": [
    {
     "data": {
      "text/plain": [
       "{'qiskit-terra': '0.21.0', 'qiskit-aer': '0.10.4', 'qiskit-ignis': None, 'qiskit-ibmq-provider': '0.19.2', 'qiskit': '0.37.0', 'qiskit-nature': None, 'qiskit-finance': None, 'qiskit-optimization': None, 'qiskit-machine-learning': None}"
      ]
     },
     "execution_count": 3,
     "metadata": {},
     "output_type": "execute_result"
    }
   ],
   "source": [
    "qk.__qiskit_version__"
   ]
  },
  {
   "cell_type": "code",
   "execution_count": 4,
   "metadata": {
    "execution": {
     "iopub.execute_input": "2022-07-14T17:56:22.143393Z",
     "iopub.status.busy": "2022-07-14T17:56:22.143016Z",
     "iopub.status.idle": "2022-07-14T17:56:22.151894Z",
     "shell.execute_reply": "2022-07-14T17:56:22.149966Z",
     "shell.execute_reply.started": "2022-07-14T17:56:22.143355Z"
    },
    "tags": []
   },
   "outputs": [
    {
     "name": "stdout",
     "output_type": "stream",
     "text": [
      "qiskit-terra 0.21.0\n",
      "qiskit-aer 0.10.4\n",
      "qiskit-ignis None\n",
      "qiskit-ibmq-provider 0.19.2\n",
      "qiskit 0.37.0\n",
      "qiskit-nature None\n",
      "qiskit-finance None\n",
      "qiskit-optimization None\n",
      "qiskit-machine-learning None\n"
     ]
    }
   ],
   "source": [
    "for element, version in qk.__qiskit_version__.items():\n",
    "    print(element, version)"
   ]
  },
  {
   "cell_type": "code",
   "execution_count": 5,
   "metadata": {
    "execution": {
     "iopub.execute_input": "2022-07-14T17:56:22.157694Z",
     "iopub.status.busy": "2022-07-14T17:56:22.155597Z",
     "iopub.status.idle": "2022-07-14T17:56:22.164989Z",
     "shell.execute_reply": "2022-07-14T17:56:22.163677Z",
     "shell.execute_reply.started": "2022-07-14T17:56:22.157616Z"
    },
    "tags": []
   },
   "outputs": [
    {
     "name": "stdout",
     "output_type": "stream",
     "text": [
      "('qiskit-terra', '0.21.0')\n",
      "('qiskit-aer', '0.10.4')\n",
      "('qiskit-ignis', None)\n",
      "('qiskit-ibmq-provider', '0.19.2')\n",
      "('qiskit', '0.37.0')\n",
      "('qiskit-nature', None)\n",
      "('qiskit-finance', None)\n",
      "('qiskit-optimization', None)\n",
      "('qiskit-machine-learning', None)\n"
     ]
    }
   ],
   "source": [
    "for version in qk.__qiskit_version__.items():\n",
    "    print(version)"
   ]
  },
  {
   "cell_type": "markdown",
   "metadata": {},
   "source": [
    "<div style=\"font-size:14px; text-align:justify\"><b>3: </b>Crear un circuito ejemplo.</div>"
   ]
  },
  {
   "cell_type": "code",
   "execution_count": 6,
   "metadata": {
    "execution": {
     "iopub.execute_input": "2022-07-14T17:56:22.169316Z",
     "iopub.status.busy": "2022-07-14T17:56:22.168875Z",
     "iopub.status.idle": "2022-07-14T17:56:22.183766Z",
     "shell.execute_reply": "2022-07-14T17:56:22.182686Z",
     "shell.execute_reply.started": "2022-07-14T17:56:22.169283Z"
    },
    "tags": []
   },
   "outputs": [
    {
     "data": {
      "text/plain": [
       "QuantumRegister(2, 'q0')"
      ]
     },
     "execution_count": 6,
     "metadata": {},
     "output_type": "execute_result"
    }
   ],
   "source": [
    "# Registro cuantico de 2 qubits\n",
    "qr = qk.QuantumRegister(2)\n",
    "qr"
   ]
  },
  {
   "cell_type": "code",
   "execution_count": 7,
   "metadata": {
    "execution": {
     "iopub.execute_input": "2022-07-14T17:56:22.185245Z",
     "iopub.status.busy": "2022-07-14T17:56:22.184906Z",
     "iopub.status.idle": "2022-07-14T17:56:22.198878Z",
     "shell.execute_reply": "2022-07-14T17:56:22.197145Z",
     "shell.execute_reply.started": "2022-07-14T17:56:22.185213Z"
    }
   },
   "outputs": [
    {
     "data": {
      "text/plain": [
       "ClassicalRegister(2, 'c0')"
      ]
     },
     "execution_count": 7,
     "metadata": {},
     "output_type": "execute_result"
    }
   ],
   "source": [
    "# Registro clasico de 2 bits\n",
    "cr = qk.ClassicalRegister(2)\n",
    "cr"
   ]
  },
  {
   "cell_type": "code",
   "execution_count": 8,
   "metadata": {
    "execution": {
     "iopub.execute_input": "2022-07-14T17:56:22.200982Z",
     "iopub.status.busy": "2022-07-14T17:56:22.200419Z",
     "iopub.status.idle": "2022-07-14T17:56:22.213265Z",
     "shell.execute_reply": "2022-07-14T17:56:22.212305Z",
     "shell.execute_reply.started": "2022-07-14T17:56:22.200932Z"
    }
   },
   "outputs": [
    {
     "data": {
      "text/plain": [
       "<qiskit.circuit.quantumcircuit.QuantumCircuit at 0x7f6570a6e9d0>"
      ]
     },
     "execution_count": 8,
     "metadata": {},
     "output_type": "execute_result"
    }
   ],
   "source": [
    "# Contruccion del circuito\n",
    "circuit = qk.QuantumCircuit(qr,cr)\n",
    "circuit"
   ]
  },
  {
   "cell_type": "markdown",
   "metadata": {},
   "source": [
    "<div style=\"font-size:14px; text-align:justify\"><b>4: </b>Representar el circuito.</div>"
   ]
  },
  {
   "cell_type": "code",
   "execution_count": 9,
   "metadata": {
    "execution": {
     "iopub.execute_input": "2022-07-14T17:56:22.216063Z",
     "iopub.status.busy": "2022-07-14T17:56:22.215040Z",
     "iopub.status.idle": "2022-07-14T17:56:22.230026Z",
     "shell.execute_reply": "2022-07-14T17:56:22.228546Z",
     "shell.execute_reply.started": "2022-07-14T17:56:22.215996Z"
    }
   },
   "outputs": [],
   "source": [
    "%matplotlib inline"
   ]
  },
  {
   "cell_type": "code",
   "execution_count": 10,
   "metadata": {
    "execution": {
     "iopub.execute_input": "2022-07-14T17:56:22.232428Z",
     "iopub.status.busy": "2022-07-14T17:56:22.231929Z",
     "iopub.status.idle": "2022-07-14T17:56:22.275567Z",
     "shell.execute_reply": "2022-07-14T17:56:22.273772Z",
     "shell.execute_reply.started": "2022-07-14T17:56:22.232381Z"
    }
   },
   "outputs": [
    {
     "data": {
      "text/html": [
       "<pre style=\"word-wrap: normal;white-space: pre;background: #fff0;line-height: 1.1;font-family: &quot;Courier New&quot;,Courier,monospace\">      \n",
       "q0_0: \n",
       "      \n",
       "q0_1: \n",
       "      \n",
       "c0: 2/\n",
       "      </pre>"
      ],
      "text/plain": [
       "      \n",
       "q0_0: \n",
       "      \n",
       "q0_1: \n",
       "      \n",
       "c0: 2/\n",
       "      "
      ]
     },
     "execution_count": 10,
     "metadata": {},
     "output_type": "execute_result"
    }
   ],
   "source": [
    "circuit.draw()"
   ]
  },
  {
   "cell_type": "markdown",
   "metadata": {},
   "source": [
    "<div style=\"font-size:14px; text-align:justify\"><b>5: </b>Puertas lógicas cuánticas.</div>"
   ]
  },
  {
   "cell_type": "code",
   "execution_count": 11,
   "metadata": {
    "execution": {
     "iopub.execute_input": "2022-07-14T17:56:22.281803Z",
     "iopub.status.busy": "2022-07-14T17:56:22.280963Z",
     "iopub.status.idle": "2022-07-14T17:56:22.291497Z",
     "shell.execute_reply": "2022-07-14T17:56:22.290263Z",
     "shell.execute_reply.started": "2022-07-14T17:56:22.281763Z"
    }
   },
   "outputs": [
    {
     "data": {
      "text/plain": [
       "<qiskit.circuit.instructionset.InstructionSet at 0x7f6570986f10>"
      ]
     },
     "execution_count": 11,
     "metadata": {},
     "output_type": "execute_result"
    }
   ],
   "source": [
    "# Aplicar puerta de Hadamard al 1er qubit, obteniendo la superposicion al cambiar de valor el qubit\n",
    "circuit.h(qr[0])"
   ]
  },
  {
   "cell_type": "code",
   "execution_count": 12,
   "metadata": {
    "execution": {
     "iopub.execute_input": "2022-07-14T17:56:22.293895Z",
     "iopub.status.busy": "2022-07-14T17:56:22.292959Z",
     "iopub.status.idle": "2022-07-14T17:56:22.663866Z",
     "shell.execute_reply": "2022-07-14T17:56:22.662528Z",
     "shell.execute_reply.started": "2022-07-14T17:56:22.293852Z"
    }
   },
   "outputs": [
    {
     "data": {
      "image/png": "[encoded data removed]",
      "text/plain": [
       "<Figure size 159.633x204.68 with 1 Axes>"
      ]
     },
     "execution_count": 12,
     "metadata": {},
     "output_type": "execute_result"
    }
   ],
   "source": [
    "# Modelo del circuito impreso de forma diferente, más visual\n",
    "circuit.draw(output='mpl')"
   ]
  },
  {
   "cell_type": "code",
   "execution_count": 13,
   "metadata": {
    "execution": {
     "iopub.execute_input": "2022-07-14T17:56:22.666003Z",
     "iopub.status.busy": "2022-07-14T17:56:22.665551Z",
     "iopub.status.idle": "2022-07-14T17:56:22.675152Z",
     "shell.execute_reply": "2022-07-14T17:56:22.673835Z",
     "shell.execute_reply.started": "2022-07-14T17:56:22.665945Z"
    }
   },
   "outputs": [
    {
     "data": {
      "text/plain": [
       "<qiskit.circuit.instructionset.InstructionSet at 0x7f6570681fd0>"
      ]
     },
     "execution_count": 13,
     "metadata": {},
     "output_type": "execute_result"
    }
   ],
   "source": [
    "# Añadir una Controled Gate.\n",
    "# Qubit de control 0, target 1\n",
    "circuit.cx(qr[0],qr[1])"
   ]
  },
  {
   "cell_type": "code",
   "execution_count": 14,
   "metadata": {
    "execution": {
     "iopub.execute_input": "2022-07-14T17:56:22.677640Z",
     "iopub.status.busy": "2022-07-14T17:56:22.677125Z",
     "iopub.status.idle": "2022-07-14T17:56:22.865948Z",
     "shell.execute_reply": "2022-07-14T17:56:22.864709Z",
     "shell.execute_reply.started": "2022-07-14T17:56:22.677593Z"
    }
   },
   "outputs": [
    {
     "data": {
      "image/png": "[encoded data removed]",
      "text/plain": [
       "<Figure size 219.833x204.68 with 1 Axes>"
      ]
     },
     "execution_count": 14,
     "metadata": {},
     "output_type": "execute_result"
    }
   ],
   "source": [
    "circuit.draw(output='mpl')"
   ]
  },
  {
   "cell_type": "code",
   "execution_count": 15,
   "metadata": {
    "execution": {
     "iopub.execute_input": "2022-07-14T17:56:22.867725Z",
     "iopub.status.busy": "2022-07-14T17:56:22.867374Z",
     "iopub.status.idle": "2022-07-14T17:56:22.875853Z",
     "shell.execute_reply": "2022-07-14T17:56:22.874557Z",
     "shell.execute_reply.started": "2022-07-14T17:56:22.867694Z"
    }
   },
   "outputs": [
    {
     "data": {
      "text/plain": [
       "<qiskit.circuit.instructionset.InstructionSet at 0x7f6570742d90>"
      ]
     },
     "execution_count": 15,
     "metadata": {},
     "output_type": "execute_result"
    }
   ],
   "source": [
    "# Realizar las mediciones de circuito cuántico\n",
    "# Para poder conculir un experimento cuántico, se necesita medir los bits para poder obtener la información del estado concreto.\n",
    "circuit.measure(qr,cr)"
   ]
  },
  {
   "cell_type": "code",
   "execution_count": 16,
   "metadata": {
    "execution": {
     "iopub.execute_input": "2022-07-14T17:56:22.878338Z",
     "iopub.status.busy": "2022-07-14T17:56:22.877656Z",
     "iopub.status.idle": "2022-07-14T17:56:23.101227Z",
     "shell.execute_reply": "2022-07-14T17:56:23.099873Z",
     "shell.execute_reply.started": "2022-07-14T17:56:22.878291Z"
    }
   },
   "outputs": [
    {
     "data": {
      "image/png": "[encoded data removed]",
      "text/plain": [
       "<Figure size 340.233x204.68 with 1 Axes>"
      ]
     },
     "execution_count": 16,
     "metadata": {},
     "output_type": "execute_result"
    }
   ],
   "source": [
    "circuit.draw(output='mpl')"
   ]
  },
  {
   "cell_type": "markdown",
   "metadata": {},
   "source": [
    "<div style=\"font-size:14px; text-align:justify\"><b>6.1: </b>Ejecución del circuito en nuestra máquina.</div>"
   ]
  },
  {
   "cell_type": "code",
   "execution_count": 17,
   "metadata": {
    "execution": {
     "iopub.execute_input": "2022-07-14T17:56:23.105375Z",
     "iopub.status.busy": "2022-07-14T17:56:23.103710Z",
     "iopub.status.idle": "2022-07-14T17:56:23.118025Z",
     "shell.execute_reply": "2022-07-14T17:56:23.116998Z",
     "shell.execute_reply.started": "2022-07-14T17:56:23.105322Z"
    }
   },
   "outputs": [
    {
     "data": {
      "text/plain": [
       "QasmSimulator('qasm_simulator')"
      ]
     },
     "execution_count": 17,
     "metadata": {},
     "output_type": "execute_result"
    }
   ],
   "source": [
    "backed_simulator = qk.Aer.get_backend('qasm_simulator')\n",
    "backed_simulator"
   ]
  },
  {
   "cell_type": "code",
   "execution_count": 18,
   "metadata": {
    "execution": {
     "iopub.execute_input": "2022-07-14T17:56:23.120737Z",
     "iopub.status.busy": "2022-07-14T17:56:23.119695Z",
     "iopub.status.idle": "2022-07-14T17:56:23.146343Z",
     "shell.execute_reply": "2022-07-14T17:56:23.144892Z",
     "shell.execute_reply.started": "2022-07-14T17:56:23.120684Z"
    }
   },
   "outputs": [
    {
     "data": {
      "text/plain": [
       "<qiskit.providers.aer.jobs.aerjob.AerJob at 0x7f65706f0ad0>"
      ]
     },
     "execution_count": 18,
     "metadata": {},
     "output_type": "execute_result"
    }
   ],
   "source": [
    "job_simulator = qk.execute(circuit,backend=backed_simulator)\n",
    "job_simulator"
   ]
  },
  {
   "cell_type": "code",
   "execution_count": 19,
   "metadata": {
    "execution": {
     "iopub.execute_input": "2022-07-14T17:56:23.149148Z",
     "iopub.status.busy": "2022-07-14T17:56:23.147909Z",
     "iopub.status.idle": "2022-07-14T17:56:23.156698Z",
     "shell.execute_reply": "2022-07-14T17:56:23.155232Z",
     "shell.execute_reply.started": "2022-07-14T17:56:23.149098Z"
    }
   },
   "outputs": [
    {
     "data": {
      "text/plain": [
       "Result(backend_name='qasm_simulator', backend_version='0.10.4', qobj_id='6dcec826-f24f-46f7-bd7a-ba20416aea93', job_id='983a6f2f-7fbf-4c1e-94df-fb6d7127146a', success=True, results=[ExperimentResult(shots=1024, success=True, meas_level=2, data=ExperimentResultData(counts={'0x3': 519, '0x0': 505}), header=QobjExperimentHeader(clbit_labels=[['c0', 0], ['c0', 1]], creg_sizes=[['c0', 2]], global_phase=0.0, memory_slots=2, metadata={}, n_qubits=2, name='circuit-80', qreg_sizes=[['q0', 2]], qubit_labels=[['q0', 0], ['q0', 1]]), status=DONE, seed_simulator=3987715964, metadata={'parallel_state_update': 4, 'noise': 'ideal', 'batched_shots_optimization': False, 'measure_sampling': True, 'device': 'CPU', 'num_qubits': 2, 'parallel_shots': 1, 'remapped_qubits': False, 'method': 'stabilizer', 'active_input_qubits': [0, 1], 'num_clbits': 2, 'input_qubit_map': [[1, 1], [0, 0]], 'fusion': {'enabled': False}}, time_taken=0.003101953)], date=2022-07-14T17:56:23.139599, status=COMPLETED, header=QobjHeader(backend_name='qasm_simulator', backend_version='0.10.4'), metadata={'time_taken': 0.003387859, 'time_taken_execute': 0.003146888, 'parallel_experiments': 1, 'omp_enabled': True, 'max_gpu_memory_mb': 0, 'num_mpi_processes': 1, 'time_taken_load_qobj': 0.000229196, 'max_memory_mb': 18000, 'mpi_rank': 0}, time_taken=0.0036461353302001953)"
      ]
     },
     "execution_count": 19,
     "metadata": {},
     "output_type": "execute_result"
    }
   ],
   "source": [
    "result = job_simulator.result()\n",
    "result"
   ]
  },
  {
   "cell_type": "code",
   "execution_count": 20,
   "metadata": {
    "execution": {
     "iopub.execute_input": "2022-07-14T17:56:23.159615Z",
     "iopub.status.busy": "2022-07-14T17:56:23.158700Z",
     "iopub.status.idle": "2022-07-14T17:56:23.169235Z",
     "shell.execute_reply": "2022-07-14T17:56:23.167983Z",
     "shell.execute_reply.started": "2022-07-14T17:56:23.159562Z"
    }
   },
   "outputs": [
    {
     "data": {
      "text/plain": [
       "'COMPLETED'"
      ]
     },
     "execution_count": 20,
     "metadata": {},
     "output_type": "execute_result"
    }
   ],
   "source": [
    "result.status"
   ]
  },
  {
   "cell_type": "code",
   "execution_count": 21,
   "metadata": {
    "execution": {
     "iopub.execute_input": "2022-07-14T17:56:23.172310Z",
     "iopub.status.busy": "2022-07-14T17:56:23.171865Z",
     "iopub.status.idle": "2022-07-14T17:56:23.181440Z",
     "shell.execute_reply": "2022-07-14T17:56:23.180543Z",
     "shell.execute_reply.started": "2022-07-14T17:56:23.172265Z"
    }
   },
   "outputs": [],
   "source": [
    "# Plotear histograma de resultado\n",
    "from qiskit.tools.visualization import plot_histogram"
   ]
  },
  {
   "cell_type": "code",
   "execution_count": 22,
   "metadata": {
    "execution": {
     "iopub.execute_input": "2022-07-14T17:56:23.183319Z",
     "iopub.status.busy": "2022-07-14T17:56:23.182798Z",
     "iopub.status.idle": "2022-07-14T17:56:23.334349Z",
     "shell.execute_reply": "2022-07-14T17:56:23.332395Z",
     "shell.execute_reply.started": "2022-07-14T17:56:23.183283Z"
    }
   },
   "outputs": [
    {
     "data": {
      "image/png": "[encoded data removed]",
      "text/plain": [
       "<Figure size 504x360 with 1 Axes>"
      ]
     },
     "execution_count": 22,
     "metadata": {},
     "output_type": "execute_result"
    }
   ],
   "source": [
    "plot_histogram(result.get_counts(circuit))"
   ]
  },
  {
   "cell_type": "markdown",
   "metadata": {},
   "source": [
    "<div style=\"font-size:14px; text-align:justify\"><b>6.2: </b>Ejecución del circuito en maquina cuántica IBM.</div>"
   ]
  },
  {
   "cell_type": "code",
   "execution_count": 23,
   "metadata": {
    "execution": {
     "iopub.execute_input": "2022-07-14T17:56:23.337811Z",
     "iopub.status.busy": "2022-07-14T17:56:23.337033Z",
     "iopub.status.idle": "2022-07-14T17:56:23.349146Z",
     "shell.execute_reply": "2022-07-14T17:56:23.344783Z",
     "shell.execute_reply.started": "2022-07-14T17:56:23.337746Z"
    }
   },
   "outputs": [],
   "source": [
    "from qiskit import IBMQ"
   ]
  },
  {
   "cell_type": "code",
   "execution_count": 24,
   "metadata": {
    "execution": {
     "iopub.execute_input": "2022-07-14T17:56:23.352869Z",
     "iopub.status.busy": "2022-07-14T17:56:23.351856Z",
     "iopub.status.idle": "2022-07-14T17:56:23.360733Z",
     "shell.execute_reply": "2022-07-14T17:56:23.359316Z",
     "shell.execute_reply.started": "2022-07-14T17:56:23.352813Z"
    },
    "tags": []
   },
   "outputs": [],
   "source": [
    "# Indicar nuestro token de IBM. Solo es necesario hacerlo la primra vez. Tras ejecutar todo y guardar,\n",
    "# esta permanecera vinculada.\n",
    "# IBMQ.save_account('')"
   ]
  },
  {
   "cell_type": "code",
   "execution_count": 25,
   "metadata": {
    "execution": {
     "iopub.execute_input": "2022-07-14T17:56:23.364028Z",
     "iopub.status.busy": "2022-07-14T17:56:23.363130Z",
     "iopub.status.idle": "2022-07-14T17:56:28.965821Z",
     "shell.execute_reply": "2022-07-14T17:56:28.964858Z",
     "shell.execute_reply.started": "2022-07-14T17:56:23.363975Z"
    }
   },
   "outputs": [
    {
     "name": "stderr",
     "output_type": "stream",
     "text": [
      "__init__.discover_credentials:INFO:2022-07-14 17:56:23,375: Using credentials from qiskitrc\n"
     ]
    },
    {
     "data": {
      "text/plain": [
       "<AccountProvider for IBMQ(hub='ibm-q', group='open', project='main')>"
      ]
     },
     "execution_count": 25,
     "metadata": {},
     "output_type": "execute_result"
    }
   ],
   "source": [
    "IBMQ.load_account()"
   ]
  },
  {
   "cell_type": "code",
   "execution_count": 26,
   "metadata": {
    "execution": {
     "iopub.execute_input": "2022-07-14T17:56:28.968405Z",
     "iopub.status.busy": "2022-07-14T17:56:28.967236Z",
     "iopub.status.idle": "2022-07-14T17:56:28.977316Z",
     "shell.execute_reply": "2022-07-14T17:56:28.976073Z",
     "shell.execute_reply.started": "2022-07-14T17:56:28.968364Z"
    }
   },
   "outputs": [
    {
     "data": {
      "text/plain": [
       "[<AccountProvider for IBMQ(hub='ibm-q', group='open', project='main')>]"
      ]
     },
     "execution_count": 26,
     "metadata": {},
     "output_type": "execute_result"
    }
   ],
   "source": [
    "IBMQ.providers()"
   ]
  },
  {
   "cell_type": "code",
   "execution_count": 27,
   "metadata": {
    "execution": {
     "iopub.execute_input": "2022-07-14T17:56:28.979405Z",
     "iopub.status.busy": "2022-07-14T17:56:28.978805Z",
     "iopub.status.idle": "2022-07-14T17:56:29.005720Z",
     "shell.execute_reply": "2022-07-14T17:56:29.003875Z",
     "shell.execute_reply.started": "2022-07-14T17:56:28.979356Z"
    }
   },
   "outputs": [
    {
     "data": {
      "text/plain": [
       "<AccountProvider for IBMQ(hub='ibm-q', group='open', project='main')>"
      ]
     },
     "execution_count": 27,
     "metadata": {},
     "output_type": "execute_result"
    }
   ],
   "source": [
    "provider = IBMQ.get_provider('ibm-q')\n",
    "provider"
   ]
  },
  {
   "cell_type": "code",
   "execution_count": 28,
   "metadata": {
    "execution": {
     "iopub.execute_input": "2022-07-14T17:56:29.007984Z",
     "iopub.status.busy": "2022-07-14T17:56:29.007200Z",
     "iopub.status.idle": "2022-07-14T17:56:29.022439Z",
     "shell.execute_reply": "2022-07-14T17:56:29.020154Z",
     "shell.execute_reply.started": "2022-07-14T17:56:29.007935Z"
    }
   },
   "outputs": [
    {
     "data": {
      "text/plain": [
       "[<IBMQSimulator('ibmq_qasm_simulator') from IBMQ(hub='ibm-q', group='open', project='main')>,\n",
       " <IBMQBackend('ibmq_lima') from IBMQ(hub='ibm-q', group='open', project='main')>,\n",
       " <IBMQBackend('ibmq_belem') from IBMQ(hub='ibm-q', group='open', project='main')>,\n",
       " <IBMQBackend('ibmq_quito') from IBMQ(hub='ibm-q', group='open', project='main')>,\n",
       " <IBMQSimulator('simulator_statevector') from IBMQ(hub='ibm-q', group='open', project='main')>,\n",
       " <IBMQSimulator('simulator_mps') from IBMQ(hub='ibm-q', group='open', project='main')>,\n",
       " <IBMQSimulator('simulator_extended_stabilizer') from IBMQ(hub='ibm-q', group='open', project='main')>,\n",
       " <IBMQSimulator('simulator_stabilizer') from IBMQ(hub='ibm-q', group='open', project='main')>,\n",
       " <IBMQBackend('ibmq_manila') from IBMQ(hub='ibm-q', group='open', project='main')>,\n",
       " <IBMQBackend('ibm_nairobi') from IBMQ(hub='ibm-q', group='open', project='main')>,\n",
       " <IBMQBackend('ibm_oslo') from IBMQ(hub='ibm-q', group='open', project='main')>]"
      ]
     },
     "execution_count": 28,
     "metadata": {},
     "output_type": "execute_result"
    }
   ],
   "source": [
    "provider.backends()"
   ]
  },
  {
   "cell_type": "code",
   "execution_count": 29,
   "metadata": {
    "execution": {
     "iopub.execute_input": "2022-07-14T17:56:29.030842Z",
     "iopub.status.busy": "2022-07-14T17:56:29.030428Z",
     "iopub.status.idle": "2022-07-14T17:56:29.039344Z",
     "shell.execute_reply": "2022-07-14T17:56:29.037541Z",
     "shell.execute_reply.started": "2022-07-14T17:56:29.030809Z"
    }
   },
   "outputs": [
    {
     "data": {
      "text/plain": [
       "<IBMQBackend('ibmq_manila') from IBMQ(hub='ibm-q', group='open', project='main')>"
      ]
     },
     "execution_count": 29,
     "metadata": {},
     "output_type": "execute_result"
    }
   ],
   "source": [
    "# Elegir el backend\n",
    "qcomp = provider.get_backend('ibmq_manila')\n",
    "qcomp"
   ]
  },
  {
   "cell_type": "code",
   "execution_count": 30,
   "metadata": {
    "execution": {
     "iopub.execute_input": "2022-07-14T17:56:29.042370Z",
     "iopub.status.busy": "2022-07-14T17:56:29.041557Z",
     "iopub.status.idle": "2022-07-14T17:56:32.795742Z",
     "shell.execute_reply": "2022-07-14T17:56:32.794597Z",
     "shell.execute_reply.started": "2022-07-14T17:56:29.042320Z"
    }
   },
   "outputs": [
    {
     "data": {
      "text/plain": [
       "<qiskit.providers.ibmq.job.ibmqjob.IBMQJob at 0x7f656654c8d0>"
      ]
     },
     "execution_count": 30,
     "metadata": {},
     "output_type": "execute_result"
    }
   ],
   "source": [
    "job = qk.execute(circuit, backend=qcomp)\n",
    "job"
   ]
  },
  {
   "cell_type": "code",
   "execution_count": 31,
   "metadata": {
    "execution": {
     "iopub.execute_input": "2022-07-14T17:56:32.798258Z",
     "iopub.status.busy": "2022-07-14T17:56:32.797158Z",
     "iopub.status.idle": "2022-07-14T17:56:32.804713Z",
     "shell.execute_reply": "2022-07-14T17:56:32.803456Z",
     "shell.execute_reply.started": "2022-07-14T17:56:32.798211Z"
    }
   },
   "outputs": [],
   "source": [
    "from qiskit.tools.monitor import job_monitor"
   ]
  },
  {
   "cell_type": "code",
   "execution_count": 32,
   "metadata": {
    "execution": {
     "iopub.execute_input": "2022-07-14T17:56:32.807061Z",
     "iopub.status.busy": "2022-07-14T17:56:32.806625Z",
     "iopub.status.idle": "2022-07-14T18:00:53.940008Z",
     "shell.execute_reply": "2022-07-14T18:00:53.938555Z",
     "shell.execute_reply.started": "2022-07-14T17:56:32.807017Z"
    }
   },
   "outputs": [
    {
     "name": "stdout",
     "output_type": "stream",
     "text": [
      "Job Status: job has successfully run\n"
     ]
    }
   ],
   "source": [
    "# Llevar a ejecutar a maquina cuántica fisica en IBM. Para ello existe una cola de computación.\n",
    "job_monitor(job)\n",
    "\n",
    "# 14 julio 19:23 -> Cola de 2"
   ]
  },
  {
   "attachments": {
    "d430ae77-d08c-4c9b-ae70-c00d07cf0f2b.png": {
     "image/png": "[encoded data removed]"
    }
   },
   "cell_type": "markdown",
   "metadata": {},
   "source": [
    "![image.png](attachment:d430ae77-d08c-4c9b-ae70-c00d07cf0f2b.png)\n",
    "\n",
    "Ejemplo de una de las ejecuciones realizadas durante la practica"
   ]
  },
  {
   "cell_type": "code",
   "execution_count": 33,
   "metadata": {
    "execution": {
     "iopub.execute_input": "2022-07-14T18:00:53.942288Z",
     "iopub.status.busy": "2022-07-14T18:00:53.941808Z",
     "iopub.status.idle": "2022-07-14T18:00:55.038627Z",
     "shell.execute_reply": "2022-07-14T18:00:55.036949Z",
     "shell.execute_reply.started": "2022-07-14T18:00:53.942241Z"
    }
   },
   "outputs": [
    {
     "data": {
      "text/plain": [
       "Result(backend_name='ibmq_manila', backend_version='1.0.34', qobj_id='0e4eb965-0036-4f40-95de-8657c8a03a04', job_id='62d058cf1e8b8ebd0a92819b', success=True, results=[ExperimentResult(shots=4000, success=True, meas_level=2, data=ExperimentResultData(counts={'0x0': 1683, '0x1': 255, '0x2': 289, '0x3': 1773}), header=QobjExperimentHeader(clbit_labels=[['c0', 0], ['c0', 1]], creg_sizes=[['c0', 2]], global_phase=0.7853981633974483, memory_slots=2, metadata={}, n_qubits=5, name='circuit-80', qreg_sizes=[['q', 5]], qubit_labels=[['q', 0], ['q', 1], ['q', 2], ['q', 3], ['q', 4]]))], date=2022-07-14 18:00:42+00:00, status=Successful completion, header=QobjHeader(backend_name='ibmq_manila', backend_version='1.0.34'), execution_id='dc821136-039e-11ed-8dd5-bc97e15b08d0', time_taken=6.457883358001709, error=None, client_version={'qiskit': '0.37.0'})"
      ]
     },
     "execution_count": 33,
     "metadata": {},
     "output_type": "execute_result"
    }
   ],
   "source": [
    "result = job.result()\n",
    "result"
   ]
  },
  {
   "cell_type": "code",
   "execution_count": 34,
   "metadata": {
    "execution": {
     "iopub.execute_input": "2022-07-14T18:00:55.040822Z",
     "iopub.status.busy": "2022-07-14T18:00:55.040180Z",
     "iopub.status.idle": "2022-07-14T18:00:55.168010Z",
     "shell.execute_reply": "2022-07-14T18:00:55.166575Z",
     "shell.execute_reply.started": "2022-07-14T18:00:55.040784Z"
    }
   },
   "outputs": [
    {
     "data": {
      "image/png": "[encoded data removed]",
      "text/plain": [
       "<Figure size 504x360 with 1 Axes>"
      ]
     },
     "execution_count": 34,
     "metadata": {},
     "output_type": "execute_result"
    }
   ],
   "source": [
    "plot_histogram(result.get_counts(circuit))"
   ]
  },
  {
   "attachments": {
    "8b08cc01-499e-4f5a-aedf-d88638d74353.png": {
     "image/png": "[encoded data removed]"
    }
   },
   "cell_type": "markdown",
   "metadata": {},
   "source": [
    "![image.png](attachment:8b08cc01-499e-4f5a-aedf-d88638d74353.png)\n",
    "\n",
    "Resultado de una ejecución en Maquina Cuantica IBM"
   ]
  }
 ],
 "metadata": {
  "kernelspec": {
   "display_name": "Python 3 (ipykernel)",
   "language": "python",
   "name": "python3"
  },
  "language_info": {
   "codemirror_mode": {
    "name": "ipython",
    "version": 3
   },
   "file_extension": ".py",
   "mimetype": "text/x-python",
   "name": "python",
   "nbconvert_exporter": "python",
   "pygments_lexer": "ipython3",
   "version": "3.8.5"
  }
 },
 "nbformat": 4,
 "nbformat_minor": 4
}
