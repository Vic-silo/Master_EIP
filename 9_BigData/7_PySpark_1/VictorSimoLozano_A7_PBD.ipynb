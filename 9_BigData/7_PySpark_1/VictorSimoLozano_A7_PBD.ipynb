{
 "cells": [
  {
   "cell_type": "markdown",
   "id": "9e22b0d8-61b2-419a-a106-179c6fabfb8c",
   "metadata": {
    "tags": []
   },
   "source": [
    "# Programación Big Data.\n",
    "\n",
    "## Autor: Victor Simo Lozano\n",
    "\n",
    "## Actividad 7\n",
    "<p>Spark Streaming y Teoría de Grafos.</p>\n",
    "    \n",
    "\n",
    "<hr style=\"border-color:red\">"
   ]
  },
  {
   "cell_type": "markdown",
   "id": "dc07a5c3-d17f-46d8-88e0-39fc0d81be93",
   "metadata": {},
   "source": [
    " "
   ]
  },
  {
   "cell_type": "markdown",
   "id": "45fbf348-aff7-4e64-b2a8-cd0fdd819cec",
   "metadata": {},
   "source": [
    " "
   ]
  },
  {
   "cell_type": "markdown",
   "id": "09a63903-91e0-44e3-8b3b-3e4bdc42a445",
   "metadata": {},
   "source": [
    "<div style=\"font-size:14px; text-align:justify\"><b>PRIMERA PARTE.-</b><br></div>"
   ]
  },
  {
   "cell_type": "markdown",
   "id": "feac27de-a2ea-4d60-bdc2-075e159cec02",
   "metadata": {},
   "source": [
    "Desarrollar el manual de modo que se compare los tiempos de instrucciones ejecutadas para Pandas/Vaex/Dask."
   ]
  },
  {
   "cell_type": "markdown",
   "id": "e5c66c28-4838-4804-9521-16762d36fcfe",
   "metadata": {},
   "source": [
    "Dado que se trabaja con un entorno virtual para la asignatura de Programacion para Big Data, primeramente se ha de añadir el directorio donde se encuentra las librerias instaladas y que se usará en esta y las siguientes prácticas"
   ]
  },
  {
   "cell_type": "code",
   "execution_count": 1,
   "id": "f60f351d-f0c4-4b5b-8fd1-d4aab39b6f24",
   "metadata": {
    "tags": []
   },
   "outputs": [],
   "source": [
    "import sys, os\n",
    "\n",
    "bigdata_env = os.getenv(\"BIGDATA_ENV\")\n",
    "sys.path.append(bigdata_env)"
   ]
  },
  {
   "cell_type": "code",
   "execution_count": 2,
   "id": "faa010fe-d786-4e6f-be32-4de0c1649bc5",
   "metadata": {
    "tags": []
   },
   "outputs": [],
   "source": [
    "# Crear diccionario que almacene los valores de diferencia de tiempos por cada ejercicio\n",
    "from datetime import datetime\n",
    "tiempos = {\n",
    "    'index':['import','read parquet','read csv', 'describe', 'values counts', 'shape', 'data'],\n",
    "    'pandas':[],\n",
    "    'dask':[],\n",
    "    'vaex':[]\n",
    "}"
   ]
  },
  {
   "cell_type": "markdown",
   "id": "1130129e-eef0-4555-902b-d348ddc2276c",
   "metadata": {},
   "source": [
    "<div style=\"font-size:14px; text-align:center\"><b>PANDAS</b><br></div>"
   ]
  },
  {
   "cell_type": "markdown",
   "id": "1a4effc0-9626-4418-b622-5e925c0df184",
   "metadata": {},
   "source": [
    "<div style=\"font-size:14px; text-align:justify\"><b>1: </b>Importación de librería.</div>"
   ]
  },
  {
   "cell_type": "code",
   "execution_count": 3,
   "id": "753c55f9-7e09-49e9-8207-e5b3fa8828de",
   "metadata": {
    "tags": []
   },
   "outputs": [
    {
     "name": "stdout",
     "output_type": "stream",
     "text": [
      "CPU times: total: 703 ms\n",
      "Wall time: 900 ms\n"
     ]
    }
   ],
   "source": [
    "%%time\n",
    "t0 = datetime.now()\n",
    "\n",
    "import pandas as pd\n",
    "\n",
    "t1 = datetime.now()\n",
    "tt =  t1 - t0\n",
    "\n",
    "tiempos['pandas'].append(tt.total_seconds())"
   ]
  },
  {
   "cell_type": "markdown",
   "id": "360a0405-437a-4465-9a02-d22a4674242b",
   "metadata": {},
   "source": [
    "<div style=\"font-size:14px; text-align:justify\"><b>2: </b>Importación del dataframe en formatos '.parquet' y '.csv'.</div>"
   ]
  },
  {
   "cell_type": "code",
   "execution_count": 4,
   "id": "089aca1d-c5f3-4cfb-bdb5-6a3897a93f5d",
   "metadata": {},
   "outputs": [
    {
     "name": "stdout",
     "output_type": "stream",
     "text": [
      "CPU times: total: 10.5 s\n",
      "Wall time: 2.41 s\n"
     ]
    }
   ],
   "source": [
    "%%time\n",
    "t0 = datetime.now()\n",
    "\n",
    "# Lectura del dataframe en formato .parquet\n",
    "df_pandas = pd.read_parquet('yellow_tripdata_2018-01.parquet')\n",
    "\n",
    "t1 = datetime.now()\n",
    "tt =  t1 - t0\n",
    "\n",
    "tiempos['pandas'].append(tt.total_seconds())"
   ]
  },
  {
   "cell_type": "code",
   "execution_count": 5,
   "id": "897304f6-d985-4cc6-b5a7-a818549d52a4",
   "metadata": {},
   "outputs": [
    {
     "name": "stdout",
     "output_type": "stream",
     "text": [
      "CPU times: total: 17.7 s\n",
      "Wall time: 17.7 s\n"
     ]
    }
   ],
   "source": [
    "%%time\n",
    "t0 = datetime.now()\n",
    "\n",
    "# Lectura del dataframe en formato .csv\n",
    "df_pandas = pd.read_csv('yellow_tripdata_2018-01.csv')\n",
    "\n",
    "t1 = datetime.now()\n",
    "tt =  t1 - t0\n",
    "\n",
    "tiempos['pandas'].append(tt.total_seconds())"
   ]
  },
  {
   "cell_type": "markdown",
   "id": "2df26576-b797-436e-90a6-335a37cd8023",
   "metadata": {},
   "source": [
    "La importación del archivo en **'.csv' ha tardado 20 s** mientras que en formato **'.parquet' 5 s**. Esta gran diferencia muestra lo ventajoso que es trabajar con este formato cuando hablamos de archivos de gran volumen de datos (**8.759.874 de datos**)."
   ]
  },
  {
   "cell_type": "markdown",
   "id": "76ab690a-c0b6-4b20-9b9a-af166930ff97",
   "metadata": {},
   "source": [
    "<div style=\"font-size:14px; text-align:justify\"><b>3: </b>Descripción de los datos del dataframe.</div>"
   ]
  },
  {
   "cell_type": "code",
   "execution_count": 6,
   "id": "699ca148-da2b-426c-a952-da975bf82c7e",
   "metadata": {
    "tags": []
   },
   "outputs": [
    {
     "data": {
      "text/html": [
       "<div>\n",
       "<style scoped>\n",
       "    .dataframe tbody tr th:only-of-type {\n",
       "        vertical-align: middle;\n",
       "    }\n",
       "\n",
       "    .dataframe tbody tr th {\n",
       "        vertical-align: top;\n",
       "    }\n",
       "\n",
       "    .dataframe thead th {\n",
       "        text-align: right;\n",
       "    }\n",
       "</style>\n",
       "<table border=\"1\" class=\"dataframe\">\n",
       "  <thead>\n",
       "    <tr style=\"text-align: right;\">\n",
       "      <th></th>\n",
       "      <th>VendorID</th>\n",
       "      <th>passenger_count</th>\n",
       "      <th>trip_distance</th>\n",
       "      <th>RatecodeID</th>\n",
       "      <th>PULocationID</th>\n",
       "      <th>DOLocationID</th>\n",
       "      <th>payment_type</th>\n",
       "      <th>fare_amount</th>\n",
       "      <th>extra</th>\n",
       "      <th>mta_tax</th>\n",
       "      <th>tip_amount</th>\n",
       "      <th>tolls_amount</th>\n",
       "      <th>improvement_surcharge</th>\n",
       "      <th>total_amount</th>\n",
       "    </tr>\n",
       "  </thead>\n",
       "  <tbody>\n",
       "    <tr>\n",
       "      <th>count</th>\n",
       "      <td>8.759874e+06</td>\n",
       "      <td>8.759874e+06</td>\n",
       "      <td>8.759874e+06</td>\n",
       "      <td>8.759874e+06</td>\n",
       "      <td>8.759874e+06</td>\n",
       "      <td>8.759874e+06</td>\n",
       "      <td>8.759874e+06</td>\n",
       "      <td>8.759874e+06</td>\n",
       "      <td>8.759874e+06</td>\n",
       "      <td>8.759874e+06</td>\n",
       "      <td>8.759874e+06</td>\n",
       "      <td>8.759874e+06</td>\n",
       "      <td>8.759874e+06</td>\n",
       "      <td>8.759874e+06</td>\n",
       "    </tr>\n",
       "    <tr>\n",
       "      <th>mean</th>\n",
       "      <td>1.560940e+00</td>\n",
       "      <td>1.606855e+00</td>\n",
       "      <td>2.804001e+00</td>\n",
       "      <td>1.039545e+00</td>\n",
       "      <td>1.644585e+02</td>\n",
       "      <td>1.627269e+02</td>\n",
       "      <td>1.310611e+00</td>\n",
       "      <td>1.224434e+01</td>\n",
       "      <td>3.246822e-01</td>\n",
       "      <td>4.975067e-01</td>\n",
       "      <td>1.818745e+00</td>\n",
       "      <td>3.026133e-01</td>\n",
       "      <td>2.996306e-01</td>\n",
       "      <td>1.549098e+01</td>\n",
       "    </tr>\n",
       "    <tr>\n",
       "      <th>std</th>\n",
       "      <td>4.962724e-01</td>\n",
       "      <td>1.258464e+00</td>\n",
       "      <td>6.412346e+01</td>\n",
       "      <td>4.450700e-01</td>\n",
       "      <td>6.636021e+01</td>\n",
       "      <td>7.031164e+01</td>\n",
       "      <td>4.817818e-01</td>\n",
       "      <td>1.168321e+01</td>\n",
       "      <td>4.502524e-01</td>\n",
       "      <td>4.333319e-02</td>\n",
       "      <td>2.486341e+00</td>\n",
       "      <td>1.738185e+00</td>\n",
       "      <td>1.442815e-02</td>\n",
       "      <td>1.419540e+01</td>\n",
       "    </tr>\n",
       "    <tr>\n",
       "      <th>min</th>\n",
       "      <td>1.000000e+00</td>\n",
       "      <td>0.000000e+00</td>\n",
       "      <td>0.000000e+00</td>\n",
       "      <td>1.000000e+00</td>\n",
       "      <td>1.000000e+00</td>\n",
       "      <td>1.000000e+00</td>\n",
       "      <td>1.000000e+00</td>\n",
       "      <td>-4.500000e+02</td>\n",
       "      <td>-4.469000e+01</td>\n",
       "      <td>-5.000000e-01</td>\n",
       "      <td>-8.880000e+01</td>\n",
       "      <td>-1.500000e+01</td>\n",
       "      <td>-3.000000e-01</td>\n",
       "      <td>-4.503000e+02</td>\n",
       "    </tr>\n",
       "    <tr>\n",
       "      <th>25%</th>\n",
       "      <td>1.000000e+00</td>\n",
       "      <td>1.000000e+00</td>\n",
       "      <td>9.100000e-01</td>\n",
       "      <td>1.000000e+00</td>\n",
       "      <td>1.160000e+02</td>\n",
       "      <td>1.130000e+02</td>\n",
       "      <td>1.000000e+00</td>\n",
       "      <td>6.000000e+00</td>\n",
       "      <td>0.000000e+00</td>\n",
       "      <td>5.000000e-01</td>\n",
       "      <td>0.000000e+00</td>\n",
       "      <td>0.000000e+00</td>\n",
       "      <td>3.000000e-01</td>\n",
       "      <td>8.300000e+00</td>\n",
       "    </tr>\n",
       "    <tr>\n",
       "      <th>50%</th>\n",
       "      <td>2.000000e+00</td>\n",
       "      <td>1.000000e+00</td>\n",
       "      <td>1.550000e+00</td>\n",
       "      <td>1.000000e+00</td>\n",
       "      <td>1.620000e+02</td>\n",
       "      <td>1.620000e+02</td>\n",
       "      <td>1.000000e+00</td>\n",
       "      <td>9.000000e+00</td>\n",
       "      <td>0.000000e+00</td>\n",
       "      <td>5.000000e-01</td>\n",
       "      <td>1.360000e+00</td>\n",
       "      <td>0.000000e+00</td>\n",
       "      <td>3.000000e-01</td>\n",
       "      <td>1.130000e+01</td>\n",
       "    </tr>\n",
       "    <tr>\n",
       "      <th>75%</th>\n",
       "      <td>2.000000e+00</td>\n",
       "      <td>2.000000e+00</td>\n",
       "      <td>2.840000e+00</td>\n",
       "      <td>1.000000e+00</td>\n",
       "      <td>2.340000e+02</td>\n",
       "      <td>2.340000e+02</td>\n",
       "      <td>2.000000e+00</td>\n",
       "      <td>1.350000e+01</td>\n",
       "      <td>5.000000e-01</td>\n",
       "      <td>5.000000e-01</td>\n",
       "      <td>2.350000e+00</td>\n",
       "      <td>0.000000e+00</td>\n",
       "      <td>3.000000e-01</td>\n",
       "      <td>1.662000e+01</td>\n",
       "    </tr>\n",
       "    <tr>\n",
       "      <th>max</th>\n",
       "      <td>2.000000e+00</td>\n",
       "      <td>9.000000e+00</td>\n",
       "      <td>1.894838e+05</td>\n",
       "      <td>9.900000e+01</td>\n",
       "      <td>2.650000e+02</td>\n",
       "      <td>2.650000e+02</td>\n",
       "      <td>4.000000e+00</td>\n",
       "      <td>8.016000e+03</td>\n",
       "      <td>6.000000e+01</td>\n",
       "      <td>4.549000e+01</td>\n",
       "      <td>4.417100e+02</td>\n",
       "      <td>9.507000e+02</td>\n",
       "      <td>1.000000e+00</td>\n",
       "      <td>8.016800e+03</td>\n",
       "    </tr>\n",
       "  </tbody>\n",
       "</table>\n",
       "</div>"
      ],
      "text/plain": [
       "           VendorID  passenger_count  trip_distance    RatecodeID  \\\n",
       "count  8.759874e+06     8.759874e+06   8.759874e+06  8.759874e+06   \n",
       "mean   1.560940e+00     1.606855e+00   2.804001e+00  1.039545e+00   \n",
       "std    4.962724e-01     1.258464e+00   6.412346e+01  4.450700e-01   \n",
       "min    1.000000e+00     0.000000e+00   0.000000e+00  1.000000e+00   \n",
       "25%    1.000000e+00     1.000000e+00   9.100000e-01  1.000000e+00   \n",
       "50%    2.000000e+00     1.000000e+00   1.550000e+00  1.000000e+00   \n",
       "75%    2.000000e+00     2.000000e+00   2.840000e+00  1.000000e+00   \n",
       "max    2.000000e+00     9.000000e+00   1.894838e+05  9.900000e+01   \n",
       "\n",
       "       PULocationID  DOLocationID  payment_type   fare_amount         extra  \\\n",
       "count  8.759874e+06  8.759874e+06  8.759874e+06  8.759874e+06  8.759874e+06   \n",
       "mean   1.644585e+02  1.627269e+02  1.310611e+00  1.224434e+01  3.246822e-01   \n",
       "std    6.636021e+01  7.031164e+01  4.817818e-01  1.168321e+01  4.502524e-01   \n",
       "min    1.000000e+00  1.000000e+00  1.000000e+00 -4.500000e+02 -4.469000e+01   \n",
       "25%    1.160000e+02  1.130000e+02  1.000000e+00  6.000000e+00  0.000000e+00   \n",
       "50%    1.620000e+02  1.620000e+02  1.000000e+00  9.000000e+00  0.000000e+00   \n",
       "75%    2.340000e+02  2.340000e+02  2.000000e+00  1.350000e+01  5.000000e-01   \n",
       "max    2.650000e+02  2.650000e+02  4.000000e+00  8.016000e+03  6.000000e+01   \n",
       "\n",
       "            mta_tax    tip_amount  tolls_amount  improvement_surcharge  \\\n",
       "count  8.759874e+06  8.759874e+06  8.759874e+06           8.759874e+06   \n",
       "mean   4.975067e-01  1.818745e+00  3.026133e-01           2.996306e-01   \n",
       "std    4.333319e-02  2.486341e+00  1.738185e+00           1.442815e-02   \n",
       "min   -5.000000e-01 -8.880000e+01 -1.500000e+01          -3.000000e-01   \n",
       "25%    5.000000e-01  0.000000e+00  0.000000e+00           3.000000e-01   \n",
       "50%    5.000000e-01  1.360000e+00  0.000000e+00           3.000000e-01   \n",
       "75%    5.000000e-01  2.350000e+00  0.000000e+00           3.000000e-01   \n",
       "max    4.549000e+01  4.417100e+02  9.507000e+02           1.000000e+00   \n",
       "\n",
       "       total_amount  \n",
       "count  8.759874e+06  \n",
       "mean   1.549098e+01  \n",
       "std    1.419540e+01  \n",
       "min   -4.503000e+02  \n",
       "25%    8.300000e+00  \n",
       "50%    1.130000e+01  \n",
       "75%    1.662000e+01  \n",
       "max    8.016800e+03  "
      ]
     },
     "metadata": {},
     "output_type": "display_data"
    },
    {
     "name": "stdout",
     "output_type": "stream",
     "text": [
      "CPU times: total: 5.25 s\n",
      "Wall time: 5.25 s\n"
     ]
    }
   ],
   "source": [
    "%%time\n",
    "t0 = datetime.now()\n",
    "\n",
    "display(df_pandas.describe())\n",
    "\n",
    "t1 = datetime.now()\n",
    "tt =  t1 - t0\n",
    "\n",
    "tiempos['pandas'].append(tt.total_seconds())"
   ]
  },
  {
   "cell_type": "markdown",
   "id": "eba3d668-8895-434a-8443-fc36a6840d25",
   "metadata": {},
   "source": [
    "<div style=\"font-size:14px; text-align:justify\"><b>4: </b>Obtener el numero de valores para la columna 'fare_amount'.</div>"
   ]
  },
  {
   "cell_type": "code",
   "execution_count": 7,
   "id": "d213f890-2430-45b3-851d-927db75abcdc",
   "metadata": {},
   "outputs": [
    {
     "data": {
      "text/plain": [
       "6.00       473234\n",
       "5.50       465176\n",
       "6.50       461927\n",
       "7.00       446376\n",
       "5.00       433249\n",
       "            ...  \n",
       "30.60           1\n",
       "2409.00         1\n",
       "168.88          1\n",
       "201.50          1\n",
       "33.96           1\n",
       "Name: fare_amount, Length: 1714, dtype: int64"
      ]
     },
     "metadata": {},
     "output_type": "display_data"
    },
    {
     "name": "stdout",
     "output_type": "stream",
     "text": [
      "CPU times: total: 188 ms\n",
      "Wall time: 175 ms\n"
     ]
    }
   ],
   "source": [
    "%%time\n",
    "t0 = datetime.now()\n",
    "\n",
    "display(df_pandas['fare_amount'].value_counts())\n",
    "\n",
    "t1 = datetime.now()\n",
    "tt =  t1 - t0\n",
    "\n",
    "tiempos['pandas'].append(tt.total_seconds())"
   ]
  },
  {
   "cell_type": "markdown",
   "id": "51de523d-f66e-4869-95e4-d7ed2475eb48",
   "metadata": {},
   "source": [
    "<div style=\"font-size:14px; text-align:justify\"><b>5: </b>Obtener el tamaño del dataframe.</div>"
   ]
  },
  {
   "cell_type": "code",
   "execution_count": 8,
   "id": "32410610-9129-4711-9873-ee0e1c6d365a",
   "metadata": {},
   "outputs": [
    {
     "data": {
      "text/plain": [
       "(8759874, 17)"
      ]
     },
     "metadata": {},
     "output_type": "display_data"
    },
    {
     "name": "stdout",
     "output_type": "stream",
     "text": [
      "CPU times: total: 0 ns\n",
      "Wall time: 3.01 ms\n"
     ]
    }
   ],
   "source": [
    "%%time\n",
    "t0 = datetime.now()\n",
    "\n",
    "display(df_pandas.shape)\n",
    "\n",
    "t1 = datetime.now()\n",
    "tt =  t1 - t0\n",
    "\n",
    "tiempos['pandas'].append(tt.total_seconds())"
   ]
  },
  {
   "cell_type": "markdown",
   "id": "7ad2b795-86f1-441d-a053-3152703c36bb",
   "metadata": {},
   "source": [
    "<div style=\"font-size:14px; text-align:justify\"><b>6: </b>Obtener últimos valores del dataframe.</div>"
   ]
  },
  {
   "cell_type": "code",
   "execution_count": 9,
   "id": "c52dfe28-e67b-4da8-8801-a453324ef6b1",
   "metadata": {},
   "outputs": [
    {
     "data": {
      "text/html": [
       "<div>\n",
       "<style scoped>\n",
       "    .dataframe tbody tr th:only-of-type {\n",
       "        vertical-align: middle;\n",
       "    }\n",
       "\n",
       "    .dataframe tbody tr th {\n",
       "        vertical-align: top;\n",
       "    }\n",
       "\n",
       "    .dataframe thead th {\n",
       "        text-align: right;\n",
       "    }\n",
       "</style>\n",
       "<table border=\"1\" class=\"dataframe\">\n",
       "  <thead>\n",
       "    <tr style=\"text-align: right;\">\n",
       "      <th></th>\n",
       "      <th>VendorID</th>\n",
       "      <th>tpep_pickup_datetime</th>\n",
       "      <th>tpep_dropoff_datetime</th>\n",
       "      <th>passenger_count</th>\n",
       "      <th>trip_distance</th>\n",
       "      <th>RatecodeID</th>\n",
       "      <th>store_and_fwd_flag</th>\n",
       "      <th>PULocationID</th>\n",
       "      <th>DOLocationID</th>\n",
       "      <th>payment_type</th>\n",
       "      <th>fare_amount</th>\n",
       "      <th>extra</th>\n",
       "      <th>mta_tax</th>\n",
       "      <th>tip_amount</th>\n",
       "      <th>tolls_amount</th>\n",
       "      <th>improvement_surcharge</th>\n",
       "      <th>total_amount</th>\n",
       "    </tr>\n",
       "  </thead>\n",
       "  <tbody>\n",
       "    <tr>\n",
       "      <th>8759869</th>\n",
       "      <td>1</td>\n",
       "      <td>2018-01-31 23:21:35</td>\n",
       "      <td>2018-01-31 23:34:20</td>\n",
       "      <td>2</td>\n",
       "      <td>2.80</td>\n",
       "      <td>1</td>\n",
       "      <td>N</td>\n",
       "      <td>158</td>\n",
       "      <td>163</td>\n",
       "      <td>1</td>\n",
       "      <td>12.0</td>\n",
       "      <td>0.5</td>\n",
       "      <td>0.5</td>\n",
       "      <td>2.65</td>\n",
       "      <td>0.0</td>\n",
       "      <td>0.3</td>\n",
       "      <td>15.95</td>\n",
       "    </tr>\n",
       "    <tr>\n",
       "      <th>8759870</th>\n",
       "      <td>1</td>\n",
       "      <td>2018-01-31 23:35:51</td>\n",
       "      <td>2018-01-31 23:38:57</td>\n",
       "      <td>1</td>\n",
       "      <td>0.60</td>\n",
       "      <td>1</td>\n",
       "      <td>N</td>\n",
       "      <td>163</td>\n",
       "      <td>162</td>\n",
       "      <td>1</td>\n",
       "      <td>4.5</td>\n",
       "      <td>0.5</td>\n",
       "      <td>0.5</td>\n",
       "      <td>1.15</td>\n",
       "      <td>0.0</td>\n",
       "      <td>0.3</td>\n",
       "      <td>6.95</td>\n",
       "    </tr>\n",
       "    <tr>\n",
       "      <th>8759871</th>\n",
       "      <td>2</td>\n",
       "      <td>2018-01-31 23:28:00</td>\n",
       "      <td>2018-01-31 23:37:09</td>\n",
       "      <td>1</td>\n",
       "      <td>2.95</td>\n",
       "      <td>1</td>\n",
       "      <td>N</td>\n",
       "      <td>74</td>\n",
       "      <td>69</td>\n",
       "      <td>2</td>\n",
       "      <td>10.5</td>\n",
       "      <td>0.5</td>\n",
       "      <td>0.5</td>\n",
       "      <td>0.00</td>\n",
       "      <td>0.0</td>\n",
       "      <td>0.3</td>\n",
       "      <td>11.80</td>\n",
       "    </tr>\n",
       "    <tr>\n",
       "      <th>8759872</th>\n",
       "      <td>2</td>\n",
       "      <td>2018-01-31 23:24:40</td>\n",
       "      <td>2018-01-31 23:25:28</td>\n",
       "      <td>1</td>\n",
       "      <td>0.00</td>\n",
       "      <td>1</td>\n",
       "      <td>N</td>\n",
       "      <td>7</td>\n",
       "      <td>193</td>\n",
       "      <td>2</td>\n",
       "      <td>0.0</td>\n",
       "      <td>0.0</td>\n",
       "      <td>0.0</td>\n",
       "      <td>0.00</td>\n",
       "      <td>0.0</td>\n",
       "      <td>0.0</td>\n",
       "      <td>0.00</td>\n",
       "    </tr>\n",
       "    <tr>\n",
       "      <th>8759873</th>\n",
       "      <td>2</td>\n",
       "      <td>2018-01-31 23:28:16</td>\n",
       "      <td>2018-01-31 23:28:38</td>\n",
       "      <td>1</td>\n",
       "      <td>0.00</td>\n",
       "      <td>1</td>\n",
       "      <td>N</td>\n",
       "      <td>7</td>\n",
       "      <td>193</td>\n",
       "      <td>2</td>\n",
       "      <td>0.0</td>\n",
       "      <td>0.0</td>\n",
       "      <td>0.0</td>\n",
       "      <td>0.00</td>\n",
       "      <td>0.0</td>\n",
       "      <td>0.0</td>\n",
       "      <td>0.00</td>\n",
       "    </tr>\n",
       "  </tbody>\n",
       "</table>\n",
       "</div>"
      ],
      "text/plain": [
       "         VendorID tpep_pickup_datetime tpep_dropoff_datetime  passenger_count  \\\n",
       "8759869         1  2018-01-31 23:21:35   2018-01-31 23:34:20                2   \n",
       "8759870         1  2018-01-31 23:35:51   2018-01-31 23:38:57                1   \n",
       "8759871         2  2018-01-31 23:28:00   2018-01-31 23:37:09                1   \n",
       "8759872         2  2018-01-31 23:24:40   2018-01-31 23:25:28                1   \n",
       "8759873         2  2018-01-31 23:28:16   2018-01-31 23:28:38                1   \n",
       "\n",
       "         trip_distance  RatecodeID store_and_fwd_flag  PULocationID  \\\n",
       "8759869           2.80           1                  N           158   \n",
       "8759870           0.60           1                  N           163   \n",
       "8759871           2.95           1                  N            74   \n",
       "8759872           0.00           1                  N             7   \n",
       "8759873           0.00           1                  N             7   \n",
       "\n",
       "         DOLocationID  payment_type  fare_amount  extra  mta_tax  tip_amount  \\\n",
       "8759869           163             1         12.0    0.5      0.5        2.65   \n",
       "8759870           162             1          4.5    0.5      0.5        1.15   \n",
       "8759871            69             2         10.5    0.5      0.5        0.00   \n",
       "8759872           193             2          0.0    0.0      0.0        0.00   \n",
       "8759873           193             2          0.0    0.0      0.0        0.00   \n",
       "\n",
       "         tolls_amount  improvement_surcharge  total_amount  \n",
       "8759869           0.0                    0.3         15.95  \n",
       "8759870           0.0                    0.3          6.95  \n",
       "8759871           0.0                    0.3         11.80  \n",
       "8759872           0.0                    0.0          0.00  \n",
       "8759873           0.0                    0.0          0.00  "
      ]
     },
     "metadata": {},
     "output_type": "display_data"
    },
    {
     "name": "stdout",
     "output_type": "stream",
     "text": [
      "CPU times: total: 31.2 ms\n",
      "Wall time: 26 ms\n"
     ]
    }
   ],
   "source": [
    "%%time\n",
    "t0 = datetime.now()\n",
    "\n",
    "display(df_pandas.tail())\n",
    "\n",
    "t1 = datetime.now()\n",
    "tt =  t1 - t0\n",
    "\n",
    "tiempos['pandas'].append(tt.total_seconds())"
   ]
  },
  {
   "cell_type": "markdown",
   "id": "fe37ea32-dcbf-4997-8766-758e4c2c9ab0",
   "metadata": {},
   "source": [
    "<hr style=\"border-color:black\">"
   ]
  },
  {
   "cell_type": "markdown",
   "id": "c4a5a772-65ff-4438-9663-275ec623d7d0",
   "metadata": {},
   "source": [
    "<div style=\"font-size:14px; text-align:center\"><b>DASK</b><br></div>"
   ]
  },
  {
   "cell_type": "markdown",
   "id": "6d3eb690-873a-48e2-b2cd-e1a141810d22",
   "metadata": {},
   "source": [
    "<div style=\"font-size:14px; text-align:justify\"><b>1: </b>Importación de librería.</div>"
   ]
  },
  {
   "cell_type": "code",
   "execution_count": 10,
   "id": "c5ed89b8-5069-4e8d-bfd9-1dca616710ed",
   "metadata": {},
   "outputs": [
    {
     "name": "stdout",
     "output_type": "stream",
     "text": [
      "CPU times: total: 766 ms\n",
      "Wall time: 1.01 s\n"
     ]
    }
   ],
   "source": [
    "%%time\n",
    "t0 = datetime.now()\n",
    "\n",
    "import dask.dataframe as dd\n",
    "\n",
    "t1 = datetime.now()\n",
    "tt =  t1 - t0\n",
    "\n",
    "tiempos['dask'].append(tt.total_seconds())"
   ]
  },
  {
   "cell_type": "markdown",
   "id": "55ace712-5de3-41e5-9dbd-336bdba5b160",
   "metadata": {},
   "source": [
    "<div style=\"font-size:14px; text-align:justify\"><b>2: </b>Importación del dataframe en formatos '.parquet' y '.csv'.</div>"
   ]
  },
  {
   "cell_type": "code",
   "execution_count": 11,
   "id": "1ed34995-1cfa-437e-9d2d-a099a64f0a7a",
   "metadata": {},
   "outputs": [
    {
     "name": "stdout",
     "output_type": "stream",
     "text": [
      "CPU times: total: 31.2 ms\n",
      "Wall time: 20.2 ms\n"
     ]
    }
   ],
   "source": [
    "%%time\n",
    "t0 = datetime.now()\n",
    "\n",
    "df_dask = dd.read_parquet('yellow_tripdata_2018-01.parquet', assume_missing=True)\n",
    "\n",
    "t1 = datetime.now()\n",
    "tt =  t1 - t0\n",
    "\n",
    "tiempos['dask'].append(tt.total_seconds())"
   ]
  },
  {
   "cell_type": "code",
   "execution_count": 12,
   "id": "e85cdfc6-b204-42e7-8c4e-258cb72e399e",
   "metadata": {},
   "outputs": [
    {
     "name": "stdout",
     "output_type": "stream",
     "text": [
      "CPU times: total: 15.6 ms\n",
      "Wall time: 16.7 ms\n"
     ]
    }
   ],
   "source": [
    "%%time\n",
    "t0 = datetime.now()\n",
    "\n",
    "df_dask = dd.read_csv('yellow_tripdata_2018-01.csv', assume_missing=True)\n",
    "\n",
    "t1 = datetime.now()\n",
    "tt =  t1 - t0\n",
    "\n",
    "tiempos['dask'].append(tt.total_seconds())"
   ]
  },
  {
   "cell_type": "markdown",
   "id": "52c63407-1a91-4b83-9861-200cd8f54f28",
   "metadata": {},
   "source": [
    "En este caso, al estar trabajando con una libreria más optimizada para el trabajo en Big Data, se ve como la diferencia entre leer un '.csv' y un '.parquet' es apenas de ms."
   ]
  },
  {
   "cell_type": "markdown",
   "id": "f3571fa4-eb26-4553-9053-2b2731a33df3",
   "metadata": {},
   "source": [
    "<div style=\"font-size:14px; text-align:justify\"><b>3: </b>Descripción de los datos del dataframe.</div>"
   ]
  },
  {
   "cell_type": "code",
   "execution_count": 13,
   "id": "dbdc6da7-8421-43d2-933e-388aedc859e1",
   "metadata": {},
   "outputs": [
    {
     "data": {
      "text/html": [
       "<div>\n",
       "<style scoped>\n",
       "    .dataframe tbody tr th:only-of-type {\n",
       "        vertical-align: middle;\n",
       "    }\n",
       "\n",
       "    .dataframe tbody tr th {\n",
       "        vertical-align: top;\n",
       "    }\n",
       "\n",
       "    .dataframe thead th {\n",
       "        text-align: right;\n",
       "    }\n",
       "</style>\n",
       "<table border=\"1\" class=\"dataframe\">\n",
       "  <thead>\n",
       "    <tr style=\"text-align: right;\">\n",
       "      <th></th>\n",
       "      <th>VendorID</th>\n",
       "      <th>passenger_count</th>\n",
       "      <th>trip_distance</th>\n",
       "      <th>RatecodeID</th>\n",
       "      <th>PULocationID</th>\n",
       "      <th>DOLocationID</th>\n",
       "      <th>payment_type</th>\n",
       "      <th>fare_amount</th>\n",
       "      <th>extra</th>\n",
       "      <th>mta_tax</th>\n",
       "      <th>tip_amount</th>\n",
       "      <th>tolls_amount</th>\n",
       "      <th>improvement_surcharge</th>\n",
       "      <th>total_amount</th>\n",
       "    </tr>\n",
       "  </thead>\n",
       "  <tbody>\n",
       "    <tr>\n",
       "      <th>count</th>\n",
       "      <td>8.759874e+06</td>\n",
       "      <td>8.759874e+06</td>\n",
       "      <td>8.759874e+06</td>\n",
       "      <td>8.759874e+06</td>\n",
       "      <td>8.759874e+06</td>\n",
       "      <td>8.759874e+06</td>\n",
       "      <td>8.759874e+06</td>\n",
       "      <td>8.759874e+06</td>\n",
       "      <td>8.759874e+06</td>\n",
       "      <td>8.759874e+06</td>\n",
       "      <td>8.759874e+06</td>\n",
       "      <td>8.759874e+06</td>\n",
       "      <td>8.759874e+06</td>\n",
       "      <td>8.759874e+06</td>\n",
       "    </tr>\n",
       "    <tr>\n",
       "      <th>mean</th>\n",
       "      <td>1.560940e+00</td>\n",
       "      <td>1.606855e+00</td>\n",
       "      <td>2.804001e+00</td>\n",
       "      <td>1.039545e+00</td>\n",
       "      <td>1.644585e+02</td>\n",
       "      <td>1.627269e+02</td>\n",
       "      <td>1.310611e+00</td>\n",
       "      <td>1.224434e+01</td>\n",
       "      <td>3.246822e-01</td>\n",
       "      <td>4.975067e-01</td>\n",
       "      <td>1.818745e+00</td>\n",
       "      <td>3.026133e-01</td>\n",
       "      <td>2.996306e-01</td>\n",
       "      <td>1.549098e+01</td>\n",
       "    </tr>\n",
       "    <tr>\n",
       "      <th>std</th>\n",
       "      <td>4.962724e-01</td>\n",
       "      <td>1.258464e+00</td>\n",
       "      <td>6.412346e+01</td>\n",
       "      <td>4.450700e-01</td>\n",
       "      <td>6.636021e+01</td>\n",
       "      <td>7.031164e+01</td>\n",
       "      <td>4.817818e-01</td>\n",
       "      <td>1.168321e+01</td>\n",
       "      <td>4.502524e-01</td>\n",
       "      <td>4.333319e-02</td>\n",
       "      <td>2.486341e+00</td>\n",
       "      <td>1.738185e+00</td>\n",
       "      <td>1.442815e-02</td>\n",
       "      <td>1.419540e+01</td>\n",
       "    </tr>\n",
       "    <tr>\n",
       "      <th>min</th>\n",
       "      <td>1.000000e+00</td>\n",
       "      <td>0.000000e+00</td>\n",
       "      <td>0.000000e+00</td>\n",
       "      <td>1.000000e+00</td>\n",
       "      <td>1.000000e+00</td>\n",
       "      <td>1.000000e+00</td>\n",
       "      <td>1.000000e+00</td>\n",
       "      <td>-4.500000e+02</td>\n",
       "      <td>-4.469000e+01</td>\n",
       "      <td>-5.000000e-01</td>\n",
       "      <td>-8.880000e+01</td>\n",
       "      <td>-1.500000e+01</td>\n",
       "      <td>-3.000000e-01</td>\n",
       "      <td>-4.503000e+02</td>\n",
       "    </tr>\n",
       "    <tr>\n",
       "      <th>25%</th>\n",
       "      <td>1.000000e+00</td>\n",
       "      <td>1.000000e+00</td>\n",
       "      <td>1.000000e+00</td>\n",
       "      <td>1.000000e+00</td>\n",
       "      <td>1.320000e+02</td>\n",
       "      <td>1.140000e+02</td>\n",
       "      <td>1.000000e+00</td>\n",
       "      <td>6.500000e+00</td>\n",
       "      <td>0.000000e+00</td>\n",
       "      <td>5.000000e-01</td>\n",
       "      <td>0.000000e+00</td>\n",
       "      <td>0.000000e+00</td>\n",
       "      <td>3.000000e-01</td>\n",
       "      <td>8.750000e+00</td>\n",
       "    </tr>\n",
       "    <tr>\n",
       "      <th>50%</th>\n",
       "      <td>2.000000e+00</td>\n",
       "      <td>1.000000e+00</td>\n",
       "      <td>1.650000e+00</td>\n",
       "      <td>1.000000e+00</td>\n",
       "      <td>1.620000e+02</td>\n",
       "      <td>1.620000e+02</td>\n",
       "      <td>1.000000e+00</td>\n",
       "      <td>9.500000e+00</td>\n",
       "      <td>5.000000e-01</td>\n",
       "      <td>5.000000e-01</td>\n",
       "      <td>1.500000e+00</td>\n",
       "      <td>0.000000e+00</td>\n",
       "      <td>3.000000e-01</td>\n",
       "      <td>1.180000e+01</td>\n",
       "    </tr>\n",
       "    <tr>\n",
       "      <th>75%</th>\n",
       "      <td>2.000000e+00</td>\n",
       "      <td>2.000000e+00</td>\n",
       "      <td>3.100000e+00</td>\n",
       "      <td>1.000000e+00</td>\n",
       "      <td>2.340000e+02</td>\n",
       "      <td>2.340000e+02</td>\n",
       "      <td>2.000000e+00</td>\n",
       "      <td>1.400000e+01</td>\n",
       "      <td>1.000000e+00</td>\n",
       "      <td>5.000000e-01</td>\n",
       "      <td>2.500000e+00</td>\n",
       "      <td>0.000000e+00</td>\n",
       "      <td>3.000000e-01</td>\n",
       "      <td>1.730000e+01</td>\n",
       "    </tr>\n",
       "    <tr>\n",
       "      <th>max</th>\n",
       "      <td>2.000000e+00</td>\n",
       "      <td>9.000000e+00</td>\n",
       "      <td>1.894838e+05</td>\n",
       "      <td>9.900000e+01</td>\n",
       "      <td>2.650000e+02</td>\n",
       "      <td>2.650000e+02</td>\n",
       "      <td>4.000000e+00</td>\n",
       "      <td>8.016000e+03</td>\n",
       "      <td>6.000000e+01</td>\n",
       "      <td>4.549000e+01</td>\n",
       "      <td>4.417100e+02</td>\n",
       "      <td>9.507000e+02</td>\n",
       "      <td>1.000000e+00</td>\n",
       "      <td>8.016800e+03</td>\n",
       "    </tr>\n",
       "  </tbody>\n",
       "</table>\n",
       "</div>"
      ],
      "text/plain": [
       "           VendorID  passenger_count  trip_distance    RatecodeID  \\\n",
       "count  8.759874e+06     8.759874e+06   8.759874e+06  8.759874e+06   \n",
       "mean   1.560940e+00     1.606855e+00   2.804001e+00  1.039545e+00   \n",
       "std    4.962724e-01     1.258464e+00   6.412346e+01  4.450700e-01   \n",
       "min    1.000000e+00     0.000000e+00   0.000000e+00  1.000000e+00   \n",
       "25%    1.000000e+00     1.000000e+00   1.000000e+00  1.000000e+00   \n",
       "50%    2.000000e+00     1.000000e+00   1.650000e+00  1.000000e+00   \n",
       "75%    2.000000e+00     2.000000e+00   3.100000e+00  1.000000e+00   \n",
       "max    2.000000e+00     9.000000e+00   1.894838e+05  9.900000e+01   \n",
       "\n",
       "       PULocationID  DOLocationID  payment_type   fare_amount         extra  \\\n",
       "count  8.759874e+06  8.759874e+06  8.759874e+06  8.759874e+06  8.759874e+06   \n",
       "mean   1.644585e+02  1.627269e+02  1.310611e+00  1.224434e+01  3.246822e-01   \n",
       "std    6.636021e+01  7.031164e+01  4.817818e-01  1.168321e+01  4.502524e-01   \n",
       "min    1.000000e+00  1.000000e+00  1.000000e+00 -4.500000e+02 -4.469000e+01   \n",
       "25%    1.320000e+02  1.140000e+02  1.000000e+00  6.500000e+00  0.000000e+00   \n",
       "50%    1.620000e+02  1.620000e+02  1.000000e+00  9.500000e+00  5.000000e-01   \n",
       "75%    2.340000e+02  2.340000e+02  2.000000e+00  1.400000e+01  1.000000e+00   \n",
       "max    2.650000e+02  2.650000e+02  4.000000e+00  8.016000e+03  6.000000e+01   \n",
       "\n",
       "            mta_tax    tip_amount  tolls_amount  improvement_surcharge  \\\n",
       "count  8.759874e+06  8.759874e+06  8.759874e+06           8.759874e+06   \n",
       "mean   4.975067e-01  1.818745e+00  3.026133e-01           2.996306e-01   \n",
       "std    4.333319e-02  2.486341e+00  1.738185e+00           1.442815e-02   \n",
       "min   -5.000000e-01 -8.880000e+01 -1.500000e+01          -3.000000e-01   \n",
       "25%    5.000000e-01  0.000000e+00  0.000000e+00           3.000000e-01   \n",
       "50%    5.000000e-01  1.500000e+00  0.000000e+00           3.000000e-01   \n",
       "75%    5.000000e-01  2.500000e+00  0.000000e+00           3.000000e-01   \n",
       "max    4.549000e+01  4.417100e+02  9.507000e+02           1.000000e+00   \n",
       "\n",
       "       total_amount  \n",
       "count  8.759874e+06  \n",
       "mean   1.549098e+01  \n",
       "std    1.419540e+01  \n",
       "min   -4.503000e+02  \n",
       "25%    8.750000e+00  \n",
       "50%    1.180000e+01  \n",
       "75%    1.730000e+01  \n",
       "max    8.016800e+03  "
      ]
     },
     "metadata": {},
     "output_type": "display_data"
    },
    {
     "name": "stdout",
     "output_type": "stream",
     "text": [
      "CPU times: total: 1min 2s\n",
      "Wall time: 20.7 s\n"
     ]
    }
   ],
   "source": [
    "%%time\n",
    "t0 = datetime.now()\n",
    "\n",
    "display(df_dask.describe().compute())\n",
    "\n",
    "t1 = datetime.now()\n",
    "tt =  t1 - t0\n",
    "\n",
    "tiempos['dask'].append(tt.total_seconds())"
   ]
  },
  {
   "cell_type": "markdown",
   "id": "7aafc5a9-0f2e-44ff-bf6a-7c971b2085fb",
   "metadata": {},
   "source": [
    "<div style=\"font-size:14px; text-align:justify\"><b>4: </b>Obtener el numero de valores para la columna 'fare_amount'.</div>"
   ]
  },
  {
   "cell_type": "code",
   "execution_count": 14,
   "id": "bcf250e0-12a8-451b-99b0-ec425311bc6f",
   "metadata": {},
   "outputs": [
    {
     "data": {
      "text/plain": [
       "6.00       473234\n",
       "5.50       465176\n",
       "6.50       461927\n",
       "7.00       446376\n",
       "5.00       433249\n",
       "            ...  \n",
       "60.06           1\n",
       "60.30           1\n",
       "60.53           1\n",
       "60.55           1\n",
       "8016.00         1\n",
       "Name: fare_amount, Length: 1714, dtype: int64"
      ]
     },
     "metadata": {},
     "output_type": "display_data"
    },
    {
     "name": "stdout",
     "output_type": "stream",
     "text": [
      "CPU times: total: 22.1 s\n",
      "Wall time: 5.53 s\n"
     ]
    }
   ],
   "source": [
    "%%time\n",
    "t0 = datetime.now()\n",
    "\n",
    "display(df_dask.fare_amount.value_counts().compute())\n",
    "\n",
    "t1 = datetime.now()\n",
    "tt =  t1 - t0\n",
    "\n",
    "tiempos['dask'].append(tt.total_seconds())"
   ]
  },
  {
   "cell_type": "markdown",
   "id": "24873290-9886-495a-87c4-73c935491627",
   "metadata": {},
   "source": [
    "<div style=\"font-size:14px; text-align:justify\"><b>5: </b>Obtener el tamaño del dataframe.</div>"
   ]
  },
  {
   "cell_type": "code",
   "execution_count": 15,
   "id": "b387bfa0-c125-4c23-9f34-7a2d93f978ca",
   "metadata": {},
   "outputs": [
    {
     "data": {
      "text/plain": [
       "[8759874, 17]"
      ]
     },
     "metadata": {},
     "output_type": "display_data"
    },
    {
     "name": "stdout",
     "output_type": "stream",
     "text": [
      "CPU times: total: 37.2 s\n",
      "Wall time: 15.1 s\n"
     ]
    }
   ],
   "source": [
    "%%time\n",
    "t0 = datetime.now()\n",
    "\n",
    "a = df_dask.shape\n",
    "display([a[0].compute(),a[1]])\n",
    "\n",
    "t1 = datetime.now()\n",
    "tt =  t1 - t0\n",
    "\n",
    "tiempos['dask'].append(tt.total_seconds())"
   ]
  },
  {
   "cell_type": "markdown",
   "id": "1eb96958-a210-401c-bf52-524f8d90f4e5",
   "metadata": {},
   "source": [
    "<div style=\"font-size:14px; text-align:justify\"><b>6: </b>Obtener últimos valores del dataframe.</div>"
   ]
  },
  {
   "cell_type": "code",
   "execution_count": 16,
   "id": "ea65c965-c99f-42bc-ac7a-1fe08eac8aaa",
   "metadata": {
    "tags": []
   },
   "outputs": [
    {
     "data": {
      "text/html": [
       "<div>\n",
       "<style scoped>\n",
       "    .dataframe tbody tr th:only-of-type {\n",
       "        vertical-align: middle;\n",
       "    }\n",
       "\n",
       "    .dataframe tbody tr th {\n",
       "        vertical-align: top;\n",
       "    }\n",
       "\n",
       "    .dataframe thead th {\n",
       "        text-align: right;\n",
       "    }\n",
       "</style>\n",
       "<table border=\"1\" class=\"dataframe\">\n",
       "  <thead>\n",
       "    <tr style=\"text-align: right;\">\n",
       "      <th></th>\n",
       "      <th>VendorID</th>\n",
       "      <th>tpep_pickup_datetime</th>\n",
       "      <th>tpep_dropoff_datetime</th>\n",
       "      <th>passenger_count</th>\n",
       "      <th>trip_distance</th>\n",
       "      <th>RatecodeID</th>\n",
       "      <th>store_and_fwd_flag</th>\n",
       "      <th>PULocationID</th>\n",
       "      <th>DOLocationID</th>\n",
       "      <th>payment_type</th>\n",
       "      <th>fare_amount</th>\n",
       "      <th>extra</th>\n",
       "      <th>mta_tax</th>\n",
       "      <th>tip_amount</th>\n",
       "      <th>tolls_amount</th>\n",
       "      <th>improvement_surcharge</th>\n",
       "      <th>total_amount</th>\n",
       "    </tr>\n",
       "  </thead>\n",
       "  <tbody>\n",
       "    <tr>\n",
       "      <th>728696</th>\n",
       "      <td>1.0</td>\n",
       "      <td>2018-01-31 23:21:35</td>\n",
       "      <td>2018-01-31 23:34:20</td>\n",
       "      <td>2.0</td>\n",
       "      <td>2.80</td>\n",
       "      <td>1.0</td>\n",
       "      <td>N</td>\n",
       "      <td>158.0</td>\n",
       "      <td>163.0</td>\n",
       "      <td>1.0</td>\n",
       "      <td>12.0</td>\n",
       "      <td>0.5</td>\n",
       "      <td>0.5</td>\n",
       "      <td>2.65</td>\n",
       "      <td>0.0</td>\n",
       "      <td>0.3</td>\n",
       "      <td>15.95</td>\n",
       "    </tr>\n",
       "    <tr>\n",
       "      <th>728697</th>\n",
       "      <td>1.0</td>\n",
       "      <td>2018-01-31 23:35:51</td>\n",
       "      <td>2018-01-31 23:38:57</td>\n",
       "      <td>1.0</td>\n",
       "      <td>0.60</td>\n",
       "      <td>1.0</td>\n",
       "      <td>N</td>\n",
       "      <td>163.0</td>\n",
       "      <td>162.0</td>\n",
       "      <td>1.0</td>\n",
       "      <td>4.5</td>\n",
       "      <td>0.5</td>\n",
       "      <td>0.5</td>\n",
       "      <td>1.15</td>\n",
       "      <td>0.0</td>\n",
       "      <td>0.3</td>\n",
       "      <td>6.95</td>\n",
       "    </tr>\n",
       "    <tr>\n",
       "      <th>728698</th>\n",
       "      <td>2.0</td>\n",
       "      <td>2018-01-31 23:28:00</td>\n",
       "      <td>2018-01-31 23:37:09</td>\n",
       "      <td>1.0</td>\n",
       "      <td>2.95</td>\n",
       "      <td>1.0</td>\n",
       "      <td>N</td>\n",
       "      <td>74.0</td>\n",
       "      <td>69.0</td>\n",
       "      <td>2.0</td>\n",
       "      <td>10.5</td>\n",
       "      <td>0.5</td>\n",
       "      <td>0.5</td>\n",
       "      <td>0.00</td>\n",
       "      <td>0.0</td>\n",
       "      <td>0.3</td>\n",
       "      <td>11.80</td>\n",
       "    </tr>\n",
       "    <tr>\n",
       "      <th>728699</th>\n",
       "      <td>2.0</td>\n",
       "      <td>2018-01-31 23:24:40</td>\n",
       "      <td>2018-01-31 23:25:28</td>\n",
       "      <td>1.0</td>\n",
       "      <td>0.00</td>\n",
       "      <td>1.0</td>\n",
       "      <td>N</td>\n",
       "      <td>7.0</td>\n",
       "      <td>193.0</td>\n",
       "      <td>2.0</td>\n",
       "      <td>0.0</td>\n",
       "      <td>0.0</td>\n",
       "      <td>0.0</td>\n",
       "      <td>0.00</td>\n",
       "      <td>0.0</td>\n",
       "      <td>0.0</td>\n",
       "      <td>0.00</td>\n",
       "    </tr>\n",
       "    <tr>\n",
       "      <th>728700</th>\n",
       "      <td>2.0</td>\n",
       "      <td>2018-01-31 23:28:16</td>\n",
       "      <td>2018-01-31 23:28:38</td>\n",
       "      <td>1.0</td>\n",
       "      <td>0.00</td>\n",
       "      <td>1.0</td>\n",
       "      <td>N</td>\n",
       "      <td>7.0</td>\n",
       "      <td>193.0</td>\n",
       "      <td>2.0</td>\n",
       "      <td>0.0</td>\n",
       "      <td>0.0</td>\n",
       "      <td>0.0</td>\n",
       "      <td>0.00</td>\n",
       "      <td>0.0</td>\n",
       "      <td>0.0</td>\n",
       "      <td>0.00</td>\n",
       "    </tr>\n",
       "  </tbody>\n",
       "</table>\n",
       "</div>"
      ],
      "text/plain": [
       "        VendorID tpep_pickup_datetime tpep_dropoff_datetime  passenger_count  \\\n",
       "728696       1.0  2018-01-31 23:21:35   2018-01-31 23:34:20              2.0   \n",
       "728697       1.0  2018-01-31 23:35:51   2018-01-31 23:38:57              1.0   \n",
       "728698       2.0  2018-01-31 23:28:00   2018-01-31 23:37:09              1.0   \n",
       "728699       2.0  2018-01-31 23:24:40   2018-01-31 23:25:28              1.0   \n",
       "728700       2.0  2018-01-31 23:28:16   2018-01-31 23:28:38              1.0   \n",
       "\n",
       "        trip_distance  RatecodeID store_and_fwd_flag  PULocationID  \\\n",
       "728696           2.80         1.0                  N         158.0   \n",
       "728697           0.60         1.0                  N         163.0   \n",
       "728698           2.95         1.0                  N          74.0   \n",
       "728699           0.00         1.0                  N           7.0   \n",
       "728700           0.00         1.0                  N           7.0   \n",
       "\n",
       "        DOLocationID  payment_type  fare_amount  extra  mta_tax  tip_amount  \\\n",
       "728696         163.0           1.0         12.0    0.5      0.5        2.65   \n",
       "728697         162.0           1.0          4.5    0.5      0.5        1.15   \n",
       "728698          69.0           2.0         10.5    0.5      0.5        0.00   \n",
       "728699         193.0           2.0          0.0    0.0      0.0        0.00   \n",
       "728700         193.0           2.0          0.0    0.0      0.0        0.00   \n",
       "\n",
       "        tolls_amount  improvement_surcharge  total_amount  \n",
       "728696           0.0                    0.3         15.95  \n",
       "728697           0.0                    0.3          6.95  \n",
       "728698           0.0                    0.3         11.80  \n",
       "728699           0.0                    0.0          0.00  \n",
       "728700           0.0                    0.0          0.00  "
      ]
     },
     "metadata": {},
     "output_type": "display_data"
    },
    {
     "name": "stdout",
     "output_type": "stream",
     "text": [
      "CPU times: total: 1.86 s\n",
      "Wall time: 1.86 s\n"
     ]
    }
   ],
   "source": [
    "%%time\n",
    "t0 = datetime.now()\n",
    "\n",
    "display(df_dask.tail())\n",
    "\n",
    "t1 = datetime.now()\n",
    "tt =  t1 - t0\n",
    "\n",
    "tiempos['dask'].append(tt.total_seconds())"
   ]
  },
  {
   "cell_type": "markdown",
   "id": "2267760c-1952-401d-8d32-5a95b66022bd",
   "metadata": {},
   "source": [
    "<hr style=\"border-color:black\">"
   ]
  },
  {
   "cell_type": "markdown",
   "id": "f1ca6dd7-372a-4341-8ee2-b56f9aae903e",
   "metadata": {},
   "source": [
    "<div style=\"font-size:14px; text-align:center\"><b>VAEX</b><br></div>"
   ]
  },
  {
   "cell_type": "markdown",
   "id": "a551dfa1-f19d-499d-b0e1-babb68b765f5",
   "metadata": {},
   "source": [
    "<div style=\"font-size:14px; text-align:justify\"><b>1: </b>Importación de librería.</div>"
   ]
  },
  {
   "cell_type": "code",
   "execution_count": 17,
   "id": "713bfb36-62ed-4487-a0d6-666f6fe92a46",
   "metadata": {},
   "outputs": [
    {
     "name": "stdout",
     "output_type": "stream",
     "text": [
      "CPU times: total: 1.61 s\n",
      "Wall time: 1.77 s\n"
     ]
    }
   ],
   "source": [
    "%%time\n",
    "t0 = datetime.now()\n",
    "\n",
    "import vaex\n",
    "\n",
    "t1 = datetime.now()\n",
    "tt =  t1 - t0\n",
    "\n",
    "tiempos['vaex'].append(tt.total_seconds())"
   ]
  },
  {
   "cell_type": "markdown",
   "id": "8a3b4e3d-4aee-461c-8079-e22ca07cce2b",
   "metadata": {},
   "source": [
    "<div style=\"font-size:14px; text-align:justify\"><b>2: </b>Importación del dataframe en formatos '.parquet' y '.csv'.</div>"
   ]
  },
  {
   "cell_type": "code",
   "execution_count": 18,
   "id": "033e5d1c-dc0a-44d2-9a13-3f151eedf011",
   "metadata": {},
   "outputs": [
    {
     "name": "stdout",
     "output_type": "stream",
     "text": [
      "CPU times: total: 1.05 s\n",
      "Wall time: 1.18 s\n"
     ]
    }
   ],
   "source": [
    "%%time\n",
    "t0 = datetime.now()\n",
    "\n",
    "df_vaex = vaex.open('yellow_tripdata_2018-01.parquet')\n",
    "\n",
    "t1 = datetime.now()\n",
    "tt =  t1 - t0\n",
    "\n",
    "tiempos['vaex'].append(tt.total_seconds())"
   ]
  },
  {
   "cell_type": "code",
   "execution_count": 19,
   "id": "946aa4eb-2873-45c6-909e-3ed5a0d4870d",
   "metadata": {},
   "outputs": [
    {
     "name": "stdout",
     "output_type": "stream",
     "text": [
      "CPU times: total: 21.8 s\n",
      "Wall time: 21.4 s\n"
     ]
    }
   ],
   "source": [
    "%%time\n",
    "t0 = datetime.now()\n",
    "\n",
    "df_vaex = vaex.from_csv('yellow_tripdata_2018-01.csv')\n",
    "\n",
    "t1 = datetime.now()\n",
    "tt =  t1 - t0\n",
    "\n",
    "tiempos['vaex'].append(tt.total_seconds())"
   ]
  },
  {
   "cell_type": "markdown",
   "id": "50e9e36b-b0b7-4cbd-bc3f-0d58009c3be9",
   "metadata": {},
   "source": [
    "<div style=\"font-size:14px; text-align:justify\"><b>2.1: </b>Exportación a formato '.hdf5'.</div>"
   ]
  },
  {
   "cell_type": "code",
   "execution_count": 20,
   "id": "0677612f-d798-4ea5-88ac-e7989b26289a",
   "metadata": {},
   "outputs": [
    {
     "name": "stdout",
     "output_type": "stream",
     "text": [
      "CPU times: total: 5.95 s\n",
      "Wall time: 9.08 s\n"
     ]
    }
   ],
   "source": [
    "%%time\n",
    "\n",
    "df_vaex.export('yellow_tripdata_2018-01.hdf5')"
   ]
  },
  {
   "cell_type": "code",
   "execution_count": 21,
   "id": "fa3c0a76-dc11-431b-abf6-c41aa9bfed2a",
   "metadata": {},
   "outputs": [
    {
     "name": "stdout",
     "output_type": "stream",
     "text": [
      "CPU times: total: 15.6 ms\n",
      "Wall time: 27.3 ms\n"
     ]
    }
   ],
   "source": [
    "%%time\n",
    "\n",
    "df_vaex = vaex.open('yellow_tripdata_2018-01.hdf5')"
   ]
  },
  {
   "cell_type": "markdown",
   "id": "03a5b917-3d9d-453b-ba69-20e67ebf14a2",
   "metadata": {},
   "source": [
    "En el paso 2.1 se puedo observar como existe nuevamente gran diferencia de tiempos al abrir el formato '.csv' y el '.parquet'. 15 segundos frente a 180 ms. \n",
    "\n",
    "Finalmente, en el paso 2.1 se trabaja con un formato optimizado para el trabajo en Big Data, pudiendo guardar incluso diferentes tipos de archivo en uno mismo. Tal es su optimizacion para este campo, que su lectura (de casi 9 M de filas) se hace en 30 ms."
   ]
  },
  {
   "cell_type": "markdown",
   "id": "8fb389b2-4920-40f4-ad9c-ce8796f0db99",
   "metadata": {},
   "source": [
    "<div style=\"font-size:14px; text-align:justify\"><b>3: </b>Descripción de los datos del dataframe.</div>"
   ]
  },
  {
   "cell_type": "code",
   "execution_count": 22,
   "id": "f8308396-370e-414e-bf6d-e1babbc895e7",
   "metadata": {},
   "outputs": [
    {
     "data": {
      "text/html": [
       "<style>.vaex-description pre {\n",
       "          max-width : 450px;\n",
       "          white-space : nowrap;\n",
       "          overflow : hidden;\n",
       "          text-overflow: ellipsis;\n",
       "        }\n",
       "\n",
       "        .vex-description pre:hover {\n",
       "          max-width : initial;\n",
       "          white-space: pre;\n",
       "        }</style>"
      ],
      "text/plain": [
       "<IPython.core.display.HTML object>"
      ]
     },
     "metadata": {},
     "output_type": "display_data"
    },
    {
     "data": {
      "text/html": [
       "<div><h2>yellow_tripdata_2018-01</h2> <b>rows</b>: 8,759,874</div><h2>Columns:</h2><table class='table-striped'><thead><tr><th>column</th><th>type</th><th>unit</th><th>description</th><th>expression</th></tr></thead><tr><td>VendorID</td><td>int64</td><td></td><td ><pre></pre></td><td></td></tr><tr><td>tpep_pickup_datetime</td><td>str</td><td></td><td ><pre></pre></td><td></td></tr><tr><td>tpep_dropoff_datetime</td><td>str</td><td></td><td ><pre></pre></td><td></td></tr><tr><td>passenger_count</td><td>int64</td><td></td><td ><pre></pre></td><td></td></tr><tr><td>trip_distance</td><td>float64</td><td></td><td ><pre></pre></td><td></td></tr><tr><td>RatecodeID</td><td>int64</td><td></td><td ><pre></pre></td><td></td></tr><tr><td>store_and_fwd_flag</td><td>str</td><td></td><td ><pre></pre></td><td></td></tr><tr><td>PULocationID</td><td>int64</td><td></td><td ><pre></pre></td><td></td></tr><tr><td>DOLocationID</td><td>int64</td><td></td><td ><pre></pre></td><td></td></tr><tr><td>payment_type</td><td>int64</td><td></td><td ><pre></pre></td><td></td></tr><tr><td>fare_amount</td><td>float64</td><td></td><td ><pre></pre></td><td></td></tr><tr><td>extra</td><td>float64</td><td></td><td ><pre></pre></td><td></td></tr><tr><td>mta_tax</td><td>float64</td><td></td><td ><pre></pre></td><td></td></tr><tr><td>tip_amount</td><td>float64</td><td></td><td ><pre></pre></td><td></td></tr><tr><td>tolls_amount</td><td>float64</td><td></td><td ><pre></pre></td><td></td></tr><tr><td>improvement_surcharge</td><td>float64</td><td></td><td ><pre></pre></td><td></td></tr><tr><td>total_amount</td><td>float64</td><td></td><td ><pre></pre></td><td></td></tr></table><h2>Data:</h2><table>\n",
       "<thead>\n",
       "<tr><th>#                                    </th><th>VendorID  </th><th>tpep_pickup_datetime  </th><th>tpep_dropoff_datetime  </th><th>passenger_count  </th><th>trip_distance  </th><th>RatecodeID  </th><th>store_and_fwd_flag  </th><th>PULocationID  </th><th>DOLocationID  </th><th>payment_type  </th><th>fare_amount  </th><th>extra  </th><th>mta_tax  </th><th>tip_amount  </th><th>tolls_amount  </th><th>improvement_surcharge  </th><th>total_amount  </th></tr>\n",
       "</thead>\n",
       "<tbody>\n",
       "<tr><td><i style='opacity: 0.6'>0</i>        </td><td>1         </td><td>2018-01-01 00:21:05   </td><td>2018-01-01 00:24:23    </td><td>1                </td><td>0.5            </td><td>1           </td><td>N                   </td><td>41            </td><td>24            </td><td>2             </td><td>4.5          </td><td>0.5    </td><td>0.5      </td><td>0.0         </td><td>0.0           </td><td>0.3                    </td><td>5.8           </td></tr>\n",
       "<tr><td><i style='opacity: 0.6'>1</i>        </td><td>1         </td><td>2018-01-01 00:44:55   </td><td>2018-01-01 01:03:05    </td><td>1                </td><td>2.7            </td><td>1           </td><td>N                   </td><td>239           </td><td>140           </td><td>2             </td><td>14.0         </td><td>0.5    </td><td>0.5      </td><td>0.0         </td><td>0.0           </td><td>0.3                    </td><td>15.3          </td></tr>\n",
       "<tr><td><i style='opacity: 0.6'>2</i>        </td><td>1         </td><td>2018-01-01 00:08:26   </td><td>2018-01-01 00:14:21    </td><td>2                </td><td>0.8            </td><td>1           </td><td>N                   </td><td>262           </td><td>141           </td><td>1             </td><td>6.0          </td><td>0.5    </td><td>0.5      </td><td>1.0         </td><td>0.0           </td><td>0.3                    </td><td>8.3           </td></tr>\n",
       "<tr><td><i style='opacity: 0.6'>3</i>        </td><td>1         </td><td>2018-01-01 00:20:22   </td><td>2018-01-01 00:52:51    </td><td>1                </td><td>10.2           </td><td>1           </td><td>N                   </td><td>140           </td><td>257           </td><td>2             </td><td>33.5         </td><td>0.5    </td><td>0.5      </td><td>0.0         </td><td>0.0           </td><td>0.3                    </td><td>34.8          </td></tr>\n",
       "<tr><td><i style='opacity: 0.6'>4</i>        </td><td>1         </td><td>2018-01-01 00:09:18   </td><td>2018-01-01 00:27:06    </td><td>2                </td><td>2.5            </td><td>1           </td><td>N                   </td><td>246           </td><td>239           </td><td>1             </td><td>12.5         </td><td>0.5    </td><td>0.5      </td><td>2.75        </td><td>0.0           </td><td>0.3                    </td><td>16.55         </td></tr>\n",
       "<tr><td>...                                  </td><td>...       </td><td>...                   </td><td>...                    </td><td>...              </td><td>...            </td><td>...         </td><td>...                 </td><td>...           </td><td>...           </td><td>...           </td><td>...          </td><td>...    </td><td>...      </td><td>...         </td><td>...           </td><td>...                    </td><td>...           </td></tr>\n",
       "<tr><td><i style='opacity: 0.6'>8,759,869</i></td><td>1         </td><td>2018-01-31 23:21:35   </td><td>2018-01-31 23:34:20    </td><td>2                </td><td>2.8            </td><td>1           </td><td>N                   </td><td>158           </td><td>163           </td><td>1             </td><td>12.0         </td><td>0.5    </td><td>0.5      </td><td>2.65        </td><td>0.0           </td><td>0.3                    </td><td>15.95         </td></tr>\n",
       "<tr><td><i style='opacity: 0.6'>8,759,870</i></td><td>1         </td><td>2018-01-31 23:35:51   </td><td>2018-01-31 23:38:57    </td><td>1                </td><td>0.6            </td><td>1           </td><td>N                   </td><td>163           </td><td>162           </td><td>1             </td><td>4.5          </td><td>0.5    </td><td>0.5      </td><td>1.15        </td><td>0.0           </td><td>0.3                    </td><td>6.95          </td></tr>\n",
       "<tr><td><i style='opacity: 0.6'>8,759,871</i></td><td>2         </td><td>2018-01-31 23:28:00   </td><td>2018-01-31 23:37:09    </td><td>1                </td><td>2.95           </td><td>1           </td><td>N                   </td><td>74            </td><td>69            </td><td>2             </td><td>10.5         </td><td>0.5    </td><td>0.5      </td><td>0.0         </td><td>0.0           </td><td>0.3                    </td><td>11.8          </td></tr>\n",
       "<tr><td><i style='opacity: 0.6'>8,759,872</i></td><td>2         </td><td>2018-01-31 23:24:40   </td><td>2018-01-31 23:25:28    </td><td>1                </td><td>0.0            </td><td>1           </td><td>N                   </td><td>7             </td><td>193           </td><td>2             </td><td>0.0          </td><td>0.0    </td><td>0.0      </td><td>0.0         </td><td>0.0           </td><td>0.0                    </td><td>0.0           </td></tr>\n",
       "<tr><td><i style='opacity: 0.6'>8,759,873</i></td><td>2         </td><td>2018-01-31 23:28:16   </td><td>2018-01-31 23:28:38    </td><td>1                </td><td>0.0            </td><td>1           </td><td>N                   </td><td>7             </td><td>193           </td><td>2             </td><td>0.0          </td><td>0.0    </td><td>0.0      </td><td>0.0         </td><td>0.0           </td><td>0.0                    </td><td>0.0           </td></tr>\n",
       "</tbody>\n",
       "</table>"
      ],
      "text/plain": [
       "<IPython.core.display.HTML object>"
      ]
     },
     "metadata": {},
     "output_type": "display_data"
    },
    {
     "data": {
      "text/plain": [
       "None"
      ]
     },
     "metadata": {},
     "output_type": "display_data"
    },
    {
     "name": "stdout",
     "output_type": "stream",
     "text": [
      "CPU times: total: 15.6 ms\n",
      "Wall time: 17.1 ms\n"
     ]
    }
   ],
   "source": [
    "%%time\n",
    "t0 = datetime.now()\n",
    "\n",
    "# Información del dataset de un modo más visual\n",
    "display(df_vaex.info())\n",
    "\n",
    "t1 = datetime.now()\n",
    "tt =  t1 - t0\n",
    "\n",
    "tiempos['vaex'].append(tt.total_seconds())"
   ]
  },
  {
   "cell_type": "markdown",
   "id": "4fdea626-d240-4202-8f0a-99aec39cc898",
   "metadata": {},
   "source": [
    "<div style=\"font-size:14px; text-align:justify\"><b>4: </b>Obtener el numero de valores para la columna 'fare_amount'.</div>"
   ]
  },
  {
   "cell_type": "code",
   "execution_count": 23,
   "id": "56e3a0af-8a06-46ce-bbee-02ea8e1afd85",
   "metadata": {},
   "outputs": [
    {
     "data": {
      "text/plain": [
       "6.00      473234\n",
       "5.50      465176\n",
       "6.50      461927\n",
       "7.00      446376\n",
       "5.00      433249\n",
       "           ...  \n",
       "63.70          1\n",
       "51.70          1\n",
       "268.50         1\n",
       "233.50         1\n",
       "281.62         1\n",
       "Length: 1714, dtype: int64"
      ]
     },
     "metadata": {},
     "output_type": "display_data"
    },
    {
     "name": "stdout",
     "output_type": "stream",
     "text": [
      "CPU times: total: 609 ms\n",
      "Wall time: 107 ms\n"
     ]
    }
   ],
   "source": [
    "%%time\n",
    "t0 = datetime.now()\n",
    "\n",
    "display(df_vaex.fare_amount.value_counts())\n",
    "\n",
    "t1 = datetime.now()\n",
    "tt =  t1 - t0\n",
    "\n",
    "tiempos['vaex'].append(tt.total_seconds())"
   ]
  },
  {
   "cell_type": "markdown",
   "id": "0fa3b193-5839-4071-8300-5d07cb696323",
   "metadata": {
    "tags": []
   },
   "source": [
    "<div style=\"font-size:14px; text-align:justify\"><b>5: </b>Obtener el tamaño del dataframe.</div>"
   ]
  },
  {
   "cell_type": "code",
   "execution_count": 24,
   "id": "95ba428a-92b8-4548-b35d-df1761b04c3d",
   "metadata": {},
   "outputs": [
    {
     "data": {
      "text/plain": [
       "array(8759874, dtype=int64)"
      ]
     },
     "metadata": {},
     "output_type": "display_data"
    },
    {
     "name": "stdout",
     "output_type": "stream",
     "text": [
      "CPU times: total: 78.1 ms\n",
      "Wall time: 20.3 ms\n"
     ]
    }
   ],
   "source": [
    "%%time\n",
    "t0 = datetime.now()\n",
    "\n",
    "display(df_vaex.count('*'))\n",
    "\n",
    "t1 = datetime.now()\n",
    "tt =  t1 - t0\n",
    "\n",
    "tiempos['vaex'].append(tt.total_seconds())"
   ]
  },
  {
   "cell_type": "markdown",
   "id": "d6d20037-4cbd-4716-8b97-04b0d3798c97",
   "metadata": {},
   "source": [
    "<div style=\"font-size:14px; text-align:justify\"><b>6: </b>Obtener últimos valores del dataframe.</div>"
   ]
  },
  {
   "cell_type": "code",
   "execution_count": 25,
   "id": "b044b472-6f22-484b-b95d-cd90056c1cc0",
   "metadata": {},
   "outputs": [
    {
     "data": {
      "text/html": [
       "<table>\n",
       "<thead>\n",
       "<tr><th>#                                    </th><th>VendorID  </th><th>tpep_pickup_datetime  </th><th>tpep_dropoff_datetime  </th><th>passenger_count  </th><th>trip_distance  </th><th>RatecodeID  </th><th>store_and_fwd_flag  </th><th>PULocationID  </th><th>DOLocationID  </th><th>payment_type  </th><th>fare_amount  </th><th>extra  </th><th>mta_tax  </th><th>tip_amount  </th><th>tolls_amount  </th><th>improvement_surcharge  </th><th>total_amount  </th></tr>\n",
       "</thead>\n",
       "<tbody>\n",
       "<tr><td><i style='opacity: 0.6'>0</i>        </td><td>1         </td><td>2018-01-01 00:21:05   </td><td>2018-01-01 00:24:23    </td><td>1                </td><td>0.5            </td><td>1           </td><td>N                   </td><td>41            </td><td>24            </td><td>2             </td><td>4.5          </td><td>0.5    </td><td>0.5      </td><td>0.0         </td><td>0.0           </td><td>0.3                    </td><td>5.8           </td></tr>\n",
       "<tr><td><i style='opacity: 0.6'>1</i>        </td><td>1         </td><td>2018-01-01 00:44:55   </td><td>2018-01-01 01:03:05    </td><td>1                </td><td>2.7            </td><td>1           </td><td>N                   </td><td>239           </td><td>140           </td><td>2             </td><td>14.0         </td><td>0.5    </td><td>0.5      </td><td>0.0         </td><td>0.0           </td><td>0.3                    </td><td>15.3          </td></tr>\n",
       "<tr><td><i style='opacity: 0.6'>2</i>        </td><td>1         </td><td>2018-01-01 00:08:26   </td><td>2018-01-01 00:14:21    </td><td>2                </td><td>0.8            </td><td>1           </td><td>N                   </td><td>262           </td><td>141           </td><td>1             </td><td>6.0          </td><td>0.5    </td><td>0.5      </td><td>1.0         </td><td>0.0           </td><td>0.3                    </td><td>8.3           </td></tr>\n",
       "<tr><td><i style='opacity: 0.6'>3</i>        </td><td>1         </td><td>2018-01-01 00:20:22   </td><td>2018-01-01 00:52:51    </td><td>1                </td><td>10.2           </td><td>1           </td><td>N                   </td><td>140           </td><td>257           </td><td>2             </td><td>33.5         </td><td>0.5    </td><td>0.5      </td><td>0.0         </td><td>0.0           </td><td>0.3                    </td><td>34.8          </td></tr>\n",
       "<tr><td><i style='opacity: 0.6'>4</i>        </td><td>1         </td><td>2018-01-01 00:09:18   </td><td>2018-01-01 00:27:06    </td><td>2                </td><td>2.5            </td><td>1           </td><td>N                   </td><td>246           </td><td>239           </td><td>1             </td><td>12.5         </td><td>0.5    </td><td>0.5      </td><td>2.75        </td><td>0.0           </td><td>0.3                    </td><td>16.55         </td></tr>\n",
       "<tr><td>...                                  </td><td>...       </td><td>...                   </td><td>...                    </td><td>...              </td><td>...            </td><td>...         </td><td>...                 </td><td>...           </td><td>...           </td><td>...           </td><td>...          </td><td>...    </td><td>...      </td><td>...         </td><td>...           </td><td>...                    </td><td>...           </td></tr>\n",
       "<tr><td><i style='opacity: 0.6'>8,759,869</i></td><td>1         </td><td>2018-01-31 23:21:35   </td><td>2018-01-31 23:34:20    </td><td>2                </td><td>2.8            </td><td>1           </td><td>N                   </td><td>158           </td><td>163           </td><td>1             </td><td>12.0         </td><td>0.5    </td><td>0.5      </td><td>2.65        </td><td>0.0           </td><td>0.3                    </td><td>15.95         </td></tr>\n",
       "<tr><td><i style='opacity: 0.6'>8,759,870</i></td><td>1         </td><td>2018-01-31 23:35:51   </td><td>2018-01-31 23:38:57    </td><td>1                </td><td>0.6            </td><td>1           </td><td>N                   </td><td>163           </td><td>162           </td><td>1             </td><td>4.5          </td><td>0.5    </td><td>0.5      </td><td>1.15        </td><td>0.0           </td><td>0.3                    </td><td>6.95          </td></tr>\n",
       "<tr><td><i style='opacity: 0.6'>8,759,871</i></td><td>2         </td><td>2018-01-31 23:28:00   </td><td>2018-01-31 23:37:09    </td><td>1                </td><td>2.95           </td><td>1           </td><td>N                   </td><td>74            </td><td>69            </td><td>2             </td><td>10.5         </td><td>0.5    </td><td>0.5      </td><td>0.0         </td><td>0.0           </td><td>0.3                    </td><td>11.8          </td></tr>\n",
       "<tr><td><i style='opacity: 0.6'>8,759,872</i></td><td>2         </td><td>2018-01-31 23:24:40   </td><td>2018-01-31 23:25:28    </td><td>1                </td><td>0.0            </td><td>1           </td><td>N                   </td><td>7             </td><td>193           </td><td>2             </td><td>0.0          </td><td>0.0    </td><td>0.0      </td><td>0.0         </td><td>0.0           </td><td>0.0                    </td><td>0.0           </td></tr>\n",
       "<tr><td><i style='opacity: 0.6'>8,759,873</i></td><td>2         </td><td>2018-01-31 23:28:16   </td><td>2018-01-31 23:28:38    </td><td>1                </td><td>0.0            </td><td>1           </td><td>N                   </td><td>7             </td><td>193           </td><td>2             </td><td>0.0          </td><td>0.0    </td><td>0.0      </td><td>0.0         </td><td>0.0           </td><td>0.0                    </td><td>0.0           </td></tr>\n",
       "</tbody>\n",
       "</table>"
      ],
      "text/plain": [
       "#          VendorID    tpep_pickup_datetime    tpep_dropoff_datetime    passenger_count    trip_distance    RatecodeID    store_and_fwd_flag    PULocationID    DOLocationID    payment_type    fare_amount    extra    mta_tax    tip_amount    tolls_amount    improvement_surcharge    total_amount\n",
       "0          1           2018-01-01 00:21:05     2018-01-01 00:24:23      1                  0.5              1             N                     41              24              2               4.5            0.5      0.5        0.0           0.0             0.3                      5.8\n",
       "1          1           2018-01-01 00:44:55     2018-01-01 01:03:05      1                  2.7              1             N                     239             140             2               14.0           0.5      0.5        0.0           0.0             0.3                      15.3\n",
       "2          1           2018-01-01 00:08:26     2018-01-01 00:14:21      2                  0.8              1             N                     262             141             1               6.0            0.5      0.5        1.0           0.0             0.3                      8.3\n",
       "3          1           2018-01-01 00:20:22     2018-01-01 00:52:51      1                  10.2             1             N                     140             257             2               33.5           0.5      0.5        0.0           0.0             0.3                      34.8\n",
       "4          1           2018-01-01 00:09:18     2018-01-01 00:27:06      2                  2.5              1             N                     246             239             1               12.5           0.5      0.5        2.75          0.0             0.3                      16.55\n",
       "...        ...         ...                     ...                      ...                ...              ...           ...                   ...             ...             ...             ...            ...      ...        ...           ...             ...                      ...\n",
       "8,759,869  1           2018-01-31 23:21:35     2018-01-31 23:34:20      2                  2.8              1             N                     158             163             1               12.0           0.5      0.5        2.65          0.0             0.3                      15.95\n",
       "8,759,870  1           2018-01-31 23:35:51     2018-01-31 23:38:57      1                  0.6              1             N                     163             162             1               4.5            0.5      0.5        1.15          0.0             0.3                      6.95\n",
       "8,759,871  2           2018-01-31 23:28:00     2018-01-31 23:37:09      1                  2.95             1             N                     74              69              2               10.5           0.5      0.5        0.0           0.0             0.3                      11.8\n",
       "8,759,872  2           2018-01-31 23:24:40     2018-01-31 23:25:28      1                  0.0              1             N                     7               193             2               0.0            0.0      0.0        0.0           0.0             0.0                      0.0\n",
       "8,759,873  2           2018-01-31 23:28:16     2018-01-31 23:28:38      1                  0.0              1             N                     7               193             2               0.0            0.0      0.0        0.0           0.0             0.0                      0.0"
      ]
     },
     "metadata": {},
     "output_type": "display_data"
    },
    {
     "name": "stdout",
     "output_type": "stream",
     "text": [
      "CPU times: total: 15.6 ms\n",
      "Wall time: 24 ms\n"
     ]
    }
   ],
   "source": [
    "%%time\n",
    "t0 = datetime.now()\n",
    "\n",
    "display(df_vaex)\n",
    "\n",
    "t1 = datetime.now()\n",
    "tt =  t1 - t0\n",
    "\n",
    "tiempos['vaex'].append(tt.total_seconds())"
   ]
  },
  {
   "cell_type": "markdown",
   "id": "d02bbc0c-cdfc-433b-a1e9-6f32184e1ac9",
   "metadata": {},
   "source": [
    "<hr style=\"border-color:black\">"
   ]
  },
  {
   "cell_type": "markdown",
   "id": "fef9d528-1a81-4d3c-8615-4dc7c2f2c982",
   "metadata": {},
   "source": [
    "<div style=\"font-size:14px; text-align:center\"><b>CONCLUSIONES</b><br></div>"
   ]
  },
  {
   "cell_type": "code",
   "execution_count": 26,
   "id": "a3614f3a-6fe1-4ed0-b4cc-116627eab945",
   "metadata": {},
   "outputs": [
    {
     "data": {
      "text/html": [
       "<div>\n",
       "<style scoped>\n",
       "    .dataframe tbody tr th:only-of-type {\n",
       "        vertical-align: middle;\n",
       "    }\n",
       "\n",
       "    .dataframe tbody tr th {\n",
       "        vertical-align: top;\n",
       "    }\n",
       "\n",
       "    .dataframe thead th {\n",
       "        text-align: right;\n",
       "    }\n",
       "</style>\n",
       "<table border=\"1\" class=\"dataframe\">\n",
       "  <thead>\n",
       "    <tr style=\"text-align: right;\">\n",
       "      <th></th>\n",
       "      <th>pandas</th>\n",
       "      <th>dask</th>\n",
       "      <th>vaex</th>\n",
       "    </tr>\n",
       "    <tr>\n",
       "      <th>index</th>\n",
       "      <th></th>\n",
       "      <th></th>\n",
       "      <th></th>\n",
       "    </tr>\n",
       "  </thead>\n",
       "  <tbody>\n",
       "    <tr>\n",
       "      <th>import</th>\n",
       "      <td>0.900306</td>\n",
       "      <td>1.006165</td>\n",
       "      <td>1.758527</td>\n",
       "    </tr>\n",
       "    <tr>\n",
       "      <th>read parquet</th>\n",
       "      <td>2.411928</td>\n",
       "      <td>0.020240</td>\n",
       "      <td>1.184220</td>\n",
       "    </tr>\n",
       "    <tr>\n",
       "      <th>read csv</th>\n",
       "      <td>17.723860</td>\n",
       "      <td>0.016702</td>\n",
       "      <td>21.434815</td>\n",
       "    </tr>\n",
       "    <tr>\n",
       "      <th>describe</th>\n",
       "      <td>5.248580</td>\n",
       "      <td>20.730992</td>\n",
       "      <td>0.017079</td>\n",
       "    </tr>\n",
       "    <tr>\n",
       "      <th>values counts</th>\n",
       "      <td>0.175113</td>\n",
       "      <td>5.527854</td>\n",
       "      <td>0.107135</td>\n",
       "    </tr>\n",
       "    <tr>\n",
       "      <th>shape</th>\n",
       "      <td>0.003008</td>\n",
       "      <td>15.129083</td>\n",
       "      <td>0.020252</td>\n",
       "    </tr>\n",
       "    <tr>\n",
       "      <th>data</th>\n",
       "      <td>0.025954</td>\n",
       "      <td>1.864280</td>\n",
       "      <td>0.024000</td>\n",
       "    </tr>\n",
       "  </tbody>\n",
       "</table>\n",
       "</div>"
      ],
      "text/plain": [
       "                  pandas       dask       vaex\n",
       "index                                         \n",
       "import          0.900306   1.006165   1.758527\n",
       "read parquet    2.411928   0.020240   1.184220\n",
       "read csv       17.723860   0.016702  21.434815\n",
       "describe        5.248580  20.730992   0.017079\n",
       "values counts   0.175113   5.527854   0.107135\n",
       "shape           0.003008  15.129083   0.020252\n",
       "data            0.025954   1.864280   0.024000"
      ]
     },
     "execution_count": 26,
     "metadata": {},
     "output_type": "execute_result"
    }
   ],
   "source": [
    "tiempos = pd.DataFrame.from_dict(tiempos).set_index('index')\n",
    "\n",
    "tiempos"
   ]
  },
  {
   "cell_type": "code",
   "execution_count": 27,
   "id": "83cee77e-f869-40f0-8da8-1692f42ce4f8",
   "metadata": {},
   "outputs": [
    {
     "data": {
      "text/plain": [
       "<AxesSubplot:xlabel='index'>"
      ]
     },
     "execution_count": 27,
     "metadata": {},
     "output_type": "execute_result"
    },
    {
     "data": {
      "image/png": "[encoded data removed]",
      "text/plain": [
       "<Figure size 432x288 with 1 Axes>"
      ]
     },
     "metadata": {
      "needs_background": "light"
     },
     "output_type": "display_data"
    }
   ],
   "source": [
    "tiempos.plot(kind='bar', stacked=True)"
   ]
  },
  {
   "cell_type": "code",
   "execution_count": 28,
   "id": "6aea606f-3fa9-4915-a8ff-8a27715b5c48",
   "metadata": {},
   "outputs": [
    {
     "data": {
      "text/html": [
       "<div>\n",
       "<style scoped>\n",
       "    .dataframe tbody tr th:only-of-type {\n",
       "        vertical-align: middle;\n",
       "    }\n",
       "\n",
       "    .dataframe tbody tr th {\n",
       "        vertical-align: top;\n",
       "    }\n",
       "\n",
       "    .dataframe thead th {\n",
       "        text-align: right;\n",
       "    }\n",
       "</style>\n",
       "<table border=\"1\" class=\"dataframe\">\n",
       "  <thead>\n",
       "    <tr style=\"text-align: right;\">\n",
       "      <th></th>\n",
       "      <th>pandas</th>\n",
       "      <th>dask</th>\n",
       "      <th>vaex</th>\n",
       "    </tr>\n",
       "  </thead>\n",
       "  <tbody>\n",
       "    <tr>\n",
       "      <th>count</th>\n",
       "      <td>7.000000</td>\n",
       "      <td>7.000000</td>\n",
       "      <td>7.000000</td>\n",
       "    </tr>\n",
       "    <tr>\n",
       "      <th>mean</th>\n",
       "      <td>3.784107</td>\n",
       "      <td>6.327902</td>\n",
       "      <td>3.506575</td>\n",
       "    </tr>\n",
       "    <tr>\n",
       "      <th>std</th>\n",
       "      <td>6.430472</td>\n",
       "      <td>8.300728</td>\n",
       "      <td>7.936061</td>\n",
       "    </tr>\n",
       "    <tr>\n",
       "      <th>min</th>\n",
       "      <td>0.003008</td>\n",
       "      <td>0.016702</td>\n",
       "      <td>0.017079</td>\n",
       "    </tr>\n",
       "    <tr>\n",
       "      <th>25%</th>\n",
       "      <td>0.100533</td>\n",
       "      <td>0.513203</td>\n",
       "      <td>0.022126</td>\n",
       "    </tr>\n",
       "    <tr>\n",
       "      <th>50%</th>\n",
       "      <td>0.900306</td>\n",
       "      <td>1.864280</td>\n",
       "      <td>0.107135</td>\n",
       "    </tr>\n",
       "    <tr>\n",
       "      <th>75%</th>\n",
       "      <td>3.830254</td>\n",
       "      <td>10.328468</td>\n",
       "      <td>1.471373</td>\n",
       "    </tr>\n",
       "    <tr>\n",
       "      <th>max</th>\n",
       "      <td>17.723860</td>\n",
       "      <td>20.730992</td>\n",
       "      <td>21.434815</td>\n",
       "    </tr>\n",
       "  </tbody>\n",
       "</table>\n",
       "</div>"
      ],
      "text/plain": [
       "          pandas       dask       vaex\n",
       "count   7.000000   7.000000   7.000000\n",
       "mean    3.784107   6.327902   3.506575\n",
       "std     6.430472   8.300728   7.936061\n",
       "min     0.003008   0.016702   0.017079\n",
       "25%     0.100533   0.513203   0.022126\n",
       "50%     0.900306   1.864280   0.107135\n",
       "75%     3.830254  10.328468   1.471373\n",
       "max    17.723860  20.730992  21.434815"
      ]
     },
     "execution_count": 28,
     "metadata": {},
     "output_type": "execute_result"
    }
   ],
   "source": [
    "tiempos.describe()"
   ]
  },
  {
   "cell_type": "markdown",
   "id": "cbfd5b69-b255-4e8e-bca8-66daeaa3cbd5",
   "metadata": {},
   "source": [
    "Como conclusion, la libreria **vaex** tiene una mayor ventaja que el resto para un análisis de datos tipo BigData. Pese a obtener un tiempo máximo mayor al resto en uno de los procesos y no el menor mínimo, se aprecia como su rendimiento es mejor en la comparación.\n",
    "\n",
    "Además, con el mencionado archivo .hdf5, su lectura es en milisegundos. Por ende, un tipo de archivo preparado para Big Data con una herramiento preparada para el Big Data, hacen un perfecto tándem."
   ]
  },
  {
   "cell_type": "markdown",
   "id": "ca758f12-bfba-472b-b8c4-9891b90c74ba",
   "metadata": {},
   "source": [
    " "
   ]
  },
  {
   "cell_type": "markdown",
   "id": "a5215e9c-1136-423e-a410-f8033d98e799",
   "metadata": {},
   "source": [
    "  "
   ]
  },
  {
   "cell_type": "markdown",
   "id": "072a76d8-eea3-4584-aad6-f982a7ea1573",
   "metadata": {},
   "source": [
    "<div style=\"font-size:14px; text-align:justify\"><b>SEGUNDA PARTE.-</b><br></div>"
   ]
  },
  {
   "cell_type": "markdown",
   "id": "dffe9025-48f0-4489-9035-4a30ac972363",
   "metadata": {},
   "source": [
    "Elegir entre VAEX o DASK para realizar de forma autodidacta un análisis de un dataset.\n",
    "\n",
    "En este caso, la libreria escogida por las conclusiones obtenidas es **VAEX**"
   ]
  },
  {
   "cell_type": "markdown",
   "id": "0cfbe7ef-3378-4136-b703-547d86bfcf3f",
   "metadata": {},
   "source": [
    "<div style=\"font-size:14px; text-align:center\"><b>VAEX</b><br></div>"
   ]
  },
  {
   "cell_type": "markdown",
   "id": "09f3b743-e33b-4eb3-99af-84da40618e81",
   "metadata": {},
   "source": [
    "Como ejemplo para el uso de esta libreria, se ha escogido un dataset de kaggle para \"Data Science Job Salaries\"\n",
    "\n",
    "**Fuente:** <a href=\"https://www.kaggle.com/datasets/ruchi798/data-science-job-salaries\">Dataset<a>"
   ]
  },
  {
   "cell_type": "markdown",
   "id": "b6d85a74-39ff-44ed-ba1b-d2faa87e483a",
   "metadata": {},
   "source": [
    " "
   ]
  },
  {
   "cell_type": "markdown",
   "id": "7cab7860-ca0b-40e6-9f67-cdc9b1b95eb1",
   "metadata": {},
   "source": [
    "**1-** Importar los datos y mostrarlos"
   ]
  },
  {
   "cell_type": "code",
   "execution_count": 29,
   "id": "cbedec44-53a3-4955-874e-c7198eb13af3",
   "metadata": {
    "tags": []
   },
   "outputs": [],
   "source": [
    "import numpy as np\n",
    "import pylab as plt\n",
    "import seaborn as sns"
   ]
  },
  {
   "cell_type": "code",
   "execution_count": 30,
   "id": "85c9c1cb-f6f3-42e1-b586-b01168f026b0",
   "metadata": {},
   "outputs": [
    {
     "name": "stdout",
     "output_type": "stream",
     "text": [
      "CPU times: total: 15.6 ms\n",
      "Wall time: 11.1 ms\n"
     ]
    }
   ],
   "source": [
    "%%time\n",
    "df = vaex.from_csv('ds_salaries.csv')"
   ]
  },
  {
   "cell_type": "code",
   "execution_count": 31,
   "id": "32e84325-6e0d-46da-b6a1-1b03faeb71fe",
   "metadata": {
    "tags": []
   },
   "outputs": [
    {
     "data": {
      "text/html": [
       "<style>.vaex-description pre {\n",
       "          max-width : 450px;\n",
       "          white-space : nowrap;\n",
       "          overflow : hidden;\n",
       "          text-overflow: ellipsis;\n",
       "        }\n",
       "\n",
       "        .vex-description pre:hover {\n",
       "          max-width : initial;\n",
       "          white-space: pre;\n",
       "        }</style>"
      ],
      "text/plain": [
       "<IPython.core.display.HTML object>"
      ]
     },
     "metadata": {},
     "output_type": "display_data"
    },
    {
     "data": {
      "text/html": [
       "<div><h2>no-name</h2> <b>rows</b>: 607</div><h2>Columns:</h2><table class='table-striped'><thead><tr><th>column</th><th>type</th><th>unit</th><th>description</th><th>expression</th></tr></thead><tr><td>Unnamed: 0</td><td>int64</td><td></td><td ><pre></pre></td><td></td></tr><tr><td>work_year</td><td>int64</td><td></td><td ><pre></pre></td><td></td></tr><tr><td>experience_level</td><td>str</td><td></td><td ><pre></pre></td><td></td></tr><tr><td>employment_type</td><td>str</td><td></td><td ><pre></pre></td><td></td></tr><tr><td>job_title</td><td>str</td><td></td><td ><pre></pre></td><td></td></tr><tr><td>salary</td><td>int64</td><td></td><td ><pre></pre></td><td></td></tr><tr><td>salary_currency</td><td>str</td><td></td><td ><pre></pre></td><td></td></tr><tr><td>salary_in_usd</td><td>int64</td><td></td><td ><pre></pre></td><td></td></tr><tr><td>employee_residence</td><td>str</td><td></td><td ><pre></pre></td><td></td></tr><tr><td>remote_ratio</td><td>int64</td><td></td><td ><pre></pre></td><td></td></tr><tr><td>company_location</td><td>str</td><td></td><td ><pre></pre></td><td></td></tr><tr><td>company_size</td><td>str</td><td></td><td ><pre></pre></td><td></td></tr></table><h2>Data:</h2><table>\n",
       "<thead>\n",
       "<tr><th>#                              </th><th>Unnamed: 0  </th><th>work_year  </th><th>experience_level  </th><th>employment_type  </th><th>job_title                 </th><th>salary  </th><th>salary_currency  </th><th>salary_in_usd  </th><th>employee_residence  </th><th>remote_ratio  </th><th>company_location  </th><th>company_size  </th></tr>\n",
       "</thead>\n",
       "<tbody>\n",
       "<tr><td><i style='opacity: 0.6'>0</i>  </td><td>0           </td><td>2020       </td><td>MI                </td><td>FT               </td><td>Data Scientist            </td><td>70000   </td><td>EUR              </td><td>79833          </td><td>DE                  </td><td>0             </td><td>DE                </td><td>L             </td></tr>\n",
       "<tr><td><i style='opacity: 0.6'>1</i>  </td><td>1           </td><td>2020       </td><td>SE                </td><td>FT               </td><td>Machine Learning Scientist</td><td>260000  </td><td>USD              </td><td>260000         </td><td>JP                  </td><td>0             </td><td>JP                </td><td>S             </td></tr>\n",
       "<tr><td><i style='opacity: 0.6'>2</i>  </td><td>2           </td><td>2020       </td><td>SE                </td><td>FT               </td><td>Big Data Engineer         </td><td>85000   </td><td>GBP              </td><td>109024         </td><td>GB                  </td><td>50            </td><td>GB                </td><td>M             </td></tr>\n",
       "<tr><td><i style='opacity: 0.6'>3</i>  </td><td>3           </td><td>2020       </td><td>MI                </td><td>FT               </td><td>Product Data Analyst      </td><td>20000   </td><td>USD              </td><td>20000          </td><td>HN                  </td><td>0             </td><td>HN                </td><td>S             </td></tr>\n",
       "<tr><td><i style='opacity: 0.6'>4</i>  </td><td>4           </td><td>2020       </td><td>SE                </td><td>FT               </td><td>Machine Learning Engineer </td><td>150000  </td><td>USD              </td><td>150000         </td><td>US                  </td><td>50            </td><td>US                </td><td>L             </td></tr>\n",
       "<tr><td>...                            </td><td>...         </td><td>...        </td><td>...               </td><td>...              </td><td>...                       </td><td>...     </td><td>...              </td><td>...            </td><td>...                 </td><td>...           </td><td>...               </td><td>...           </td></tr>\n",
       "<tr><td><i style='opacity: 0.6'>602</i></td><td>602         </td><td>2022       </td><td>SE                </td><td>FT               </td><td>Data Engineer             </td><td>154000  </td><td>USD              </td><td>154000         </td><td>US                  </td><td>100           </td><td>US                </td><td>M             </td></tr>\n",
       "<tr><td><i style='opacity: 0.6'>603</i></td><td>603         </td><td>2022       </td><td>SE                </td><td>FT               </td><td>Data Engineer             </td><td>126000  </td><td>USD              </td><td>126000         </td><td>US                  </td><td>100           </td><td>US                </td><td>M             </td></tr>\n",
       "<tr><td><i style='opacity: 0.6'>604</i></td><td>604         </td><td>2022       </td><td>SE                </td><td>FT               </td><td>Data Analyst              </td><td>129000  </td><td>USD              </td><td>129000         </td><td>US                  </td><td>0             </td><td>US                </td><td>M             </td></tr>\n",
       "<tr><td><i style='opacity: 0.6'>605</i></td><td>605         </td><td>2022       </td><td>SE                </td><td>FT               </td><td>Data Analyst              </td><td>150000  </td><td>USD              </td><td>150000         </td><td>US                  </td><td>100           </td><td>US                </td><td>M             </td></tr>\n",
       "<tr><td><i style='opacity: 0.6'>606</i></td><td>606         </td><td>2022       </td><td>MI                </td><td>FT               </td><td>AI Scientist              </td><td>200000  </td><td>USD              </td><td>200000         </td><td>IN                  </td><td>100           </td><td>US                </td><td>L             </td></tr>\n",
       "</tbody>\n",
       "</table>"
      ],
      "text/plain": [
       "<IPython.core.display.HTML object>"
      ]
     },
     "metadata": {},
     "output_type": "display_data"
    },
    {
     "name": "stdout",
     "output_type": "stream",
     "text": [
      "CPU times: total: 15.6 ms\n",
      "Wall time: 18.8 ms\n"
     ]
    }
   ],
   "source": [
    "%%time\n",
    "df.info()"
   ]
  },
  {
   "cell_type": "markdown",
   "id": "eddf2fca-126b-4065-9f16-6e887dae3f1f",
   "metadata": {
    "tags": []
   },
   "source": [
    "**Explicacion de las columnas**\n",
    "\n",
    "    - Work year: Año del salario.\n",
    "    - Experience level: \n",
    "        EN: Entry-level/Junior.\n",
    "        MI: Mid-level/Intermediate.\n",
    "        SE: Senior-level/Expert.\n",
    "        EX: Executive-level/Director.\n",
    "    - Employement type:\n",
    "        PT: Part time.\n",
    "        FT: Full time.\n",
    "        CT: Contract.\n",
    "        FL: Freelance.\n",
    "    - Job title: El rol que se desempeña.\n",
    "    - Salary: El salario.\n",
    "    - Salary currency:  La moneda de pago del salario.\n",
    "    - Salary in USD: Equivalencia del salario en USD.\n",
    "    - Employee residence: Lugar de residencia del empleado.\n",
    "    - Remote ratio: La cantidad de trabajo realizado en remoto (0-50-100)\n",
    "    - Company location: Lugar de la empresa\n",
    "    - Company size: Tamaño de la empresa\n",
    "        S < 50 empleados.\n",
    "        50 < M < 250 empleados.\n",
    "        L  > 250 empleados.\n",
    "    \n",
    "    "
   ]
  },
  {
   "cell_type": "markdown",
   "id": "34e5be3f-15ab-4bf3-8097-08b978b75125",
   "metadata": {},
   "source": [
    "**2-** Eliminar columnas"
   ]
  },
  {
   "cell_type": "markdown",
   "id": "37ff7adc-be2f-4c4e-b4c4-15a5e5cd665f",
   "metadata": {},
   "source": [
    "Vemos que hay una columna sin nombrar que se va a eliminar.\n",
    "También se elimina *Employee residence* ya que con el lugar de la empresa vemos suficiente"
   ]
  },
  {
   "cell_type": "code",
   "execution_count": 32,
   "id": "770df22a-6140-42a7-a76b-902378849a59",
   "metadata": {},
   "outputs": [],
   "source": [
    "df = df.drop(['Unnamed: 0', 'employee_residence'])"
   ]
  },
  {
   "cell_type": "code",
   "execution_count": 33,
   "id": "d7b2437f-6d52-4078-bcde-5a775272c264",
   "metadata": {},
   "outputs": [
    {
     "data": {
      "text/html": [
       "<table>\n",
       "<thead>\n",
       "<tr><th>#                              </th><th>work_year  </th><th>experience_level  </th><th>employment_type  </th><th>job_title                 </th><th>salary  </th><th>salary_currency  </th><th>salary_in_usd  </th><th>remote_ratio  </th><th>company_location  </th><th>company_size  </th></tr>\n",
       "</thead>\n",
       "<tbody>\n",
       "<tr><td><i style='opacity: 0.6'>0</i>  </td><td>2020       </td><td>MI                </td><td>FT               </td><td>Data Scientist            </td><td>70000   </td><td>EUR              </td><td>79833          </td><td>0             </td><td>DE                </td><td>L             </td></tr>\n",
       "<tr><td><i style='opacity: 0.6'>1</i>  </td><td>2020       </td><td>SE                </td><td>FT               </td><td>Machine Learning Scientist</td><td>260000  </td><td>USD              </td><td>260000         </td><td>0             </td><td>JP                </td><td>S             </td></tr>\n",
       "<tr><td><i style='opacity: 0.6'>2</i>  </td><td>2020       </td><td>SE                </td><td>FT               </td><td>Big Data Engineer         </td><td>85000   </td><td>GBP              </td><td>109024         </td><td>50            </td><td>GB                </td><td>M             </td></tr>\n",
       "<tr><td><i style='opacity: 0.6'>3</i>  </td><td>2020       </td><td>MI                </td><td>FT               </td><td>Product Data Analyst      </td><td>20000   </td><td>USD              </td><td>20000          </td><td>0             </td><td>HN                </td><td>S             </td></tr>\n",
       "<tr><td><i style='opacity: 0.6'>4</i>  </td><td>2020       </td><td>SE                </td><td>FT               </td><td>Machine Learning Engineer </td><td>150000  </td><td>USD              </td><td>150000         </td><td>50            </td><td>US                </td><td>L             </td></tr>\n",
       "<tr><td>...                            </td><td>...        </td><td>...               </td><td>...              </td><td>...                       </td><td>...     </td><td>...              </td><td>...            </td><td>...           </td><td>...               </td><td>...           </td></tr>\n",
       "<tr><td><i style='opacity: 0.6'>602</i></td><td>2022       </td><td>SE                </td><td>FT               </td><td>Data Engineer             </td><td>154000  </td><td>USD              </td><td>154000         </td><td>100           </td><td>US                </td><td>M             </td></tr>\n",
       "<tr><td><i style='opacity: 0.6'>603</i></td><td>2022       </td><td>SE                </td><td>FT               </td><td>Data Engineer             </td><td>126000  </td><td>USD              </td><td>126000         </td><td>100           </td><td>US                </td><td>M             </td></tr>\n",
       "<tr><td><i style='opacity: 0.6'>604</i></td><td>2022       </td><td>SE                </td><td>FT               </td><td>Data Analyst              </td><td>129000  </td><td>USD              </td><td>129000         </td><td>0             </td><td>US                </td><td>M             </td></tr>\n",
       "<tr><td><i style='opacity: 0.6'>605</i></td><td>2022       </td><td>SE                </td><td>FT               </td><td>Data Analyst              </td><td>150000  </td><td>USD              </td><td>150000         </td><td>100           </td><td>US                </td><td>M             </td></tr>\n",
       "<tr><td><i style='opacity: 0.6'>606</i></td><td>2022       </td><td>MI                </td><td>FT               </td><td>AI Scientist              </td><td>200000  </td><td>USD              </td><td>200000         </td><td>100           </td><td>US                </td><td>L             </td></tr>\n",
       "</tbody>\n",
       "</table>"
      ],
      "text/plain": [
       "#    work_year    experience_level    employment_type    job_title                   salary    salary_currency    salary_in_usd    remote_ratio    company_location    company_size\n",
       "0    2020         MI                  FT                 Data Scientist              70000     EUR                79833            0               DE                  L\n",
       "1    2020         SE                  FT                 Machine Learning Scientist  260000    USD                260000           0               JP                  S\n",
       "2    2020         SE                  FT                 Big Data Engineer           85000     GBP                109024           50              GB                  M\n",
       "3    2020         MI                  FT                 Product Data Analyst        20000     USD                20000            0               HN                  S\n",
       "4    2020         SE                  FT                 Machine Learning Engineer   150000    USD                150000           50              US                  L\n",
       "...  ...          ...                 ...                ...                         ...       ...                ...              ...             ...                 ...\n",
       "602  2022         SE                  FT                 Data Engineer               154000    USD                154000           100             US                  M\n",
       "603  2022         SE                  FT                 Data Engineer               126000    USD                126000           100             US                  M\n",
       "604  2022         SE                  FT                 Data Analyst                129000    USD                129000           0               US                  M\n",
       "605  2022         SE                  FT                 Data Analyst                150000    USD                150000           100             US                  M\n",
       "606  2022         MI                  FT                 AI Scientist                200000    USD                200000           100             US                  L"
      ]
     },
     "execution_count": 33,
     "metadata": {},
     "output_type": "execute_result"
    }
   ],
   "source": [
    "df"
   ]
  },
  {
   "cell_type": "markdown",
   "id": "3aa0188b-629a-4ba6-91dd-14b6b31b4364",
   "metadata": {},
   "source": [
    "**3-** Escoger los datos para europa"
   ]
  },
  {
   "cell_type": "markdown",
   "id": "70478ae9-0967-466f-a42a-39dcf4ffab2f",
   "metadata": {},
   "source": [
    "Dado que existe diferentes tipos de moneda, para hacerlo sobre un mismo indice, se elimina la columa de *salary* y *salary_currency*"
   ]
  },
  {
   "cell_type": "code",
   "execution_count": 34,
   "id": "a820ea14-1886-4572-b2ca-a77cb4e833af",
   "metadata": {
    "tags": []
   },
   "outputs": [
    {
     "data": {
      "text/plain": [
       "['AE',\n",
       " 'AS',\n",
       " 'AT',\n",
       " 'AU',\n",
       " 'BE',\n",
       " 'BR',\n",
       " 'CA',\n",
       " 'CH',\n",
       " 'CL',\n",
       " 'CN',\n",
       " 'CO',\n",
       " 'CZ',\n",
       " 'DE',\n",
       " 'DK',\n",
       " 'DZ',\n",
       " 'EE',\n",
       " 'ES',\n",
       " 'FR',\n",
       " 'GB',\n",
       " 'GR',\n",
       " 'HN',\n",
       " 'HR',\n",
       " 'HU',\n",
       " 'IE',\n",
       " 'IL',\n",
       " 'IN',\n",
       " 'IQ',\n",
       " 'IR',\n",
       " 'IT',\n",
       " 'JP',\n",
       " 'KE',\n",
       " 'LU',\n",
       " 'MD',\n",
       " 'MT',\n",
       " 'MX',\n",
       " 'MY',\n",
       " 'NG',\n",
       " 'NL',\n",
       " 'NZ',\n",
       " 'PK',\n",
       " 'PL',\n",
       " 'PT',\n",
       " 'RO',\n",
       " 'RU',\n",
       " 'SG',\n",
       " 'SI',\n",
       " 'TR',\n",
       " 'UA',\n",
       " 'US',\n",
       " 'VN']"
      ]
     },
     "execution_count": 34,
     "metadata": {},
     "output_type": "execute_result"
    }
   ],
   "source": [
    "# Ver paises de estudio del dataframe\n",
    "countries = df.company_location.unique()\n",
    "\n",
    "countries.sort()\n",
    "\n",
    "countries"
   ]
  },
  {
   "cell_type": "code",
   "execution_count": 35,
   "id": "3c7c0210-fcba-4295-a2bf-7f29b39c1309",
   "metadata": {
    "tags": []
   },
   "outputs": [],
   "source": [
    "# Con la ayuda de \"https://en.wikipedia.org/wiki/List_of_ISO_3166_country_codes\" se ha escogido los paises que pertenecen al continente europeo\n",
    "eur_iso = ['AT', 'BE', 'CH', 'CZ', 'DE', 'DK', 'EE', 'ES', 'FR', 'GB', 'GR', 'HR', 'HU', 'IE', 'IT', 'LU', 'MD', 'MT', 'NL', 'PL', 'PT', 'RO', 'RU', 'SI', 'TR', 'UA']\n",
    "names = ['Austria','Belgica','Suiza','Rep. Checa', 'Alemania','Dinamarca','Estonia','España','Francia','Gran Bretaña', 'Grecia', 'Croacia','Hungria','Irlanda',\n",
    "        'Italia','Luxemburgo','Moldavia','Malta','Holanda','Polonia','Portugal','Rumania','Rusia','Eslovenia','Turquia','Ucrania']"
   ]
  },
  {
   "cell_type": "code",
   "execution_count": 36,
   "id": "7c3ab454-63a4-46e7-b836-5cf684d2c220",
   "metadata": {
    "tags": []
   },
   "outputs": [
    {
     "data": {
      "text/html": [
       "<table>\n",
       "<thead>\n",
       "<tr><th>#                              </th><th>work_year  </th><th>experience_level  </th><th>employment_type  </th><th>job_title               </th><th>salary_in_usd  </th><th>remote_ratio  </th><th>company_location  </th><th>company_size  </th></tr>\n",
       "</thead>\n",
       "<tbody>\n",
       "<tr><td><i style='opacity: 0.6'>0</i>  </td><td>2020       </td><td>MI                </td><td>FT               </td><td>Data Scientist          </td><td>79833          </td><td>0             </td><td>Alemania          </td><td>L             </td></tr>\n",
       "<tr><td><i style='opacity: 0.6'>1</i>  </td><td>2020       </td><td>SE                </td><td>FT               </td><td>Big Data Engineer       </td><td>109024         </td><td>50            </td><td>Gran Bretaña      </td><td>M             </td></tr>\n",
       "<tr><td><i style='opacity: 0.6'>2</i>  </td><td>2020       </td><td>MI                </td><td>FT               </td><td>Data Scientist          </td><td>35735          </td><td>50            </td><td>Hungria           </td><td>L             </td></tr>\n",
       "<tr><td><i style='opacity: 0.6'>3</i>  </td><td>2020       </td><td>EN                </td><td>FT               </td><td>Data Scientist          </td><td>51321          </td><td>0             </td><td>Francia           </td><td>S             </td></tr>\n",
       "<tr><td><i style='opacity: 0.6'>4</i>  </td><td>2020       </td><td>EN                </td><td>FT               </td><td>Data Scientist          </td><td>39916          </td><td>0             </td><td>Francia           </td><td>M             </td></tr>\n",
       "<tr><td>...                            </td><td>...        </td><td>...               </td><td>...              </td><td>...                     </td><td>...            </td><td>...           </td><td>...               </td><td>...           </td></tr>\n",
       "<tr><td><i style='opacity: 0.6'>155</i></td><td>2022       </td><td>MI                </td><td>FT               </td><td>Data Scientist          </td><td>122346         </td><td>0             </td><td>Suiza             </td><td>L             </td></tr>\n",
       "<tr><td><i style='opacity: 0.6'>156</i></td><td>2022       </td><td>EN                </td><td>FT               </td><td>Computer Vision Engineer</td><td>10000          </td><td>100           </td><td>Luxemburgo        </td><td>M             </td></tr>\n",
       "<tr><td><i style='opacity: 0.6'>157</i></td><td>2022       </td><td>MI                </td><td>FT               </td><td>Data Analyst            </td><td>20000          </td><td>100           </td><td>Grecia            </td><td>S             </td></tr>\n",
       "<tr><td><i style='opacity: 0.6'>158</i></td><td>2022       </td><td>MI                </td><td>FT               </td><td>Data Analyst            </td><td>65438          </td><td>0             </td><td>Gran Bretaña      </td><td>M             </td></tr>\n",
       "<tr><td><i style='opacity: 0.6'>159</i></td><td>2022       </td><td>MI                </td><td>FT               </td><td>Data Analyst            </td><td>45807          </td><td>0             </td><td>Gran Bretaña      </td><td>M             </td></tr>\n",
       "</tbody>\n",
       "</table>"
      ],
      "text/plain": [
       "#    work_year    experience_level    employment_type    job_title                 salary_in_usd    remote_ratio    company_location    company_size\n",
       "0    2020         MI                  FT                 Data Scientist            79833            0               Alemania            L\n",
       "1    2020         SE                  FT                 Big Data Engineer         109024           50              Gran Bretaña        M\n",
       "2    2020         MI                  FT                 Data Scientist            35735            50              Hungria             L\n",
       "3    2020         EN                  FT                 Data Scientist            51321            0               Francia             S\n",
       "4    2020         EN                  FT                 Data Scientist            39916            0               Francia             M\n",
       "...  ...          ...                 ...                ...                       ...              ...             ...                 ...\n",
       "155  2022         MI                  FT                 Data Scientist            122346           0               Suiza               L\n",
       "156  2022         EN                  FT                 Computer Vision Engineer  10000            100             Luxemburgo          M\n",
       "157  2022         MI                  FT                 Data Analyst              20000            100             Grecia              S\n",
       "158  2022         MI                  FT                 Data Analyst              65438            0               Gran Bretaña        M\n",
       "159  2022         MI                  FT                 Data Analyst              45807            0               Gran Bretaña        M"
      ]
     },
     "execution_count": 36,
     "metadata": {},
     "output_type": "execute_result"
    }
   ],
   "source": [
    "# Filtrar dataframe por valores en lista\n",
    "df_eur = df[df.company_location.isin(eur_iso)]\n",
    "# Eliminar columnas\n",
    "df_eur = df_eur.drop(['salary','salary_currency'])\n",
    "\n",
    "# Mapeamos el nombre de los paises para verlo más claramente\n",
    "# Creamos lista con el nombre del pais por orden de apareción en el dataframe\n",
    "names_col = []\n",
    "for id, row in df_eur.iterrows():\n",
    "    # row: Nos da los valores de cada columna de la fila\n",
    "    # row['company_location']: Valor de la columna para la fila\n",
    "    # list.index(): Nos da la posición en la lista eur_iso del nombre en iso\n",
    "    # list.append(names[]): Añadir el nombre de pais según posición recogida en .index\n",
    "    names_col.append(names[eur_iso.index(row['company_location'])])\n",
    "    \n",
    "# Conversión a array para pasar valores a columna\n",
    "names_col = np.array(names_col)\n",
    "\n",
    "# Eliminar \"lazy filter\" de dataframe y dejarlo con la longitud filtrada\n",
    "# Fuente: https://vaex.readthedocs.io/en/latest/faq.html?highlight=new%20dataframe#Why-can't-I-add-a-new-column-after-filtering-a-vaex-DataFrame?\n",
    "df_eur = df_eur.extract()\n",
    "\n",
    "# Asignamos valores del array a columna\n",
    "df_eur['company_location'] = names_col\n",
    "\n",
    "df_eur"
   ]
  },
  {
   "cell_type": "code",
   "execution_count": 37,
   "id": "acc50f47-4519-4216-830f-8bfda64d66bf",
   "metadata": {},
   "outputs": [
    {
     "data": {
      "text/html": [
       "<table>\n",
       "<thead>\n",
       "<tr><th>#                              </th><th>work_year  </th><th>experience_level  </th><th>job_title               </th><th>salary_in_usd  </th><th>remote_ratio  </th><th>company_location  </th><th>company_size  </th></tr>\n",
       "</thead>\n",
       "<tbody>\n",
       "<tr><td><i style='opacity: 0.6'>0</i>  </td><td>2020       </td><td>MI                </td><td>Data Scientist          </td><td>79833          </td><td>0             </td><td>Alemania          </td><td>L             </td></tr>\n",
       "<tr><td><i style='opacity: 0.6'>1</i>  </td><td>2020       </td><td>SE                </td><td>Big Data Engineer       </td><td>109024         </td><td>50            </td><td>Gran Bretaña      </td><td>M             </td></tr>\n",
       "<tr><td><i style='opacity: 0.6'>2</i>  </td><td>2020       </td><td>MI                </td><td>Data Scientist          </td><td>35735          </td><td>50            </td><td>Hungria           </td><td>L             </td></tr>\n",
       "<tr><td><i style='opacity: 0.6'>3</i>  </td><td>2020       </td><td>EN                </td><td>Data Scientist          </td><td>51321          </td><td>0             </td><td>Francia           </td><td>S             </td></tr>\n",
       "<tr><td><i style='opacity: 0.6'>4</i>  </td><td>2020       </td><td>EN                </td><td>Data Scientist          </td><td>39916          </td><td>0             </td><td>Francia           </td><td>M             </td></tr>\n",
       "<tr><td>...                            </td><td>...        </td><td>...               </td><td>...                     </td><td>...            </td><td>...           </td><td>...               </td><td>...           </td></tr>\n",
       "<tr><td><i style='opacity: 0.6'>148</i></td><td>2022       </td><td>MI                </td><td>Data Scientist          </td><td>122346         </td><td>0             </td><td>Suiza             </td><td>L             </td></tr>\n",
       "<tr><td><i style='opacity: 0.6'>149</i></td><td>2022       </td><td>EN                </td><td>Computer Vision Engineer</td><td>10000          </td><td>100           </td><td>Luxemburgo        </td><td>M             </td></tr>\n",
       "<tr><td><i style='opacity: 0.6'>150</i></td><td>2022       </td><td>MI                </td><td>Data Analyst            </td><td>20000          </td><td>100           </td><td>Grecia            </td><td>S             </td></tr>\n",
       "<tr><td><i style='opacity: 0.6'>151</i></td><td>2022       </td><td>MI                </td><td>Data Analyst            </td><td>65438          </td><td>0             </td><td>Gran Bretaña      </td><td>M             </td></tr>\n",
       "<tr><td><i style='opacity: 0.6'>152</i></td><td>2022       </td><td>MI                </td><td>Data Analyst            </td><td>45807          </td><td>0             </td><td>Gran Bretaña      </td><td>M             </td></tr>\n",
       "</tbody>\n",
       "</table>"
      ],
      "text/plain": [
       "#    work_year    experience_level    job_title                 salary_in_usd    remote_ratio    company_location    company_size\n",
       "0    2020         MI                  Data Scientist            79833            0               Alemania            L\n",
       "1    2020         SE                  Big Data Engineer         109024           50              Gran Bretaña        M\n",
       "2    2020         MI                  Data Scientist            35735            50              Hungria             L\n",
       "3    2020         EN                  Data Scientist            51321            0               Francia             S\n",
       "4    2020         EN                  Data Scientist            39916            0               Francia             M\n",
       "...  ...          ...                 ...                       ...              ...             ...                 ...\n",
       "148  2022         MI                  Data Scientist            122346           0               Suiza               L\n",
       "149  2022         EN                  Computer Vision Engineer  10000            100             Luxemburgo          M\n",
       "150  2022         MI                  Data Analyst              20000            100             Grecia              S\n",
       "151  2022         MI                  Data Analyst              65438            0               Gran Bretaña        M\n",
       "152  2022         MI                  Data Analyst              45807            0               Gran Bretaña        M"
      ]
     },
     "execution_count": 37,
     "metadata": {},
     "output_type": "execute_result"
    }
   ],
   "source": [
    "# Consideramos de análisis únicamente aquellos que tienen trabajo a tiempo completo y despues eliminamos columna \"employment_type\"\n",
    "df_eur = df_eur[df_eur['employment_type'] == 'FT']\n",
    "df_eur = df_eur.drop('employment_type')\n",
    "df_eur"
   ]
  },
  {
   "cell_type": "markdown",
   "id": "d45c77f4-6792-4ee8-9dad-4cacd6c94f71",
   "metadata": {},
   "source": [
    "**4-** Ploteo de algunos datos"
   ]
  },
  {
   "cell_type": "code",
   "execution_count": 38,
   "id": "fd4b243d-d6cf-4014-8bee-86eb841c2e20",
   "metadata": {},
   "outputs": [
    {
     "name": "stderr",
     "output_type": "stream",
     "text": [
      "c:\\python3_8_5\\lib\\site-packages\\vaex\\viz\\mpl.py:205: UserWarning: `scatter` is deprecated and it will be removed in version 5.x. Please use `df.viz.scatter` instead.\n",
      "  warnings.warn('`scatter` is deprecated and it will be removed in version 5.x. Please use `df.viz.scatter` instead.')\n"
     ]
    },
    {
     "data": {
      "image/png": "[encoded data removed]",
      "text/plain": [
       "<Figure size 432x288 with 1 Axes>"
      ]
     },
     "metadata": {
      "needs_background": "light"
     },
     "output_type": "display_data"
    }
   ],
   "source": [
    "df_eur.scatter(df_eur.salary_in_usd, df_eur.work_year, xlabel='Salario USD', ylabel='Año')"
   ]
  },
  {
   "cell_type": "markdown",
   "id": "306b8c25-81ca-4f35-ae4e-8ab14e3b945e",
   "metadata": {},
   "source": [
    "Se ve con este gráfico Scatter como el margen de salarios se ha ampliado más en función que ha ido aumentando los años. De modo que a dia de hoy puedo haber sueldos más bajos, a nivel general, que hace dos años."
   ]
  },
  {
   "cell_type": "code",
   "execution_count": 39,
   "id": "3c23bea5-5fe3-4dc6-9566-d8d3ea200310",
   "metadata": {
    "tags": []
   },
   "outputs": [
    {
     "data": {
      "text/html": [
       "<div>\n",
       "<style scoped>\n",
       "    .dataframe tbody tr th:only-of-type {\n",
       "        vertical-align: middle;\n",
       "    }\n",
       "\n",
       "    .dataframe tbody tr th {\n",
       "        vertical-align: top;\n",
       "    }\n",
       "\n",
       "    .dataframe thead th {\n",
       "        text-align: right;\n",
       "    }\n",
       "</style>\n",
       "<table border=\"1\" class=\"dataframe\">\n",
       "  <thead>\n",
       "    <tr style=\"text-align: right;\">\n",
       "      <th></th>\n",
       "      <th>job_title</th>\n",
       "      <th>salary_in_usd</th>\n",
       "    </tr>\n",
       "  </thead>\n",
       "  <tbody>\n",
       "    <tr>\n",
       "      <th>0</th>\n",
       "      <td>Machine Learning Engineer</td>\n",
       "      <td>80303.000000</td>\n",
       "    </tr>\n",
       "    <tr>\n",
       "      <th>1</th>\n",
       "      <td>ML Engineer</td>\n",
       "      <td>21983.000000</td>\n",
       "    </tr>\n",
       "    <tr>\n",
       "      <th>2</th>\n",
       "      <td>Lead Machine Learning Engineer</td>\n",
       "      <td>87932.000000</td>\n",
       "    </tr>\n",
       "    <tr>\n",
       "      <th>3</th>\n",
       "      <td>Machine Learning Infrastructure Engineer</td>\n",
       "      <td>58255.000000</td>\n",
       "    </tr>\n",
       "    <tr>\n",
       "      <th>4</th>\n",
       "      <td>Data Engineer</td>\n",
       "      <td>74421.333333</td>\n",
       "    </tr>\n",
       "    <tr>\n",
       "      <th>5</th>\n",
       "      <td>Data Scientist</td>\n",
       "      <td>87775.900000</td>\n",
       "    </tr>\n",
       "    <tr>\n",
       "      <th>6</th>\n",
       "      <td>Data Analyst</td>\n",
       "      <td>41859.888889</td>\n",
       "    </tr>\n",
       "    <tr>\n",
       "      <th>7</th>\n",
       "      <td>ETL Developer</td>\n",
       "      <td>54957.000000</td>\n",
       "    </tr>\n",
       "    <tr>\n",
       "      <th>8</th>\n",
       "      <td>Head of Data</td>\n",
       "      <td>32974.000000</td>\n",
       "    </tr>\n",
       "    <tr>\n",
       "      <th>9</th>\n",
       "      <td>Principal Data Scientist</td>\n",
       "      <td>162674.000000</td>\n",
       "    </tr>\n",
       "    <tr>\n",
       "      <th>10</th>\n",
       "      <td>Research Scientist</td>\n",
       "      <td>79138.000000</td>\n",
       "    </tr>\n",
       "    <tr>\n",
       "      <th>11</th>\n",
       "      <td>Computer Vision Engineer</td>\n",
       "      <td>10000.000000</td>\n",
       "    </tr>\n",
       "  </tbody>\n",
       "</table>\n",
       "</div>"
      ],
      "text/plain": [
       "                                   job_title  salary_in_usd\n",
       "0                  Machine Learning Engineer   80303.000000\n",
       "1                                ML Engineer   21983.000000\n",
       "2             Lead Machine Learning Engineer   87932.000000\n",
       "3   Machine Learning Infrastructure Engineer   58255.000000\n",
       "4                              Data Engineer   74421.333333\n",
       "5                             Data Scientist   87775.900000\n",
       "6                               Data Analyst   41859.888889\n",
       "7                              ETL Developer   54957.000000\n",
       "8                               Head of Data   32974.000000\n",
       "9                   Principal Data Scientist  162674.000000\n",
       "10                        Research Scientist   79138.000000\n",
       "11                  Computer Vision Engineer   10000.000000"
      ]
     },
     "metadata": {},
     "output_type": "display_data"
    },
    {
     "data": {
      "image/png": "[encoded data removed]",
      "text/plain": [
       "<Figure size 1296x720 with 1 Axes>"
      ]
     },
     "metadata": {
      "needs_background": "light"
     },
     "output_type": "display_data"
    }
   ],
   "source": [
    "# Agrupacion del dataframe por title de trabajo, añadiendo la media de salario, escogiendo los salarios del ultimo año\n",
    "df_job = df_eur[df_eur['work_year'] == 2022]\n",
    "df_job = df_job.groupby(by='job_title').agg({'salary_in_usd':'mean'})\n",
    "\n",
    "# Convertir a dataframe de pandas para operar con él\n",
    "df_job = df_job.to_pandas_df()\n",
    "display(df_job)\n",
    "\n",
    "# Ploteo de los resultados\n",
    "plt.figure(figsize=(18,10))\n",
    "sns.barplot(x=\"salary_in_usd\", y=\"job_title\", data=df_job)\n",
    "plt.xlabel('Puesto de trabajo')\n",
    "plt.ylabel('Salario en USD')\n",
    "plt.show()"
   ]
  },
  {
   "cell_type": "markdown",
   "id": "5b12c76a-d5da-492a-ab6d-5609ba510945",
   "metadata": {},
   "source": [
    "Los puestos de trabajo mejor pagados para el 2022 se observa que es **Principal Data Scientist**, **Data Scientist** y **Lead ML Engineer**. Mientras que los salarios más bajos para *Computer Vision Engineer*, *ML Engineer* y *Head of Data*."
   ]
  },
  {
   "cell_type": "markdown",
   "id": "c2aa519d-57f4-473a-bd44-035c73b5b3d1",
   "metadata": {},
   "source": [
    "  "
   ]
  },
  {
   "cell_type": "markdown",
   "id": "cc24017d-0116-4e5f-9e78-f322b8d80260",
   "metadata": {},
   "source": [
    " "
   ]
  },
  {
   "cell_type": "markdown",
   "id": "be4ff4a3-7aae-421b-9304-b54a28a7f823",
   "metadata": {},
   "source": [
    "<div style=\"font-size:14px; text-align:justify\"><b>TERCERA PARTE.-</b><br></div>"
   ]
  },
  {
   "cell_type": "markdown",
   "id": "2d6b4a57-4f4d-4723-b45d-802b4c0265e8",
   "metadata": {},
   "source": [
    "**Modin** se trata de una gran herramienta para determinados set de datos. Realizar el mismo ejercicio que en la primera parte para esta librería."
   ]
  },
  {
   "cell_type": "code",
   "execution_count": 40,
   "id": "e1fd4aa6-491c-481a-8156-5a52d93d26dc",
   "metadata": {
    "tags": []
   },
   "outputs": [],
   "source": [
    "# Crear diccionario que almacene los valores de diferencia de tiempos por cada ejercicio\n",
    "temp_mod_vs_pandas = {\n",
    "    'index':['import','read parquet','read csv', 'describe', 'values counts', 'shape', 'data'],\n",
    "    'pandas':[],\n",
    "    'modin':[]\n",
    "}\n",
    "\n",
    "temp_mod_vs_pandas['pandas'] = tiempos['pandas']"
   ]
  },
  {
   "cell_type": "markdown",
   "id": "ae6f46b8-597e-4113-b384-b558e6a9a352",
   "metadata": {},
   "source": [
    "<div style=\"font-size:14px; text-align:justify\"><b>1: </b>Importación de librería.</div>"
   ]
  },
  {
   "cell_type": "code",
   "execution_count": 41,
   "id": "c57e94ab-b71b-4e52-8362-9690b74d6810",
   "metadata": {
    "tags": []
   },
   "outputs": [],
   "source": [
    "# %%time\n",
    "t0 = datetime.now()\n",
    "\n",
    "import modin.pandas as md\n",
    "\n",
    "t1 = datetime.now()\n",
    "tt =  t1 - t0\n",
    "\n",
    "temp_mod_vs_pandas['modin'].append(tt.total_seconds())"
   ]
  },
  {
   "cell_type": "code",
   "execution_count": 42,
   "id": "7e867b44-cd97-43cf-b792-b309ca3fb7c4",
   "metadata": {},
   "outputs": [
    {
     "name": "stderr",
     "output_type": "stream",
     "text": [
      "2022-07-12 20:21:45,091\tINFO services.py:1456 -- View the Ray dashboard at \u001b[1m\u001b[32mhttp://127.0.0.1:8265\u001b[39m\u001b[22m\n"
     ]
    },
    {
     "data": {
      "text/plain": [
       "RayContext(dashboard_url='127.0.0.1:8265', python_version='3.8.5', ray_version='1.12.1', ray_commit='4863e33856b54ccf8add5cbe75e41558850a1b75', address_info={'node_ip_address': '127.0.0.1', 'raylet_ip_address': '127.0.0.1', 'redis_address': None, 'object_store_address': 'tcp://127.0.0.1:64654', 'raylet_socket_name': 'tcp://127.0.0.1:57907', 'webui_url': '127.0.0.1:8265', 'session_dir': 'C:\\\\Users\\\\vicsi\\\\AppData\\\\Local\\\\Temp\\\\ray\\\\session_2022-07-12_20-21-41_418803_14484', 'metrics_export_port': 57610, 'gcs_address': '127.0.0.1:57890', 'address': '127.0.0.1:57890', 'node_id': '568502a17c6e6e68066ed06c1b64844832511a7a661c84fe9a9a8c32'})"
      ]
     },
     "execution_count": 42,
     "metadata": {},
     "output_type": "execute_result"
    }
   ],
   "source": [
    "import ray\n",
    "ray.init()"
   ]
  },
  {
   "cell_type": "markdown",
   "id": "74bedff3-5a57-4321-beb7-d84e9f154a51",
   "metadata": {},
   "source": [
    "<div style=\"font-size:14px; text-align:justify\"><b>2: </b>Importación del dataframe en formatos '.parquet' y '.csv'.</div>"
   ]
  },
  {
   "cell_type": "code",
   "execution_count": 43,
   "id": "f5f10aba-4ed7-4628-acf0-df035ae6e504",
   "metadata": {},
   "outputs": [],
   "source": [
    "# %%time\n",
    "t0 = datetime.now()\n",
    "\n",
    "# Lectura del dataframe en formato .parquet\n",
    "df_modin = md.read_parquet('yellow_tripdata_2018-01.parquet')\n",
    "\n",
    "t1 = datetime.now()\n",
    "tt =  t1 - t0\n",
    "\n",
    "temp_mod_vs_pandas['modin'].append(tt.total_seconds())"
   ]
  },
  {
   "cell_type": "code",
   "execution_count": 44,
   "id": "215e920e-3ba9-4169-bfc3-ad47f29815e6",
   "metadata": {},
   "outputs": [],
   "source": [
    "# %%time\n",
    "t0 = datetime.now()\n",
    "\n",
    "# Lectura del dataframe en formato .parquet\n",
    "df_modin = md.read_csv('yellow_tripdata_2018-01.csv')\n",
    "\n",
    "t1 = datetime.now()\n",
    "tt =  t1 - t0\n",
    "\n",
    "temp_mod_vs_pandas['modin'].append(tt.total_seconds())"
   ]
  },
  {
   "cell_type": "markdown",
   "id": "466807da-c6e3-4bac-92c8-c5f49b34de16",
   "metadata": {},
   "source": [
    "La importación del archivo en **'.csv' ha tardado 7 s** mientras que en formato **'.parquet' 2.56 s**. Recordando el set de datos de 9 M, son valores muy óptimos y además más optimios que los de pandas."
   ]
  },
  {
   "cell_type": "markdown",
   "id": "e5103b08-b01a-444e-b656-0c9853f91b2f",
   "metadata": {},
   "source": [
    "<div style=\"font-size:14px; text-align:justify\"><b>3: </b>Descripción de los datos del dataframe.</div>"
   ]
  },
  {
   "cell_type": "code",
   "execution_count": 45,
   "id": "5c92e3b7-7bae-4d96-85be-bf4fe38cf204",
   "metadata": {
    "tags": []
   },
   "outputs": [
    {
     "data": {
      "text/html": [
       "<div>\n",
       "<style scoped>\n",
       "    .dataframe tbody tr th:only-of-type {\n",
       "        vertical-align: middle;\n",
       "    }\n",
       "\n",
       "    .dataframe tbody tr th {\n",
       "        vertical-align: top;\n",
       "    }\n",
       "\n",
       "    .dataframe thead th {\n",
       "        text-align: right;\n",
       "    }\n",
       "</style>\n",
       "<table border=\"1\" class=\"dataframe\">\n",
       "  <thead>\n",
       "    <tr style=\"text-align: right;\">\n",
       "      <th></th>\n",
       "      <th>VendorID</th>\n",
       "      <th>passenger_count</th>\n",
       "      <th>trip_distance</th>\n",
       "      <th>RatecodeID</th>\n",
       "      <th>PULocationID</th>\n",
       "      <th>DOLocationID</th>\n",
       "      <th>payment_type</th>\n",
       "      <th>fare_amount</th>\n",
       "      <th>extra</th>\n",
       "      <th>mta_tax</th>\n",
       "      <th>tip_amount</th>\n",
       "      <th>tolls_amount</th>\n",
       "      <th>improvement_surcharge</th>\n",
       "      <th>total_amount</th>\n",
       "    </tr>\n",
       "  </thead>\n",
       "  <tbody>\n",
       "    <tr>\n",
       "      <th>count</th>\n",
       "      <td>8.759874e+06</td>\n",
       "      <td>8.759874e+06</td>\n",
       "      <td>8.759874e+06</td>\n",
       "      <td>8.759874e+06</td>\n",
       "      <td>8.759874e+06</td>\n",
       "      <td>8.759874e+06</td>\n",
       "      <td>8.759874e+06</td>\n",
       "      <td>8.759874e+06</td>\n",
       "      <td>8.759874e+06</td>\n",
       "      <td>8.759874e+06</td>\n",
       "      <td>8.759874e+06</td>\n",
       "      <td>8.759874e+06</td>\n",
       "      <td>8.759874e+06</td>\n",
       "      <td>8.759874e+06</td>\n",
       "    </tr>\n",
       "    <tr>\n",
       "      <th>mean</th>\n",
       "      <td>1.560940e+00</td>\n",
       "      <td>1.606855e+00</td>\n",
       "      <td>2.804001e+00</td>\n",
       "      <td>1.039545e+00</td>\n",
       "      <td>1.644585e+02</td>\n",
       "      <td>1.627269e+02</td>\n",
       "      <td>1.310611e+00</td>\n",
       "      <td>1.224434e+01</td>\n",
       "      <td>3.246822e-01</td>\n",
       "      <td>4.975067e-01</td>\n",
       "      <td>1.818745e+00</td>\n",
       "      <td>3.026133e-01</td>\n",
       "      <td>2.996306e-01</td>\n",
       "      <td>1.549098e+01</td>\n",
       "    </tr>\n",
       "    <tr>\n",
       "      <th>std</th>\n",
       "      <td>4.962724e-01</td>\n",
       "      <td>1.258464e+00</td>\n",
       "      <td>6.412346e+01</td>\n",
       "      <td>4.450700e-01</td>\n",
       "      <td>6.636021e+01</td>\n",
       "      <td>7.031164e+01</td>\n",
       "      <td>4.817818e-01</td>\n",
       "      <td>1.168321e+01</td>\n",
       "      <td>4.502524e-01</td>\n",
       "      <td>4.333319e-02</td>\n",
       "      <td>2.486341e+00</td>\n",
       "      <td>1.738185e+00</td>\n",
       "      <td>1.442815e-02</td>\n",
       "      <td>1.419540e+01</td>\n",
       "    </tr>\n",
       "    <tr>\n",
       "      <th>min</th>\n",
       "      <td>1.000000e+00</td>\n",
       "      <td>0.000000e+00</td>\n",
       "      <td>0.000000e+00</td>\n",
       "      <td>1.000000e+00</td>\n",
       "      <td>1.000000e+00</td>\n",
       "      <td>1.000000e+00</td>\n",
       "      <td>1.000000e+00</td>\n",
       "      <td>-4.500000e+02</td>\n",
       "      <td>-4.469000e+01</td>\n",
       "      <td>-5.000000e-01</td>\n",
       "      <td>-8.880000e+01</td>\n",
       "      <td>-1.500000e+01</td>\n",
       "      <td>-3.000000e-01</td>\n",
       "      <td>-4.503000e+02</td>\n",
       "    </tr>\n",
       "    <tr>\n",
       "      <th>25%</th>\n",
       "      <td>1.000000e+00</td>\n",
       "      <td>1.000000e+00</td>\n",
       "      <td>9.100000e-01</td>\n",
       "      <td>1.000000e+00</td>\n",
       "      <td>1.160000e+02</td>\n",
       "      <td>1.130000e+02</td>\n",
       "      <td>1.000000e+00</td>\n",
       "      <td>6.000000e+00</td>\n",
       "      <td>0.000000e+00</td>\n",
       "      <td>5.000000e-01</td>\n",
       "      <td>0.000000e+00</td>\n",
       "      <td>0.000000e+00</td>\n",
       "      <td>3.000000e-01</td>\n",
       "      <td>8.300000e+00</td>\n",
       "    </tr>\n",
       "    <tr>\n",
       "      <th>50%</th>\n",
       "      <td>2.000000e+00</td>\n",
       "      <td>1.000000e+00</td>\n",
       "      <td>1.550000e+00</td>\n",
       "      <td>1.000000e+00</td>\n",
       "      <td>1.620000e+02</td>\n",
       "      <td>1.620000e+02</td>\n",
       "      <td>1.000000e+00</td>\n",
       "      <td>9.000000e+00</td>\n",
       "      <td>0.000000e+00</td>\n",
       "      <td>5.000000e-01</td>\n",
       "      <td>1.360000e+00</td>\n",
       "      <td>0.000000e+00</td>\n",
       "      <td>3.000000e-01</td>\n",
       "      <td>1.130000e+01</td>\n",
       "    </tr>\n",
       "    <tr>\n",
       "      <th>75%</th>\n",
       "      <td>2.000000e+00</td>\n",
       "      <td>2.000000e+00</td>\n",
       "      <td>2.840000e+00</td>\n",
       "      <td>1.000000e+00</td>\n",
       "      <td>2.340000e+02</td>\n",
       "      <td>2.340000e+02</td>\n",
       "      <td>2.000000e+00</td>\n",
       "      <td>1.350000e+01</td>\n",
       "      <td>5.000000e-01</td>\n",
       "      <td>5.000000e-01</td>\n",
       "      <td>2.350000e+00</td>\n",
       "      <td>0.000000e+00</td>\n",
       "      <td>3.000000e-01</td>\n",
       "      <td>1.662000e+01</td>\n",
       "    </tr>\n",
       "    <tr>\n",
       "      <th>max</th>\n",
       "      <td>2.000000e+00</td>\n",
       "      <td>9.000000e+00</td>\n",
       "      <td>1.894838e+05</td>\n",
       "      <td>9.900000e+01</td>\n",
       "      <td>2.650000e+02</td>\n",
       "      <td>2.650000e+02</td>\n",
       "      <td>4.000000e+00</td>\n",
       "      <td>8.016000e+03</td>\n",
       "      <td>6.000000e+01</td>\n",
       "      <td>4.549000e+01</td>\n",
       "      <td>4.417100e+02</td>\n",
       "      <td>9.507000e+02</td>\n",
       "      <td>1.000000e+00</td>\n",
       "      <td>8.016800e+03</td>\n",
       "    </tr>\n",
       "  </tbody>\n",
       "</table>\n",
       "</div>"
      ],
      "text/plain": [
       "           VendorID  passenger_count  trip_distance    RatecodeID  \\\n",
       "count  8.759874e+06     8.759874e+06   8.759874e+06  8.759874e+06   \n",
       "mean   1.560940e+00     1.606855e+00   2.804001e+00  1.039545e+00   \n",
       "std    4.962724e-01     1.258464e+00   6.412346e+01  4.450700e-01   \n",
       "min    1.000000e+00     0.000000e+00   0.000000e+00  1.000000e+00   \n",
       "25%    1.000000e+00     1.000000e+00   9.100000e-01  1.000000e+00   \n",
       "50%    2.000000e+00     1.000000e+00   1.550000e+00  1.000000e+00   \n",
       "75%    2.000000e+00     2.000000e+00   2.840000e+00  1.000000e+00   \n",
       "max    2.000000e+00     9.000000e+00   1.894838e+05  9.900000e+01   \n",
       "\n",
       "       PULocationID  DOLocationID  payment_type   fare_amount         extra  \\\n",
       "count  8.759874e+06  8.759874e+06  8.759874e+06  8.759874e+06  8.759874e+06   \n",
       "mean   1.644585e+02  1.627269e+02  1.310611e+00  1.224434e+01  3.246822e-01   \n",
       "std    6.636021e+01  7.031164e+01  4.817818e-01  1.168321e+01  4.502524e-01   \n",
       "min    1.000000e+00  1.000000e+00  1.000000e+00 -4.500000e+02 -4.469000e+01   \n",
       "25%    1.160000e+02  1.130000e+02  1.000000e+00  6.000000e+00  0.000000e+00   \n",
       "50%    1.620000e+02  1.620000e+02  1.000000e+00  9.000000e+00  0.000000e+00   \n",
       "75%    2.340000e+02  2.340000e+02  2.000000e+00  1.350000e+01  5.000000e-01   \n",
       "max    2.650000e+02  2.650000e+02  4.000000e+00  8.016000e+03  6.000000e+01   \n",
       "\n",
       "            mta_tax    tip_amount  tolls_amount  improvement_surcharge  \\\n",
       "count  8.759874e+06  8.759874e+06  8.759874e+06           8.759874e+06   \n",
       "mean   4.975067e-01  1.818745e+00  3.026133e-01           2.996306e-01   \n",
       "std    4.333319e-02  2.486341e+00  1.738185e+00           1.442815e-02   \n",
       "min   -5.000000e-01 -8.880000e+01 -1.500000e+01          -3.000000e-01   \n",
       "25%    5.000000e-01  0.000000e+00  0.000000e+00           3.000000e-01   \n",
       "50%    5.000000e-01  1.360000e+00  0.000000e+00           3.000000e-01   \n",
       "75%    5.000000e-01  2.350000e+00  0.000000e+00           3.000000e-01   \n",
       "max    4.549000e+01  4.417100e+02  9.507000e+02           1.000000e+00   \n",
       "\n",
       "       total_amount  \n",
       "count  8.759874e+06  \n",
       "mean   1.549098e+01  \n",
       "std    1.419540e+01  \n",
       "min   -4.503000e+02  \n",
       "25%    8.300000e+00  \n",
       "50%    1.130000e+01  \n",
       "75%    1.662000e+01  \n",
       "max    8.016800e+03  "
      ]
     },
     "metadata": {},
     "output_type": "display_data"
    },
    {
     "name": "stdout",
     "output_type": "stream",
     "text": [
      "CPU times: total: 1.11 s\n",
      "Wall time: 32.4 s\n"
     ]
    }
   ],
   "source": [
    "%%time\n",
    "t0 = datetime.now()\n",
    "\n",
    "display(df_modin.describe())\n",
    "\n",
    "t1 = datetime.now()\n",
    "tt =  t1 - t0\n",
    "\n",
    "temp_mod_vs_pandas['modin'].append(tt.total_seconds())"
   ]
  },
  {
   "cell_type": "markdown",
   "id": "e6a7a9bd-7100-4d9f-b742-edc507c5441f",
   "metadata": {},
   "source": [
    "<div style=\"font-size:14px; text-align:justify\"><b>4: </b>Obtener el numero de valores para la columna 'fare_amount'.</div>"
   ]
  },
  {
   "cell_type": "code",
   "execution_count": 46,
   "id": "21b6dca7-a023-47ae-a195-4cc62cf86d03",
   "metadata": {},
   "outputs": [
    {
     "name": "stderr",
     "output_type": "stream",
     "text": [
      "UserWarning: sort_values defaulting to pandas implementation.\n",
      "Please refer to https://modin.readthedocs.io/en/stable/supported_apis/defaulting_to_pandas.html for explanation.\n"
     ]
    },
    {
     "data": {
      "text/plain": [
       "6.00       473234\n",
       "5.50       465176\n",
       "6.50       461927\n",
       "7.00       446376\n",
       "5.00       433249\n",
       "            ...  \n",
       "60.06           1\n",
       "60.30           1\n",
       "60.53           1\n",
       "60.55           1\n",
       "8016.00         1\n",
       "Name: fare_amount, Length: 1714, dtype: int64"
      ]
     },
     "metadata": {},
     "output_type": "display_data"
    },
    {
     "name": "stdout",
     "output_type": "stream",
     "text": [
      "CPU times: total: 750 ms\n",
      "Wall time: 3.2 s\n"
     ]
    }
   ],
   "source": [
    "%%time\n",
    "t0 = datetime.now()\n",
    "\n",
    "display(df_modin['fare_amount'].value_counts())\n",
    "\n",
    "t1 = datetime.now()\n",
    "tt =  t1 - t0\n",
    "\n",
    "temp_mod_vs_pandas['modin'].append(tt.total_seconds())"
   ]
  },
  {
   "cell_type": "markdown",
   "id": "a04f6803-82d1-4a91-b66e-0b9436736846",
   "metadata": {},
   "source": [
    "Al tratarse de una operación no implementada por modin, este la ejecuta en python y la devuelve a modin. Dado este paso extra, se trata de una operación la cual se efectua en **3 s**"
   ]
  },
  {
   "cell_type": "markdown",
   "id": "d3a96943-912c-4ae7-8f4d-388adaa0a1c2",
   "metadata": {},
   "source": [
    "<div style=\"font-size:14px; text-align:justify\"><b>5: </b>Obtener el tamaño del dataframe.</div>"
   ]
  },
  {
   "cell_type": "code",
   "execution_count": 47,
   "id": "b561f403-aa8b-4e00-ade2-9c57fd4baace",
   "metadata": {},
   "outputs": [
    {
     "data": {
      "text/plain": [
       "(8759874, 17)"
      ]
     },
     "metadata": {},
     "output_type": "display_data"
    },
    {
     "name": "stdout",
     "output_type": "stream",
     "text": [
      "CPU times: total: 31.2 ms\n",
      "Wall time: 8.7 ms\n"
     ]
    }
   ],
   "source": [
    "%%time\n",
    "t0 = datetime.now()\n",
    "\n",
    "display(df_modin.shape)\n",
    "\n",
    "t1 = datetime.now()\n",
    "tt =  t1 - t0\n",
    "\n",
    "temp_mod_vs_pandas['modin'].append(tt.total_seconds())"
   ]
  },
  {
   "cell_type": "markdown",
   "id": "388af406-fa6c-4eaf-b814-70b5175fabb6",
   "metadata": {},
   "source": [
    "<div style=\"font-size:14px; text-align:justify\"><b>6: </b>Obtener últimos valores del dataframe.</div>"
   ]
  },
  {
   "cell_type": "code",
   "execution_count": 48,
   "id": "e3737bd8-6744-40c1-a6cb-4a0f88b4114a",
   "metadata": {},
   "outputs": [
    {
     "data": {
      "text/html": [
       "<div>\n",
       "<style scoped>\n",
       "    .dataframe tbody tr th:only-of-type {\n",
       "        vertical-align: middle;\n",
       "    }\n",
       "\n",
       "    .dataframe tbody tr th {\n",
       "        vertical-align: top;\n",
       "    }\n",
       "\n",
       "    .dataframe thead th {\n",
       "        text-align: right;\n",
       "    }\n",
       "</style>\n",
       "<table border=\"1\" class=\"dataframe\">\n",
       "  <thead>\n",
       "    <tr style=\"text-align: right;\">\n",
       "      <th></th>\n",
       "      <th>VendorID</th>\n",
       "      <th>tpep_pickup_datetime</th>\n",
       "      <th>tpep_dropoff_datetime</th>\n",
       "      <th>passenger_count</th>\n",
       "      <th>trip_distance</th>\n",
       "      <th>RatecodeID</th>\n",
       "      <th>store_and_fwd_flag</th>\n",
       "      <th>PULocationID</th>\n",
       "      <th>DOLocationID</th>\n",
       "      <th>payment_type</th>\n",
       "      <th>fare_amount</th>\n",
       "      <th>extra</th>\n",
       "      <th>mta_tax</th>\n",
       "      <th>tip_amount</th>\n",
       "      <th>tolls_amount</th>\n",
       "      <th>improvement_surcharge</th>\n",
       "      <th>total_amount</th>\n",
       "    </tr>\n",
       "  </thead>\n",
       "  <tbody>\n",
       "    <tr>\n",
       "      <th>8759869</th>\n",
       "      <td>1</td>\n",
       "      <td>2018-01-31 23:21:35</td>\n",
       "      <td>2018-01-31 23:34:20</td>\n",
       "      <td>2</td>\n",
       "      <td>2.80</td>\n",
       "      <td>1</td>\n",
       "      <td>N</td>\n",
       "      <td>158</td>\n",
       "      <td>163</td>\n",
       "      <td>1</td>\n",
       "      <td>12.0</td>\n",
       "      <td>0.5</td>\n",
       "      <td>0.5</td>\n",
       "      <td>2.65</td>\n",
       "      <td>0.0</td>\n",
       "      <td>0.3</td>\n",
       "      <td>15.95</td>\n",
       "    </tr>\n",
       "    <tr>\n",
       "      <th>8759870</th>\n",
       "      <td>1</td>\n",
       "      <td>2018-01-31 23:35:51</td>\n",
       "      <td>2018-01-31 23:38:57</td>\n",
       "      <td>1</td>\n",
       "      <td>0.60</td>\n",
       "      <td>1</td>\n",
       "      <td>N</td>\n",
       "      <td>163</td>\n",
       "      <td>162</td>\n",
       "      <td>1</td>\n",
       "      <td>4.5</td>\n",
       "      <td>0.5</td>\n",
       "      <td>0.5</td>\n",
       "      <td>1.15</td>\n",
       "      <td>0.0</td>\n",
       "      <td>0.3</td>\n",
       "      <td>6.95</td>\n",
       "    </tr>\n",
       "    <tr>\n",
       "      <th>8759871</th>\n",
       "      <td>2</td>\n",
       "      <td>2018-01-31 23:28:00</td>\n",
       "      <td>2018-01-31 23:37:09</td>\n",
       "      <td>1</td>\n",
       "      <td>2.95</td>\n",
       "      <td>1</td>\n",
       "      <td>N</td>\n",
       "      <td>74</td>\n",
       "      <td>69</td>\n",
       "      <td>2</td>\n",
       "      <td>10.5</td>\n",
       "      <td>0.5</td>\n",
       "      <td>0.5</td>\n",
       "      <td>0.00</td>\n",
       "      <td>0.0</td>\n",
       "      <td>0.3</td>\n",
       "      <td>11.80</td>\n",
       "    </tr>\n",
       "    <tr>\n",
       "      <th>8759872</th>\n",
       "      <td>2</td>\n",
       "      <td>2018-01-31 23:24:40</td>\n",
       "      <td>2018-01-31 23:25:28</td>\n",
       "      <td>1</td>\n",
       "      <td>0.00</td>\n",
       "      <td>1</td>\n",
       "      <td>N</td>\n",
       "      <td>7</td>\n",
       "      <td>193</td>\n",
       "      <td>2</td>\n",
       "      <td>0.0</td>\n",
       "      <td>0.0</td>\n",
       "      <td>0.0</td>\n",
       "      <td>0.00</td>\n",
       "      <td>0.0</td>\n",
       "      <td>0.0</td>\n",
       "      <td>0.00</td>\n",
       "    </tr>\n",
       "    <tr>\n",
       "      <th>8759873</th>\n",
       "      <td>2</td>\n",
       "      <td>2018-01-31 23:28:16</td>\n",
       "      <td>2018-01-31 23:28:38</td>\n",
       "      <td>1</td>\n",
       "      <td>0.00</td>\n",
       "      <td>1</td>\n",
       "      <td>N</td>\n",
       "      <td>7</td>\n",
       "      <td>193</td>\n",
       "      <td>2</td>\n",
       "      <td>0.0</td>\n",
       "      <td>0.0</td>\n",
       "      <td>0.0</td>\n",
       "      <td>0.00</td>\n",
       "      <td>0.0</td>\n",
       "      <td>0.0</td>\n",
       "      <td>0.00</td>\n",
       "    </tr>\n",
       "  </tbody>\n",
       "</table>\n",
       "</div>"
      ],
      "text/plain": [
       "         VendorID tpep_pickup_datetime tpep_dropoff_datetime  passenger_count  \\\n",
       "8759869         1  2018-01-31 23:21:35   2018-01-31 23:34:20                2   \n",
       "8759870         1  2018-01-31 23:35:51   2018-01-31 23:38:57                1   \n",
       "8759871         2  2018-01-31 23:28:00   2018-01-31 23:37:09                1   \n",
       "8759872         2  2018-01-31 23:24:40   2018-01-31 23:25:28                1   \n",
       "8759873         2  2018-01-31 23:28:16   2018-01-31 23:28:38                1   \n",
       "\n",
       "         trip_distance  RatecodeID store_and_fwd_flag  PULocationID  \\\n",
       "8759869           2.80           1                  N           158   \n",
       "8759870           0.60           1                  N           163   \n",
       "8759871           2.95           1                  N            74   \n",
       "8759872           0.00           1                  N             7   \n",
       "8759873           0.00           1                  N             7   \n",
       "\n",
       "         DOLocationID  payment_type  fare_amount  extra  mta_tax  tip_amount  \\\n",
       "8759869           163             1         12.0    0.5      0.5        2.65   \n",
       "8759870           162             1          4.5    0.5      0.5        1.15   \n",
       "8759871            69             2         10.5    0.5      0.5        0.00   \n",
       "8759872           193             2          0.0    0.0      0.0        0.00   \n",
       "8759873           193             2          0.0    0.0      0.0        0.00   \n",
       "\n",
       "         tolls_amount  improvement_surcharge  total_amount  \n",
       "8759869           0.0                    0.3         15.95  \n",
       "8759870           0.0                    0.3          6.95  \n",
       "8759871           0.0                    0.3         11.80  \n",
       "8759872           0.0                    0.0          0.00  \n",
       "8759873           0.0                    0.0          0.00  "
      ]
     },
     "metadata": {},
     "output_type": "display_data"
    },
    {
     "name": "stdout",
     "output_type": "stream",
     "text": [
      "CPU times: total: 125 ms\n",
      "Wall time: 1.04 s\n"
     ]
    }
   ],
   "source": [
    "%%time\n",
    "t0 = datetime.now()\n",
    "\n",
    "display(df_modin.tail())\n",
    "\n",
    "t1 = datetime.now()\n",
    "tt =  t1 - t0\n",
    "\n",
    "temp_mod_vs_pandas['modin'].append(tt.total_seconds())"
   ]
  },
  {
   "cell_type": "markdown",
   "id": "308a7d1c-a451-4af9-9781-ac6007df8bc2",
   "metadata": {},
   "source": [
    "<hr style=\"border-color:black\">"
   ]
  },
  {
   "cell_type": "markdown",
   "id": "c04202e3-e7fa-40c6-81e9-c058d0bd3018",
   "metadata": {},
   "source": [
    "<div style=\"font-size:14px; text-align:center\"><b>CONCLUSIONES</b><br></div>"
   ]
  },
  {
   "cell_type": "code",
   "execution_count": 49,
   "id": "02b4c2db-b0a6-47c5-94fe-fd09dafa5f3f",
   "metadata": {},
   "outputs": [
    {
     "data": {
      "text/html": [
       "<div>\n",
       "<style scoped>\n",
       "    .dataframe tbody tr th:only-of-type {\n",
       "        vertical-align: middle;\n",
       "    }\n",
       "\n",
       "    .dataframe tbody tr th {\n",
       "        vertical-align: top;\n",
       "    }\n",
       "\n",
       "    .dataframe thead th {\n",
       "        text-align: right;\n",
       "    }\n",
       "</style>\n",
       "<table border=\"1\" class=\"dataframe\">\n",
       "  <thead>\n",
       "    <tr style=\"text-align: right;\">\n",
       "      <th></th>\n",
       "      <th>pandas</th>\n",
       "      <th>modin</th>\n",
       "    </tr>\n",
       "    <tr>\n",
       "      <th>index</th>\n",
       "      <th></th>\n",
       "      <th></th>\n",
       "    </tr>\n",
       "  </thead>\n",
       "  <tbody>\n",
       "    <tr>\n",
       "      <th>import</th>\n",
       "      <td>0.900306</td>\n",
       "      <td>0.126545</td>\n",
       "    </tr>\n",
       "    <tr>\n",
       "      <th>read parquet</th>\n",
       "      <td>2.411928</td>\n",
       "      <td>12.970720</td>\n",
       "    </tr>\n",
       "    <tr>\n",
       "      <th>read csv</th>\n",
       "      <td>17.723860</td>\n",
       "      <td>30.160014</td>\n",
       "    </tr>\n",
       "    <tr>\n",
       "      <th>describe</th>\n",
       "      <td>5.248580</td>\n",
       "      <td>32.351252</td>\n",
       "    </tr>\n",
       "    <tr>\n",
       "      <th>values counts</th>\n",
       "      <td>0.175113</td>\n",
       "      <td>3.200039</td>\n",
       "    </tr>\n",
       "    <tr>\n",
       "      <th>shape</th>\n",
       "      <td>0.003008</td>\n",
       "      <td>0.008699</td>\n",
       "    </tr>\n",
       "    <tr>\n",
       "      <th>data</th>\n",
       "      <td>0.025954</td>\n",
       "      <td>1.037447</td>\n",
       "    </tr>\n",
       "  </tbody>\n",
       "</table>\n",
       "</div>"
      ],
      "text/plain": [
       "                  pandas      modin\n",
       "index                              \n",
       "import          0.900306   0.126545\n",
       "read parquet    2.411928  12.970720\n",
       "read csv       17.723860  30.160014\n",
       "describe        5.248580  32.351252\n",
       "values counts   0.175113   3.200039\n",
       "shape           0.003008   0.008699\n",
       "data            0.025954   1.037447"
      ]
     },
     "execution_count": 49,
     "metadata": {},
     "output_type": "execute_result"
    }
   ],
   "source": [
    "temp_mod_vs_pandas = pd.DataFrame.from_dict(temp_mod_vs_pandas).set_index('index')\n",
    "\n",
    "temp_mod_vs_pandas"
   ]
  },
  {
   "cell_type": "code",
   "execution_count": 50,
   "id": "af122412-54de-41f6-8f1e-39616e903173",
   "metadata": {},
   "outputs": [
    {
     "data": {
      "text/plain": [
       "<AxesSubplot:xlabel='index'>"
      ]
     },
     "execution_count": 50,
     "metadata": {},
     "output_type": "execute_result"
    },
    {
     "data": {
      "image/png": "[encoded data removed]",
      "text/plain": [
       "<Figure size 432x288 with 1 Axes>"
      ]
     },
     "metadata": {
      "needs_background": "light"
     },
     "output_type": "display_data"
    }
   ],
   "source": [
    "temp_mod_vs_pandas.plot(kind='bar')"
   ]
  },
  {
   "cell_type": "code",
   "execution_count": 51,
   "id": "087a2b7e-45c2-4034-9cbc-15a62228a229",
   "metadata": {},
   "outputs": [
    {
     "data": {
      "text/html": [
       "<div>\n",
       "<style scoped>\n",
       "    .dataframe tbody tr th:only-of-type {\n",
       "        vertical-align: middle;\n",
       "    }\n",
       "\n",
       "    .dataframe tbody tr th {\n",
       "        vertical-align: top;\n",
       "    }\n",
       "\n",
       "    .dataframe thead th {\n",
       "        text-align: right;\n",
       "    }\n",
       "</style>\n",
       "<table border=\"1\" class=\"dataframe\">\n",
       "  <thead>\n",
       "    <tr style=\"text-align: right;\">\n",
       "      <th></th>\n",
       "      <th>pandas</th>\n",
       "      <th>modin</th>\n",
       "    </tr>\n",
       "  </thead>\n",
       "  <tbody>\n",
       "    <tr>\n",
       "      <th>count</th>\n",
       "      <td>7.000000</td>\n",
       "      <td>7.000000</td>\n",
       "    </tr>\n",
       "    <tr>\n",
       "      <th>mean</th>\n",
       "      <td>3.784107</td>\n",
       "      <td>11.407817</td>\n",
       "    </tr>\n",
       "    <tr>\n",
       "      <th>std</th>\n",
       "      <td>6.430472</td>\n",
       "      <td>14.287723</td>\n",
       "    </tr>\n",
       "    <tr>\n",
       "      <th>min</th>\n",
       "      <td>0.003008</td>\n",
       "      <td>0.008699</td>\n",
       "    </tr>\n",
       "    <tr>\n",
       "      <th>25%</th>\n",
       "      <td>0.100533</td>\n",
       "      <td>0.581996</td>\n",
       "    </tr>\n",
       "    <tr>\n",
       "      <th>50%</th>\n",
       "      <td>0.900306</td>\n",
       "      <td>3.200039</td>\n",
       "    </tr>\n",
       "    <tr>\n",
       "      <th>75%</th>\n",
       "      <td>3.830254</td>\n",
       "      <td>21.565367</td>\n",
       "    </tr>\n",
       "    <tr>\n",
       "      <th>max</th>\n",
       "      <td>17.723860</td>\n",
       "      <td>32.351252</td>\n",
       "    </tr>\n",
       "  </tbody>\n",
       "</table>\n",
       "</div>"
      ],
      "text/plain": [
       "          pandas      modin\n",
       "count   7.000000   7.000000\n",
       "mean    3.784107  11.407817\n",
       "std     6.430472  14.287723\n",
       "min     0.003008   0.008699\n",
       "25%     0.100533   0.581996\n",
       "50%     0.900306   3.200039\n",
       "75%     3.830254  21.565367\n",
       "max    17.723860  32.351252"
      ]
     },
     "execution_count": 51,
     "metadata": {},
     "output_type": "execute_result"
    }
   ],
   "source": [
    "temp_mod_vs_pandas.describe()"
   ]
  },
  {
   "cell_type": "markdown",
   "id": "4a21d6ad-d009-4790-89e9-d3fe907605a2",
   "metadata": {},
   "source": [
    "Como conclusion, en mi caso particular, la librería **modin** ha tardado más tiempo en ejecutar las mismas operaciones que en pandas"
   ]
  },
  {
   "cell_type": "markdown",
   "id": "ec8b0570-4a68-4ca2-ab62-aa1916d9fcc0",
   "metadata": {},
   "source": [
    "  "
   ]
  },
  {
   "cell_type": "markdown",
   "id": "1740b10a-976b-48de-ad81-8e06b0e1972f",
   "metadata": {},
   "source": [
    " "
   ]
  },
  {
   "cell_type": "markdown",
   "id": "14e54638-d275-4275-9c4f-c9e0ff390cfd",
   "metadata": {},
   "source": [
    "<div style=\"font-size:14px; text-align:justify\"><b>CUARTA PARTE.-</b><br></div>"
   ]
  },
  {
   "cell_type": "markdown",
   "id": "209a35fe-ff92-4ef2-8633-b856e7a8a8f5",
   "metadata": {},
   "source": [
    "**Rapids** o **Koalas** son otras librerias que se puede emplear para el análisis de datasets como las vistas en esta práctica. Elige una, u otra que prefieras, y realiza algun análisis de dataset"
   ]
  },
  {
   "cell_type": "markdown",
   "id": "4c59fcb3-469a-4ae7-a4fd-99cb796193b8",
   "metadata": {},
   "source": [
    "<div style=\"font-size:14px; text-align:center\"><b>KOALAS</b><br></div>"
   ]
  },
  {
   "cell_type": "markdown",
   "id": "d6af0d77-0b9d-4ec2-8c17-7e6356ba06d5",
   "metadata": {},
   "source": [
    "En base a la documentación vista de **KOALAS**, se toma como decisión realizar este apartado con dicha libreria frente a RAPIDS y su forma de trabajar.<br>\n",
    "Para el desarrollo del apartado, se ha elegido un dataset de kaggle sobre los 10 000 tweets escritos sobre Uber hasta el 11 de Julio.\n",
    "\n",
    "**Fuente:**<br>\n",
    "https://koalas.readthedocs.io/en/latest/<br>\n",
    "https://www.kabel.es/koalas-la-libreria-que-aprovecha-el-potencial-de-pandas-en-combinacion-con-spark-para-proyectos-data-science/<br>\n",
    "<a href=\"https://www.kaggle.com/datasets/vishesh1412/twitter-dataset-uber\">Dataset<a>"
   ]
  },
  {
   "cell_type": "markdown",
   "id": "2352e393-e53e-493d-bc96-c96a8eba0319",
   "metadata": {},
   "source": [
    "<div style=\"font-size:14px; text-align:justify\"><b>1: </b>Importación de libreria.</div>"
   ]
  },
  {
   "cell_type": "code",
   "execution_count": 52,
   "id": "f62f1137-038f-4e86-ab66-3f23d8b19546",
   "metadata": {},
   "outputs": [
    {
     "name": "stderr",
     "output_type": "stream",
     "text": [
      "WARNING:root:Found pyspark version \"3.3.0\" installed. The pyspark version 3.2 and above has a built-in \"pandas APIs on Spark\" module ported from Koalas. Try `import pyspark.pandas as ps` instead. \n",
      "WARNING:root:'PYARROW_IGNORE_TIMEZONE' environment variable was not set. It is required to set this environment variable to '1' in both driver and executor sides if you use pyarrow>=2.0.0. Koalas will set it for you but it does not work if there is a Spark context already launched.\n"
     ]
    }
   ],
   "source": [
    "import databricks.koalas as ks"
   ]
  },
  {
   "cell_type": "markdown",
   "id": "3de5d157-9041-49e1-855d-c325da826b8d",
   "metadata": {},
   "source": [
    "<div style=\"font-size:14px; text-align:justify\"><b>2: </b>Lectura de fichero y muestra de datos.</div>"
   ]
  },
  {
   "cell_type": "code",
   "execution_count": 53,
   "id": "56a43d68-26d8-4da3-8a8e-13d9596a31ac",
   "metadata": {},
   "outputs": [
    {
     "name": "stdout",
     "output_type": "stream",
     "text": [
      "CPU times: total: 672 ms\n",
      "Wall time: 30.3 s\n"
     ]
    },
    {
     "data": {
      "text/html": [
       "<div>\n",
       "<style scoped>\n",
       "    .dataframe tbody tr th:only-of-type {\n",
       "        vertical-align: middle;\n",
       "    }\n",
       "\n",
       "    .dataframe tbody tr th {\n",
       "        vertical-align: top;\n",
       "    }\n",
       "\n",
       "    .dataframe thead th {\n",
       "        text-align: right;\n",
       "    }\n",
       "</style>\n",
       "<table border=\"1\" class=\"dataframe\">\n",
       "  <thead>\n",
       "    <tr style=\"text-align: right;\">\n",
       "      <th></th>\n",
       "      <th>_c0</th>\n",
       "      <th>id</th>\n",
       "      <th>conversation_id</th>\n",
       "      <th>created_at</th>\n",
       "      <th>date</th>\n",
       "      <th>timezone</th>\n",
       "      <th>place</th>\n",
       "      <th>tweet</th>\n",
       "      <th>language</th>\n",
       "      <th>hashtags</th>\n",
       "      <th>cashtags</th>\n",
       "      <th>user_id</th>\n",
       "      <th>user_id_str</th>\n",
       "      <th>username</th>\n",
       "      <th>name</th>\n",
       "      <th>day</th>\n",
       "      <th>hour</th>\n",
       "      <th>link</th>\n",
       "      <th>urls</th>\n",
       "      <th>photos</th>\n",
       "      <th>video</th>\n",
       "      <th>thumbnail</th>\n",
       "      <th>retweet</th>\n",
       "      <th>nlikes</th>\n",
       "      <th>nreplies</th>\n",
       "      <th>nretweets</th>\n",
       "      <th>quote_url</th>\n",
       "      <th>search</th>\n",
       "      <th>near</th>\n",
       "      <th>geo</th>\n",
       "      <th>source</th>\n",
       "      <th>user_rt_id</th>\n",
       "      <th>user_rt</th>\n",
       "      <th>retweet_id</th>\n",
       "      <th>reply_to</th>\n",
       "      <th>retweet_date</th>\n",
       "      <th>translate</th>\n",
       "      <th>trans_src</th>\n",
       "      <th>trans_dest</th>\n",
       "    </tr>\n",
       "  </thead>\n",
       "  <tbody>\n",
       "    <tr>\n",
       "      <th>0</th>\n",
       "      <td>0</td>\n",
       "      <td>1546244282515951616</td>\n",
       "      <td>1546244282515951616</td>\n",
       "      <td>1657488339000.0</td>\n",
       "      <td>2022-07-10 21:25:39</td>\n",
       "      <td>0</td>\n",
       "      <td>None</td>\n",
       "      <td>motorista do uber é flamenguista meu deus que ...</td>\n",
       "      <td>pt</td>\n",
       "      <td>[]</td>\n",
       "      <td>[]</td>\n",
       "      <td>1520876934770606080</td>\n",
       "      <td>1520876934770606080</td>\n",
       "      <td>3m53s</td>\n",
       "      <td>pedrøca</td>\n",
       "      <td>7</td>\n",
       "      <td>21</td>\n",
       "      <td>https://twitter.com/3m53s/status/1546244282515...</td>\n",
       "      <td>[]</td>\n",
       "      <td>[]</td>\n",
       "      <td>0</td>\n",
       "      <td>None</td>\n",
       "      <td>False</td>\n",
       "      <td>0</td>\n",
       "      <td>0</td>\n",
       "      <td>0</td>\n",
       "      <td>None</td>\n",
       "      <td>Uber</td>\n",
       "      <td>None</td>\n",
       "      <td>None</td>\n",
       "      <td>None</td>\n",
       "      <td>None</td>\n",
       "      <td>None</td>\n",
       "      <td>None</td>\n",
       "      <td>[]</td>\n",
       "      <td>None</td>\n",
       "      <td>None</td>\n",
       "      <td>None</td>\n",
       "      <td>None</td>\n",
       "    </tr>\n",
       "    <tr>\n",
       "      <th>1</th>\n",
       "      <td>1</td>\n",
       "      <td>1546244279533678592</td>\n",
       "      <td>1546244279533678592</td>\n",
       "      <td>1657488338000.0</td>\n",
       "      <td>2022-07-10 21:25:38</td>\n",
       "      <td>0</td>\n",
       "      <td>None</td>\n",
       "      <td>“Le service de hélage électronique Uber a entr...</td>\n",
       "      <td>fr</td>\n",
       "      <td>[]</td>\n",
       "      <td>[]</td>\n",
       "      <td>970304563944284165</td>\n",
       "      <td>970304563944284165</td>\n",
       "      <td>CorbeauAttentif</td>\n",
       "      <td>François Lemay📌</td>\n",
       "      <td>7</td>\n",
       "      <td>21</td>\n",
       "      <td>https://twitter.com/CorbeauAttentif/status/154...</td>\n",
       "      <td>['https://lnkd.in/gUPwGJ3n']</td>\n",
       "      <td>[]</td>\n",
       "      <td>0</td>\n",
       "      <td>None</td>\n",
       "      <td>False</td>\n",
       "      <td>0</td>\n",
       "      <td>0</td>\n",
       "      <td>0</td>\n",
       "      <td>None</td>\n",
       "      <td>Uber</td>\n",
       "      <td>None</td>\n",
       "      <td>None</td>\n",
       "      <td>None</td>\n",
       "      <td>None</td>\n",
       "      <td>None</td>\n",
       "      <td>None</td>\n",
       "      <td>[]</td>\n",
       "      <td>None</td>\n",
       "      <td>None</td>\n",
       "      <td>None</td>\n",
       "      <td>None</td>\n",
       "    </tr>\n",
       "  </tbody>\n",
       "</table>\n",
       "</div>"
      ],
      "text/plain": [
       "  _c0                   id      conversation_id       created_at                 date  timezone place                                                                                                                                                                                                                                                                       tweet language hashtags cashtags              user_id          user_id_str         username             name day hour                                                            link                          urls photos video thumbnail retweet nlikes nreplies nretweets quote_url search  near   geo source user_rt_id user_rt retweet_id reply_to retweet_date translate trans_src trans_dest\n",
       "0   0  1546244282515951616  1546244282515951616  1657488339000.0  2022-07-10 21:25:39         0  None                                                                                                                                                                                                                 motorista do uber é flamenguista meu deus que diabo de vida       pt       []       []  1520876934770606080  1520876934770606080            3m53s          pedrøca   7   21            https://twitter.com/3m53s/status/1546244282515951616                            []     []     0      None   False      0        0         0      None   Uber  None  None   None       None    None       None       []         None      None      None       None\n",
       "1   1  1546244279533678592  1546244279533678592  1657488338000.0  2022-07-10 21:25:38         0  None  “Le service de hélage électronique Uber a entravé le travail d'enquêteurs, exploité la violence envers ses chauffeurs et secrètement bénéficié de l'appui d'Emmanuel Macron dans sa campagne de lobbying, selon une fuite de documents internes…”  https://t.co/4WqchYsBlE       fr       []       []   970304563944284165   970304563944284165  CorbeauAttentif  François Lemay📌   7   21  https://twitter.com/CorbeauAttentif/status/1546244279533678592  ['https://lnkd.in/gUPwGJ3n']     []     0      None   False      0        0         0      None   Uber  None  None   None       None    None       None       []         None      None      None       None"
      ]
     },
     "execution_count": 53,
     "metadata": {},
     "output_type": "execute_result"
    }
   ],
   "source": [
    "%%time\n",
    "df_uber = ks.read_csv('Uber.csv')\n",
    "df_uber.head(2)"
   ]
  },
  {
   "cell_type": "code",
   "execution_count": 54,
   "id": "ec3c6266-c803-4480-b748-1bd2df9971c1",
   "metadata": {},
   "outputs": [
    {
     "data": {
      "text/plain": [
       "(10012, 39)"
      ]
     },
     "execution_count": 54,
     "metadata": {},
     "output_type": "execute_result"
    }
   ],
   "source": [
    "# Longitud de los datos en filas y columnas\n",
    "df_uber.shape"
   ]
  },
  {
   "cell_type": "markdown",
   "id": "45f8fd14-88d5-4f71-96cf-c6f8b6bca156",
   "metadata": {},
   "source": [
    "En lo que hace a la rapidez de lectura del **.csv**, se observa que es una lectura muy optimizada, se ha realizado en **800  ms**"
   ]
  },
  {
   "cell_type": "markdown",
   "id": "6c9a17a3-7dfa-4dcd-a9b1-f478beddbe76",
   "metadata": {},
   "source": [
    "**Nota:** Importante para mostrar los datos, indicar ```df.head()``` ya que de lo contrario, imprime los primeros 1000 datos"
   ]
  },
  {
   "cell_type": "markdown",
   "id": "c40313b0-1df1-4eac-9a52-c22d57016d81",
   "metadata": {},
   "source": [
    "<div style=\"font-size:14px; text-align:justify\"><b>3: </b>Selección de datos.</div>"
   ]
  },
  {
   "cell_type": "code",
   "execution_count": 55,
   "id": "6ca25f77-62a4-40f3-9067-1b39a9cb009d",
   "metadata": {
    "tags": []
   },
   "outputs": [
    {
     "data": {
      "text/plain": [
       "_c0                object\n",
       "id                 object\n",
       "conversation_id    object\n",
       "created_at         object\n",
       "date               object\n",
       "timezone            int64\n",
       "place              object\n",
       "tweet              object\n",
       "language           object\n",
       "hashtags           object\n",
       "cashtags           object\n",
       "user_id            object\n",
       "user_id_str        object\n",
       "username           object\n",
       "name               object\n",
       "day                object\n",
       "hour               object\n",
       "link               object\n",
       "urls               object\n",
       "photos             object\n",
       "video              object\n",
       "thumbnail          object\n",
       "retweet            object\n",
       "nlikes             object\n",
       "nreplies           object\n",
       "nretweets          object\n",
       "quote_url          object\n",
       "search             object\n",
       "near               object\n",
       "geo                object\n",
       "source             object\n",
       "user_rt_id         object\n",
       "user_rt            object\n",
       "retweet_id         object\n",
       "reply_to           object\n",
       "retweet_date       object\n",
       "translate          object\n",
       "trans_src          object\n",
       "trans_dest         object\n",
       "dtype: object"
      ]
     },
     "execution_count": 55,
     "metadata": {},
     "output_type": "execute_result"
    }
   ],
   "source": [
    "# Tipo de dato de cada columna del dataset\n",
    "df_uber.dtypes"
   ]
  },
  {
   "cell_type": "code",
   "execution_count": 56,
   "id": "e41936ef-b9f3-44ba-b058-de3f22b157ae",
   "metadata": {
    "tags": []
   },
   "outputs": [
    {
     "data": {
      "text/plain": [
       "Index(['_c0', 'id', 'conversation_id', 'created_at', 'date', 'timezone',\n",
       "       'place', 'tweet', 'language', 'hashtags', 'cashtags', 'user_id',\n",
       "       'user_id_str', 'username', 'name', 'day', 'hour', 'link', 'urls',\n",
       "       'photos', 'video', 'thumbnail', 'retweet', 'nlikes', 'nreplies',\n",
       "       'nretweets', 'quote_url', 'search', 'near', 'geo', 'source',\n",
       "       'user_rt_id', 'user_rt', 'retweet_id', 'reply_to', 'retweet_date',\n",
       "       'translate', 'trans_src', 'trans_dest'],\n",
       "      dtype='object')"
      ]
     },
     "execution_count": 56,
     "metadata": {},
     "output_type": "execute_result"
    }
   ],
   "source": [
    "# Nombre de las columnas de dataset\n",
    "df_uber.columns"
   ]
  },
  {
   "cell_type": "code",
   "execution_count": 57,
   "id": "f7c83e8f-9e32-4bf2-93e4-998c20ffdca7",
   "metadata": {
    "tags": []
   },
   "outputs": [
    {
     "data": {
      "text/html": [
       "<div>\n",
       "<style scoped>\n",
       "    .dataframe tbody tr th:only-of-type {\n",
       "        vertical-align: middle;\n",
       "    }\n",
       "\n",
       "    .dataframe tbody tr th {\n",
       "        vertical-align: top;\n",
       "    }\n",
       "\n",
       "    .dataframe thead th {\n",
       "        text-align: right;\n",
       "    }\n",
       "</style>\n",
       "<table border=\"1\" class=\"dataframe\">\n",
       "  <thead>\n",
       "    <tr style=\"text-align: right;\">\n",
       "      <th></th>\n",
       "      <th>tweet</th>\n",
       "      <th>language</th>\n",
       "    </tr>\n",
       "  </thead>\n",
       "  <tbody>\n",
       "    <tr>\n",
       "      <th>0</th>\n",
       "      <td>motorista do uber é flamenguista meu deus que ...</td>\n",
       "      <td>pt</td>\n",
       "    </tr>\n",
       "    <tr>\n",
       "      <th>1</th>\n",
       "      <td>“Le service de hélage électronique Uber a entr...</td>\n",
       "      <td>fr</td>\n",
       "    </tr>\n",
       "  </tbody>\n",
       "</table>\n",
       "</div>"
      ],
      "text/plain": [
       "                                                                                                                                                                                                                                                                        tweet language\n",
       "0                                                                                                                                                                                                                 motorista do uber é flamenguista meu deus que diabo de vida       pt\n",
       "1  “Le service de hélage électronique Uber a entravé le travail d'enquêteurs, exploité la violence envers ses chauffeurs et secrètement bénéficié de l'appui d'Emmanuel Macron dans sa campagne de lobbying, selon une fuite de documents internes…”  https://t.co/4WqchYsBlE       fr"
      ]
     },
     "execution_count": 57,
     "metadata": {},
     "output_type": "execute_result"
    }
   ],
   "source": [
    "# Columnas a ser borradas por no interesar en este caso\n",
    "delete_columns = ['_c0', 'id', 'conversation_id', 'created_at', 'date', 'timezone', 'place', 'hashtags', 'cashtags', 'user_id', \n",
    "                  'user_id_str', 'username', 'name', 'day', 'hour', 'link', 'urls', 'photos', 'video', 'thumbnail', 'retweet', 'nlikes',\n",
    "                  'nreplies', 'nretweets', 'quote_url', 'search', 'near', 'geo', 'source', 'user_rt_id', 'user_rt', 'retweet_id',\n",
    "                  'reply_to', 'retweet_date', 'translate', 'trans_src', 'trans_dest']\n",
    "# borrado de columnas\n",
    "df_language = df_uber\n",
    "df_language.pop(delete_columns)\n",
    "\n",
    "df_language.head(2)"
   ]
  },
  {
   "cell_type": "code",
   "execution_count": 58,
   "id": "d4c8993d-ab54-45ed-85d6-6f6caa60d703",
   "metadata": {
    "tags": []
   },
   "outputs": [
    {
     "data": {
      "text/plain": [
       "  https://t.co/gwuk4utnUr\"                                                                                                                                                                                                                                                      1\n",
       " \"\"A whole lot more than you expected.\"\"\"                                                                                                                                                                                                                                       1\n",
       " \"\"meilleur jeune économiste\"\" du prix décerné par @lemondefr. Merci le Monde pour ses \"\"révélations\"\". Dur dur                                                                                                                                                                 5\n",
       " \"\"pillage du pays\"\": des élus de gauche ont vivement dénoncé dimanche les liens qui ont uni Emmanuel Macron et la société Uber                                                                                                                                                 2\n",
       " \"\"pillage du pays\"\": des élus de gauche ont vivement dénoncé dimanche les liens qui ont..  https://t.co/CMlScy4QY2  https://t.co/247y7RAoYy\"                                                                                                                                   1\n",
       " \"\"tu vas faire quoi ? \"\".\"                                                                                                                                                                                                                                                     1\n",
       " *ne comporte pas* la notion de \"\"présomption irréfragable\"\" d'indépendance                                                                                                                                                                                                     1\n",
       " @OuestFrance réussit à faire un article entier sans citer #Macron ! Chapeau                                                                                                                                                                                                    1\n",
       " Air Bnb                                                                                                                                                                                                                                                                        1\n",
       " Airbnb                                                                                                                                                                                                                                                                         1\n",
       " Benalla                                                                                                                                                                                                                                                                        1\n",
       " BossDad! 🤣🤣🤣\"                                                                                                                                                                                                                                                                  1\n",
       " G. Electric                                                                                                                                                                                                                                                                    1\n",
       " Général Électric.   Il faut s'interroger sur ces hypnoses collectives..\"                                                                                                                                                                                                       1\n",
       " ICIJ barely scratched the surface of its massive lobbying arm                                                                                                                                                                                                                  1\n",
       " IMO.\"                                                                                                                                                                                                                                                                          1\n",
       " Italy and Germany by offering them prized financial stakes turning them into “strategic investors” #UberFiles   https://t.co/gsoHWCksRV\"                                                                                                                                       1\n",
       " Kalanick’s top executive in Asia urged managers to focus on driving growth                                                                                                                                                                                                     1\n",
       " MacGann emailed other Uber executives                                                                                                                                                                                                                                          1\n",
       " Melanie Schultz                                                                                                                                                                                                                                                                1\n",
       " Mr Macron - now president - was on first name terms with Uber's controversial boss Travis Kalanick                                                                                                                                                                             1\n",
       " Mr Macron was on first name terms with Uber's controversial boss Travis Kalanick                                                                                                                                                                                               1\n",
       " Ms Kroes again contacted a Dutch minister the Uber Files show                                                                                                                                                                                                                  3\n",
       " President Joe!\"                                                                                                                                                                                                                                                                1\n",
       " Tesla and Google all the way down.\"                                                                                                                                                                                                                                            1\n",
       " Theo com 5 centavos 🤡🤡🤡\"                                                                                                                                                                                                                                                       1\n",
       " Uber execs met face-to-face with Macron                                                                                                                                                                                                                                        1\n",
       " Uber sought to turn it to its advantage                                                                                                                                                                                                                                        1\n",
       " Uber va aussi faire appel à Macron lors de la perquisition dans ses locaux pendant que le ministre \"\"s'excuse\"\" du vote de la loi Thévenoud...\"                                                                                                                                1\n",
       " Washington Post and the BBC will in the coming days publish a series of investigative reports about the tech giant.\"\"  Uber is fukd.\"                                                                                                                                          1\n",
       " Washington Post and the BBC will in the coming days publish a series of investigative reports\"\"  Uber broke laws                                                                                                                                                               1\n",
       " [Uber] paid prominent academics hundreds of thousands of dollars to produce research that supported the company’s claims about the benefits of its economic model.\"\"  https://t.co/eTT0vr6jiw\"                                                                                 1\n",
       " a indiqué Jill Hazelbaker                                                                                                                                                                                                                                                      1\n",
       " a joint media investigation showed Sunday.\"\"  https://t.co/CpvKjK0hvs\"                                                                                                                                                                                                         1\n",
       " a pu bénéficier de la bienveillance + de l’appui d’Emmanuel #Macron (à Bercy)⬇️  https://t.co/TUo5Q3rply\"                                                                                                                                                                      1\n",
       " a réagi Devon Spurgeon                                                                                                                                                                                                                                                         1\n",
       " a través de un software que recolectaba datos de los pasajeros👇👇👇👇\"                                                                                                                                                                                                            1\n",
       " according to a message to an Uber staffer from a Biden aide.\"\"   https://t.co/paa28jvRZ4\"                                                                                                                                                                                      1\n",
       " achei muito bom vou comprar para uma amiga\"\"  felizmente moro na paz de ser uma mulher cheirosa 🥰🥰🥰🥰🥰\"                                                                                                                                                                         1\n",
       " alors ministre de l'Economie                                                                                                                                                                                                                                                   1\n",
       " alors ministre de l'Économie. Sont pointées du doigt des pratiques destinées à aider Uber à consolider ses positions en #France.   https://t.co/ugiz4AqPQa\"                                                                                                                    1\n",
       " alors ministre des finances. #UberFiles  https://t.co/ifeRIBYXYx\"                                                                                                                                                                                                              1\n",
       " alors pas de critiques.\"\"  #UberFiles\"                                                                                                                                                                                                                                         1\n",
       " alors qu'Uber se développait dans le monde entier                                                                                                                                                                                                                              1\n",
       " alors qu'ils ont le métro à disposition. Au fin fond de la France rurale                                                                                                                                                                                                       1\n",
       " alors que les chauffeurs de taxis français protestent contre le développement sauvage des VTC                                                                                                                                                                                  1\n",
       " also where did u get that knife from its so cute ima uber to the hospital now fuck you\"\"\"                                                                                                                                                                                      1\n",
       " amicale et constructive\"\"                                                                                                                                                                                                                                                      1\n",
       " and was keen to help.\"\"  How on earth does Uber create \"\"growth\"\" and \"\"jobs\"\" ?\"                                                                                                                                                                                              1\n",
       " and which is here to stay.\"\" 🫣\"                                                                                                                                                                                                                                                1\n",
       " après des révélations d'une enquête du @ICIJorg #UberFiles  ➡️ https://t.co/2PiVfVXyRq #AFP  https://t.co/JyqeoRim2K\"                                                                                                                                                          1\n",
       " arbeitete dann als Lobbyist und wechselte 2017 wieder in die Politik und in den Bundestag.\"\"\"                                                                                                                                                                                  1\n",
       " arrive des articles comme sur #uber qui accusent le merdeux et sa mamie... #macronestunpion il n'est pas le problème.\"                                                                                                                                                         1\n",
       " assortie d’un service après-vente auprès de la presse et des parlementaires\"\". Vous n'êtes plus éditorialiste???\"                                                                                                                                                              1\n",
       " at least initially                                                                                                                                                                                                                                                             1\n",
       " avec un lobbying aussi important ici ?  https://t.co/xUjyC59PfK\"                                                                                                                                                                                                               1\n",
       " bankrolled with unprecedented venture capital funding                                                                                                                                                                                                                          1\n",
       " bare-knuckled global expansion.\"\"  Worth adding that top Biden officials Jake Sullivan and Tony Blinken worked as consultants for Uber. Asst Attorney General Matt Olsen was Uber's head of security.  https://t.co/pNeT2HM7nF\"                                                1\n",
       " bueno                                                                                                                                                                                                                                                                          1\n",
       " but I have to stick to my principle.\"                                                                                                                                                                                                                                          1\n",
       " but UberEATS does lose money w you don't tip\"                                                                                                                                                                                                                                  1\n",
       " but because the actual price is much higher                                                                                                                                                                                                                                    1\n",
       " but that usually ends up expediting regulatory engagement with the govt”\"                                                                                                                                                                                                      1\n",
       " but that’s about it.\"\"\"                                                                                                                                                                                                                                                        1\n",
       " but we've stopped doing that now.\"\"  \"\"So you're going to relinquish some of that wealth and dominance?\"\"  \"\"Lmao\"\"\"                                                                                                                                                           1\n",
       " c'est foutu                                                                                                                                                                                                                                                                    1\n",
       " c'est juste illogique.\"                                                                                                                                                                                                                                                        1\n",
       " c'est la start-up nation\"\"                                                                                                                                                                                                                                                     1\n",
       " c'est mal                                                                                                                                                                                                                                                                      1\n",
       " c'est mal. Na.\"\" 😂  https://t.co/pUd1PvGK2W\"                                                                                                                                                                                                                                   1\n",
       " c'est nouveau pour moi\"                                                                                                                                                                                                                                                        1\n",
       " c'est peut-être une coïncidence.\"                                                                                                                                                                                                                                              1\n",
       " c'est que le journal explique qu'il y a eu des tentatives de pression d'Uber sur Joe Biden                                                                                                                                                                                     1\n",
       " calcan sus métodos. Mafia haciendo cosas mafiosas.  https://t.co/owMQEL9zaY\"                                                                                                                                                                                                   1\n",
       " canalizó dinero a través de paraísos fiscales y considera violencia contra los conductores como una forma de ganar simpatía.  https://t.co/1leZiCN2bO\"                                                                                                                         1\n",
       " ce n’est pas courant. Encore moins quand il s’agit du PDG d’une multinationale                                                                                                                                                                                                 1\n",
       " ce serait de rétablir l’ISF\"\" maintenant on comprend pourquoi ! Economiste à la noix ! 😉  UberFiles  nbouzou  Uber  UberGate   https://t.co/GAZEA9Ibub\"                                                                                                                        1\n",
       " ce serait de rétablir l’ISF\"\" maintenant on comprend pourquoi ! Economiste à la noix ! 😉 #UberFiles @nbouzou #Uber #UberGate   https://t.co/jF0C6WJ3SB\"                                                                                                                        1\n",
       " com tanta mulher no mundo\"\". Tô rachando o bico KKKKKKK\"                                                                                                                                                                                                                       1\n",
       " comme #banquier ! \"\"  Emmanuel Macron #VRP #vaccin #VTC. #Pfizer #UBER Le Monde #Mckinsey #Rothschild #Hollande Xavier Niel Bernard Arnault  https://t.co/ZSizlYaBPk\"                                                                                                          1\n",
       " conforme revelou neste domingo um grupo de mídia internacional.\"                                                                                                                                                                                                               1\n",
       " cozied up to oligarchs and dodged taxes amid chaotic global expansion.\"\"   https://t.co/QAVdC5iJSV via @commondreams\"                                                                                                                                                          1\n",
       " cozied up to oligarchs and dodged taxes amid chaotic global expansion.\"\"   https://t.co/TqrJ7redtH via @commondreams\"                                                                                                                                                          1\n",
       " cozied up to oligarchs and dodged taxes amid chaotic global expansion.\"\"   https://t.co/acvHjogpBY via @commondreams  g-r-e-e-d\"                                                                                                                                               1\n",
       " cuando evidenciados quieran quitarse su tatuaje no deseado la marca de Uber de su frente. Quisiera que el Teniente Aldo Raine diera su glorioso final a estos individuos\"                                                                                                      1\n",
       " c’est possible.\"\" - LeMonde  https://t.co/U9EAYY14Wf\"                                                                                                                                                                                                                          1\n",
       " da Macron a Renzi la rete dell'azienda per affermarsi in Europa   https://t.co/UU6hb0VROV\"                                                                                                                                                                                     1\n",
       " da es dort viel Polizei gäbe und \"\"Grab\"\" in Thailand illegal sei. Markt zerstören                                                                                                                                                                                             1\n",
       " da pra ver se ele te traia\"\" kkkkkkkkkkkkkk 🤡\"                                                                                                                                                                                                                                 1\n",
       " dans l’ombre                                                                                                                                                                                                                                                                   1\n",
       " daqui a pouco vc tem esposa e filhos\"\" eu ia soltar um \"\"AMORE SOU GAY\"\" mas preferi deixar quieto\"                                                                                                                                                                            1\n",
       " das vergesst mal schnell\"\": Wenn das jeder Kriegsverbrecher bloß von sich sagen könnte                                                                                                                                                                                         1\n",
       " dass der Konzern in Erwägung zog                                                                                                                                                                                                                                               1\n",
       " dat wordt geleid door een VVDer die elke dag wordt vervoerd door een uber en aandelen heeft in uber                                                                                                                                                                            1\n",
       " de preferência As Patroas.\"\"\"                                                                                                                                                                                                                                                  1\n",
       " deactivations and poverty wages.\"                                                                                                                                                                                                                                              1\n",
       " diez puntos porcentuales menos que el contribuyente argentino\"\"   https://t.co/IlEraVlEV3\"                                                                                                                                                                                     1\n",
       " diez puntos porcentuales menos que el contribuyente argentino: la consideró una empresa de los Países Bajos y no una empresa argentina\"\"  https://t.co/C2Pr0vGEI5\"                                                                                                             1\n",
       " du salariat                                                                                                                                                                                                                                                                    1\n",
       " duped police                                                                                                                                                                                                                                                                   2\n",
       " duped police and built secret lobbying operation                                                                                                                                                                                                                               8\n",
       " duped police and secretly lobbied governments                                                                                                                                                                                                                                  7\n",
       " em 2022                                                                                                                                                                                                                                                                        1\n",
       " en dat je er dan toch boos over kunt worden als je daar achter komt.\"\" #Kroes #Uber\"                                                                                                                                                                                           1\n",
       " en la que medio mundo está poniendo de vuelta y media a #Uber por los #UberFiles                                                                                                                                                                                               1\n",
       " en réponse à une enquête internationale de journalistes montrant que l'entrepris...  https://t.co/JJSY9tJBp6\"                                                                                                                                                                  1\n",
       " en réponse à une enquête internationale de journalistes montrant que l'entreprise a eu recours à des pratiques brutales voire \"\"enfreint la loi\"\" pour s'imposer ➡️ https://t.co/FKAWYfdpgY #UberFiles  https://t.co/2A4Je29kVI\"                                               1\n",
       " enriquecimiento personal.. No os parece que la historia se repite en bucle? ¿Recordáis como nos vendían colaboración publico-privada?  https://t.co/DW2TuPJ2DR\"                                                                                                                1\n",
       " entre 2014 et 2016                                                                                                                                                                                                                                                             1\n",
       " entre 2014 y 2016                                                                                                                                                                                                                                                              1\n",
       " er staat \"\"HIER OPENEN\"\"                                                                                                                                                                                                                                                       1\n",
       " est une minute en moins de réunion avec moi\"\".  Biden                                                                                                                                                                                                                          1\n",
       " estáis dejando frasecitas que aplicadas a vuestro compi @FFerrerasARV   le irían al pelo. Y a vosotros que seguís tapando mierda.\"                                                                                                                                             1\n",
       " eu dei uma gaitada aqui\"                                                                                                                                                                                                                                                       1\n",
       " executives at the company frantically sent out instructions to IT staff to cut off access to the company’s main data systems                                                                                                                                                   2\n",
       " exploité la violence envers ses chauffeurs et secrètement bénéficié de l'appui d'Emmanuel Macron dans sa campagne de lobbying\"\" ►Les dérapages d’Uber  https://t.co/RDZaIGIMeS\"                                                                                                1\n",
       " founder Travis Kalanick was forced out because of unproven allegations against him  https://t.co/cDJ2AOCjP9                                                                                                                                                                    1\n",
       " fym\"                                                                                                                                                                                                                                                                           1\n",
       " gaan bij Uber alle schermen op zwart \"\" - Het Financieele Dagblad  https://t.co/ij7Tc5OsqY\"                                                                                                                                                                                    1\n",
       " gardez-vous à gauche                                                                                                                                                                                                                                                           1\n",
       " health &amp; retirement conditions. Never Uber. Never!\"                                                                                                                                                                                                                        1\n",
       " hochrangigen Beamten und Journalisten [zur Änderung des Personenbeförderungsgesetzes] geführt. Besonders viel versprachen sich die Lobbyisten dabei von Dorothee Bär.\"\"\"                                                                                                       1\n",
       " hoewel de Europese Commissie haar expliciet had verboden om een functie bij [Uber] aan te nemen.\"\"  \"\"Heimelijk lobbyen\"\"  Goh dat klinkt als leek verdacht veel als corruptie...  En dit is nog de heimelijke lobby                                                           1\n",
       " ignore les règlementations (...)                                                                                                                                                                                                                                               1\n",
       " ignored rules in early years                                                                                                                                                                                                                                                   1\n",
       " il a œuvré dans le dos du Premier ministre de l'époque et de la majorité de députés socialistes d'alors pour faciliter cette installation.\"\" 2/x\"                                                                                                                              1\n",
       " ilegalidad y abuso de Uber en el mundo                                                                                                                                                                                                                                         1\n",
       " imposer des                                                                                                                                                                                                                                                                    1\n",
       " indagine lobby sui leader Usa e UE: coinvolti anche Macron                                                                                                                                                                                                                     1\n",
       " informa @Emiliadelfino con la trama del lobby en la Argentina 🤖  https://t.co/FKnJh4MSmB\"                                                                                                                                                                                      1\n",
       " inquiring about the authorities who raided the company. “They report to Macron                                                                                                                                                                                                 1\n",
       " intoxicated women at 2:00AM will get into cars driven by strange men they don't know.  And we at @Uber guarantee their safety every single time.\"\"\"                                                                                                                            1\n",
       " it hired former government officials to lobby former colleagues. When accused of breaking rules                                                                                                                                                                                1\n",
       " it paid friendly academics to produce favorable research. Uber adopted the mantra                                                                                                                                                                                              1\n",
       " it sevišķi                                                                                                                                                                                                                                                                     1\n",
       " it sounds vaguely like he's saying attacks against Uber's own drivers are helpful – but *with* this context the suggestion lacks basic common sense.\"                                                                                                                          1\n",
       " it's OK to break the rules and possibly the law because they've repented. Sorry. They need to be hit hard if the allegations are true.\"                                                                                                                                        1\n",
       " je me demandais dans quelles conditions vis à vis de leur tutelle.\"                                                                                                                                                                                                            1\n",
       " je peux comprendre que ça te fasse chier qu'il n'y ait pas assez d'enquêtes sur G7 mais pourquoi râler sur une autre enquête ?\"                                                                                                                                                1\n",
       " já estou no Uber\"\"🥰\"                                                                                                                                                                                                                                                           1\n",
       " la direction d'Uber ? Vous avez bien commandé un Macron ? Oui                                                                                                                                                                                                                  1\n",
       " la violence garantit le succès\"\".   Cow-boys !  #UberFiles  https://t.co/qxsJMJvo7H\"                                                                                                                                                                                           1\n",
       " le Premier ministre israélien de l'époque Benjamin Netanyahu                                                                                                                                                                                                                   1\n",
       " le préfet de police des #BouchesduRhône                                                                                                                                                                                                                                        1\n",
       " le président français                                                                                                                                                                                                                                                          1\n",
       " le rapport #Attali avec #Macron et #McKinsey recommandait la mort des taxis\"                                                                                                                                                                                                   1\n",
       " leak reveals\"\"  This is barely even news                                                                                                                                                                                                                                       1\n",
       " les bureaux parisiens d'Uber voient débarquer des inspecteurs [de la DGCCRF]. “Veuillez tuer l'accès maintenant”                                                                                                                                                               1\n",
       " les documents suggèrent que son soutien à la société controversée est allé bien au-delà de ce qui a été dévoilé publiquement. #UberFiles  https://t.co/rfhxYwTbNo\"                                                                                                             1\n",
       " les entreprises comme #Uber &amp; Airbnb nous menacent. A terme                                                                                                                                                                                                                1\n",
       " les taxis\"\"... mais \"\"iI ne faut pas empêcher le changement\"\" Avec les #UberFiles on comprend mieux son soutien à Uber.   https://t.co/95OUVhVKac via @DailymotionUSA\"                                                                                                         1\n",
       " leur a-t-il répondu. \"\"La violence garantit le succès\"\"\"                                                                                                                                                                                                                       1\n",
       " lors du Forum économique mondial                                                                                                                                                                                                                                               1\n",
       " lorsqu’il était ministre de l’Économie                                                                                                                                                                                                                                         1\n",
       " lógico!\"\".  E foi uma viagem inteira falando mal do Lula. +\"                                                                                                                                                                                                                   1\n",
       " l’équipe de lobbying de choc ressort abasourdie du bureau d’Emmanuel Macron. [...] «Meeting méga top avec Emmanuel Macron ce matin. La France nous aime après tout »\"\" écrit le lobbyiste en chef pour l'Europe d'Uber ce 01/102014 #UberFiles  https://t.co/kYUuSsyUgD\"       1\n",
       " mas é incapaz de se comunicar com trabalhador precarizado que nem uber\"                                                                                                                                                                                                        1\n",
       " ministre de l’Economie                                                                                                                                                                                                                                                         1\n",
       " miro TV4                                                                                                                                                                                                                                                                       1\n",
       " more than 80 Uber drivers had been physically attacked across Europe                                                                                                                                                                                                           1\n",
       " multicountry emergency-response system used to keep company information out of the hands of investigating authorities [a] “kill switch                                                                                                                                         1\n",
       " muy codo                                                                                                                                                                                                                                                                       1\n",
       " my driver will  come for it tomorrow????\"\"  sahiyo ni Rangie sport 2020😂😂😭😭😭 hiyo ukigongesha your whole bloodline will have to sell kidneys to repair...\"                                                                                                                     1\n",
       " n'a certainement pas été fait sans contre-parties... Lesquelles ? Macron a-t'il été payé ?\"                                                                                                                                                                                    1\n",
       " nada después de 2 largas horas emputada viendo Thor (meeh)                                                                                                                                                                                                                     1\n",
       " ni chômage                                                                                                                                                                                                                                                                     1\n",
       " ni même écrire son nom.   La Pravda enfoncée...   https://t.co/ACxaLohTbc\"                                                                                                                                                                                                     1\n",
       " no permiso\"\" el modelo de corruptela                                                                                                                                                                                                                                           1\n",
       " nobody forced you to buy more drinks\"\"  what a fucking asshole. jesus fucking christ\"                                                                                                                                                                                          1\n",
       " non                                                                                                                                                                                                                                                                            1\n",
       " não querida @Uber_Brasil                                                                                                                                                                                                                                                       1\n",
       " o zamanki ekonomi bakanı olarak                                                                                                                                                                                                                                                1\n",
       " ok                                                                                                                                                                                                                                                                             1\n",
       " on ira les critiquer parce qu'ils ont pris un Uber une fois dans leur vie\"                                                                                                                                                                                                     1\n",
       " only to be charged £25 when I get there...\"                                                                                                                                                                                                                                    1\n",
       " para asentarse en España: un asesor de Obama se reunió con Rajoy para convencerlo  https://t.co/7pqoaQRMyx\"                                                                                                                                                                    1\n",
       " para asentarse en España: un asesor de Obama se reunió con Rajoy para convencerlo'.   https://t.co/RGIzhgh12R\"                                                                                                                                                                 1\n",
       " para llegar a España: los #UberFiles revelan que la compañía reclutó a un exasesor de Obama para convencer a \"\"Manuel Rajoy\"\" de legislar a su favor.  Una exclusiva internacional @j_castellon @iera_hz   https://t.co/4h0ZCaDTKC\"                                            1\n",
       " pas un président.\"                                                                                                                                                                                                                                                             1\n",
       " plus d'infos ici👇 #UberFiles   https://t.co/q6zhqyQ7SR\"                                                                                                                                                                                                                        1\n",
       " poliitikot ja virkamiehet joutuvat olemaan tarkkana                                                                                                                                                                                                                            1\n",
       " porque está próximo o reino dos céus.\"\"  Um ótimo jeito de estabelecer a vibe do resto do meu dia.  https://t.co/ERF2kdeJ4R\"                                                                                                                                                   1\n",
       " pourquoi pas un petit VTC via Uber\"\"\"                                                                                                                                                                                                                                          1\n",
       " presidentes                                                                                                                                                                                                                                                                    1\n",
       " presidents                                                                                                                                                                                                                                                                     1\n",
       " probablement.\"                                                                                                                                                                                                                                                                 1\n",
       " qu'en est-il pour d'autres filières/sujets ? #Énergie ? #Climat ? C'est effrayant ! 5 @nbouzou ce n'est pas une surprise                                                                                                                                                       1\n",
       " qu'il doit être le + faible possible\"\"  3/x\"                                                                                                                                                                                                                                   1\n",
       " que des reconstitutions                                                                                                                                                                                                                                                        1\n",
       " que vela por la seguridad de las mujeres.  Lee el artículo aquí:  https://t.co/t259Eppsa5\"                                                                                                                                                                                     1\n",
       " qui est juste idéologiquement pour une régulation étatique plus limitée\"                                                                                                                                                                                                       1\n",
       " recomiendan los abogados de la empresa. Lo descubrimos gracias a los #UberFiles                                                                                                                                                                                                1\n",
       " records show.\"\"\"                                                                                                                                                                                                                                                               1\n",
       " regardez les réactions populistes de la NUPES\"\" - mardi : \"\"j'assume\"\" - mercredi : Schiappa fait diversion                                                                                                                                                                    1\n",
       " respondió. \"\"La violencia garantiza el éxito\"\".  https://t.co/4zXxcf2ZVU\"                                                                                                                                                                                                      1\n",
       " riep Kroes de Nederlandse ministers op om regelgevers ertoe te brengen zich terug te trekken waarbij ze een topambtenaar intimideerde\"\". #UberFiles\"                                                                                                                           1\n",
       " réagit Aurélien Taché                                                                                                                                                                                                                                                          5\n",
       " s'han descobert ara uns \"\"papers de Uber\"\"... El \"\"farreras\"\" és intocable i el millor periudixta del món mundial i part del univers\"                                                                                                                                          1\n",
       " sa famille et pour tous.  Chacun ses priorités !\"                                                                                                                                                                                                                              1\n",
       " sa liberté? ! !\"\"   #giletsjaunes #UberFiles #Uber  https://t.co/oG9YGJ0xn2\"                                                                                                                                                                                                   1\n",
       " schreef een manager van Uber.  Neelie Kroes\"                                                                                                                                                                                                                                   1\n",
       " schrieb @Otto_Fricke…“🤔\"                                                                                                                                                                                                                                                       1\n",
       " se pose la question : combien a touché Macron pour faire un boulot équivalent lorsqu'il était ministre? 🤔😒💀\"                                                                                                                                                                   1\n",
       " se saltó las leyes siempre que pudo y untó a mandos policiales en varios países. Resumiendo                                                                                                                                                                                    1\n",
       " see more  https://t.co/NboJQywtyE\"                                                                                                                                                                                                                                             1\n",
       " see more  https://t.co/kezf6B75Lz\"                                                                                                                                                                                                                                             1\n",
       " según desvela este domingo un grupo de medios internacionales.  https://t.co/YfS7W38AKf\"                                                                                                                                                                                       1\n",
       " según desvela este domingo un grupo de medios internacionales.\"                                                                                                                                                                                                                2\n",
       " según dicen 115 millones de usuarios en el mundo ( es decir                                                                                                                                                                                                                    1\n",
       " si me suben al beat voy a competir con toda la gente voy a compartir\"\"\"                                                                                                                                                                                                        1\n",
       " somos unos piratas\"\". Uber sabía que era ilegal                                                                                                                                                                                                                                1\n",
       " sondern \"\"beurteilt uns (jetzt) nach unseren (hoffentlich) späteren Taten\"\".  Schlimmer geht's wirklich immer. #zib2\"                                                                                                                                                          1\n",
       " specifically the date that Uber reports its so-called earnings.  Someone is trying to get ahead of me. lol\"                                                                                                                                                                    1\n",
       " spending gobs of cash on a global influence machine.\"\" #TheInfiniteAge  https://t.co/APM29wmkpt\"                                                                                                                                                                               1\n",
       " surtout aux despotes éteints                                                                                                                                                                                                                                                   1\n",
       " tap here:  https://t.co/dyOvjDtMeh\"                                                                                                                                                                                                                                            1\n",
       " tenho mais medo que app que não verifica fixa criminal\"                                                                                                                                                                                                                        1\n",
       " texts reveal\"\"  https://t.co/iYnQBik4ig #funny\"                                                                                                                                                                                                                                1\n",
       " the Uber files\"\" uitgezonden op BBC2. Gaat over de rol van Neelie Kroes. Hopelijk kijkt de NL pers mee. BBC News - Uber Files: Massive leak reveals how top politicians secretly helped Uber  https://t.co/hlO6Foqdeg\"                                                         1\n",
       " the script went like this: an Uber driver gets beaten                                                                                                                                                                                                                          1\n",
       " tra cui la chiusura delle indagini e un cambiamento nelle politiche in materia di diritti dei lavoratori\"\". Le info su tali contatti non sono state divulgate/infotass-2\"                                                                                                      1\n",
       " trompé la police                                                                                                                                                                                                                                                               6\n",
       " trompé la police et les régulateurs                                                                                                                                                                                                                                            1\n",
       " un fraude                                                                                                                                                                                                                                                                      1\n",
       " un reportage signé Jean Patrick Boisselier et Joséphine Kerner\"\"\"                                                                                                                                                                                                              1\n",
       " una de las más importantes compañias de la nueva \"\"economía colaborativa\"\": lobbyng                                                                                                                                                                                            1\n",
       " une entreprise bien connue pour sa volonté de détruire le code du travail.  Pratiques insupportables d'un ministre devenu président                                                                                                                                            1\n",
       " vente en uber ni que fuera tu burra\"                                                                                                                                                                                                                                           1\n",
       " vers un nouveau président au Sri Lanka                                                                                                                                                                                                                                         1\n",
       " voordat we de oplossing bieden.\"\"  Hoeveel zou de Telegraaf daarvoor ontvangen hebben? Neelie Kroes Uber\"                                                                                                                                                                      1\n",
       " vous ne seriez pas là pour en parler. J'ai travaillé un moment pour Uber                                                                                                                                                                                                       1\n",
       " w zasadzie startuje Uber                                                                                                                                                                                                                                                       1\n",
       " wenn FAZ sie dann nicht erwähnt.  https://t.co/3NY9lCSKxZ  https://t.co/LqH8yybWrB\"                                                                                                                                                                                            1\n",
       " when the govt was hostile to the company's development. The Elysée says that these relations were part of his job  https://t.co/VId4hLqmLz\"                                                                                                                                    1\n",
       " which made it impossible for visiting law enforcement to access the company's computers.\"\"  https://t.co/CeMffAlN1v\"                                                                                                                                                           1\n",
       " which made it impossible for visiting law enforcement to access the company's computers.''   https://t.co/R8dFEM85Rf\"                                                                                                                                                          1\n",
       " which span 2013 to 2017                                                                                                                                                                                                                                                        1\n",
       " while the uber-serious SnyderVerse remains DEAD🤣  https://t.co/jbbiy64Qnj\"                                                                                                                                                                                                     1\n",
       " while the uber-serious SnyderVerse remains DEAD🤣  https://t.co/lLuc5Jektj\"                                                                                                                                                                                                     1\n",
       " wie Uber auch in Deutschland alles daran setzte                                                                                                                                                                                                                                1\n",
       " wie Uber versucht hat                                                                                                                                                                                                                                                          1\n",
       " wir unbequem auf so einem Klappstuhl gegen die Straßenlaterne gefahren sind und uns dabei ätzende Schürfwunden geholt haben?\"\" - Bleibt wie gute Werbung im Gedächtnis.\"                                                                                                       1\n",
       " with lasting effects. But elsewhere                                                                                                                                                                                                                                            1\n",
       " with one executive joking they had become “pirates” and another conceding: “We’re just fucking illegal.”\"\"  #gigeconomy #hustle #UberFiles   https://t.co/jO63swe63E\"                                                                                                          1\n",
       " y que eso nos permitiría sortear los problemas con los sindicatos y los taxis\"\".  Email de Juan Batiz                                                                                                                                                                          1\n",
       " ya estaba ocupado. 😡😡\"                                                                                                                                                                                                                                                         1\n",
       " ya no somos ni conductores ni personas siquiera                                                                                                                                                                                                                                1\n",
       " yo puro \"\"paso x ti y t regreso a tu casa\"\"\"                                                                                                                                                                                                                                   1\n",
       " à Bercy                                                                                                                                                                                                                                                                        2\n",
       " à Bruxelles                                                                                                                                                                                                                                                                    1\n",
       " ça correspondait à son état d'esprit. J'ignorais que ça avait l'ampleur révélée aujourd'hui                                                                                                                                                                                    1\n",
       " ça crée de l emploi de partir en uber pour regagner mon rbnb  #FBPE \"\"\"                                                                                                                                                                                                        1\n",
       " écrit le @guardian qui s’est procuré les documents pour le compte de @ICIJorg.\"\"  https://t.co/9OQoykAL3M\"                                                                                                                                                                     1\n",
       " şimdiki başkan Bay Macron                                                                                                                                                                                                                                                      1\n",
       " ειλικρινά                                                                                                                                                                                                                                                                      1\n",
       " μάλλον                                                                                                                                                                                                                                                                         1\n",
       " зовсім хуйло не качає Європи.\"                                                                                                                                                                                                                                                 1\n",
       " הוא היה הלוביסט הראשי של החברה מחוץ לארה\"\"ב.\"                                                                                                                                                                                                                                  1\n",
       "\"\" an email from Travis Kalanick to Mr Macron reads.\"                                                                                                                                                                                                                           1\n",
       "\"\" if that tells you anything about the labor side of things.\"                                                                                                                                                                                                                  1\n",
       "\"\" il faut comprendre                                                                                                                                                                                                                                                           1\n",
       "\"\" though it'll definitely take me a while to sift through ICIJ's trove of over 124                                                                                                                                                                                             1\n",
       "000 names .. .. threats or points of opportunity for influence or lobbying .. Uber lobbyist ..: 'Horch needs neutralizing politically as well as in media terms.'”#SentimentAnalysis #CompetitiveIntelligence #BusinessEthics  https://t.co/i6rtsr2qWq\"                         1\n",
       "000 previously undisclosed Uber records.\"\" For example                                                                                                                                                                                                                          2\n",
       "000 records including emails and texts exposing conversations and meetings between Uber executives and public officials as the technology-driven taxi firm sought to expand its business.\"\"  https://t.co/4NXFN7b0ae\"                                                           1\n",
       "7                                                                                                                                                                                                                                                                               1\n",
       "Uber                                                                                                                                                                                                                                                                            1\n",
       "ar                                                                                                                                                                                                                                                                             19\n",
       "bg                                                                                                                                                                                                                                                                              4\n",
       "ca                                                                                                                                                                                                                                                                             47\n",
       "cant tell u when\"\" Thanks to @Uber we made our flight.\"                                                                                                                                                                                                                         1\n",
       "cs                                                                                                                                                                                                                                                                             18\n",
       "cy                                                                                                                                                                                                                                                                              1\n",
       "da                                                                                                                                                                                                                                                                             32\n",
       "de                                                                                                                                                                                                                                                                            166\n",
       "el                                                                                                                                                                                                                                                                            127\n",
       "en                                                                                                                                                                                                                                                                           3433\n",
       "es                                                                                                                                                                                                                                                                           1174\n",
       "eu                                                                                                                                                                                                                                                                              2\n",
       "fi                                                                                                                                                                                                                                                                             29\n",
       "fr                                                                                                                                                                                                                                                                           2771\n",
       "hi                                                                                                                                                                                                                                                                              6\n",
       "ht                                                                                                                                                                                                                                                                              1\n",
       "in                                                                                                                                                                                                                                                                             14\n",
       "is                                                                                                                                                                                                                                                                              3\n",
       "it                                                                                                                                                                                                                                                                            113\n",
       "iw                                                                                                                                                                                                                                                                              1\n",
       "j'en suis un et je bosse depuis que j'ai 20 ans ) ce qu'il pense d'Uber . Pauvre naze ....\"                                                                                                                                                                                     1\n",
       "ja                                                                                                                                                                                                                                                                             82\n",
       "nl                                                                                                                                                                                                                                                                            408\n",
       "no                                                                                                                                                                                                                                                                             10\n",
       "pl                                                                                                                                                                                                                                                                             13\n",
       "pt                                                                                                                                                                                                                                                                           1008\n",
       "qam                                                                                                                                                                                                                                                                             8\n",
       "qht                                                                                                                                                                                                                                                                            23\n",
       "qme                                                                                                                                                                                                                                                                            46\n",
       "qui scellera qques mois + tard un «deal» secret avec entreprise californienne pour «faire en sorte que France travaille pour U. afin qu’U. puisse travailler en et pr la F.»\"\"\"                                                                                                 1\n",
       "ro                                                                                                                                                                                                                                                                              4\n",
       "ru                                                                                                                                                                                                                                                                              8\n",
       "sl                                                                                                                                                                                                                                                                              8\n",
       "sr                                                                                                                                                                                                                                                                              1\n",
       "sv                                                                                                                                                                                                                                                                              9\n",
       "ta                                                                                                                                                                                                                                                                              2\n",
       "tl                                                                                                                                                                                                                                                                              5\n",
       "tr                                                                                                                                                                                                                                                                             52\n",
       "uk                                                                                                                                                                                                                                                                              1\n",
       "und                                                                                                                                                                                                                                                                            48\n",
       "ur                                                                                                                                                                                                                                                                              1\n",
       "zh                                                                                                                                                                                                                                                                              4\n",
       " lui dit le lobbyiste d'Uber                                                                                                                                                                                                                                                    1\n",
       "«prouvant que nos belles présentations ne sont pas que du marketing mais reflètent la réalité».\"                                                                                                                                                                                1\n",
       "όποιος έχει Ι.Χ                                                                                                                                                                                                                                                                 1\n",
       "” the chief executive wrote. “Violence guarantee success.”  https://t.co/gtElWlNisw\"                                                                                                                                                                                            1\n",
       "” the message continued.\"\"  No                                                                                                                                                                                                                                                  1\n",
       "Name: language, dtype: int64"
      ]
     },
     "execution_count": 58,
     "metadata": {},
     "output_type": "execute_result"
    }
   ],
   "source": [
    "# Valores que tiene la columna de 'language'\n",
    "df_language.language.value_counts(dropna=True).sort_index()"
   ]
  },
  {
   "cell_type": "markdown",
   "id": "048d9fcc-9018-4b61-92f4-744773acc115",
   "metadata": {},
   "source": [
    "Con la columna de idioma, hay valores que claramente no debería estar ahí.<br>\n",
    "Analizando los valores, se llega a la conslusión de que los valores que verdaderamente indican un idioma, son aquellos que tiene **2 caracteres**."
   ]
  },
  {
   "cell_type": "code",
   "execution_count": 59,
   "id": "9e36373f-8e6e-4c1e-b65f-8cdd8e91863c",
   "metadata": {
    "tags": []
   },
   "outputs": [
    {
     "data": {
      "text/html": [
       "<div>\n",
       "<style scoped>\n",
       "    .dataframe tbody tr th:only-of-type {\n",
       "        vertical-align: middle;\n",
       "    }\n",
       "\n",
       "    .dataframe tbody tr th {\n",
       "        vertical-align: top;\n",
       "    }\n",
       "\n",
       "    .dataframe thead th {\n",
       "        text-align: right;\n",
       "    }\n",
       "</style>\n",
       "<table border=\"1\" class=\"dataframe\">\n",
       "  <thead>\n",
       "    <tr style=\"text-align: right;\">\n",
       "      <th></th>\n",
       "      <th>repetitions</th>\n",
       "    </tr>\n",
       "    <tr>\n",
       "      <th>language</th>\n",
       "      <th></th>\n",
       "    </tr>\n",
       "  </thead>\n",
       "  <tbody>\n",
       "    <tr>\n",
       "      <th>https://t.co/gwuk4utnUr\"</th>\n",
       "      <td>1</td>\n",
       "    </tr>\n",
       "    <tr>\n",
       "      <th>\"\"A whole lot more than you expected.\"\"\"</th>\n",
       "      <td>1</td>\n",
       "    </tr>\n",
       "    <tr>\n",
       "      <th>\"\"meilleur jeune économiste\"\" du prix décerné par @lemondefr. Merci le Monde pour ses \"\"révélations\"\". Dur dur</th>\n",
       "      <td>3</td>\n",
       "    </tr>\n",
       "    <tr>\n",
       "      <th>\"\"pillage du pays\"\": des élus de gauche ont vivement dénoncé dimanche les liens qui ont uni Emmanuel Macron et la société Uber</th>\n",
       "      <td>2</td>\n",
       "    </tr>\n",
       "    <tr>\n",
       "      <th>\"\"pillage du pays\"\": des élus de gauche ont vivement dénoncé dimanche les liens qui ont..  https://t.co/CMlScy4QY2  https://t.co/247y7RAoYy\"</th>\n",
       "      <td>1</td>\n",
       "    </tr>\n",
       "  </tbody>\n",
       "</table>\n",
       "</div>"
      ],
      "text/plain": [
       "                                                                                                                                               repetitions\n",
       "language                                                                                                                                                  \n",
       "  https://t.co/gwuk4utnUr\"                                                                                                                               1\n",
       " \"\"A whole lot more than you expected.\"\"\"                                                                                                                1\n",
       " \"\"meilleur jeune économiste\"\" du prix décerné par @lemondefr. Merci le Monde pour ses \"\"révélations\"\". Dur dur                                          3\n",
       " \"\"pillage du pays\"\": des élus de gauche ont vivement dénoncé dimanche les liens qui ont uni Emmanuel Macron et la société Uber                          2\n",
       " \"\"pillage du pays\"\": des élus de gauche ont vivement dénoncé dimanche les liens qui ont..  https://t.co/CMlScy4QY2  https://t.co/247y7RAoYy\"            1"
      ]
     },
     "execution_count": 59,
     "metadata": {},
     "output_type": "execute_result"
    }
   ],
   "source": [
    "# Agrupar valores de la columna language\n",
    "df_group = df_language.groupby(by=['language'], as_index=True, dropna=True).nunique().sort_index()\n",
    "# Modificar nombre de columna resultante\n",
    "df_group = df_group.rename(columns={\"tweet\":\"repetitions\"})\n",
    "\n",
    "df_group.head(5)"
   ]
  },
  {
   "cell_type": "code",
   "execution_count": 60,
   "id": "9813e466-7ff2-4bae-adfe-d10355089219",
   "metadata": {
    "tags": []
   },
   "outputs": [
    {
     "data": {
      "text/plain": [
       "['pt',\n",
       " 'fr',\n",
       " 'en',\n",
       " 'es',\n",
       " 'it',\n",
       " 'nl',\n",
       " 'ja',\n",
       " 'pl',\n",
       " 'de',\n",
       " 'cs',\n",
       " 'ca',\n",
       " 'el',\n",
       " 'is',\n",
       " 'fi',\n",
       " 'tr',\n",
       " 'sl',\n",
       " 'sv',\n",
       " 'in',\n",
       " 'zh',\n",
       " 'ta',\n",
       " 'ro',\n",
       " 'tl',\n",
       " 'ru',\n",
       " 'no',\n",
       " 'cy',\n",
       " 'ar',\n",
       " 'iw',\n",
       " 'da',\n",
       " 'bg',\n",
       " 'hi',\n",
       " 'ur',\n",
       " 'sr',\n",
       " 'uk',\n",
       " 'eu',\n",
       " 'ht']"
      ]
     },
     "execution_count": 60,
     "metadata": {},
     "output_type": "execute_result"
    }
   ],
   "source": [
    "# Obtener datos válidos para la columna\n",
    "valid_lang = []\n",
    "for index, values in df_language.iterrows():\n",
    "    if len(str(values.language)) == 2:\n",
    "        valid_lang.append(values.language)\n",
    "        # Eliminar los valores repetidos\n",
    "        valid_lang = list(dict.fromkeys(valid_lang))\n",
    "        \n",
    "valid_lang"
   ]
  },
  {
   "cell_type": "code",
   "execution_count": 61,
   "id": "9950c70a-dfa9-4ae7-b87d-3b50fc16d95c",
   "metadata": {
    "tags": []
   },
   "outputs": [
    {
     "data": {
      "text/html": [
       "<div>\n",
       "<style scoped>\n",
       "    .dataframe tbody tr th:only-of-type {\n",
       "        vertical-align: middle;\n",
       "    }\n",
       "\n",
       "    .dataframe tbody tr th {\n",
       "        vertical-align: top;\n",
       "    }\n",
       "\n",
       "    .dataframe thead th {\n",
       "        text-align: right;\n",
       "    }\n",
       "</style>\n",
       "<table border=\"1\" class=\"dataframe\">\n",
       "  <thead>\n",
       "    <tr style=\"text-align: right;\">\n",
       "      <th></th>\n",
       "      <th>language</th>\n",
       "      <th>repetitions</th>\n",
       "    </tr>\n",
       "  </thead>\n",
       "  <tbody>\n",
       "    <tr>\n",
       "      <th>0</th>\n",
       "      <td>ar</td>\n",
       "      <td>19</td>\n",
       "    </tr>\n",
       "    <tr>\n",
       "      <th>1</th>\n",
       "      <td>bg</td>\n",
       "      <td>4</td>\n",
       "    </tr>\n",
       "    <tr>\n",
       "      <th>2</th>\n",
       "      <td>ca</td>\n",
       "      <td>47</td>\n",
       "    </tr>\n",
       "    <tr>\n",
       "      <th>3</th>\n",
       "      <td>cs</td>\n",
       "      <td>18</td>\n",
       "    </tr>\n",
       "    <tr>\n",
       "      <th>4</th>\n",
       "      <td>cy</td>\n",
       "      <td>1</td>\n",
       "    </tr>\n",
       "  </tbody>\n",
       "</table>\n",
       "</div>"
      ],
      "text/plain": [
       "  language  repetitions\n",
       "0       ar           19\n",
       "1       bg            4\n",
       "2       ca           47\n",
       "3       cs           18\n",
       "4       cy            1"
      ]
     },
     "execution_count": 61,
     "metadata": {},
     "output_type": "execute_result"
    }
   ],
   "source": [
    "# Filtrar los valores que sean un lenguaje válido\n",
    "df_final = df_group.filter(items=valid_lang, axis=0)\n",
    "df_final = df_final.reset_index()\n",
    "\n",
    "df_final.head(5)"
   ]
  },
  {
   "cell_type": "markdown",
   "id": "c9cd0b11-deb4-4bf0-833b-751bc7c83d1c",
   "metadata": {
    "tags": []
   },
   "source": [
    "<div style=\"font-size:14px; text-align:justify\"><b>4: </b>Plotear los valores.</div>"
   ]
  },
  {
   "cell_type": "code",
   "execution_count": 62,
   "id": "792ba832-0e0a-4142-85c4-835672980bf7",
   "metadata": {
    "tags": []
   },
   "outputs": [
    {
     "data": {
      "image/png": "[encoded data removed]",
      "text/plain": [
       "<Figure size 648x216 with 1 Axes>"
      ]
     },
     "metadata": {
      "needs_background": "light"
     },
     "output_type": "display_data"
    }
   ],
   "source": [
    "# Ploteo con Koalas\n",
    "# df_final.plot.barh()\n",
    "\n",
    "# Ploteo con matplotlib\n",
    "import matplotlib.pyplot as plt\n",
    "\n",
    "plt.figure(figsize=(9, 3))\n",
    "\n",
    "plt.plot(df_final.language, df_final.repetitions)\n",
    "plt.ylabel('Repeticiones')\n",
    "plt.xlabel('Lenguaje')\n",
    "plt.show()\n"
   ]
  },
  {
   "cell_type": "markdown",
   "id": "80b42c4c-61aa-47d5-9b4a-2a993682bcb0",
   "metadata": {},
   "source": [
    "**Nota:** <br>\n",
    "Para poder represenatar gráficas con *Koalas* es necesario tener instalada la libreria de **Plotly**. Esta no viene instalada en el paquete de Koalas con ``pip install koalas``\n",
    "\n",
    "En la celda, se pude apreciar comentado el código para presentar rápidamente con Koalas, pero debido a problemas con Jupyter Lab en el ploteo, se añade una pequeña gráfica con matplotlib"
   ]
  }
 ],
 "metadata": {
  "kernelspec": {
   "display_name": "Python 3 (ipykernel)",
   "language": "python",
   "name": "python3"
  },
  "language_info": {
   "codemirror_mode": {
    "name": "ipython",
    "version": 3
   },
   "file_extension": ".py",
   "mimetype": "text/x-python",
   "name": "python",
   "nbconvert_exporter": "python",
   "pygments_lexer": "ipython3",
   "version": "3.8.5"
  }
 },
 "nbformat": 4,
 "nbformat_minor": 5
}
