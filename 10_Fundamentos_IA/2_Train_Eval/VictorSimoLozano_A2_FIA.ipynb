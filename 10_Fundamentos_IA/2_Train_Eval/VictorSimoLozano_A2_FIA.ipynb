{
 "cells": [
  {
   "cell_type": "markdown",
   "metadata": {
    "tags": []
   },
   "source": [
    "# Fundamentos IA y Machine Learning.\n",
    "\n",
    "## Autor: Victor Simo Lozano\n",
    "\n",
    "## Actividad 2\n",
    "<p>Entrenamiento y evaluación:<br>Calcular métricas de evaluación en regresión, clasificación binaria y multiclase.</p>\n",
    "    \n",
    "\n",
    "<hr style=\"border-color:red\">"
   ]
  },
  {
   "cell_type": "markdown",
   "metadata": {},
   "source": [
    " "
   ]
  },
  {
   "cell_type": "markdown",
   "metadata": {},
   "source": [
    " "
   ]
  },
  {
   "cell_type": "code",
   "execution_count": 1,
   "metadata": {},
   "outputs": [],
   "source": [
    "# Generales \n",
    "import numpy as np\n",
    "import math\n",
    "\n",
    "# Trabajar con dataset\n",
    "import pandas as pd\n",
    "\n",
    "# Presentación de datos\n",
    "import seaborn as sns\n",
    "import matplotlib.pyplot as plt"
   ]
  },
  {
   "cell_type": "markdown",
   "metadata": {},
   "source": [
    "<div style=\"font-size:14px; text-align:justify\"><b>PRIMERA PARTE.-</b><br></div>"
   ]
  },
  {
   "cell_type": "markdown",
   "metadata": {},
   "source": [
    "En base al conjunto de datos con una variable objetivo real y salida proporcionada con dos modelos distintos."
   ]
  },
  {
   "cell_type": "markdown",
   "metadata": {},
   "source": [
    "<div style=\"font-size:14px; text-align:justify\"><b>1: </b>Calcular métricas de regresión para cada modelo.</div>"
   ]
  },
  {
   "cell_type": "code",
   "execution_count": 2,
   "metadata": {},
   "outputs": [
    {
     "data": {
      "text/html": [
       "<div>\n",
       "<style scoped>\n",
       "    .dataframe tbody tr th:only-of-type {\n",
       "        vertical-align: middle;\n",
       "    }\n",
       "\n",
       "    .dataframe tbody tr th {\n",
       "        vertical-align: top;\n",
       "    }\n",
       "\n",
       "    .dataframe thead th {\n",
       "        text-align: right;\n",
       "    }\n",
       "</style>\n",
       "<table border=\"1\" class=\"dataframe\">\n",
       "  <thead>\n",
       "    <tr style=\"text-align: right;\">\n",
       "      <th></th>\n",
       "      <th>Y objetivo</th>\n",
       "      <th>Predicciones M1</th>\n",
       "      <th>Predicciones M2</th>\n",
       "    </tr>\n",
       "  </thead>\n",
       "  <tbody>\n",
       "    <tr>\n",
       "      <th>0</th>\n",
       "      <td>2.50</td>\n",
       "      <td>3.0</td>\n",
       "      <td>2.0</td>\n",
       "    </tr>\n",
       "    <tr>\n",
       "      <th>1</th>\n",
       "      <td>3.00</td>\n",
       "      <td>2.9</td>\n",
       "      <td>2.0</td>\n",
       "    </tr>\n",
       "    <tr>\n",
       "      <th>2</th>\n",
       "      <td>1.60</td>\n",
       "      <td>2.0</td>\n",
       "      <td>2.0</td>\n",
       "    </tr>\n",
       "    <tr>\n",
       "      <th>3</th>\n",
       "      <td>8.00</td>\n",
       "      <td>8.1</td>\n",
       "      <td>7.0</td>\n",
       "    </tr>\n",
       "    <tr>\n",
       "      <th>4</th>\n",
       "      <td>4.56</td>\n",
       "      <td>4.0</td>\n",
       "      <td>5.0</td>\n",
       "    </tr>\n",
       "  </tbody>\n",
       "</table>\n",
       "</div>"
      ],
      "text/plain": [
       "   Y objetivo  Predicciones M1  Predicciones M2\n",
       "0        2.50              3.0              2.0\n",
       "1        3.00              2.9              2.0\n",
       "2        1.60              2.0              2.0\n",
       "3        8.00              8.1              7.0\n",
       "4        4.56              4.0              5.0"
      ]
     },
     "metadata": {},
     "output_type": "display_data"
    },
    {
     "data": {
      "text/plain": [
       "'Total resultados:'"
      ]
     },
     "metadata": {},
     "output_type": "display_data"
    },
    {
     "data": {
      "text/plain": [
       "Y objetivo         30\n",
       "Predicciones M1    30\n",
       "Predicciones M2    30\n",
       "dtype: int64"
      ]
     },
     "metadata": {},
     "output_type": "display_data"
    }
   ],
   "source": [
    "# Cargar el dataset\n",
    "df = pd.read_csv('l2p1.csv')\n",
    "\n",
    "display(df.head(), 'Total resultados:', df.count())"
   ]
  },
  {
   "cell_type": "markdown",
   "metadata": {},
   "source": [
    "<div style=\"font-size:14px; text-align:center\"><b>MAE</b><br></div>"
   ]
  },
  {
   "cell_type": "code",
   "execution_count": 3,
   "metadata": {},
   "outputs": [
    {
     "name": "stdout",
     "output_type": "stream",
     "text": [
      "MAE de \"Predicciones M1\": 1.04\n",
      "MAE de \"Predicciones M2\": 0.61\n"
     ]
    }
   ],
   "source": [
    "# ERROR ABSOLUTO MEDIO (Mean Absolute Error)\n",
    "def mae(pred, obj):\n",
    "    '''\n",
    "    Media de las diferencias absolutas entre y' e y\n",
    "    '''\n",
    "    dif = 0\n",
    "    # Sumatorio de los errores para cada predicción\n",
    "    for y_pred, y in zip(pred, obj):\n",
    "        dif += abs(y - y_pred)\n",
    "    \n",
    "    # Media del sumatorio de errores\n",
    "    return round(dif/len(pred), 2)\n",
    "\n",
    "print(f'''MAE de \"Predicciones M1\": {mae(df['Predicciones M1'], df['Y objetivo'])}''')\n",
    "print(f'''MAE de \"Predicciones M2\": {mae(df['Predicciones M2'], df['Y objetivo'])}''')"
   ]
  },
  {
   "cell_type": "markdown",
   "metadata": {},
   "source": [
    "<div style=\"font-size:14px; text-align:center\"><b>MSE</b><br></div>"
   ]
  },
  {
   "cell_type": "code",
   "execution_count": 4,
   "metadata": {},
   "outputs": [
    {
     "name": "stdout",
     "output_type": "stream",
     "text": [
      "MSE de \"Predicciones M1\": 7.98\n",
      "MSE de \"Predicciones M2\": 0.52\n"
     ]
    }
   ],
   "source": [
    "# ERROR CUADRÁTICO MEDIO  (Mean Squared Error)\n",
    "def mse(pred, obj):\n",
    "    '''\n",
    "    Media de las diferencias al cuadrado entre y' e y\n",
    "    '''\n",
    "    dif = 0\n",
    "    # Sumatorio de los errores para cada predicción\n",
    "    for y_pred, y in zip(pred, obj):\n",
    "        dif += (y - y_pred)**2\n",
    "    \n",
    "    # Media del sumatorio de errores\n",
    "    return round(dif/len(pred), 2)\n",
    "\n",
    "print(f'''MSE de \"Predicciones M1\": {mse(df['Predicciones M1'], df['Y objetivo'])}''')\n",
    "print(f'''MSE de \"Predicciones M2\": {mse(df['Predicciones M2'], df['Y objetivo'])}''')\n",
    "    "
   ]
  },
  {
   "cell_type": "markdown",
   "metadata": {},
   "source": [
    "<div style=\"font-size:14px; text-align:center\"><b>RMSE</b><br></div>"
   ]
  },
  {
   "cell_type": "code",
   "execution_count": 5,
   "metadata": {},
   "outputs": [
    {
     "name": "stdout",
     "output_type": "stream",
     "text": [
      "RMSE de \"Predicciones M1\": 2.82\n",
      "RMSE de \"Predicciones M2\": 0.72\n"
     ]
    }
   ],
   "source": [
    "# RAIZ CUADRADA DEL ERROR CUADRÁTICO MEDIO  (Root Mean Squared Error)\n",
    "def rmse(pred, obj):\n",
    "    '''\n",
    "    Raiz de MSE para igualar medidas del error y variable objetivo\n",
    "    '''\n",
    "    dif = 0\n",
    "    # Sumatorio de los errores para cada predicción\n",
    "    for y_pred, y in zip(pred, obj):\n",
    "        dif += (y - y_pred)**2\n",
    "    \n",
    "    # Raiz cuadrada de la media del sumatorio de errores\n",
    "    return round(math.sqrt(round(dif/len(pred), 2)),2)\n",
    "\n",
    "print(f'''RMSE de \"Predicciones M1\": {rmse(df['Predicciones M1'], df['Y objetivo'])}''')\n",
    "print(f'''RMSE de \"Predicciones M2\": {rmse(df['Predicciones M2'], df['Y objetivo'])}''')"
   ]
  },
  {
   "cell_type": "markdown",
   "metadata": {},
   "source": [
    "<div style=\"font-size:14px; text-align:center\"><b>COEFICIENTE R</b><br></div>"
   ]
  },
  {
   "cell_type": "code",
   "execution_count": 6,
   "metadata": {},
   "outputs": [
    {
     "name": "stdout",
     "output_type": "stream",
     "text": [
      " Coeficiente determinación de \"Predicciones M1\": 0.5991824683\n",
      " Coeficiente variación de Pearson de \"Predicciones M1\": 0.6280712461\n",
      " Coeficiente determinación de \"Predicciones M2\": 0.9737934691\n",
      " Coeficiente variación de Pearson de \"Predicciones M2\": 0.9785384481\n"
     ]
    }
   ],
   "source": [
    "# COEFICIENTE DE DETERMINACIÓN\n",
    "def r_2(pred, obj):\n",
    "    '''\n",
    "    Calidad para predecir resultados. Acotado entre 0 y 1\n",
    "    '''\n",
    "    ss_res = 0\n",
    "    ss_tot = 0\n",
    "    for y_pred, y in zip(pred, obj):\n",
    "        ss_res += (y - y_pred)**2\n",
    "        ss_tot += (y - obj.mean())**2\n",
    "        \n",
    "    return round(1-(ss_res/ss_tot), 10)\n",
    "\n",
    "# COEFICIENTE DE VARIACIÓN\n",
    "def r_pearson(pred,obj):\n",
    "    sum_covar = 0\n",
    "    pred_var = 0\n",
    "    obj_var = 0\n",
    "    for y_pred, y in zip(pred, obj):\n",
    "        sum_covar += (y_pred - pred.mean())*(y - obj.mean())\n",
    "        pred_var += (y_pred - pred.mean())**2\n",
    "        obj_var += (y - obj.mean())**2\n",
    "        \n",
    "    return round((sum_covar**2/(pred_var*obj_var)) ,10)\n",
    "    \n",
    "print(f''' Coeficiente determinación de \"Predicciones M1\": {r_2(df['Predicciones M1'], df['Y objetivo'])}''')\n",
    "print(f''' Coeficiente variación de Pearson de \"Predicciones M1\": {r_pearson(df['Predicciones M1'], df['Y objetivo'])}''')\n",
    "print(f''' Coeficiente determinación de \"Predicciones M2\": {r_2(df['Predicciones M2'], df['Y objetivo'])}''')\n",
    "print(f''' Coeficiente variación de Pearson de \"Predicciones M2\": {r_pearson(df['Predicciones M2'], df['Y objetivo'])}''')"
   ]
  },
  {
   "cell_type": "markdown",
   "metadata": {},
   "source": [
    " "
   ]
  },
  {
   "cell_type": "markdown",
   "metadata": {},
   "source": [
    "<div style=\"font-size:14px; text-align:justify\"><b>2: </b>Decidir que modelo es mejor.</div>"
   ]
  },
  {
   "cell_type": "markdown",
   "metadata": {},
   "source": [
    "En base al **coeficiente de determinación** el mejor modelo se trata de **M1**. Dado que este valor se aproxima más a 1, lo cual nos indica que es capaz de precedecir mejor, tiene menor error, como también lo demuestra RMSE, con un valor inferior al igual que MSE y MAE (Media de errores inferior).\n",
    "\n",
    "Además, como se aprecia en la siguiente gráfica, los valores para **M1**, coindicen un número mayor de veces así como quedar más cercanos a la curva objetivo."
   ]
  },
  {
   "cell_type": "code",
   "execution_count": 7,
   "metadata": {},
   "outputs": [
    {
     "data": {
      "image/png": "[encoded data removed]",
      "text/plain": [
       "<Figure size 432x288 with 1 Axes>"
      ]
     },
     "metadata": {
      "needs_background": "light"
     },
     "output_type": "display_data"
    }
   ],
   "source": [
    "fig, ax = plt.subplots()\n",
    "# Plot 'Y Objetivo'\n",
    "obj, = ax.plot(df.index, df['Y objetivo'], color=\"black\", linewidth=1, label='Objetivo')\n",
    "# Plot Prediccion modelos\n",
    "mod_1 = plt.scatter(df.index, df['Predicciones M1'], color=\"red\", label='Modelo 1')\n",
    "mod_2 = plt.scatter(df.index, df['Predicciones M2'], color=\"blue\", label='Modelo 2')\n",
    "\n",
    "ax.legend()\n",
    "plt.title('Representación modelos')\n",
    "plt.xlabel('Patrones')\n",
    "plt.ylabel('Predicción')\n",
    "plt.show()"
   ]
  },
  {
   "cell_type": "markdown",
   "metadata": {},
   "source": [
    " "
   ]
  },
  {
   "cell_type": "markdown",
   "metadata": {},
   "source": [
    " "
   ]
  },
  {
   "cell_type": "markdown",
   "metadata": {},
   "source": [
    "<div style=\"font-size:14px; text-align:justify\"><b>SEGUNDA PARTE.-</b><br></div>"
   ]
  },
  {
   "cell_type": "markdown",
   "metadata": {},
   "source": [
    "En base a un problema de clasificación binaria, existe la salida para dos patrones distintos.\n",
    "\n",
    "***Fuente:***<br>*https://es.wikihow.com/calcular-la-sensibilidad,-la-especificidad,-el-valor-predictivo-positivo-y-el-valor-predictivo-negativo*"
   ]
  },
  {
   "cell_type": "markdown",
   "metadata": {},
   "source": [
    "<div style=\"font-size:14px; text-align:justify\"><b>1: </b>Crear la matriz de confusión de cada modelo.</div>"
   ]
  },
  {
   "cell_type": "code",
   "execution_count": 8,
   "metadata": {},
   "outputs": [
    {
     "data": {
      "text/html": [
       "<div>\n",
       "<style scoped>\n",
       "    .dataframe tbody tr th:only-of-type {\n",
       "        vertical-align: middle;\n",
       "    }\n",
       "\n",
       "    .dataframe tbody tr th {\n",
       "        vertical-align: top;\n",
       "    }\n",
       "\n",
       "    .dataframe thead th {\n",
       "        text-align: right;\n",
       "    }\n",
       "</style>\n",
       "<table border=\"1\" class=\"dataframe\">\n",
       "  <thead>\n",
       "    <tr style=\"text-align: right;\">\n",
       "      <th></th>\n",
       "      <th>Clase Objetivo</th>\n",
       "      <th>Predicciones M1</th>\n",
       "      <th>Predicciones M2</th>\n",
       "    </tr>\n",
       "  </thead>\n",
       "  <tbody>\n",
       "    <tr>\n",
       "      <th>0</th>\n",
       "      <td>0</td>\n",
       "      <td>1</td>\n",
       "      <td>0</td>\n",
       "    </tr>\n",
       "    <tr>\n",
       "      <th>1</th>\n",
       "      <td>0</td>\n",
       "      <td>0</td>\n",
       "      <td>0</td>\n",
       "    </tr>\n",
       "    <tr>\n",
       "      <th>2</th>\n",
       "      <td>0</td>\n",
       "      <td>0</td>\n",
       "      <td>0</td>\n",
       "    </tr>\n",
       "    <tr>\n",
       "      <th>3</th>\n",
       "      <td>1</td>\n",
       "      <td>1</td>\n",
       "      <td>1</td>\n",
       "    </tr>\n",
       "    <tr>\n",
       "      <th>4</th>\n",
       "      <td>1</td>\n",
       "      <td>1</td>\n",
       "      <td>1</td>\n",
       "    </tr>\n",
       "  </tbody>\n",
       "</table>\n",
       "</div>"
      ],
      "text/plain": [
       "   Clase Objetivo  Predicciones M1  Predicciones M2\n",
       "0               0                1                0\n",
       "1               0                0                0\n",
       "2               0                0                0\n",
       "3               1                1                1\n",
       "4               1                1                1"
      ]
     },
     "metadata": {},
     "output_type": "display_data"
    },
    {
     "data": {
      "text/plain": [
       "'Total resultados:'"
      ]
     },
     "metadata": {},
     "output_type": "display_data"
    },
    {
     "data": {
      "text/plain": [
       "Clase Objetivo     30\n",
       "Predicciones M1    30\n",
       "Predicciones M2    30\n",
       "dtype: int64"
      ]
     },
     "metadata": {},
     "output_type": "display_data"
    }
   ],
   "source": [
    "# Cargar el dataset\n",
    "df = pd.read_csv('l2p2.csv')\n",
    "\n",
    "display(df.head(), 'Total resultados:', df.count())"
   ]
  },
  {
   "cell_type": "markdown",
   "metadata": {},
   "source": [
    "<div style=\"font-size:14px; text-align:center\"><b>MATRIZ DE CONFUSION</b><br></div>"
   ]
  },
  {
   "cell_type": "code",
   "execution_count": 9,
   "metadata": {},
   "outputs": [
    {
     "name": "stdout",
     "output_type": "stream",
     "text": [
      "Matriz Confusion Modelo 1 para 30 valores\n",
      "True Positive:  6 | False Negative: 4\n",
      "\n",
      "False Positive: 1 | True Negative: 19\n",
      "\n",
      "Matriz Confusion Modelo 2 para 30 valores\n",
      "True Positive:  9 | False Negative: 1\n",
      "\n",
      "False Positive: 8 | True Negative: 12\n",
      "\n"
     ]
    }
   ],
   "source": [
    "def conf_matrix(pred, obj):\n",
    "    '''\n",
    "    Obtener la cantidad de aciertos y fallos del modelo\n",
    "    '''\n",
    "    tp=0\n",
    "    tn=0\n",
    "    fp=0\n",
    "    fn=0\n",
    "    for y_pred, y in zip(pred, obj):\n",
    "        # True Positive\n",
    "        if y == 1 and y_pred == 1:\n",
    "            tp += 1\n",
    "        # False Negative\n",
    "        elif y == 1 and y_pred == 0:\n",
    "            fn += 1\n",
    "        # False Positive\n",
    "        elif y == 0 and y_pred == 1:\n",
    "            fp += 1\n",
    "        # True Negative\n",
    "        elif y == 0 and y_pred == 0:\n",
    "            tn += 1\n",
    "    \n",
    "    return tp, fn, fp, tn\n",
    "\n",
    "tp_m1, fn_m1, fp_m1, tn_m1 = conf_matrix(df['Predicciones M1'], df['Clase Objetivo'])\n",
    "tp_m2, fn_m2, fp_m2, tn_m2 = conf_matrix(df['Predicciones M2'], df['Clase Objetivo'])\n",
    "\n",
    "# Modelo 1\n",
    "print(f'Matriz Confusion Modelo 1 para {tp_m1+fn_m1+fp_m1+tn_m1} valores')\n",
    "print(f'''True Positive:  {tp_m1} | False Negative: {fn_m1}\\n\n",
    "False Positive: {fp_m1} | True Negative: {tn_m1}\\n''')\n",
    "# Modelo 2\n",
    "print(f'Matriz Confusion Modelo 2 para {tp_m2+fn_m2+fp_m2+tn_m2} valores')\n",
    "print(f'''True Positive:  {tp_m2} | False Negative: {fn_m2}\\n\n",
    "False Positive: {fp_m2} | True Negative: {tn_m2}\\n''')"
   ]
  },
  {
   "cell_type": "markdown",
   "metadata": {},
   "source": [
    "De un modo más visual:"
   ]
  },
  {
   "cell_type": "code",
   "execution_count": 10,
   "metadata": {},
   "outputs": [
    {
     "data": {
      "image/png": "[encoded data removed]",
      "text/plain": [
       "<Figure size 1080x360 with 4 Axes>"
      ]
     },
     "metadata": {
      "needs_background": "light"
     },
     "output_type": "display_data"
    }
   ],
   "source": [
    "# Obtener valores\n",
    "cf_matrix_m1 = conf_matrix(df['Predicciones M1'], df['Clase Objetivo'])\n",
    "cf_matrix_m2 = conf_matrix(df['Predicciones M2'], df['Clase Objetivo'])\n",
    "\n",
    "# Convertir en array\n",
    "cf_matrix_m1 = np.asarray([[cf_matrix_m1[0],cf_matrix_m1[1]], [cf_matrix_m1[2],cf_matrix_m1[3]]])\n",
    "cf_matrix_m2 = np.asarray([[cf_matrix_m2[0],cf_matrix_m2[1]], [cf_matrix_m2[2],cf_matrix_m2[3]]])\n",
    "\n",
    "# Plotear matrices\n",
    "fig, axes = plt.subplots(nrows=1, ncols=2,figsize=(15,5))\n",
    "\n",
    "sns.heatmap(cf_matrix_m1, annot=True,\n",
    "            xticklabels= [1,0], yticklabels= [1,0], ax=axes[0]).set(\n",
    "    title='Matriz confusion M1', \n",
    "    xlabel='Predicción', ylabel='Valor Real')\n",
    "sns.heatmap(cf_matrix_m2, annot=True,\n",
    "            xticklabels= [1,0], yticklabels= [1,0], ax=axes[1]).set(\n",
    "    title='Matriz confusion M2',\n",
    "    xlabel='Predicción', ylabel='Valor Real')\n",
    "\n",
    "plt.show()"
   ]
  },
  {
   "cell_type": "markdown",
   "metadata": {},
   "source": [
    " "
   ]
  },
  {
   "cell_type": "markdown",
   "metadata": {},
   "source": [
    "<div style=\"font-size:14px; text-align:justify\"><b>2: </b>Calcular métricas de clasificación salvo AUC.</div>"
   ]
  },
  {
   "cell_type": "markdown",
   "metadata": {},
   "source": [
    "<div style=\"font-size:14px; text-align:center\"><b>Accuracy - CCR</b><br></div>"
   ]
  },
  {
   "cell_type": "code",
   "execution_count": 11,
   "metadata": {},
   "outputs": [
    {
     "name": "stdout",
     "output_type": "stream",
     "text": [
      "0.83\n",
      "0.7\n"
     ]
    }
   ],
   "source": [
    "# PRECISIÓN GLOBAL\n",
    "def ccr (data, tp, tn):\n",
    "    '''\n",
    "    Patrones correctamente clasificados\n",
    "    '''\n",
    "    return round(((tp+tn)/data), 2)\n",
    "\n",
    "print(ccr(30, tp_m1, tn_m1))\n",
    "print(ccr(30, tp_m2, tn_m2))"
   ]
  },
  {
   "cell_type": "markdown",
   "metadata": {},
   "source": [
    "<div style=\"font-size:14px; text-align:center\"><b>Recall - TP Rate</b><br></div>"
   ]
  },
  {
   "cell_type": "code",
   "execution_count": 12,
   "metadata": {},
   "outputs": [
    {
     "name": "stdout",
     "output_type": "stream",
     "text": [
      "0.6\n",
      "0.9\n"
     ]
    }
   ],
   "source": [
    "# SENSIBILIDAD\n",
    "def sensibility (tp, fn):\n",
    "    '''\n",
    "    Patrones positivos predichos como positivos\n",
    "    '''\n",
    "    return round(tp/(tp+fn),2)\n",
    "\n",
    "print(sensibility(tp_m1, fn_m1))\n",
    "print(sensibility(tp_m2, fn_m2))"
   ]
  },
  {
   "cell_type": "markdown",
   "metadata": {},
   "source": [
    "<div style=\"font-size:14px; text-align:center\"><b>False Positive Rate</b><br></div>"
   ]
  },
  {
   "cell_type": "code",
   "execution_count": 13,
   "metadata": {},
   "outputs": [
    {
     "name": "stdout",
     "output_type": "stream",
     "text": [
      "0.05\n",
      "0.4\n"
     ]
    }
   ],
   "source": [
    "def fp_rate(fp, tn):\n",
    "    '''\n",
    "    Patrones negativos predichos como positivos\n",
    "    '''\n",
    "    return round(fp/(fp+tn),2)\n",
    "\n",
    "print(fp_rate(fp_m1, tn_m1))\n",
    "print(fp_rate(fp_m2, tn_m2))"
   ]
  },
  {
   "cell_type": "markdown",
   "metadata": {},
   "source": [
    "<div style=\"font-size:14px; text-align:center\"><b>Especificidad</b><br></div>"
   ]
  },
  {
   "cell_type": "code",
   "execution_count": 14,
   "metadata": {},
   "outputs": [
    {
     "name": "stdout",
     "output_type": "stream",
     "text": [
      "0.95\n",
      "0.6\n"
     ]
    }
   ],
   "source": [
    "def especifidad (tn, fp):\n",
    "    '''\n",
    "    Patrones negativos bien predichos\n",
    "    '''\n",
    "    return round(tn/(tn+fp),2)\n",
    "\n",
    "print(especifidad(tn_m1, fp_m1))\n",
    "print(especifidad(tn_m2, fp_m2))"
   ]
  },
  {
   "cell_type": "markdown",
   "metadata": {},
   "source": [
    "<div style=\"font-size:14px; text-align:center\"><b>Precisión</b><br></div>"
   ]
  },
  {
   "cell_type": "code",
   "execution_count": 15,
   "metadata": {},
   "outputs": [
    {
     "name": "stdout",
     "output_type": "stream",
     "text": [
      "0.86\n",
      "0.53\n"
     ]
    }
   ],
   "source": [
    "def precision(tp, fp):\n",
    "    '''\n",
    "    Patrones positivos verdaderos respecto a todos los predichos verdaderos\n",
    "    '''\n",
    "    return round(tp/(tp+fp),2)\n",
    "\n",
    "print(precision(tp_m1, fp_m1))\n",
    "print(precision(tp_m2, fp_m2))"
   ]
  },
  {
   "cell_type": "markdown",
   "metadata": {},
   "source": [
    "<div style=\"font-size:14px; text-align:center\"><b>F1-Score</b><br></div>"
   ]
  },
  {
   "cell_type": "code",
   "execution_count": 16,
   "metadata": {},
   "outputs": [
    {
     "name": "stdout",
     "output_type": "stream",
     "text": [
      "0.71\n",
      "0.67\n"
     ]
    }
   ],
   "source": [
    "def f1_score(tp, fp, fn):\n",
    "    '''\n",
    "    Relación entre sensibilidad y precision\n",
    "    '''\n",
    "    return round((2*tp)/(2*tp+fp+fn),2)\n",
    "\n",
    "print(f1_score(tp_m1, fp_m1, fn_m1))\n",
    "print(f1_score(tp_m2, fp_m2, fn_m2))"
   ]
  },
  {
   "cell_type": "markdown",
   "metadata": {},
   "source": [
    "<div style=\"font-size:14px; text-align:center\"><b>Kappa</b><br></div>"
   ]
  },
  {
   "cell_type": "code",
   "execution_count": 17,
   "metadata": {},
   "outputs": [
    {
     "name": "stdout",
     "output_type": "stream",
     "text": [
      "0.6\n",
      "0.49\n"
     ]
    }
   ],
   "source": [
    "def kappa(tp, tn, fp, fn):\n",
    "    '''\n",
    "    Relación de los valores predichos con los reales.\n",
    "    '''\n",
    "    return round((2*(tp*tn-fn+fp))/((tp+fp)*(fp+tn)+(tp+fn)*(fn+tn)),2)\n",
    "\n",
    "print(kappa(tp_m1, tn_m1, fp_m1, fn_m1))\n",
    "print(kappa(tp_m2, tn_m2, fp_m2, fn_m2))   "
   ]
  },
  {
   "cell_type": "markdown",
   "metadata": {},
   "source": [
    " "
   ]
  },
  {
   "cell_type": "markdown",
   "metadata": {},
   "source": [
    "<div style=\"font-size:14px; text-align:justify\"><b>3: </b>Determinar qué modelo es mejor.</div>"
   ]
  },
  {
   "cell_type": "code",
   "execution_count": 18,
   "metadata": {},
   "outputs": [
    {
     "name": "stdout",
     "output_type": "stream",
     "text": [
      "Resultados Modelo 1\n",
      "- CCR: 0.83\n",
      "- Recall: 0.6\n",
      "- FP-Rate: 0.05\n",
      "- Especifidad: 0.95\n",
      "- Precision: 0.86\n",
      "- F1_Score: 0.71\n",
      "- Kappa: 0.6\n",
      "\n",
      "Resultados Modelo 2\n",
      "- CCR: 0.7\n",
      "- Recall: 0.9\n",
      "- FP-Rate: 0.4\n",
      "- Especifidad: 0.6\n",
      "- Precision: 0.53\n",
      "- F1_Score: 0.67\n",
      "- Kappa: 0.49\n",
      "\n"
     ]
    }
   ],
   "source": [
    "def info_model(model, tp, tn, fp, fn):\n",
    "    print(f'Resultados {model}')\n",
    "    print(f'- CCR: {ccr((tp+tn+fp+fn), tp, tn)}')\n",
    "    print(f'- Recall: {sensibility(tp, fn)}')\n",
    "    print(f'- FP-Rate: {fp_rate(fp, tn)}')\n",
    "    print(f'- Especifidad: {especifidad(tn, fp)}')\n",
    "    print(f'- Precision: {precision(tp, fp)}')\n",
    "    print(f'- F1_Score: {f1_score(tp, fp, fn)}')\n",
    "    print(f'- Kappa: {kappa(tp, tn, fp, fn)}\\n')\n",
    "    \n",
    "info_model('Modelo 1', tp_m1, tn_m1, fp_m1, fn_m1)\n",
    "info_model('Modelo 2', tp_m2, tn_m2, fp_m2, fn_m2)"
   ]
  },
  {
   "cell_type": "markdown",
   "metadata": {},
   "source": [
    "Primero de todo, observar que se trata de un set de datos **balanceado** por su matriz de confusión.\n",
    "\n",
    "Atendiendo a la métrica de **F1-Score**, el modelo mejor se trata del 1. Además, si nos centramos en la Precision, vemos que el modelo 2, ha asignado erroneamente más positivos (8) que el modelo 1 (1) lo cual se puede observar en **FP-Rate**.<br>\n",
    "Además, si atendemos a la métrica **Kappa**, se ve como el **modelo 1** se ajusta más a los valores reales."
   ]
  },
  {
   "cell_type": "markdown",
   "metadata": {},
   "source": [
    " "
   ]
  },
  {
   "cell_type": "markdown",
   "metadata": {},
   "source": [
    " "
   ]
  },
  {
   "cell_type": "markdown",
   "metadata": {},
   "source": [
    "<div style=\"font-size:14px; text-align:justify\"><b>TERCERA PARTE.-</b><br></div>"
   ]
  },
  {
   "cell_type": "markdown",
   "metadata": {},
   "source": [
    "Calcular las métricas de clasificación para un set de datos multivariable.\n",
    "\n",
    "***Fuente:***<br>*https://www.analyticsvidhya.com/blog/2021/06/confusion-matrix-for-multi-class-classification/*"
   ]
  },
  {
   "cell_type": "markdown",
   "metadata": {},
   "source": [
    " "
   ]
  },
  {
   "cell_type": "markdown",
   "metadata": {},
   "source": [
    "<div style=\"font-size:14px; text-align:center\"><b>Calculo de matriz de confusión.</b><br></div>"
   ]
  },
  {
   "cell_type": "code",
   "execution_count": 19,
   "metadata": {},
   "outputs": [
    {
     "data": {
      "image/png": "[encoded data removed]",
      "text/plain": [
       "<Figure size 432x288 with 2 Axes>"
      ]
     },
     "metadata": {
      "needs_background": "light"
     },
     "output_type": "display_data"
    }
   ],
   "source": [
    "# Convertir en array\n",
    "cf_matrix_multiclass = np.asarray([[20, 10, 5],\n",
    "                        [5, 30, 0],\n",
    "                        [5, 5, 25]])\n",
    "\n",
    "# Plotear matrices\n",
    "sns.heatmap(cf_matrix_multiclass, annot=True, \n",
    "            xticklabels= ['Gato', 'Perro', 'Loro'], \n",
    "            yticklabels= ['Gato', 'Perro', 'Loro']).set(\n",
    "    title='Matriz confusion Multiclase', \n",
    "    xlabel='Predicción', ylabel='Clase Real')\n",
    "\n",
    "\n",
    "plt.show()"
   ]
  },
  {
   "cell_type": "code",
   "execution_count": 20,
   "metadata": {},
   "outputs": [
    {
     "name": "stdout",
     "output_type": "stream",
     "text": [
      "Valores de clase \"Gato\":\n",
      "    TP: 20 -- FP: 10\n",
      "    FN: 15 -- TN: 60\n",
      "\n",
      "Valores de clase \"Perro\":\n",
      "    TP: 30 -- FP: 15\n",
      "    FN: 5 -- TN: 55\n",
      "\n",
      "Valores de clase \"Loro\":\n",
      "    TP: 25 -- FP: 5\n",
      "    FN: 10 -- TN: 65\n",
      "\n"
     ]
    }
   ],
   "source": [
    "def info_class(cfm, index:int):\n",
    "    '''\n",
    "    TN, FN, TP, FP para la clase en set multiclase\n",
    "    '''\n",
    "    # Valor de la diagonal coincidente con la prediccion y real\n",
    "    tp=cfm[index][index]\n",
    "    \n",
    "    # Valores fuera de la fila y columna de la clase\n",
    "    tn=0\n",
    "    # Recorrer filas no coincidentes con clase\n",
    "    for i in range(len(cfm)):\n",
    "        if i != index:\n",
    "            # Recorrer columnas no coincidentes con la clase\n",
    "            for j in range(len(cfm)):\n",
    "                if j != index:\n",
    "                    tn += cfm[i][j]\n",
    "        \n",
    "            \n",
    "    # Valores de la clase en columna no coincidentes con el valor real\n",
    "    fp=sum([cfm[x][index] for x in range(len(cfm)) if x != index])\n",
    "    \n",
    "    # Valores de la clase en fila no coincidentes con el valor real\n",
    "    fn=sum([cfm[index][x] for x in range(len(cfm)) if x != index])\n",
    "    \n",
    "    return tp, fp, fn, tn\n",
    "\n",
    "\n",
    "def info_class_print(class_name:str, values:list):\n",
    "    print(f'''Valores de clase \"{class_name}\":\n",
    "    TP: {values[0]} -- FP: {values[1]}\n",
    "    FN: {values[2]} -- TN: {values[3]}\\n''')\n",
    "\n",
    "    \n",
    "# Obtener valores\n",
    "cfm_values_gato = info_class(cf_matrix_multiclass, 0)\n",
    "cfm_values_perro = info_class(cf_matrix_multiclass, 1)\n",
    "cfm_values_loro = info_class(cf_matrix_multiclass, 2)\n",
    "\n",
    "# Imprimir valores\n",
    "info_class_print('Gato', cfm_values_gato)\n",
    "info_class_print('Perro', cfm_values_perro)\n",
    "info_class_print('Loro', cfm_values_loro)"
   ]
  },
  {
   "cell_type": "markdown",
   "metadata": {},
   "source": [
    "<div style=\"font-size:14px; text-align:center\"><b>Métricas</b><br></div>"
   ]
  },
  {
   "cell_type": "code",
   "execution_count": 21,
   "metadata": {},
   "outputs": [
    {
     "name": "stdout",
     "output_type": "stream",
     "text": [
      "Resultados Gato\n",
      "- CCR: 0.76\n",
      "- Recall: 0.57\n",
      "- FP-Rate: 0.14\n",
      "- Especifidad: 0.86\n",
      "- Precision: 0.67\n",
      "- F1_Score: 0.62\n",
      "- Kappa: 0.51\n",
      "\n",
      "Resultados Perro\n",
      "- CCR: 0.81\n",
      "- Recall: 0.86\n",
      "- FP-Rate: 0.21\n",
      "- Especifidad: 0.79\n",
      "- Precision: 0.67\n",
      "- F1_Score: 0.75\n",
      "- Kappa: 0.63\n",
      "\n",
      "Resultados Loro\n",
      "- CCR: 0.86\n",
      "- Recall: 0.71\n",
      "- FP-Rate: 0.07\n",
      "- Especifidad: 0.93\n",
      "- Precision: 0.83\n",
      "- F1_Score: 0.77\n",
      "- Kappa: 0.69\n",
      "\n"
     ]
    }
   ],
   "source": [
    "info_model('Gato', cfm_values_gato[0], cfm_values_gato[3], cfm_values_gato[1], cfm_values_gato[2])\n",
    "info_model('Perro', cfm_values_perro[0], cfm_values_perro[3], cfm_values_perro[1], cfm_values_perro[2])\n",
    "info_model('Loro', cfm_values_loro[0], cfm_values_loro[3], cfm_values_loro[1], cfm_values_loro[2])"
   ]
  }
 ],
 "metadata": {
  "kernelspec": {
   "display_name": "Python 3 (ipykernel)",
   "language": "python",
   "name": "python3"
  },
  "language_info": {
   "codemirror_mode": {
    "name": "ipython",
    "version": 3
   },
   "file_extension": ".py",
   "mimetype": "text/x-python",
   "name": "python",
   "nbconvert_exporter": "python",
   "pygments_lexer": "ipython3",
   "version": "3.8.5"
  }
 },
 "nbformat": 4,
 "nbformat_minor": 4
}
