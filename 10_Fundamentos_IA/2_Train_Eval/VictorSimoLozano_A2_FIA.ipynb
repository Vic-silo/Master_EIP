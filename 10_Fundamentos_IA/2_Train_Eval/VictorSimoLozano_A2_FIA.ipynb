{
 "cells": [
  {
   "cell_type": "markdown",
   "metadata": {
    "tags": []
   },
   "source": [
    "# Fundamentos IA y Machine Learning.\n",
    "\n",
    "## Autor: Victor Simo Lozano\n",
    "\n",
    "## Actividad 2\n",
    "<p>Entrenamiento y evaluación:<br>Calcular métricas de evaluación en regresión, clasificación binaria y multiclase.</p>\n",
    "    \n",
    "\n",
    "<hr style=\"border-color:red\">"
   ]
  },
  {
   "cell_type": "markdown",
   "metadata": {},
   "source": [
    " "
   ]
  },
  {
   "cell_type": "markdown",
   "metadata": {},
   "source": [
    " "
   ]
  },
  {
   "cell_type": "code",
   "execution_count": 1,
   "metadata": {},
   "outputs": [],
   "source": [
    "# Generales \n",
    "import numpy as np\n",
    "import math\n",
    "\n",
    "# Trabajar con dataset\n",
    "import pandas as pd\n",
    "\n",
    "# Presentación de datos\n",
    "import seaborn as sns\n",
    "import matplotlib.pyplot as plt"
   ]
  },
  {
   "cell_type": "markdown",
   "metadata": {},
   "source": [
    "<div style=\"font-size:14px; text-align:justify\"><b>PRIMERA PARTE.-</b><br></div>"
   ]
  },
  {
   "cell_type": "markdown",
   "metadata": {},
   "source": [
    "En base al conjunto de datos con una variable objetivo real y salida proporcionada con dos modelos distintos."
   ]
  },
  {
   "cell_type": "markdown",
   "metadata": {},
   "source": [
    "<div style=\"font-size:14px; text-align:justify\"><b>1: </b>Calcular métricas de regresión para cada modelo.</div>"
   ]
  },
  {
   "cell_type": "code",
   "execution_count": 157,
   "metadata": {},
   "outputs": [
    {
     "data": {
      "text/html": [
       "<div>\n",
       "<style scoped>\n",
       "    .dataframe tbody tr th:only-of-type {\n",
       "        vertical-align: middle;\n",
       "    }\n",
       "\n",
       "    .dataframe tbody tr th {\n",
       "        vertical-align: top;\n",
       "    }\n",
       "\n",
       "    .dataframe thead th {\n",
       "        text-align: right;\n",
       "    }\n",
       "</style>\n",
       "<table border=\"1\" class=\"dataframe\">\n",
       "  <thead>\n",
       "    <tr style=\"text-align: right;\">\n",
       "      <th></th>\n",
       "      <th>Y objetivo</th>\n",
       "      <th>Predicciones M1</th>\n",
       "      <th>Predicciones M2</th>\n",
       "    </tr>\n",
       "  </thead>\n",
       "  <tbody>\n",
       "    <tr>\n",
       "      <th>0</th>\n",
       "      <td>2.50</td>\n",
       "      <td>3.0</td>\n",
       "      <td>2.0</td>\n",
       "    </tr>\n",
       "    <tr>\n",
       "      <th>1</th>\n",
       "      <td>3.00</td>\n",
       "      <td>2.9</td>\n",
       "      <td>2.0</td>\n",
       "    </tr>\n",
       "    <tr>\n",
       "      <th>2</th>\n",
       "      <td>1.60</td>\n",
       "      <td>2.0</td>\n",
       "      <td>2.0</td>\n",
       "    </tr>\n",
       "    <tr>\n",
       "      <th>3</th>\n",
       "      <td>8.00</td>\n",
       "      <td>8.1</td>\n",
       "      <td>7.0</td>\n",
       "    </tr>\n",
       "    <tr>\n",
       "      <th>4</th>\n",
       "      <td>4.56</td>\n",
       "      <td>4.0</td>\n",
       "      <td>5.0</td>\n",
       "    </tr>\n",
       "  </tbody>\n",
       "</table>\n",
       "</div>"
      ],
      "text/plain": [
       "   Y objetivo  Predicciones M1  Predicciones M2\n",
       "0        2.50              3.0              2.0\n",
       "1        3.00              2.9              2.0\n",
       "2        1.60              2.0              2.0\n",
       "3        8.00              8.1              7.0\n",
       "4        4.56              4.0              5.0"
      ]
     },
     "metadata": {},
     "output_type": "display_data"
    },
    {
     "data": {
      "text/plain": [
       "'Total resultados:'"
      ]
     },
     "metadata": {},
     "output_type": "display_data"
    },
    {
     "data": {
      "text/plain": [
       "Y objetivo         30\n",
       "Predicciones M1    30\n",
       "Predicciones M2    30\n",
       "dtype: int64"
      ]
     },
     "metadata": {},
     "output_type": "display_data"
    }
   ],
   "source": [
    "# Cargar el dataset\n",
    "df = pd.read_csv('l2p1.csv')\n",
    "\n",
    "display(df.head(), 'Total resultados:', df.count())"
   ]
  },
  {
   "cell_type": "markdown",
   "metadata": {},
   "source": [
    "<div style=\"font-size:14px; text-align:center\"><b>MAE</b><br></div>"
   ]
  },
  {
   "cell_type": "code",
   "execution_count": 34,
   "metadata": {},
   "outputs": [
    {
     "name": "stdout",
     "output_type": "stream",
     "text": [
      "MAE de \"Predicciones M1\": 1.04\n",
      "MAE de \"Predicciones M2\": 0.61\n"
     ]
    }
   ],
   "source": [
    "# ERROR ABSOLUTO MEDIO (Mean Absolute Error)\n",
    "def mae(pred, obj):\n",
    "    '''\n",
    "    Media de las diferencias absolutas entre y' e y\n",
    "    '''\n",
    "    dif = 0\n",
    "    # Sumatorio de los errores para cada predicción\n",
    "    for y_pred, y in zip(pred, obj):\n",
    "        dif += abs(y - y_pred)\n",
    "    \n",
    "    # Media del sumatorio de errores\n",
    "    return round(dif/len(pred), 2)\n",
    "\n",
    "print(f'''MAE de \"Predicciones M1\": {mae(df['Predicciones M1'], df['Y objetivo'])}''')\n",
    "print(f'''MAE de \"Predicciones M2\": {mae(df['Predicciones M2'], df['Y objetivo'])}''')"
   ]
  },
  {
   "cell_type": "markdown",
   "metadata": {},
   "source": [
    "<div style=\"font-size:14px; text-align:center\"><b>MSE</b><br></div>"
   ]
  },
  {
   "cell_type": "code",
   "execution_count": 36,
   "metadata": {},
   "outputs": [
    {
     "name": "stdout",
     "output_type": "stream",
     "text": [
      "MSE de \"Predicciones M1\": 7.98\n",
      "MSE de \"Predicciones M2\": 0.52\n"
     ]
    }
   ],
   "source": [
    "# ERROR CUADRÁTICO MEDIO  (Mean Squared Error)\n",
    "def mse(pred, obj):\n",
    "    '''\n",
    "    Media de las diferencias al cuadrado entre y' e y\n",
    "    '''\n",
    "    dif = 0\n",
    "    # Sumatorio de los errores para cada predicción\n",
    "    for y_pred, y in zip(pred, obj):\n",
    "        dif += (y - y_pred)**2\n",
    "    \n",
    "    # Media del sumatorio de errores\n",
    "    return round(dif/len(pred), 2)\n",
    "\n",
    "print(f'''MSE de \"Predicciones M1\": {mse(df['Predicciones M1'], df['Y objetivo'])}''')\n",
    "print(f'''MSE de \"Predicciones M2\": {mse(df['Predicciones M2'], df['Y objetivo'])}''')\n",
    "    "
   ]
  },
  {
   "cell_type": "markdown",
   "metadata": {},
   "source": [
    "<div style=\"font-size:14px; text-align:center\"><b>RMSE</b><br></div>"
   ]
  },
  {
   "cell_type": "code",
   "execution_count": 41,
   "metadata": {},
   "outputs": [
    {
     "name": "stdout",
     "output_type": "stream",
     "text": [
      "RMSE de \"Predicciones M1\": 2.82\n",
      "RMSE de \"Predicciones M2\": 0.72\n"
     ]
    }
   ],
   "source": [
    "# RAIZ CUADRADA DEL ERROR CUADRÁTICO MEDIO  (Root Mean Squared Error)\n",
    "def rmse(pred, obj):\n",
    "    '''\n",
    "    Raiz de MSE para igualar medidas del error y variable objetivo\n",
    "    '''\n",
    "    dif = 0\n",
    "    # Sumatorio de los errores para cada predicción\n",
    "    for y_pred, y in zip(pred, obj):\n",
    "        dif += (y - y_pred)**2\n",
    "    \n",
    "    # Raiz cuadrada de la media del sumatorio de errores\n",
    "    return round(math.sqrt(round(dif/len(pred), 2)),2)\n",
    "\n",
    "print(f'''RMSE de \"Predicciones M1\": {rmse(df['Predicciones M1'], df['Y objetivo'])}''')\n",
    "print(f'''RMSE de \"Predicciones M2\": {rmse(df['Predicciones M2'], df['Y objetivo'])}''')"
   ]
  },
  {
   "cell_type": "markdown",
   "metadata": {},
   "source": [
    "<div style=\"font-size:14px; text-align:center\"><b>COEFICIENTE R</b><br></div>"
   ]
  },
  {
   "cell_type": "code",
   "execution_count": 156,
   "metadata": {},
   "outputs": [
    {
     "name": "stdout",
     "output_type": "stream",
     "text": [
      " Coeficiente determinación de \"Predicciones M1\": 0.5991824683\n",
      " Coeficiente variación de Pearson de \"Predicciones M1\": 0.6280712461\n",
      " Coeficiente determinación de \"Predicciones M2\": 0.9737934691\n",
      " Coeficiente variación de Pearson de \"Predicciones M2\": 0.9785384481\n"
     ]
    }
   ],
   "source": [
    "# COEFICIENTE DE DETERMINACIÓN\n",
    "def r_2(pred, obj):\n",
    "    '''\n",
    "    Calidad para predecir resultados. Acotado entre 0 y 1\n",
    "    '''\n",
    "    ss_res = 0\n",
    "    ss_tot = 0\n",
    "    for y_pred, y in zip(pred, obj):\n",
    "        ss_res += (y - y_pred)**2\n",
    "        ss_tot += (y - obj.mean())**2\n",
    "        \n",
    "    return round(1-(ss_res/ss_tot), 10)\n",
    "\n",
    "# COEFICIENTE DE VARIACIÓN\n",
    "def r_pearson(pred,obj):\n",
    "    sum_covar = 0\n",
    "    pred_var = 0\n",
    "    obj_var = 0\n",
    "    for y_pred, y in zip(pred, obj):\n",
    "        sum_covar += (y_pred - pred.mean())*(y - obj.mean())\n",
    "        pred_var += (y_pred - pred.mean())**2\n",
    "        obj_var += (y - obj.mean())**2\n",
    "        \n",
    "    return round((sum_covar**2/(pred_var*obj_var)) ,10)\n",
    "    \n",
    "print(f''' Coeficiente determinación de \"Predicciones M1\": {r_2(df['Predicciones M1'], df['Y objetivo'])}''')\n",
    "print(f''' Coeficiente variación de Pearson de \"Predicciones M1\": {r_pearson(df['Predicciones M1'], df['Y objetivo'])}''')\n",
    "print(f''' Coeficiente determinación de \"Predicciones M2\": {r_2(df['Predicciones M2'], df['Y objetivo'])}''')\n",
    "print(f''' Coeficiente variación de Pearson de \"Predicciones M2\": {r_pearson(df['Predicciones M2'], df['Y objetivo'])}''')"
   ]
  },
  {
   "cell_type": "markdown",
   "metadata": {},
   "source": [
    " "
   ]
  },
  {
   "cell_type": "markdown",
   "metadata": {},
   "source": [
    "<div style=\"font-size:14px; text-align:justify\"><b>2: </b>Decidir que modelo es mejor.</div>"
   ]
  },
  {
   "cell_type": "markdown",
   "metadata": {},
   "source": [
    "En base al **coeficiente de determinación** el mejor modelo se trata de **M1**. Dado que este valor se aproxima más a 1, lo cual nos indica que es capaz de precedecir mejor, tiene menor error, como también lo demuestra RMSE, con un valor inferior al igual que MSE y MAE (Media de errores inferior).\n",
    "\n",
    "Además, como se aprecia en la siguiente gráfica, los valores para **M1**, coindicen un número mayor de veces así como quedar más cercanos a la curva objetivo."
   ]
  },
  {
   "cell_type": "code",
   "execution_count": 190,
   "metadata": {},
   "outputs": [
    {
     "data": {
      "image/png": "[encoded data removed]",
      "text/plain": [
       "<Figure size 432x288 with 1 Axes>"
      ]
     },
     "metadata": {
      "needs_background": "light"
     },
     "output_type": "display_data"
    }
   ],
   "source": [
    "fig, ax = plt.subplots()\n",
    "# Plot 'Y Objetivo'\n",
    "obj, = ax.plot(df.index, df['Y objetivo'], color=\"black\", linewidth=1, label='Objetivo')\n",
    "# Plot Prediccion modelos\n",
    "mod_1 = plt.scatter(df.index, df['Predicciones M1'], color=\"red\", label='Modelo 1')\n",
    "mod_2 = plt.scatter(df.index, df['Predicciones M2'], color=\"blue\", label='Modelo 2')\n",
    "\n",
    "ax.legend()\n",
    "plt.title('Representación modelos')\n",
    "plt.xlabel('Patrones')\n",
    "plt.ylabel('Predicción')\n",
    "plt.show()"
   ]
  },
  {
   "cell_type": "markdown",
   "metadata": {},
   "source": [
    " "
   ]
  },
  {
   "cell_type": "markdown",
   "metadata": {},
   "source": [
    " "
   ]
  },
  {
   "cell_type": "markdown",
   "metadata": {},
   "source": [
    "<div style=\"font-size:14px; text-align:justify\"><b>SEGUNDA PARTE.-</b><br></div>"
   ]
  },
  {
   "cell_type": "markdown",
   "metadata": {},
   "source": [
    "En base a un problema de clasificación binaria, existe la salida para dos patrones distintos."
   ]
  },
  {
   "cell_type": "markdown",
   "metadata": {},
   "source": [
    "<div style=\"font-size:14px; text-align:justify\"><b>1: </b>Crear la matriz de confusión de cada modelo.</div>"
   ]
  },
  {
   "cell_type": "code",
   "execution_count": 192,
   "metadata": {},
   "outputs": [
    {
     "data": {
      "text/html": [
       "<div>\n",
       "<style scoped>\n",
       "    .dataframe tbody tr th:only-of-type {\n",
       "        vertical-align: middle;\n",
       "    }\n",
       "\n",
       "    .dataframe tbody tr th {\n",
       "        vertical-align: top;\n",
       "    }\n",
       "\n",
       "    .dataframe thead th {\n",
       "        text-align: right;\n",
       "    }\n",
       "</style>\n",
       "<table border=\"1\" class=\"dataframe\">\n",
       "  <thead>\n",
       "    <tr style=\"text-align: right;\">\n",
       "      <th></th>\n",
       "      <th>Clase Objetivo</th>\n",
       "      <th>Predicciones M1</th>\n",
       "      <th>Predicciones M2</th>\n",
       "    </tr>\n",
       "  </thead>\n",
       "  <tbody>\n",
       "    <tr>\n",
       "      <th>0</th>\n",
       "      <td>0</td>\n",
       "      <td>1</td>\n",
       "      <td>0</td>\n",
       "    </tr>\n",
       "    <tr>\n",
       "      <th>1</th>\n",
       "      <td>0</td>\n",
       "      <td>0</td>\n",
       "      <td>0</td>\n",
       "    </tr>\n",
       "    <tr>\n",
       "      <th>2</th>\n",
       "      <td>0</td>\n",
       "      <td>0</td>\n",
       "      <td>0</td>\n",
       "    </tr>\n",
       "    <tr>\n",
       "      <th>3</th>\n",
       "      <td>1</td>\n",
       "      <td>1</td>\n",
       "      <td>1</td>\n",
       "    </tr>\n",
       "    <tr>\n",
       "      <th>4</th>\n",
       "      <td>1</td>\n",
       "      <td>1</td>\n",
       "      <td>1</td>\n",
       "    </tr>\n",
       "  </tbody>\n",
       "</table>\n",
       "</div>"
      ],
      "text/plain": [
       "   Clase Objetivo  Predicciones M1  Predicciones M2\n",
       "0               0                1                0\n",
       "1               0                0                0\n",
       "2               0                0                0\n",
       "3               1                1                1\n",
       "4               1                1                1"
      ]
     },
     "metadata": {},
     "output_type": "display_data"
    },
    {
     "data": {
      "text/plain": [
       "'Total resultados:'"
      ]
     },
     "metadata": {},
     "output_type": "display_data"
    },
    {
     "data": {
      "text/plain": [
       "Clase Objetivo     30\n",
       "Predicciones M1    30\n",
       "Predicciones M2    30\n",
       "dtype: int64"
      ]
     },
     "metadata": {},
     "output_type": "display_data"
    }
   ],
   "source": [
    "# Cargar el dataset\n",
    "df = pd.read_csv('l2p2.csv')\n",
    "\n",
    "display(df.head(), 'Total resultados:', df.count())"
   ]
  },
  {
   "cell_type": "code",
   "execution_count": 240,
   "metadata": {},
   "outputs": [
    {
     "name": "stdout",
     "output_type": "stream",
     "text": [
      "Matriz Confusion Modelo 1 para 30 valores\n",
      "True Positive:  6 | False Negative: 4\n",
      "\n",
      "False Positive: 1 | True Negative: 19\n",
      "\n",
      "Matriz Confusion Modelo 2 para 30 valores\n",
      "True Positive:  9 | False Negative: 1\n",
      "\n",
      "False Positive: 8 | True Negative: 12\n",
      "\n"
     ]
    }
   ],
   "source": [
    "def conf_matrix(pred, obj):\n",
    "    '''\n",
    "    Obtener la cantidad de aciertos y fallos del modelo\n",
    "    '''\n",
    "    tp=0\n",
    "    tn=0\n",
    "    fp=0\n",
    "    fn=0\n",
    "    for y_pred, y in zip(pred, obj):\n",
    "        # True Positive\n",
    "        if y == 1 and y_pred == 1:\n",
    "            tp += 1\n",
    "        # False Negative\n",
    "        elif y == 1 and y_pred == 0:\n",
    "            fn += 1\n",
    "        # False Positive\n",
    "        elif y == 0 and y_pred == 1:\n",
    "            fp += 1\n",
    "        # True Negative\n",
    "        elif y == 0 and y_pred == 0:\n",
    "            tn += 1\n",
    "    \n",
    "    return tp, fn, fp, tn\n",
    "\n",
    "tp_m1, fn_m1, fp_m1, tn_m1 = conf_matrix(df['Predicciones M1'], df['Clase Objetivo'])\n",
    "tp_m2, fn_m2, fp_m2, tn_m2 = conf_matrix(df['Predicciones M2'], df['Clase Objetivo'])\n",
    "\n",
    "# Modelo 1\n",
    "print(f'Matriz Confusion Modelo 1 para {tp_m1+fn_m1+fp_m1+tn_m1} valores')\n",
    "print(f'''True Positive:  {tp_m1} | False Negative: {fn_m1}\\n\n",
    "False Positive: {fp_m1} | True Negative: {tn_m1}\\n''')\n",
    "# Modelo 2\n",
    "print(f'Matriz Confusion Modelo 2 para {tp_m2+fn_m2+fp_m2+tn_m2} valores')\n",
    "print(f'''True Positive:  {tp_m2} | False Negative: {fn_m2}\\n\n",
    "False Positive: {fp_m2} | True Negative: {tn_m2}\\n''')"
   ]
  },
  {
   "cell_type": "markdown",
   "metadata": {},
   "source": [
    "De un modo más visual:"
   ]
  },
  {
   "cell_type": "code",
   "execution_count": 241,
   "metadata": {},
   "outputs": [
    {
     "data": {
      "image/png": "[encoded data removed]",
      "text/plain": [
       "<Figure size 1080x360 with 4 Axes>"
      ]
     },
     "metadata": {
      "needs_background": "light"
     },
     "output_type": "display_data"
    }
   ],
   "source": [
    "# Obtener valores\n",
    "cf_matrix_m1 = conf_matrix(df['Predicciones M1'], df['Clase Objetivo'])\n",
    "cf_matrix_m2 = conf_matrix(df['Predicciones M2'], df['Clase Objetivo'])\n",
    "\n",
    "# Convertir en array\n",
    "cf_matrix_m1 = np.asarray([[cf_matrix_m1[0],cf_matrix_m1[1]], [cf_matrix_m1[2],cf_matrix_m1[3]]])\n",
    "cf_matrix_m2 = np.asarray([[cf_matrix_m2[0],cf_matrix_m2[1]], [cf_matrix_m2[2],cf_matrix_m2[3]]])\n",
    "\n",
    "# Plotear matrices\n",
    "fig, axes = plt.subplots(nrows=1, ncols=2,figsize=(15,5))\n",
    "\n",
    "sns.heatmap(cf_matrix_m1, annot=True, ax=axes[0]).set(title='Matriz confusion M1')\n",
    "sns.heatmap(cf_matrix_m2, annot=True, ax=axes[1]).set(title='Matriz confusion M2')\n",
    "\n",
    "plt.show()"
   ]
  },
  {
   "cell_type": "code",
   "execution_count": 270,
   "metadata": {},
   "outputs": [
    {
     "data": {
      "image/png": "[encoded data removed]",
      "text/plain": [
       "<Figure size 432x288 with 2 Axes>"
      ]
     },
     "metadata": {
      "needs_background": "light"
     },
     "output_type": "display_data"
    }
   ],
   "source": [
    "from sklearn.metrics import confusion_matrix\n",
    "from sklearn.metrics import ConfusionMatrixDisplay\n",
    "\n",
    "#Generate predictions with the model using our X values\n",
    "y_pred = df['Predicciones M1']\n",
    "y = df['Clase Objetivo']\n",
    "#Get the confusion matrix\n",
    "cf_matrix = confusion_matrix(y, y_pred)\n",
    "cm_display = ConfusionMatrixDisplay(cf_matrix).plot()"
   ]
  },
  {
   "cell_type": "markdown",
   "metadata": {},
   "source": [
    " "
   ]
  },
  {
   "cell_type": "markdown",
   "metadata": {},
   "source": [
    "<div style=\"font-size:14px; text-align:justify\"><b>2: </b>Calcular métricas de clasificación salvo AUC.</div>"
   ]
  },
  {
   "cell_type": "markdown",
   "metadata": {},
   "source": [
    "<div style=\"font-size:14px; text-align:center\"><b>Accuracy - CCR</b><br></div>"
   ]
  },
  {
   "cell_type": "code",
   "execution_count": 268,
   "metadata": {},
   "outputs": [
    {
     "name": "stdout",
     "output_type": "stream",
     "text": [
      "0.83\n",
      "0.7\n"
     ]
    }
   ],
   "source": [
    "# PRECISIÓN GLOBAL\n",
    "def ccr (data, tp, tn, fp=None):\n",
    "    '''\n",
    "    Patrones correctamente clasificados\n",
    "    '''\n",
    "    return round(((tp+tn)/len(data)), 2)\n",
    "    # return tp/(tp+fp)\n",
    "\n",
    "print(ccr(df['Predicciones M1'], tp_m1, tn_m1))\n",
    "print(ccr(df['Predicciones M2'], tp_m2, tn_m2))"
   ]
  },
  {
   "cell_type": "markdown",
   "metadata": {},
   "source": [
    "<div style=\"font-size:14px; text-align:center\"><b>Recall - TP Rate</b><br></div>"
   ]
  },
  {
   "cell_type": "code",
   "execution_count": 252,
   "metadata": {},
   "outputs": [
    {
     "name": "stdout",
     "output_type": "stream",
     "text": [
      "0.6\n",
      "0.9\n"
     ]
    }
   ],
   "source": [
    "# SENSIBILIDAD\n",
    "def sensibility (tp, fn):\n",
    "    return ((tp)/(tp+fn))\n",
    "\n",
    "print(sensibility(tp_m1, fn_m1))\n",
    "print(sensibility(tp_m2, fn_m2))"
   ]
  },
  {
   "cell_type": "markdown",
   "metadata": {},
   "source": [
    " "
   ]
  },
  {
   "cell_type": "markdown",
   "metadata": {},
   "source": [
    " "
   ]
  },
  {
   "cell_type": "code",
   "execution_count": null,
   "metadata": {},
   "outputs": [],
   "source": []
  },
  {
   "cell_type": "code",
   "execution_count": null,
   "metadata": {},
   "outputs": [],
   "source": []
  },
  {
   "cell_type": "code",
   "execution_count": null,
   "metadata": {},
   "outputs": [],
   "source": []
  },
  {
   "cell_type": "code",
   "execution_count": null,
   "metadata": {},
   "outputs": [],
   "source": []
  },
  {
   "cell_type": "markdown",
   "metadata": {},
   "source": [
    " "
   ]
  },
  {
   "cell_type": "markdown",
   "metadata": {},
   "source": [
    "<div style=\"font-size:14px; text-align:justify\"><b>SEGUNDA PARTE.-</b><br></div>"
   ]
  },
  {
   "cell_type": "markdown",
   "metadata": {},
   "source": [
    "Describir la base de datos."
   ]
  },
  {
   "cell_type": "markdown",
   "metadata": {},
   "source": [
    "<div style=\"font-size:14px; text-align:justify\"><b>1: </b>Cargar y presentar el dataframe.</div>"
   ]
  },
  {
   "cell_type": "code",
   "execution_count": 2,
   "metadata": {
    "tags": []
   },
   "outputs": [
    {
     "data": {
      "text/html": [
       "<div>\n",
       "<style scoped>\n",
       "    .dataframe tbody tr th:only-of-type {\n",
       "        vertical-align: middle;\n",
       "    }\n",
       "\n",
       "    .dataframe tbody tr th {\n",
       "        vertical-align: top;\n",
       "    }\n",
       "\n",
       "    .dataframe thead th {\n",
       "        text-align: right;\n",
       "    }\n",
       "</style>\n",
       "<table border=\"1\" class=\"dataframe\">\n",
       "  <thead>\n",
       "    <tr style=\"text-align: right;\">\n",
       "      <th></th>\n",
       "      <th>sepal.length</th>\n",
       "      <th>sepal.width</th>\n",
       "      <th>petal.length</th>\n",
       "      <th>petal.width</th>\n",
       "      <th>variety</th>\n",
       "    </tr>\n",
       "  </thead>\n",
       "  <tbody>\n",
       "    <tr>\n",
       "      <th>0</th>\n",
       "      <td>5.1</td>\n",
       "      <td>3.5</td>\n",
       "      <td>1.4</td>\n",
       "      <td>0.2</td>\n",
       "      <td>Setosa</td>\n",
       "    </tr>\n",
       "    <tr>\n",
       "      <th>1</th>\n",
       "      <td>4.9</td>\n",
       "      <td>3.0</td>\n",
       "      <td>1.4</td>\n",
       "      <td>0.2</td>\n",
       "      <td>Setosa</td>\n",
       "    </tr>\n",
       "    <tr>\n",
       "      <th>2</th>\n",
       "      <td>4.7</td>\n",
       "      <td>3.2</td>\n",
       "      <td>1.3</td>\n",
       "      <td>0.2</td>\n",
       "      <td>Setosa</td>\n",
       "    </tr>\n",
       "    <tr>\n",
       "      <th>3</th>\n",
       "      <td>4.6</td>\n",
       "      <td>3.1</td>\n",
       "      <td>1.5</td>\n",
       "      <td>0.2</td>\n",
       "      <td>Setosa</td>\n",
       "    </tr>\n",
       "    <tr>\n",
       "      <th>4</th>\n",
       "      <td>5.0</td>\n",
       "      <td>3.6</td>\n",
       "      <td>1.4</td>\n",
       "      <td>0.2</td>\n",
       "      <td>Setosa</td>\n",
       "    </tr>\n",
       "    <tr>\n",
       "      <th>5</th>\n",
       "      <td>5.4</td>\n",
       "      <td>3.9</td>\n",
       "      <td>1.7</td>\n",
       "      <td>0.4</td>\n",
       "      <td>Setosa</td>\n",
       "    </tr>\n",
       "    <tr>\n",
       "      <th>6</th>\n",
       "      <td>4.6</td>\n",
       "      <td>3.4</td>\n",
       "      <td>1.4</td>\n",
       "      <td>0.3</td>\n",
       "      <td>Setosa</td>\n",
       "    </tr>\n",
       "    <tr>\n",
       "      <th>7</th>\n",
       "      <td>5.0</td>\n",
       "      <td>3.4</td>\n",
       "      <td>1.5</td>\n",
       "      <td>0.2</td>\n",
       "      <td>Setosa</td>\n",
       "    </tr>\n",
       "    <tr>\n",
       "      <th>8</th>\n",
       "      <td>4.4</td>\n",
       "      <td>2.9</td>\n",
       "      <td>1.4</td>\n",
       "      <td>0.2</td>\n",
       "      <td>Setosa</td>\n",
       "    </tr>\n",
       "    <tr>\n",
       "      <th>9</th>\n",
       "      <td>4.9</td>\n",
       "      <td>3.1</td>\n",
       "      <td>1.5</td>\n",
       "      <td>0.1</td>\n",
       "      <td>Setosa</td>\n",
       "    </tr>\n",
       "  </tbody>\n",
       "</table>\n",
       "</div>"
      ],
      "text/plain": [
       "   sepal.length  sepal.width  petal.length  petal.width variety\n",
       "0           5.1          3.5           1.4          0.2  Setosa\n",
       "1           4.9          3.0           1.4          0.2  Setosa\n",
       "2           4.7          3.2           1.3          0.2  Setosa\n",
       "3           4.6          3.1           1.5          0.2  Setosa\n",
       "4           5.0          3.6           1.4          0.2  Setosa\n",
       "5           5.4          3.9           1.7          0.4  Setosa\n",
       "6           4.6          3.4           1.4          0.3  Setosa\n",
       "7           5.0          3.4           1.5          0.2  Setosa\n",
       "8           4.4          2.9           1.4          0.2  Setosa\n",
       "9           4.9          3.1           1.5          0.1  Setosa"
      ]
     },
     "execution_count": 2,
     "metadata": {},
     "output_type": "execute_result"
    }
   ],
   "source": [
    "df = pd.read_csv('iris.csv')\n",
    "\n",
    "df.head(10)"
   ]
  },
  {
   "cell_type": "code",
   "execution_count": 3,
   "metadata": {
    "tags": []
   },
   "outputs": [
    {
     "data": {
      "text/plain": [
       "Setosa        50\n",
       "Versicolor    50\n",
       "Virginica     50\n",
       "Name: variety, dtype: int64"
      ]
     },
     "execution_count": 3,
     "metadata": {},
     "output_type": "execute_result"
    }
   ],
   "source": [
    "# Total de variedades y numero por cada una.\n",
    "df.variety.value_counts()"
   ]
  },
  {
   "cell_type": "markdown",
   "metadata": {},
   "source": [
    " "
   ]
  },
  {
   "cell_type": "markdown",
   "metadata": {},
   "source": [
    "<div style=\"font-size:14px; text-align:justify\"><b>2: </b>Explicación base de datos.</div>"
   ]
  },
  {
   "cell_type": "markdown",
   "metadata": {},
   "source": [
    "**Información base de datos**<br>\n",
    "Conjunto de longitudes de sepalo y petalo para diferentes variedades de flor Iris.\n",
    "\n",
    "**Atributos**<br>\n",
    "- \"sepal.length\": Longitus del sepalo.\n",
    "- \"sepal.width\": Anchura del sepalo.\n",
    "- \"petal.length\": Longitud del petalo.\n",
    "- \"petal.width\": Anchura del petalo.\n",
    "\n",
    "**Variable objetivo**<br>\n",
    "- \"variety\": Variedad de la especie de acuerdo con medidas de petalo y sepalo.\n",
    "\n",
    "**Patrones por clase**<br>\n",
    "- Clase \"Setosa\" 50 patrones.\n",
    "- Clase \"Versicolor\" 50 patrones.\n",
    "- Clase \"Virginica\" 50 patrones."
   ]
  },
  {
   "cell_type": "markdown",
   "metadata": {},
   "source": [
    " "
   ]
  },
  {
   "cell_type": "markdown",
   "metadata": {},
   "source": [
    "<div style=\"font-size:14px; text-align:justify\"><b>TERCERA PARTE.-</b><br></div>"
   ]
  },
  {
   "cell_type": "markdown",
   "metadata": {},
   "source": [
    "Por cada atributo calcular:\n",
    "- Media.\n",
    "- Desviación típica.\n",
    "- Mediana.\n",
    "- Cuartiles.\n",
    "- Minimo y máximo.\n",
    "\n",
    "***Fuente:***<br>\n",
    "*https://www.statology.org/<br>\n",
    "http://cissandbox.bentley.edu/sandbox/wp-content/uploads/2022-02-10-Documentation-on-f-strings-Updated.pdf<br>\n",
    "http://www.rincondepaco.com.mx/rincon/Inicio/Apuntes/Descriptiva.pdf*"
   ]
  },
  {
   "cell_type": "markdown",
   "metadata": {},
   "source": [
    " "
   ]
  },
  {
   "cell_type": "markdown",
   "metadata": {},
   "source": [
    "<div style=\"font-size:14px; text-align:center\"><b>MEDIA</b><br></div>"
   ]
  },
  {
   "cell_type": "code",
   "execution_count": 4,
   "metadata": {
    "tags": []
   },
   "outputs": [
    {
     "data": {
      "text/plain": [
       "'Media para \"sepal.length\": 5.84'"
      ]
     },
     "metadata": {},
     "output_type": "display_data"
    },
    {
     "data": {
      "text/plain": [
       "'Media para \"sepal.width\": 3.06'"
      ]
     },
     "metadata": {},
     "output_type": "display_data"
    },
    {
     "data": {
      "text/plain": [
       "'Media para \"petal.length\": 3.76'"
      ]
     },
     "metadata": {},
     "output_type": "display_data"
    },
    {
     "data": {
      "text/plain": [
       "'Media para \"petal.width\": 1.20'"
      ]
     },
     "metadata": {},
     "output_type": "display_data"
    }
   ],
   "source": [
    "def calc_mean(data):\n",
    "    '''\n",
    "    Suma de todos los valores existentes dividido por el total de datos.\n",
    "    '''\n",
    "    total = data.sum()\n",
    "    n_data = data.count()\n",
    "    \n",
    "    return total/n_data\n",
    "\n",
    "display(f'Media para \"sepal.length\": {calc_mean(df.iloc[:, 0]):0.2f}')\n",
    "display(f'Media para \"sepal.width\": {calc_mean(df.iloc[:, 1]):0.2f}')\n",
    "display(f'Media para \"petal.length\": {calc_mean(df.iloc[:, 2]):0.2f}')\n",
    "display(f'Media para \"petal.width\": {calc_mean(df.iloc[:, 3]):0.2f}')"
   ]
  },
  {
   "cell_type": "markdown",
   "metadata": {},
   "source": [
    "<div style=\"font-size:14px; text-align:center\"><b>DESVIACIÓN TÍPICA</b><br></div>"
   ]
  },
  {
   "cell_type": "code",
   "execution_count": 5,
   "metadata": {},
   "outputs": [
    {
     "data": {
      "text/plain": [
       "'Desviacion típica \"sepal.length\": 0.83'"
      ]
     },
     "metadata": {},
     "output_type": "display_data"
    },
    {
     "data": {
      "text/plain": [
       "'Desviacion típica \"sepal.width\": 0.43'"
      ]
     },
     "metadata": {},
     "output_type": "display_data"
    },
    {
     "data": {
      "text/plain": [
       "'Desviacion típica \"petal.length\": 1.76'"
      ]
     },
     "metadata": {},
     "output_type": "display_data"
    },
    {
     "data": {
      "text/plain": [
       "'Desviacion típica \"petal.width\": 0.76'"
      ]
     },
     "metadata": {},
     "output_type": "display_data"
    }
   ],
   "source": [
    "def calc_standar_dev(data):\n",
    "    '''\n",
    "    Raíz cuadrada de la suma cuadrárica de las diferencias de los valores respecto a la media\n",
    "    dividido por el total de valores.\n",
    "    '''\n",
    "    mean = calc_mean(data)\n",
    "    deviation_sum = 0\n",
    "    for num in data:\n",
    "        deviation = (num - mean)**2\n",
    "        deviation_sum += deviation\n",
    "    \n",
    "    return math.sqrt(deviation_sum/data.count())\n",
    "\n",
    "display(f'Desviacion típica \"sepal.length\": {calc_standar_dev(df.iloc[:, 0]):0.2f}')\n",
    "display(f'Desviacion típica \"sepal.width\": {calc_standar_dev(df.iloc[:, 1]):0.2f}')\n",
    "display(f'Desviacion típica \"petal.length\": {calc_standar_dev(df.iloc[:, 2]):0.2f}')\n",
    "display(f'Desviacion típica \"petal.width\": {calc_standar_dev(df.iloc[:, 3]):0.2f}')"
   ]
  },
  {
   "cell_type": "markdown",
   "metadata": {},
   "source": [
    "La desviación típica, nos dice si los valores se encuentran en torno a una media en cuanto más bajo sea el valor obtenido. En este caso, los valores de \"sepal.width\" se encuentran más cercanos a la media, mientras que \"petal.width\" tiene una mayor dispersión de los datos respecto a la media."
   ]
  },
  {
   "cell_type": "markdown",
   "metadata": {},
   "source": [
    "<div style=\"font-size:14px; text-align:center\"><b>MEDIANA</b><br></div>"
   ]
  },
  {
   "cell_type": "code",
   "execution_count": 6,
   "metadata": {
    "tags": []
   },
   "outputs": [
    {
     "data": {
      "text/plain": [
       "'Mediana \"sepal.length\": 5.80'"
      ]
     },
     "metadata": {},
     "output_type": "display_data"
    },
    {
     "data": {
      "text/plain": [
       "'Mediana \"sepal.width\": 3.00'"
      ]
     },
     "metadata": {},
     "output_type": "display_data"
    },
    {
     "data": {
      "text/plain": [
       "'Mediana \"petal.length\": 4.35'"
      ]
     },
     "metadata": {},
     "output_type": "display_data"
    },
    {
     "data": {
      "text/plain": [
       "'Mediana \"petal.width\": 1.30'"
      ]
     },
     "metadata": {},
     "output_type": "display_data"
    }
   ],
   "source": [
    "def calc_median(data):\n",
    "    '''\n",
    "    Valor que deja por debajo y por el encima el mismo numero de valores en una lista de \n",
    "    valores ordenada de forma ascendente.\n",
    "    '''\n",
    "    data = data.sort_values(ascending = True)\n",
    "    middle = data.count() / 2\n",
    "    if data.count() % 2 == 0:\n",
    "        middle_values = data.iloc[(int(middle) - 1)] + data.iloc[int(middle)]\n",
    "        # Indices de 0 n. Restar 1 para posición media\n",
    "        return middle_values / 2\n",
    "    else:\n",
    "        return data.iloc[int(middle)]\n",
    "        \n",
    "    \n",
    "display(f'Mediana \"sepal.length\": {calc_median(df.iloc[:, 0]):0.2f}')\n",
    "display(f'Mediana \"sepal.width\": {calc_median(df.iloc[:, 1]):0.2f}')\n",
    "display(f'Mediana \"petal.length\": {calc_median(df.iloc[:, 2]):0.2f}')\n",
    "display(f'Mediana \"petal.width\": {calc_median(df.iloc[:, 3]):0.2f}')"
   ]
  },
  {
   "cell_type": "markdown",
   "metadata": {},
   "source": [
    "La mediana nos da el valor central que deja por debajo y por arriba el mismo numero de valores del set de datos. Dentro de los cuartiles, también es el Q2 o el 50%."
   ]
  },
  {
   "cell_type": "markdown",
   "metadata": {},
   "source": [
    "<div style=\"font-size:14px; text-align:center\"><b>CUARTILES</b><br></div>"
   ]
  },
  {
   "cell_type": "code",
   "execution_count": 7,
   "metadata": {},
   "outputs": [
    {
     "data": {
      "text/plain": [
       "'Q1 \"sepal.length\": 5.10; Q3 \"sepal.length\": 6.40'"
      ]
     },
     "metadata": {},
     "output_type": "display_data"
    },
    {
     "data": {
      "text/plain": [
       "'Q1 \"sepal.width\": 2.80; Q3 \"sepal.width\": 3.30'"
      ]
     },
     "metadata": {},
     "output_type": "display_data"
    },
    {
     "data": {
      "text/plain": [
       "'Q1 \"petal.length\": 1.60; Q3 \"petal.length\": 5.10'"
      ]
     },
     "metadata": {},
     "output_type": "display_data"
    },
    {
     "data": {
      "text/plain": [
       "'Q1 \"petal.width\": 0.30; Q3 \"petal.width\": 1.80'"
      ]
     },
     "metadata": {},
     "output_type": "display_data"
    }
   ],
   "source": [
    "def calc_q1(data):\n",
    "    '''\n",
    "    Valor que deja por debajo al 25% de los valores de una lista ordenada ascendentemente.\n",
    "    '''\n",
    "    data = data.sort_values(ascending = True)    \n",
    "    pos = (data.count()) / 4\n",
    "    \n",
    "    return  data.iloc[math.floor(pos)] if pos % 1 == 0 \\\n",
    "        else (data.iloc[math.floor(pos)] + data.iloc[math.ceil(pos)]) / 2\n",
    "\n",
    "def calc_q3(data):\n",
    "    '''\n",
    "    Valor que deja por debajo al 75% de los valores de una lista ordenada ascendentemente.\n",
    "    '''\n",
    "    data = data.sort_values(ascending = True)    \n",
    "    pos = (3 * data.count() + 1) / 4 - 1\n",
    "    \n",
    "    return  data.iloc[math.floor(pos)] if pos % 1 == 0 \\\n",
    "        else (data.iloc[math.floor(pos)] + data.iloc[math.ceil(pos)]) / 2\n",
    " \n",
    "display(f'Q1 \"sepal.length\": {calc_q1(df.iloc[:, 0]):0.2f}; Q3 \"sepal.length\": {calc_q3(df.iloc[:, 0]):0.2f}')\n",
    "display(f'Q1 \"sepal.width\": {calc_q1(df.iloc[:, 1]):0.2f}; Q3 \"sepal.width\": {calc_q3(df.iloc[:, 1]):0.2f}')\n",
    "display(f'Q1 \"petal.length\": {calc_q1(df.iloc[:, 2]):0.2f}; Q3 \"petal.length\": {calc_q3(df.iloc[:, 2]):0.2f}')\n",
    "display(f'Q1 \"petal.width\": {calc_q1(df.iloc[:, 3]):0.2f}; Q3 \"petal.width\": {calc_q3(df.iloc[:, 3]):0.2f}')\n",
    "    "
   ]
  },
  {
   "cell_type": "markdown",
   "metadata": {},
   "source": [
    "El cuartil Q1 representa el 25% de los datos mientras que el Q3 el 75%. PAra el cuartil Q2, este es igual a la mediana."
   ]
  },
  {
   "cell_type": "markdown",
   "metadata": {},
   "source": [
    "<div style=\"font-size:14px; text-align:center\"><b>MÍNIMO Y MÁXIMO</b><br></div>"
   ]
  },
  {
   "cell_type": "code",
   "execution_count": 8,
   "metadata": {},
   "outputs": [
    {
     "data": {
      "text/plain": [
       "'Min \"sepal.length\": 4.30; Max \"sepal.length\": 7.90'"
      ]
     },
     "metadata": {},
     "output_type": "display_data"
    },
    {
     "data": {
      "text/plain": [
       "'Min \"sepal.width\": 2.00; Max \"sepal.width\": 4.40'"
      ]
     },
     "metadata": {},
     "output_type": "display_data"
    },
    {
     "data": {
      "text/plain": [
       "'Min \"petal.length\": 1.00; Max \"petal.length\": 6.90'"
      ]
     },
     "metadata": {},
     "output_type": "display_data"
    },
    {
     "data": {
      "text/plain": [
       "'Min \"petal.width\": 0.10; Max \"petal.width\": 2.50'"
      ]
     },
     "metadata": {},
     "output_type": "display_data"
    }
   ],
   "source": [
    "def calc_min_max(data):\n",
    "    '''\n",
    "    De una lista ordenanada ascendentemente, el valor más pequeño y el más grande respectivamente.\n",
    "    '''\n",
    "    return data.sort_values().iloc[0], data.sort_values().iloc[-1]\n",
    "\n",
    "display(f'Min \"sepal.length\": {calc_min_max(df.iloc[:, 0])[0]:0.2f}; Max \"sepal.length\": {calc_min_max(df.iloc[:, 0])[1]:0.2f}')\n",
    "display(f'Min \"sepal.width\": {calc_min_max(df.iloc[:, 1])[0]:0.2f}; Max \"sepal.width\": {calc_min_max(df.iloc[:, 1])[1]:0.2f}')\n",
    "display(f'Min \"petal.length\": {calc_min_max(df.iloc[:, 2])[0]:0.2f}; Max \"petal.length\": {calc_min_max(df.iloc[:, 2])[1]:0.2f}')\n",
    "display(f'Min \"petal.width\": {calc_min_max(df.iloc[:, 3])[0]:0.2f}; Max \"petal.width\": {calc_min_max(df.iloc[:, 3])[1]:0.2f}')"
   ]
  },
  {
   "cell_type": "markdown",
   "metadata": {},
   "source": [
    " "
   ]
  },
  {
   "cell_type": "markdown",
   "metadata": {},
   "source": [
    "<div style=\"font-size:14px; text-align:justify\"><b>CUARTA PARTE.-</b><br></div>"
   ]
  },
  {
   "cell_type": "markdown",
   "metadata": {},
   "source": [
    "De forma gráfica, visualizar la elación de los atributos. ¿Existe alguna relación significativa visualmente?"
   ]
  },
  {
   "cell_type": "markdown",
   "metadata": {},
   "source": [
    " "
   ]
  },
  {
   "cell_type": "code",
   "execution_count": 9,
   "metadata": {},
   "outputs": [
    {
     "data": {
      "image/png": "[encoded data removed]",
      "text/plain": [
       "<Figure size 1080x360 with 2 Axes>"
      ]
     },
     "metadata": {
      "needs_background": "light"
     },
     "output_type": "display_data"
    }
   ],
   "source": [
    "# SCATTER-PLOT de la anchura y longitud para los petlaos y sepalos por especie.\n",
    "fig, axes = plt.subplots(nrows=1, ncols=2,figsize=(15,5))\n",
    "\n",
    "sns.scatterplot(data=df, x='sepal.length',y='sepal.width',hue='variety', ax=axes[0]).set(title='Tamaño sépalos')\n",
    "sns.scatterplot(data=df, x='petal.length',y='petal.width',hue='variety', ax=axes[1]).set(title='Tamaño pétalos')\n",
    "\n",
    "plt.show()"
   ]
  },
  {
   "cell_type": "code",
   "execution_count": 10,
   "metadata": {},
   "outputs": [
    {
     "data": {
      "image/png": "[encoded data removed]",
      "text/plain": [
       "<Figure size 1800x1080 with 4 Axes>"
      ]
     },
     "metadata": {
      "needs_background": "light"
     },
     "output_type": "display_data"
    }
   ],
   "source": [
    "# SCATTER-PLOT para cada atributo por variedad.\n",
    "fig, axes = plt.subplots(nrows=2, ncols=2,figsize=(25,15))\n",
    "\n",
    "sns.scatterplot(data=df, x='petal.width',y='variety',hue=\"variety\", ax=axes[0,0]).set(title='Anchura petalos')\n",
    "sns.scatterplot(data=df, x='petal.length',y='variety',hue=\"variety\", ax=axes[0,1]).set(title='Largo petalos')\n",
    "sns.scatterplot(data=df, x='sepal.width',y='variety',hue=\"variety\", ax=axes[1,0]).set(title='Anchura sépalos')\n",
    "sns.scatterplot(data=df, x='sepal.length',y='variety',hue=\"variety\", ax=axes[1,1]).set(title='Largo sépalos')\n",
    "\n",
    "plt.show()"
   ]
  },
  {
   "cell_type": "markdown",
   "metadata": {},
   "source": [
    " "
   ]
  },
  {
   "cell_type": "markdown",
   "metadata": {},
   "source": [
    "***CONCLUSIÓN:*** <br>\n",
    "Mientras que los sepalos de Virginica y Versicolor no tienen claras diferencias en tamaño, para Setosa, encontramos que estos son más estrechos y con tendencia a ser más anchos.<br>\n",
    "En el caso del tamaño de los pétalos si se observa mayor segregación de las especies. Para Setosa, vemos que los petalos son más estrechos y cortos, es decir, más pequeño. Siguiuendo con los siguientes más grandes, Versicolor, y finalmente los petalos más largos y anchos son los de Virginica."
   ]
  },
  {
   "cell_type": "markdown",
   "metadata": {},
   "source": [
    " "
   ]
  },
  {
   "cell_type": "markdown",
   "metadata": {},
   "source": [
    "<div style=\"font-size:14px; text-align:justify\"><b>QUINTA PARTE.-</b><br></div>"
   ]
  },
  {
   "cell_type": "markdown",
   "metadata": {},
   "source": [
    "Realizar un histograma para los atributos de entrada respecto a la variable objetivo.\n",
    "\n",
    "***Fuente:***<br>\n",
    "*https://seaborn.pydata.org/tutorial/distributions.html?highlight=histogram*"
   ]
  },
  {
   "cell_type": "markdown",
   "metadata": {},
   "source": [
    " "
   ]
  },
  {
   "cell_type": "code",
   "execution_count": 11,
   "metadata": {},
   "outputs": [
    {
     "data": {
      "image/png": "[encoded data removed]",
      "text/plain": [
       "<Figure size 1165x360 with 3 Axes>"
      ]
     },
     "metadata": {
      "needs_background": "light"
     },
     "output_type": "display_data"
    },
    {
     "data": {
      "image/png": "[encoded data removed]",
      "text/plain": [
       "<Figure size 1165x360 with 3 Axes>"
      ]
     },
     "metadata": {
      "needs_background": "light"
     },
     "output_type": "display_data"
    },
    {
     "data": {
      "image/png": "[encoded data removed]",
      "text/plain": [
       "<Figure size 1440x576 with 2 Axes>"
      ]
     },
     "metadata": {
      "needs_background": "light"
     },
     "output_type": "display_data"
    }
   ],
   "source": [
    "# Histograma para los sépalos por variedad.\n",
    "sns.displot(data=df, x='sepal.width', hue=\"variety\", bins=25, col='variety', kde=True)\n",
    "sns.displot(data=df, x='sepal.length', hue=\"variety\", bins=25, col='variety', kde=True)\n",
    "\n",
    "# Histograma para los pétalos por variedad.\n",
    "fig, axes = plt.subplots(nrows=1, ncols=2,figsize=(20,8))\n",
    "sns.histplot(data=df, x='petal.length', hue=\"variety\", multiple='stack', bins=25, kde=True, ax=axes[0])\n",
    "sns.histplot(data=df, x='petal.width', hue=\"variety\", multiple='stack', bins=25, kde=True, ax=axes[1])\n",
    "\n",
    "plt.show()"
   ]
  },
  {
   "cell_type": "markdown",
   "metadata": {},
   "source": [
    " "
   ]
  },
  {
   "cell_type": "markdown",
   "metadata": {},
   "source": [
    "<div style=\"font-size:14px; text-align:justify\"><b>SEXTA PARTE.-</b><br></div>"
   ]
  },
  {
   "cell_type": "markdown",
   "metadata": {},
   "source": [
    "En el caso de que existiera valores perdidos, ¿qué técnica emplearía para recuperarlos?."
   ]
  },
  {
   "cell_type": "markdown",
   "metadata": {},
   "source": [
    " "
   ]
  },
  {
   "cell_type": "markdown",
   "metadata": {},
   "source": [
    "<div style=\"font-size:14px; text-align:justify\"><b>1: </b>Preparar el dataframe.</div>"
   ]
  },
  {
   "cell_type": "markdown",
   "metadata": {},
   "source": [
    "Dado que no existe valores perdidos en este dataframe, se va a simular que si existe valroes perdidos, añadiendo **NaN** a determinados valores de columnas numéricas."
   ]
  },
  {
   "cell_type": "code",
   "execution_count": 12,
   "metadata": {},
   "outputs": [],
   "source": [
    "import numpy as np"
   ]
  },
  {
   "cell_type": "code",
   "execution_count": 13,
   "metadata": {},
   "outputs": [
    {
     "name": "stdout",
     "output_type": "stream",
     "text": [
      "<class 'pandas.core.frame.DataFrame'>\n",
      "RangeIndex: 150 entries, 0 to 149\n",
      "Data columns (total 5 columns):\n",
      " #   Column        Non-Null Count  Dtype  \n",
      "---  ------        --------------  -----  \n",
      " 0   sepal.length  150 non-null    float64\n",
      " 1   sepal.width   150 non-null    float64\n",
      " 2   petal.length  150 non-null    float64\n",
      " 3   petal.width   150 non-null    float64\n",
      " 4   variety       150 non-null    object \n",
      "dtypes: float64(4), object(1)\n",
      "memory usage: 6.0+ KB\n"
     ]
    }
   ],
   "source": [
    "# Copiado del dataframe\n",
    "df_NaN = df\n",
    "\n",
    "df_NaN.info()"
   ]
  },
  {
   "cell_type": "code",
   "execution_count": 14,
   "metadata": {},
   "outputs": [
    {
     "data": {
      "text/plain": [
       "'sepal.length'"
      ]
     },
     "metadata": {},
     "output_type": "display_data"
    },
    {
     "data": {
      "text/plain": [
       "'sepal.width'"
      ]
     },
     "metadata": {},
     "output_type": "display_data"
    },
    {
     "data": {
      "text/plain": [
       "'petal.length'"
      ]
     },
     "metadata": {},
     "output_type": "display_data"
    },
    {
     "data": {
      "text/plain": [
       "'petal.width'"
      ]
     },
     "metadata": {},
     "output_type": "display_data"
    },
    {
     "data": {
      "text/plain": [
       "'variety'"
      ]
     },
     "metadata": {},
     "output_type": "display_data"
    },
    {
     "name": "stdout",
     "output_type": "stream",
     "text": [
      "<class 'pandas.core.frame.DataFrame'>\n",
      "RangeIndex: 150 entries, 0 to 149\n",
      "Data columns (total 5 columns):\n",
      " #   Column        Non-Null Count  Dtype  \n",
      "---  ------        --------------  -----  \n",
      " 0   sepal.length  135 non-null    float64\n",
      " 1   sepal.width   135 non-null    float64\n",
      " 2   petal.length  135 non-null    float64\n",
      " 3   petal.width   135 non-null    float64\n",
      " 4   variety       150 non-null    object \n",
      "dtypes: float64(4), object(1)\n",
      "memory usage: 6.0+ KB\n"
     ]
    }
   ],
   "source": [
    "df_NaN.describe()\n",
    "\n",
    "for col in df_NaN.columns:\n",
    "    display(col)\n",
    "    if col != 'variety':\n",
    "        df_NaN.loc[df_NaN.sample(frac=0.1).index, col] = np.nan\n",
    "    \n",
    "df.info()"
   ]
  },
  {
   "cell_type": "markdown",
   "metadata": {},
   "source": [
    "<div style=\"font-size:14px; text-align:justify\"><b>2: </b>Rellenear los valores perdidos.</div>"
   ]
  },
  {
   "cell_type": "markdown",
   "metadata": {},
   "source": [
    "Para aplicar los valores faltantes en el dataset, emplearía la **mediana para cada una de las especies**. De este modo, se obtiene valores sin añadir dispersión a los datos."
   ]
  },
  {
   "cell_type": "code",
   "execution_count": 15,
   "metadata": {},
   "outputs": [
    {
     "data": {
      "text/html": [
       "<div>\n",
       "<style scoped>\n",
       "    .dataframe tbody tr th:only-of-type {\n",
       "        vertical-align: middle;\n",
       "    }\n",
       "\n",
       "    .dataframe tbody tr th {\n",
       "        vertical-align: top;\n",
       "    }\n",
       "\n",
       "    .dataframe thead th {\n",
       "        text-align: right;\n",
       "    }\n",
       "</style>\n",
       "<table border=\"1\" class=\"dataframe\">\n",
       "  <thead>\n",
       "    <tr style=\"text-align: right;\">\n",
       "      <th></th>\n",
       "      <th>sepal.length</th>\n",
       "      <th>sepal.width</th>\n",
       "      <th>petal.length</th>\n",
       "      <th>petal.width</th>\n",
       "    </tr>\n",
       "  </thead>\n",
       "  <tbody>\n",
       "    <tr>\n",
       "      <th>count</th>\n",
       "      <td>44.000000</td>\n",
       "      <td>45.000000</td>\n",
       "      <td>45.000000</td>\n",
       "      <td>48.000000</td>\n",
       "    </tr>\n",
       "    <tr>\n",
       "      <th>mean</th>\n",
       "      <td>4.984091</td>\n",
       "      <td>3.440000</td>\n",
       "      <td>1.464444</td>\n",
       "      <td>0.247917</td>\n",
       "    </tr>\n",
       "    <tr>\n",
       "      <th>std</th>\n",
       "      <td>0.351702</td>\n",
       "      <td>0.391036</td>\n",
       "      <td>0.179843</td>\n",
       "      <td>0.107168</td>\n",
       "    </tr>\n",
       "    <tr>\n",
       "      <th>min</th>\n",
       "      <td>4.300000</td>\n",
       "      <td>2.300000</td>\n",
       "      <td>1.000000</td>\n",
       "      <td>0.100000</td>\n",
       "    </tr>\n",
       "    <tr>\n",
       "      <th>25%</th>\n",
       "      <td>4.800000</td>\n",
       "      <td>3.200000</td>\n",
       "      <td>1.400000</td>\n",
       "      <td>0.200000</td>\n",
       "    </tr>\n",
       "    <tr>\n",
       "      <th>50%</th>\n",
       "      <td>5.000000</td>\n",
       "      <td>3.400000</td>\n",
       "      <td>1.500000</td>\n",
       "      <td>0.200000</td>\n",
       "    </tr>\n",
       "    <tr>\n",
       "      <th>75%</th>\n",
       "      <td>5.200000</td>\n",
       "      <td>3.700000</td>\n",
       "      <td>1.600000</td>\n",
       "      <td>0.300000</td>\n",
       "    </tr>\n",
       "    <tr>\n",
       "      <th>max</th>\n",
       "      <td>5.800000</td>\n",
       "      <td>4.400000</td>\n",
       "      <td>1.900000</td>\n",
       "      <td>0.600000</td>\n",
       "    </tr>\n",
       "  </tbody>\n",
       "</table>\n",
       "</div>"
      ],
      "text/plain": [
       "       sepal.length  sepal.width  petal.length  petal.width\n",
       "count     44.000000    45.000000     45.000000    48.000000\n",
       "mean       4.984091     3.440000      1.464444     0.247917\n",
       "std        0.351702     0.391036      0.179843     0.107168\n",
       "min        4.300000     2.300000      1.000000     0.100000\n",
       "25%        4.800000     3.200000      1.400000     0.200000\n",
       "50%        5.000000     3.400000      1.500000     0.200000\n",
       "75%        5.200000     3.700000      1.600000     0.300000\n",
       "max        5.800000     4.400000      1.900000     0.600000"
      ]
     },
     "execution_count": 15,
     "metadata": {},
     "output_type": "execute_result"
    }
   ],
   "source": [
    "# Crear dataframe con valores de Setosa.\n",
    "setosa = df_NaN[df_NaN['variety'] == 'Setosa']\n",
    "setosa.describe()"
   ]
  },
  {
   "cell_type": "code",
   "execution_count": 16,
   "metadata": {},
   "outputs": [
    {
     "data": {
      "text/html": [
       "<div>\n",
       "<style scoped>\n",
       "    .dataframe tbody tr th:only-of-type {\n",
       "        vertical-align: middle;\n",
       "    }\n",
       "\n",
       "    .dataframe tbody tr th {\n",
       "        vertical-align: top;\n",
       "    }\n",
       "\n",
       "    .dataframe thead th {\n",
       "        text-align: right;\n",
       "    }\n",
       "</style>\n",
       "<table border=\"1\" class=\"dataframe\">\n",
       "  <thead>\n",
       "    <tr style=\"text-align: right;\">\n",
       "      <th></th>\n",
       "      <th>sepal.length</th>\n",
       "      <th>sepal.width</th>\n",
       "      <th>petal.length</th>\n",
       "      <th>petal.width</th>\n",
       "    </tr>\n",
       "  </thead>\n",
       "  <tbody>\n",
       "    <tr>\n",
       "      <th>count</th>\n",
       "      <td>46.000000</td>\n",
       "      <td>46.000000</td>\n",
       "      <td>44.000000</td>\n",
       "      <td>46.000000</td>\n",
       "    </tr>\n",
       "    <tr>\n",
       "      <th>mean</th>\n",
       "      <td>6.606522</td>\n",
       "      <td>2.986957</td>\n",
       "      <td>5.572727</td>\n",
       "      <td>2.017391</td>\n",
       "    </tr>\n",
       "    <tr>\n",
       "      <th>std</th>\n",
       "      <td>0.659765</td>\n",
       "      <td>0.327691</td>\n",
       "      <td>0.580442</td>\n",
       "      <td>0.279924</td>\n",
       "    </tr>\n",
       "    <tr>\n",
       "      <th>min</th>\n",
       "      <td>4.900000</td>\n",
       "      <td>2.200000</td>\n",
       "      <td>4.500000</td>\n",
       "      <td>1.400000</td>\n",
       "    </tr>\n",
       "    <tr>\n",
       "      <th>25%</th>\n",
       "      <td>6.200000</td>\n",
       "      <td>2.800000</td>\n",
       "      <td>5.100000</td>\n",
       "      <td>1.800000</td>\n",
       "    </tr>\n",
       "    <tr>\n",
       "      <th>50%</th>\n",
       "      <td>6.500000</td>\n",
       "      <td>3.000000</td>\n",
       "      <td>5.600000</td>\n",
       "      <td>2.000000</td>\n",
       "    </tr>\n",
       "    <tr>\n",
       "      <th>75%</th>\n",
       "      <td>7.050000</td>\n",
       "      <td>3.200000</td>\n",
       "      <td>5.925000</td>\n",
       "      <td>2.300000</td>\n",
       "    </tr>\n",
       "    <tr>\n",
       "      <th>max</th>\n",
       "      <td>7.900000</td>\n",
       "      <td>3.800000</td>\n",
       "      <td>6.900000</td>\n",
       "      <td>2.500000</td>\n",
       "    </tr>\n",
       "  </tbody>\n",
       "</table>\n",
       "</div>"
      ],
      "text/plain": [
       "       sepal.length  sepal.width  petal.length  petal.width\n",
       "count     46.000000    46.000000     44.000000    46.000000\n",
       "mean       6.606522     2.986957      5.572727     2.017391\n",
       "std        0.659765     0.327691      0.580442     0.279924\n",
       "min        4.900000     2.200000      4.500000     1.400000\n",
       "25%        6.200000     2.800000      5.100000     1.800000\n",
       "50%        6.500000     3.000000      5.600000     2.000000\n",
       "75%        7.050000     3.200000      5.925000     2.300000\n",
       "max        7.900000     3.800000      6.900000     2.500000"
      ]
     },
     "execution_count": 16,
     "metadata": {},
     "output_type": "execute_result"
    }
   ],
   "source": [
    "# Crear dataframe con valores de Virginica.\n",
    "virginica = df_NaN[df_NaN['variety'] == 'Virginica']\n",
    "virginica.describe()"
   ]
  },
  {
   "cell_type": "code",
   "execution_count": 17,
   "metadata": {},
   "outputs": [
    {
     "data": {
      "text/html": [
       "<div>\n",
       "<style scoped>\n",
       "    .dataframe tbody tr th:only-of-type {\n",
       "        vertical-align: middle;\n",
       "    }\n",
       "\n",
       "    .dataframe tbody tr th {\n",
       "        vertical-align: top;\n",
       "    }\n",
       "\n",
       "    .dataframe thead th {\n",
       "        text-align: right;\n",
       "    }\n",
       "</style>\n",
       "<table border=\"1\" class=\"dataframe\">\n",
       "  <thead>\n",
       "    <tr style=\"text-align: right;\">\n",
       "      <th></th>\n",
       "      <th>sepal.length</th>\n",
       "      <th>sepal.width</th>\n",
       "      <th>petal.length</th>\n",
       "      <th>petal.width</th>\n",
       "    </tr>\n",
       "  </thead>\n",
       "  <tbody>\n",
       "    <tr>\n",
       "      <th>count</th>\n",
       "      <td>45.000000</td>\n",
       "      <td>44.000000</td>\n",
       "      <td>46.000000</td>\n",
       "      <td>41.000000</td>\n",
       "    </tr>\n",
       "    <tr>\n",
       "      <th>mean</th>\n",
       "      <td>5.946667</td>\n",
       "      <td>2.777273</td>\n",
       "      <td>4.300000</td>\n",
       "      <td>1.326829</td>\n",
       "    </tr>\n",
       "    <tr>\n",
       "      <th>std</th>\n",
       "      <td>0.506144</td>\n",
       "      <td>0.321236</td>\n",
       "      <td>0.448206</td>\n",
       "      <td>0.188447</td>\n",
       "    </tr>\n",
       "    <tr>\n",
       "      <th>min</th>\n",
       "      <td>4.900000</td>\n",
       "      <td>2.000000</td>\n",
       "      <td>3.300000</td>\n",
       "      <td>1.000000</td>\n",
       "    </tr>\n",
       "    <tr>\n",
       "      <th>25%</th>\n",
       "      <td>5.600000</td>\n",
       "      <td>2.575000</td>\n",
       "      <td>4.000000</td>\n",
       "      <td>1.200000</td>\n",
       "    </tr>\n",
       "    <tr>\n",
       "      <th>50%</th>\n",
       "      <td>5.900000</td>\n",
       "      <td>2.800000</td>\n",
       "      <td>4.400000</td>\n",
       "      <td>1.300000</td>\n",
       "    </tr>\n",
       "    <tr>\n",
       "      <th>75%</th>\n",
       "      <td>6.300000</td>\n",
       "      <td>3.000000</td>\n",
       "      <td>4.600000</td>\n",
       "      <td>1.500000</td>\n",
       "    </tr>\n",
       "    <tr>\n",
       "      <th>max</th>\n",
       "      <td>7.000000</td>\n",
       "      <td>3.400000</td>\n",
       "      <td>5.100000</td>\n",
       "      <td>1.700000</td>\n",
       "    </tr>\n",
       "  </tbody>\n",
       "</table>\n",
       "</div>"
      ],
      "text/plain": [
       "       sepal.length  sepal.width  petal.length  petal.width\n",
       "count     45.000000    44.000000     46.000000    41.000000\n",
       "mean       5.946667     2.777273      4.300000     1.326829\n",
       "std        0.506144     0.321236      0.448206     0.188447\n",
       "min        4.900000     2.000000      3.300000     1.000000\n",
       "25%        5.600000     2.575000      4.000000     1.200000\n",
       "50%        5.900000     2.800000      4.400000     1.300000\n",
       "75%        6.300000     3.000000      4.600000     1.500000\n",
       "max        7.000000     3.400000      5.100000     1.700000"
      ]
     },
     "execution_count": 17,
     "metadata": {},
     "output_type": "execute_result"
    }
   ],
   "source": [
    "# Crear dataframe con valores de Versicolor.\n",
    "versicolor = df_NaN[df_NaN['variety'] == 'Versicolor']\n",
    "versicolor.describe()"
   ]
  },
  {
   "cell_type": "code",
   "execution_count": 18,
   "metadata": {},
   "outputs": [
    {
     "data": {
      "text/html": [
       "<div>\n",
       "<style scoped>\n",
       "    .dataframe tbody tr th:only-of-type {\n",
       "        vertical-align: middle;\n",
       "    }\n",
       "\n",
       "    .dataframe tbody tr th {\n",
       "        vertical-align: top;\n",
       "    }\n",
       "\n",
       "    .dataframe thead th {\n",
       "        text-align: right;\n",
       "    }\n",
       "</style>\n",
       "<table border=\"1\" class=\"dataframe\">\n",
       "  <thead>\n",
       "    <tr style=\"text-align: right;\">\n",
       "      <th></th>\n",
       "      <th>sepal.length</th>\n",
       "      <th>sepal.width</th>\n",
       "      <th>petal.length</th>\n",
       "      <th>petal.width</th>\n",
       "    </tr>\n",
       "  </thead>\n",
       "  <tbody>\n",
       "    <tr>\n",
       "      <th>count</th>\n",
       "      <td>44.000000</td>\n",
       "      <td>45.000000</td>\n",
       "      <td>45.000000</td>\n",
       "      <td>48.000000</td>\n",
       "    </tr>\n",
       "    <tr>\n",
       "      <th>mean</th>\n",
       "      <td>4.984091</td>\n",
       "      <td>3.440000</td>\n",
       "      <td>1.464444</td>\n",
       "      <td>0.247917</td>\n",
       "    </tr>\n",
       "    <tr>\n",
       "      <th>std</th>\n",
       "      <td>0.351702</td>\n",
       "      <td>0.391036</td>\n",
       "      <td>0.179843</td>\n",
       "      <td>0.107168</td>\n",
       "    </tr>\n",
       "    <tr>\n",
       "      <th>min</th>\n",
       "      <td>4.300000</td>\n",
       "      <td>2.300000</td>\n",
       "      <td>1.000000</td>\n",
       "      <td>0.100000</td>\n",
       "    </tr>\n",
       "    <tr>\n",
       "      <th>25%</th>\n",
       "      <td>4.800000</td>\n",
       "      <td>3.200000</td>\n",
       "      <td>1.400000</td>\n",
       "      <td>0.200000</td>\n",
       "    </tr>\n",
       "    <tr>\n",
       "      <th>50%</th>\n",
       "      <td>5.000000</td>\n",
       "      <td>3.400000</td>\n",
       "      <td>1.500000</td>\n",
       "      <td>0.200000</td>\n",
       "    </tr>\n",
       "    <tr>\n",
       "      <th>75%</th>\n",
       "      <td>5.200000</td>\n",
       "      <td>3.700000</td>\n",
       "      <td>1.600000</td>\n",
       "      <td>0.300000</td>\n",
       "    </tr>\n",
       "    <tr>\n",
       "      <th>max</th>\n",
       "      <td>5.800000</td>\n",
       "      <td>4.400000</td>\n",
       "      <td>1.900000</td>\n",
       "      <td>0.600000</td>\n",
       "    </tr>\n",
       "  </tbody>\n",
       "</table>\n",
       "</div>"
      ],
      "text/plain": [
       "       sepal.length  sepal.width  petal.length  petal.width\n",
       "count     44.000000    45.000000     45.000000    48.000000\n",
       "mean       4.984091     3.440000      1.464444     0.247917\n",
       "std        0.351702     0.391036      0.179843     0.107168\n",
       "min        4.300000     2.300000      1.000000     0.100000\n",
       "25%        4.800000     3.200000      1.400000     0.200000\n",
       "50%        5.000000     3.400000      1.500000     0.200000\n",
       "75%        5.200000     3.700000      1.600000     0.300000\n",
       "max        5.800000     4.400000      1.900000     0.600000"
      ]
     },
     "metadata": {},
     "output_type": "display_data"
    },
    {
     "data": {
      "text/html": [
       "<div>\n",
       "<style scoped>\n",
       "    .dataframe tbody tr th:only-of-type {\n",
       "        vertical-align: middle;\n",
       "    }\n",
       "\n",
       "    .dataframe tbody tr th {\n",
       "        vertical-align: top;\n",
       "    }\n",
       "\n",
       "    .dataframe thead th {\n",
       "        text-align: right;\n",
       "    }\n",
       "</style>\n",
       "<table border=\"1\" class=\"dataframe\">\n",
       "  <thead>\n",
       "    <tr style=\"text-align: right;\">\n",
       "      <th></th>\n",
       "      <th>sepal.length</th>\n",
       "      <th>sepal.width</th>\n",
       "      <th>petal.length</th>\n",
       "      <th>petal.width</th>\n",
       "    </tr>\n",
       "  </thead>\n",
       "  <tbody>\n",
       "    <tr>\n",
       "      <th>count</th>\n",
       "      <td>50.000000</td>\n",
       "      <td>50.000000</td>\n",
       "      <td>50.000000</td>\n",
       "      <td>50.000000</td>\n",
       "    </tr>\n",
       "    <tr>\n",
       "      <th>mean</th>\n",
       "      <td>4.986000</td>\n",
       "      <td>3.436000</td>\n",
       "      <td>1.468000</td>\n",
       "      <td>0.246000</td>\n",
       "    </tr>\n",
       "    <tr>\n",
       "      <th>std</th>\n",
       "      <td>0.329508</td>\n",
       "      <td>0.370747</td>\n",
       "      <td>0.170761</td>\n",
       "      <td>0.105386</td>\n",
       "    </tr>\n",
       "    <tr>\n",
       "      <th>min</th>\n",
       "      <td>4.300000</td>\n",
       "      <td>2.300000</td>\n",
       "      <td>1.000000</td>\n",
       "      <td>0.100000</td>\n",
       "    </tr>\n",
       "    <tr>\n",
       "      <th>25%</th>\n",
       "      <td>4.800000</td>\n",
       "      <td>3.200000</td>\n",
       "      <td>1.400000</td>\n",
       "      <td>0.200000</td>\n",
       "    </tr>\n",
       "    <tr>\n",
       "      <th>50%</th>\n",
       "      <td>5.000000</td>\n",
       "      <td>3.400000</td>\n",
       "      <td>1.500000</td>\n",
       "      <td>0.200000</td>\n",
       "    </tr>\n",
       "    <tr>\n",
       "      <th>75%</th>\n",
       "      <td>5.100000</td>\n",
       "      <td>3.675000</td>\n",
       "      <td>1.500000</td>\n",
       "      <td>0.300000</td>\n",
       "    </tr>\n",
       "    <tr>\n",
       "      <th>max</th>\n",
       "      <td>5.800000</td>\n",
       "      <td>4.400000</td>\n",
       "      <td>1.900000</td>\n",
       "      <td>0.600000</td>\n",
       "    </tr>\n",
       "  </tbody>\n",
       "</table>\n",
       "</div>"
      ],
      "text/plain": [
       "       sepal.length  sepal.width  petal.length  petal.width\n",
       "count     50.000000    50.000000     50.000000    50.000000\n",
       "mean       4.986000     3.436000      1.468000     0.246000\n",
       "std        0.329508     0.370747      0.170761     0.105386\n",
       "min        4.300000     2.300000      1.000000     0.100000\n",
       "25%        4.800000     3.200000      1.400000     0.200000\n",
       "50%        5.000000     3.400000      1.500000     0.200000\n",
       "75%        5.100000     3.675000      1.500000     0.300000\n",
       "max        5.800000     4.400000      1.900000     0.600000"
      ]
     },
     "execution_count": 18,
     "metadata": {},
     "output_type": "execute_result"
    }
   ],
   "source": [
    "# Rellenar dataframe Setosa con mediana y comparar resultados.\n",
    "display(setosa.describe())\n",
    "setosa = setosa.fillna(setosa[['sepal.length','sepal.width','petal.width','petal.length']].median())\n",
    "setosa.describe()"
   ]
  },
  {
   "cell_type": "code",
   "execution_count": 19,
   "metadata": {},
   "outputs": [
    {
     "data": {
      "text/html": [
       "<div>\n",
       "<style scoped>\n",
       "    .dataframe tbody tr th:only-of-type {\n",
       "        vertical-align: middle;\n",
       "    }\n",
       "\n",
       "    .dataframe tbody tr th {\n",
       "        vertical-align: top;\n",
       "    }\n",
       "\n",
       "    .dataframe thead th {\n",
       "        text-align: right;\n",
       "    }\n",
       "</style>\n",
       "<table border=\"1\" class=\"dataframe\">\n",
       "  <thead>\n",
       "    <tr style=\"text-align: right;\">\n",
       "      <th></th>\n",
       "      <th>sepal.length</th>\n",
       "      <th>sepal.width</th>\n",
       "      <th>petal.length</th>\n",
       "      <th>petal.width</th>\n",
       "    </tr>\n",
       "  </thead>\n",
       "  <tbody>\n",
       "    <tr>\n",
       "      <th>count</th>\n",
       "      <td>46.000000</td>\n",
       "      <td>46.000000</td>\n",
       "      <td>44.000000</td>\n",
       "      <td>46.000000</td>\n",
       "    </tr>\n",
       "    <tr>\n",
       "      <th>mean</th>\n",
       "      <td>6.606522</td>\n",
       "      <td>2.986957</td>\n",
       "      <td>5.572727</td>\n",
       "      <td>2.017391</td>\n",
       "    </tr>\n",
       "    <tr>\n",
       "      <th>std</th>\n",
       "      <td>0.659765</td>\n",
       "      <td>0.327691</td>\n",
       "      <td>0.580442</td>\n",
       "      <td>0.279924</td>\n",
       "    </tr>\n",
       "    <tr>\n",
       "      <th>min</th>\n",
       "      <td>4.900000</td>\n",
       "      <td>2.200000</td>\n",
       "      <td>4.500000</td>\n",
       "      <td>1.400000</td>\n",
       "    </tr>\n",
       "    <tr>\n",
       "      <th>25%</th>\n",
       "      <td>6.200000</td>\n",
       "      <td>2.800000</td>\n",
       "      <td>5.100000</td>\n",
       "      <td>1.800000</td>\n",
       "    </tr>\n",
       "    <tr>\n",
       "      <th>50%</th>\n",
       "      <td>6.500000</td>\n",
       "      <td>3.000000</td>\n",
       "      <td>5.600000</td>\n",
       "      <td>2.000000</td>\n",
       "    </tr>\n",
       "    <tr>\n",
       "      <th>75%</th>\n",
       "      <td>7.050000</td>\n",
       "      <td>3.200000</td>\n",
       "      <td>5.925000</td>\n",
       "      <td>2.300000</td>\n",
       "    </tr>\n",
       "    <tr>\n",
       "      <th>max</th>\n",
       "      <td>7.900000</td>\n",
       "      <td>3.800000</td>\n",
       "      <td>6.900000</td>\n",
       "      <td>2.500000</td>\n",
       "    </tr>\n",
       "  </tbody>\n",
       "</table>\n",
       "</div>"
      ],
      "text/plain": [
       "       sepal.length  sepal.width  petal.length  petal.width\n",
       "count     46.000000    46.000000     44.000000    46.000000\n",
       "mean       6.606522     2.986957      5.572727     2.017391\n",
       "std        0.659765     0.327691      0.580442     0.279924\n",
       "min        4.900000     2.200000      4.500000     1.400000\n",
       "25%        6.200000     2.800000      5.100000     1.800000\n",
       "50%        6.500000     3.000000      5.600000     2.000000\n",
       "75%        7.050000     3.200000      5.925000     2.300000\n",
       "max        7.900000     3.800000      6.900000     2.500000"
      ]
     },
     "metadata": {},
     "output_type": "display_data"
    },
    {
     "data": {
      "text/html": [
       "<div>\n",
       "<style scoped>\n",
       "    .dataframe tbody tr th:only-of-type {\n",
       "        vertical-align: middle;\n",
       "    }\n",
       "\n",
       "    .dataframe tbody tr th {\n",
       "        vertical-align: top;\n",
       "    }\n",
       "\n",
       "    .dataframe thead th {\n",
       "        text-align: right;\n",
       "    }\n",
       "</style>\n",
       "<table border=\"1\" class=\"dataframe\">\n",
       "  <thead>\n",
       "    <tr style=\"text-align: right;\">\n",
       "      <th></th>\n",
       "      <th>sepal.length</th>\n",
       "      <th>sepal.width</th>\n",
       "      <th>petal.length</th>\n",
       "      <th>petal.width</th>\n",
       "    </tr>\n",
       "  </thead>\n",
       "  <tbody>\n",
       "    <tr>\n",
       "      <th>count</th>\n",
       "      <td>50.000000</td>\n",
       "      <td>50.000000</td>\n",
       "      <td>50.000000</td>\n",
       "      <td>50.000000</td>\n",
       "    </tr>\n",
       "    <tr>\n",
       "      <th>mean</th>\n",
       "      <td>6.598000</td>\n",
       "      <td>2.988000</td>\n",
       "      <td>5.576000</td>\n",
       "      <td>2.016000</td>\n",
       "    </tr>\n",
       "    <tr>\n",
       "      <th>std</th>\n",
       "      <td>0.632936</td>\n",
       "      <td>0.314052</td>\n",
       "      <td>0.543819</td>\n",
       "      <td>0.268298</td>\n",
       "    </tr>\n",
       "    <tr>\n",
       "      <th>min</th>\n",
       "      <td>4.900000</td>\n",
       "      <td>2.200000</td>\n",
       "      <td>4.500000</td>\n",
       "      <td>1.400000</td>\n",
       "    </tr>\n",
       "    <tr>\n",
       "      <th>25%</th>\n",
       "      <td>6.225000</td>\n",
       "      <td>2.800000</td>\n",
       "      <td>5.100000</td>\n",
       "      <td>1.800000</td>\n",
       "    </tr>\n",
       "    <tr>\n",
       "      <th>50%</th>\n",
       "      <td>6.500000</td>\n",
       "      <td>3.000000</td>\n",
       "      <td>5.600000</td>\n",
       "      <td>2.000000</td>\n",
       "    </tr>\n",
       "    <tr>\n",
       "      <th>75%</th>\n",
       "      <td>6.900000</td>\n",
       "      <td>3.175000</td>\n",
       "      <td>5.875000</td>\n",
       "      <td>2.275000</td>\n",
       "    </tr>\n",
       "    <tr>\n",
       "      <th>max</th>\n",
       "      <td>7.900000</td>\n",
       "      <td>3.800000</td>\n",
       "      <td>6.900000</td>\n",
       "      <td>2.500000</td>\n",
       "    </tr>\n",
       "  </tbody>\n",
       "</table>\n",
       "</div>"
      ],
      "text/plain": [
       "       sepal.length  sepal.width  petal.length  petal.width\n",
       "count     50.000000    50.000000     50.000000    50.000000\n",
       "mean       6.598000     2.988000      5.576000     2.016000\n",
       "std        0.632936     0.314052      0.543819     0.268298\n",
       "min        4.900000     2.200000      4.500000     1.400000\n",
       "25%        6.225000     2.800000      5.100000     1.800000\n",
       "50%        6.500000     3.000000      5.600000     2.000000\n",
       "75%        6.900000     3.175000      5.875000     2.275000\n",
       "max        7.900000     3.800000      6.900000     2.500000"
      ]
     },
     "execution_count": 19,
     "metadata": {},
     "output_type": "execute_result"
    }
   ],
   "source": [
    "# Rellenar dataframe Virginica con mediana y comparar resultados.\n",
    "display(virginica.describe())\n",
    "virginica = virginica.fillna(virginica[['sepal.length','sepal.width','petal.width','petal.length']].median())\n",
    "virginica.describe()"
   ]
  },
  {
   "cell_type": "code",
   "execution_count": 20,
   "metadata": {},
   "outputs": [
    {
     "data": {
      "text/html": [
       "<div>\n",
       "<style scoped>\n",
       "    .dataframe tbody tr th:only-of-type {\n",
       "        vertical-align: middle;\n",
       "    }\n",
       "\n",
       "    .dataframe tbody tr th {\n",
       "        vertical-align: top;\n",
       "    }\n",
       "\n",
       "    .dataframe thead th {\n",
       "        text-align: right;\n",
       "    }\n",
       "</style>\n",
       "<table border=\"1\" class=\"dataframe\">\n",
       "  <thead>\n",
       "    <tr style=\"text-align: right;\">\n",
       "      <th></th>\n",
       "      <th>sepal.length</th>\n",
       "      <th>sepal.width</th>\n",
       "      <th>petal.length</th>\n",
       "      <th>petal.width</th>\n",
       "    </tr>\n",
       "  </thead>\n",
       "  <tbody>\n",
       "    <tr>\n",
       "      <th>count</th>\n",
       "      <td>45.000000</td>\n",
       "      <td>44.000000</td>\n",
       "      <td>46.000000</td>\n",
       "      <td>41.000000</td>\n",
       "    </tr>\n",
       "    <tr>\n",
       "      <th>mean</th>\n",
       "      <td>5.946667</td>\n",
       "      <td>2.777273</td>\n",
       "      <td>4.300000</td>\n",
       "      <td>1.326829</td>\n",
       "    </tr>\n",
       "    <tr>\n",
       "      <th>std</th>\n",
       "      <td>0.506144</td>\n",
       "      <td>0.321236</td>\n",
       "      <td>0.448206</td>\n",
       "      <td>0.188447</td>\n",
       "    </tr>\n",
       "    <tr>\n",
       "      <th>min</th>\n",
       "      <td>4.900000</td>\n",
       "      <td>2.000000</td>\n",
       "      <td>3.300000</td>\n",
       "      <td>1.000000</td>\n",
       "    </tr>\n",
       "    <tr>\n",
       "      <th>25%</th>\n",
       "      <td>5.600000</td>\n",
       "      <td>2.575000</td>\n",
       "      <td>4.000000</td>\n",
       "      <td>1.200000</td>\n",
       "    </tr>\n",
       "    <tr>\n",
       "      <th>50%</th>\n",
       "      <td>5.900000</td>\n",
       "      <td>2.800000</td>\n",
       "      <td>4.400000</td>\n",
       "      <td>1.300000</td>\n",
       "    </tr>\n",
       "    <tr>\n",
       "      <th>75%</th>\n",
       "      <td>6.300000</td>\n",
       "      <td>3.000000</td>\n",
       "      <td>4.600000</td>\n",
       "      <td>1.500000</td>\n",
       "    </tr>\n",
       "    <tr>\n",
       "      <th>max</th>\n",
       "      <td>7.000000</td>\n",
       "      <td>3.400000</td>\n",
       "      <td>5.100000</td>\n",
       "      <td>1.700000</td>\n",
       "    </tr>\n",
       "  </tbody>\n",
       "</table>\n",
       "</div>"
      ],
      "text/plain": [
       "       sepal.length  sepal.width  petal.length  petal.width\n",
       "count     45.000000    44.000000     46.000000    41.000000\n",
       "mean       5.946667     2.777273      4.300000     1.326829\n",
       "std        0.506144     0.321236      0.448206     0.188447\n",
       "min        4.900000     2.000000      3.300000     1.000000\n",
       "25%        5.600000     2.575000      4.000000     1.200000\n",
       "50%        5.900000     2.800000      4.400000     1.300000\n",
       "75%        6.300000     3.000000      4.600000     1.500000\n",
       "max        7.000000     3.400000      5.100000     1.700000"
      ]
     },
     "metadata": {},
     "output_type": "display_data"
    },
    {
     "data": {
      "text/html": [
       "<div>\n",
       "<style scoped>\n",
       "    .dataframe tbody tr th:only-of-type {\n",
       "        vertical-align: middle;\n",
       "    }\n",
       "\n",
       "    .dataframe tbody tr th {\n",
       "        vertical-align: top;\n",
       "    }\n",
       "\n",
       "    .dataframe thead th {\n",
       "        text-align: right;\n",
       "    }\n",
       "</style>\n",
       "<table border=\"1\" class=\"dataframe\">\n",
       "  <thead>\n",
       "    <tr style=\"text-align: right;\">\n",
       "      <th></th>\n",
       "      <th>sepal.length</th>\n",
       "      <th>sepal.width</th>\n",
       "      <th>petal.length</th>\n",
       "      <th>petal.width</th>\n",
       "    </tr>\n",
       "  </thead>\n",
       "  <tbody>\n",
       "    <tr>\n",
       "      <th>count</th>\n",
       "      <td>50.000000</td>\n",
       "      <td>50.000000</td>\n",
       "      <td>50.000000</td>\n",
       "      <td>50.000000</td>\n",
       "    </tr>\n",
       "    <tr>\n",
       "      <th>mean</th>\n",
       "      <td>5.942000</td>\n",
       "      <td>2.780000</td>\n",
       "      <td>4.308000</td>\n",
       "      <td>1.322000</td>\n",
       "    </tr>\n",
       "    <tr>\n",
       "      <th>std</th>\n",
       "      <td>0.479834</td>\n",
       "      <td>0.301019</td>\n",
       "      <td>0.430396</td>\n",
       "      <td>0.170581</td>\n",
       "    </tr>\n",
       "    <tr>\n",
       "      <th>min</th>\n",
       "      <td>4.900000</td>\n",
       "      <td>2.000000</td>\n",
       "      <td>3.300000</td>\n",
       "      <td>1.000000</td>\n",
       "    </tr>\n",
       "    <tr>\n",
       "      <th>25%</th>\n",
       "      <td>5.600000</td>\n",
       "      <td>2.600000</td>\n",
       "      <td>4.000000</td>\n",
       "      <td>1.300000</td>\n",
       "    </tr>\n",
       "    <tr>\n",
       "      <th>50%</th>\n",
       "      <td>5.900000</td>\n",
       "      <td>2.800000</td>\n",
       "      <td>4.400000</td>\n",
       "      <td>1.300000</td>\n",
       "    </tr>\n",
       "    <tr>\n",
       "      <th>75%</th>\n",
       "      <td>6.275000</td>\n",
       "      <td>3.000000</td>\n",
       "      <td>4.600000</td>\n",
       "      <td>1.475000</td>\n",
       "    </tr>\n",
       "    <tr>\n",
       "      <th>max</th>\n",
       "      <td>7.000000</td>\n",
       "      <td>3.400000</td>\n",
       "      <td>5.100000</td>\n",
       "      <td>1.700000</td>\n",
       "    </tr>\n",
       "  </tbody>\n",
       "</table>\n",
       "</div>"
      ],
      "text/plain": [
       "       sepal.length  sepal.width  petal.length  petal.width\n",
       "count     50.000000    50.000000     50.000000    50.000000\n",
       "mean       5.942000     2.780000      4.308000     1.322000\n",
       "std        0.479834     0.301019      0.430396     0.170581\n",
       "min        4.900000     2.000000      3.300000     1.000000\n",
       "25%        5.600000     2.600000      4.000000     1.300000\n",
       "50%        5.900000     2.800000      4.400000     1.300000\n",
       "75%        6.275000     3.000000      4.600000     1.475000\n",
       "max        7.000000     3.400000      5.100000     1.700000"
      ]
     },
     "metadata": {},
     "output_type": "display_data"
    }
   ],
   "source": [
    "# Rellenar dataframe Versicolor con mediana y comparar resultados.\n",
    "display(versicolor.describe())\n",
    "versicolor = versicolor.fillna(versicolor[['sepal.length','sepal.width','petal.width','petal.length']].median())\n",
    "display(versicolor.describe())"
   ]
  },
  {
   "cell_type": "code",
   "execution_count": 21,
   "metadata": {},
   "outputs": [
    {
     "data": {
      "text/html": [
       "<div>\n",
       "<style scoped>\n",
       "    .dataframe tbody tr th:only-of-type {\n",
       "        vertical-align: middle;\n",
       "    }\n",
       "\n",
       "    .dataframe tbody tr th {\n",
       "        vertical-align: top;\n",
       "    }\n",
       "\n",
       "    .dataframe thead th {\n",
       "        text-align: right;\n",
       "    }\n",
       "</style>\n",
       "<table border=\"1\" class=\"dataframe\">\n",
       "  <thead>\n",
       "    <tr style=\"text-align: right;\">\n",
       "      <th></th>\n",
       "      <th>sepal.length</th>\n",
       "      <th>sepal.width</th>\n",
       "      <th>petal.length</th>\n",
       "      <th>petal.width</th>\n",
       "    </tr>\n",
       "  </thead>\n",
       "  <tbody>\n",
       "    <tr>\n",
       "      <th>count</th>\n",
       "      <td>135.000000</td>\n",
       "      <td>135.000000</td>\n",
       "      <td>135.000000</td>\n",
       "      <td>135.000000</td>\n",
       "    </tr>\n",
       "    <tr>\n",
       "      <th>mean</th>\n",
       "      <td>5.857778</td>\n",
       "      <td>3.069630</td>\n",
       "      <td>3.769630</td>\n",
       "      <td>1.178519</td>\n",
       "    </tr>\n",
       "    <tr>\n",
       "      <th>std</th>\n",
       "      <td>0.846015</td>\n",
       "      <td>0.442563</td>\n",
       "      <td>1.770541</td>\n",
       "      <td>0.774248</td>\n",
       "    </tr>\n",
       "    <tr>\n",
       "      <th>min</th>\n",
       "      <td>4.300000</td>\n",
       "      <td>2.000000</td>\n",
       "      <td>1.000000</td>\n",
       "      <td>0.100000</td>\n",
       "    </tr>\n",
       "    <tr>\n",
       "      <th>25%</th>\n",
       "      <td>5.100000</td>\n",
       "      <td>2.800000</td>\n",
       "      <td>1.600000</td>\n",
       "      <td>0.300000</td>\n",
       "    </tr>\n",
       "    <tr>\n",
       "      <th>50%</th>\n",
       "      <td>5.800000</td>\n",
       "      <td>3.000000</td>\n",
       "      <td>4.400000</td>\n",
       "      <td>1.300000</td>\n",
       "    </tr>\n",
       "    <tr>\n",
       "      <th>75%</th>\n",
       "      <td>6.400000</td>\n",
       "      <td>3.350000</td>\n",
       "      <td>5.100000</td>\n",
       "      <td>1.800000</td>\n",
       "    </tr>\n",
       "    <tr>\n",
       "      <th>max</th>\n",
       "      <td>7.900000</td>\n",
       "      <td>4.400000</td>\n",
       "      <td>6.900000</td>\n",
       "      <td>2.500000</td>\n",
       "    </tr>\n",
       "  </tbody>\n",
       "</table>\n",
       "</div>"
      ],
      "text/plain": [
       "       sepal.length  sepal.width  petal.length  petal.width\n",
       "count    135.000000   135.000000    135.000000   135.000000\n",
       "mean       5.857778     3.069630      3.769630     1.178519\n",
       "std        0.846015     0.442563      1.770541     0.774248\n",
       "min        4.300000     2.000000      1.000000     0.100000\n",
       "25%        5.100000     2.800000      1.600000     0.300000\n",
       "50%        5.800000     3.000000      4.400000     1.300000\n",
       "75%        6.400000     3.350000      5.100000     1.800000\n",
       "max        7.900000     4.400000      6.900000     2.500000"
      ]
     },
     "metadata": {},
     "output_type": "display_data"
    },
    {
     "data": {
      "text/html": [
       "<div>\n",
       "<style scoped>\n",
       "    .dataframe tbody tr th:only-of-type {\n",
       "        vertical-align: middle;\n",
       "    }\n",
       "\n",
       "    .dataframe tbody tr th {\n",
       "        vertical-align: top;\n",
       "    }\n",
       "\n",
       "    .dataframe thead th {\n",
       "        text-align: right;\n",
       "    }\n",
       "</style>\n",
       "<table border=\"1\" class=\"dataframe\">\n",
       "  <thead>\n",
       "    <tr style=\"text-align: right;\">\n",
       "      <th></th>\n",
       "      <th>sepal.length</th>\n",
       "      <th>sepal.width</th>\n",
       "      <th>petal.length</th>\n",
       "      <th>petal.width</th>\n",
       "    </tr>\n",
       "  </thead>\n",
       "  <tbody>\n",
       "    <tr>\n",
       "      <th>count</th>\n",
       "      <td>150.000000</td>\n",
       "      <td>150.000000</td>\n",
       "      <td>150.000000</td>\n",
       "      <td>150.000000</td>\n",
       "    </tr>\n",
       "    <tr>\n",
       "      <th>mean</th>\n",
       "      <td>5.842000</td>\n",
       "      <td>3.068000</td>\n",
       "      <td>3.784000</td>\n",
       "      <td>1.194667</td>\n",
       "    </tr>\n",
       "    <tr>\n",
       "      <th>std</th>\n",
       "      <td>0.827162</td>\n",
       "      <td>0.427623</td>\n",
       "      <td>1.771288</td>\n",
       "      <td>0.755453</td>\n",
       "    </tr>\n",
       "    <tr>\n",
       "      <th>min</th>\n",
       "      <td>4.300000</td>\n",
       "      <td>2.000000</td>\n",
       "      <td>1.000000</td>\n",
       "      <td>0.100000</td>\n",
       "    </tr>\n",
       "    <tr>\n",
       "      <th>25%</th>\n",
       "      <td>5.100000</td>\n",
       "      <td>2.800000</td>\n",
       "      <td>1.525000</td>\n",
       "      <td>0.300000</td>\n",
       "    </tr>\n",
       "    <tr>\n",
       "      <th>50%</th>\n",
       "      <td>5.800000</td>\n",
       "      <td>3.000000</td>\n",
       "      <td>4.400000</td>\n",
       "      <td>1.300000</td>\n",
       "    </tr>\n",
       "    <tr>\n",
       "      <th>75%</th>\n",
       "      <td>6.400000</td>\n",
       "      <td>3.400000</td>\n",
       "      <td>5.100000</td>\n",
       "      <td>1.800000</td>\n",
       "    </tr>\n",
       "    <tr>\n",
       "      <th>max</th>\n",
       "      <td>7.900000</td>\n",
       "      <td>4.400000</td>\n",
       "      <td>6.900000</td>\n",
       "      <td>2.500000</td>\n",
       "    </tr>\n",
       "  </tbody>\n",
       "</table>\n",
       "</div>"
      ],
      "text/plain": [
       "       sepal.length  sepal.width  petal.length  petal.width\n",
       "count    150.000000   150.000000    150.000000   150.000000\n",
       "mean       5.842000     3.068000      3.784000     1.194667\n",
       "std        0.827162     0.427623      1.771288     0.755453\n",
       "min        4.300000     2.000000      1.000000     0.100000\n",
       "25%        5.100000     2.800000      1.525000     0.300000\n",
       "50%        5.800000     3.000000      4.400000     1.300000\n",
       "75%        6.400000     3.400000      5.100000     1.800000\n",
       "max        7.900000     4.400000      6.900000     2.500000"
      ]
     },
     "metadata": {},
     "output_type": "display_data"
    }
   ],
   "source": [
    "# Reunir de nuevo los valores en un único dataframe y comparar resultados.\n",
    "display(df_NaN.describe())\n",
    "df_new = pd.concat([setosa, versicolor, virginica])\n",
    "\n",
    "display(df_new.describe())"
   ]
  },
  {
   "cell_type": "markdown",
   "metadata": {},
   "source": [
    "Si comparamos los valores para la desviación tipica entre el dataframe con NaN y el modificado. Se observa que se ha conseguido disminuir la dispersión de los valores en todas las columnas numéricas."
   ]
  },
  {
   "cell_type": "code",
   "execution_count": 22,
   "metadata": {},
   "outputs": [
    {
     "data": {
      "image/png": "[encoded data removed]",
      "text/plain": [
       "<Figure size 1080x864 with 4 Axes>"
      ]
     },
     "metadata": {
      "needs_background": "light"
     },
     "output_type": "display_data"
    }
   ],
   "source": [
    "# Ploteo de los resultados del dataset completo con el rellenado\n",
    "fig, axes = plt.subplots(nrows=2, ncols=2,figsize=(15,12))\n",
    "\n",
    "sns.scatterplot(data=df, x='sepal.length',y='sepal.width',hue='variety', ax=axes[0,0]).set(title='Tamaño sépalos - Dataset')\n",
    "sns.scatterplot(data=df, x='petal.length',y='petal.width',hue='variety', ax=axes[0,1]).set(title='Tamaño pétalos - Dataset')\n",
    "\n",
    "sns.scatterplot(data=df_new, x='sepal.length',y='sepal.width',hue='variety', ax=axes[1,0]).set(title='Tamaño sépalos - Modificado')\n",
    "sns.scatterplot(data=df_new, x='petal.length',y='petal.width',hue='variety', ax=axes[1,1]).set(title='Tamaño pétalos - Modificado')\n",
    "\n",
    "plt.show()"
   ]
  },
  {
   "cell_type": "markdown",
   "metadata": {},
   "source": [
    "***CONCLUSIÓN:***<br>\n",
    "Si se compara con los scatter del dataframe intacto, apenas varía los resultados."
   ]
  },
  {
   "cell_type": "markdown",
   "metadata": {},
   "source": [
    " "
   ]
  },
  {
   "cell_type": "markdown",
   "metadata": {},
   "source": [
    "<div style=\"font-size:14px; text-align:justify\"><b>SEPTIMA PARTE.-</b><br></div>"
   ]
  },
  {
   "cell_type": "markdown",
   "metadata": {},
   "source": [
    "¿Se trata de un dataset balanceado?"
   ]
  },
  {
   "cell_type": "markdown",
   "metadata": {},
   "source": [
    " "
   ]
  },
  {
   "cell_type": "markdown",
   "metadata": {},
   "source": [
    "Para cumplir el balanceo, el numero de patrones por cada clase ha de ser la misma. En este caso, se trata de un dataset balanceado ya que tiene todos el mismo numero de patrones, 50."
   ]
  },
  {
   "cell_type": "code",
   "execution_count": 23,
   "metadata": {},
   "outputs": [
    {
     "data": {
      "text/plain": [
       "Setosa        50\n",
       "Versicolor    50\n",
       "Virginica     50\n",
       "Name: variety, dtype: int64"
      ]
     },
     "execution_count": 23,
     "metadata": {},
     "output_type": "execute_result"
    }
   ],
   "source": [
    "df.variety.value_counts()"
   ]
  }
 ],
 "metadata": {
  "kernelspec": {
   "display_name": "Python 3 (ipykernel)",
   "language": "python",
   "name": "python3"
  },
  "language_info": {
   "codemirror_mode": {
    "name": "ipython",
    "version": 3
   },
   "file_extension": ".py",
   "mimetype": "text/x-python",
   "name": "python",
   "nbconvert_exporter": "python",
   "pygments_lexer": "ipython3",
   "version": "3.8.5"
  }
 },
 "nbformat": 4,
 "nbformat_minor": 4
}
