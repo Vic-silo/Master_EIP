{
 "cells": [
  {
   "cell_type": "markdown",
   "metadata": {
    "tags": []
   },
   "source": [
    "# Fundamentos IA y Machine Learning.\n",
    "\n",
    "## Autor: Victor Simo Lozano\n",
    "\n",
    "## Actividad 5\n",
    "<p>Aprendizajeno supervisado - <i>Clustering</i>.</p>\n",
    "    \n",
    "\n",
    "<hr style=\"border-color:red\">"
   ]
  },
  {
   "cell_type": "markdown",
   "metadata": {},
   "source": [
    " "
   ]
  },
  {
   "cell_type": "markdown",
   "metadata": {},
   "source": [
    " "
   ]
  },
  {
   "cell_type": "code",
   "execution_count": 1,
   "metadata": {},
   "outputs": [],
   "source": [
    "# Generales \n",
    "import numpy as np\n",
    "import math\n",
    "\n",
    "# Trabajar con dataset\n",
    "import pandas as pd\n",
    "from sklearn import metrics\n",
    "\n",
    "# Presentación de datos\n",
    "import seaborn as sns\n",
    "import matplotlib.pyplot as plt"
   ]
  },
  {
   "cell_type": "markdown",
   "metadata": {},
   "source": [
    "<div style=\"font-size:14px; text-align:justify\"><b>PROBLEMA I.-</b><br></div>"
   ]
  },
  {
   "cell_type": "markdown",
   "metadata": {},
   "source": [
    "Se pide agrupar un total de 8 patrones bidimensionales en tres clusters (𝑘 = 3). Los patrones son los siguientes: A1 (2,10), A2(2,5), A3(8,4), A4(5,8), A5(7,5), A6(6,4), A7(1,2) y A8(4,9). Los centroides iniciales son los puntos A1, A3 y A4. La métrica de distancia utilizada será la distancia euclídea.\n",
    "\n",
    "Se pide:\n",
    "1. Representar los clusters creados y la posición de los centroides después de cada iteración.\n",
    "2. El valor de la métrica SSE.\n",
    "3. Comparar los resultados con los obtenidos en el ejemplo de la sección 2.3. del manual de la lección 5.\n",
    "4. ¿Á que se debe la diferencia de resultados?\n"
   ]
  },
  {
   "cell_type": "code",
   "execution_count": 2,
   "metadata": {
    "tags": []
   },
   "outputs": [
    {
     "data": {
      "image/png": "[encoded data removed]",
      "text/plain": [
       "<Figure size 432x288 with 1 Axes>"
      ]
     },
     "metadata": {
      "needs_background": "light"
     },
     "output_type": "display_data"
    }
   ],
   "source": [
    "# Indicación del punto\n",
    "puntos=[f'A{x}' for x in range(1,9)]\n",
    "\n",
    "# Lectura de .csv y asignación al indice los puntos\n",
    "coords=pd.read_csv('l5p1.csv')\n",
    "coords=coords.assign(punto=puntos)\n",
    "coords.set_index('punto', inplace=True)\n",
    "# Creación de la columna Cluster que más adelante se rellenará con 1, 2 ó 3\n",
    "# Creación de la columna distancias que más adelante se rellenara con lista de distancias\n",
    "coords=coords.assign(distancias=np.NaN, Cluster=np.NaN)\n",
    "# print(coords)\n",
    "\n",
    "# Creacion de Scatter\n",
    "coords.plot.scatter(x='coorX', y='coorY', s=500)\n",
    "\n",
    "# Asignación del label del punto 0.2 puntos por encima de la coordenada y\n",
    "for i, txt in enumerate(coords.index):\n",
    "    plt.annotate(txt, (coords['coorX'].iat[i], coords['coorY'].iat[i]+0.6))\n",
    "\n",
    "plt.ylim(1,11)\n",
    "plt.show()"
   ]
  },
  {
   "cell_type": "markdown",
   "metadata": {},
   "source": [
    " "
   ]
  },
  {
   "cell_type": "markdown",
   "metadata": {
    "tags": []
   },
   "source": [
    "<div style=\"font-size:14px; text-align:justify\"><b>1: </b>Representar los clusters creados y la posición de los centroides después de cada iteración.</div>"
   ]
  },
  {
   "cell_type": "markdown",
   "metadata": {
    "tags": []
   },
   "source": [
    "Como se menciona en el enunciado del problema, y de acuerdo con este Clustering, se ha de asignar unos centroides iniciales que serán A1, A3 y A4. El calculo de los Cluster se realizará X veces hasta que el resultado de estos no cambie con la iteración anterior."
   ]
  },
  {
   "cell_type": "markdown",
   "metadata": {
    "tags": []
   },
   "source": [
    "<div style=\"font-size:14px; text-align:center\"><b>ESTADO INCIAL</b><br></div>"
   ]
  },
  {
   "cell_type": "markdown",
   "metadata": {
    "tags": []
   },
   "source": [
    "Asignación de los centroides según los puntos indicados y asignar puntos a Cluster según su distancia euclídea menor con respecto todos los centroides."
   ]
  },
  {
   "cell_type": "code",
   "execution_count": 3,
   "metadata": {
    "tags": []
   },
   "outputs": [
    {
     "data": {
      "text/html": [
       "<div>\n",
       "<style scoped>\n",
       "    .dataframe tbody tr th:only-of-type {\n",
       "        vertical-align: middle;\n",
       "    }\n",
       "\n",
       "    .dataframe tbody tr th {\n",
       "        vertical-align: top;\n",
       "    }\n",
       "\n",
       "    .dataframe thead th {\n",
       "        text-align: right;\n",
       "    }\n",
       "</style>\n",
       "<table border=\"1\" class=\"dataframe\">\n",
       "  <thead>\n",
       "    <tr style=\"text-align: right;\">\n",
       "      <th></th>\n",
       "      <th>coorX</th>\n",
       "      <th>coorY</th>\n",
       "      <th>distancias</th>\n",
       "      <th>Cluster</th>\n",
       "    </tr>\n",
       "    <tr>\n",
       "      <th>punto</th>\n",
       "      <th></th>\n",
       "      <th></th>\n",
       "      <th></th>\n",
       "      <th></th>\n",
       "    </tr>\n",
       "  </thead>\n",
       "  <tbody>\n",
       "    <tr>\n",
       "      <th>A1</th>\n",
       "      <td>2</td>\n",
       "      <td>10</td>\n",
       "      <td>[0.0, 8.49, 3.61]</td>\n",
       "      <td>1</td>\n",
       "    </tr>\n",
       "    <tr>\n",
       "      <th>A2</th>\n",
       "      <td>2</td>\n",
       "      <td>5</td>\n",
       "      <td>[5.0, 6.08, 4.24]</td>\n",
       "      <td>3</td>\n",
       "    </tr>\n",
       "    <tr>\n",
       "      <th>A3</th>\n",
       "      <td>8</td>\n",
       "      <td>4</td>\n",
       "      <td>[8.49, 0.0, 5.0]</td>\n",
       "      <td>2</td>\n",
       "    </tr>\n",
       "    <tr>\n",
       "      <th>A4</th>\n",
       "      <td>5</td>\n",
       "      <td>8</td>\n",
       "      <td>[3.61, 5.0, 0.0]</td>\n",
       "      <td>3</td>\n",
       "    </tr>\n",
       "    <tr>\n",
       "      <th>A5</th>\n",
       "      <td>7</td>\n",
       "      <td>5</td>\n",
       "      <td>[7.07, 1.41, 3.61]</td>\n",
       "      <td>2</td>\n",
       "    </tr>\n",
       "    <tr>\n",
       "      <th>A6</th>\n",
       "      <td>6</td>\n",
       "      <td>4</td>\n",
       "      <td>[7.21, 2.0, 4.12]</td>\n",
       "      <td>2</td>\n",
       "    </tr>\n",
       "    <tr>\n",
       "      <th>A7</th>\n",
       "      <td>1</td>\n",
       "      <td>2</td>\n",
       "      <td>[8.06, 7.28, 7.21]</td>\n",
       "      <td>3</td>\n",
       "    </tr>\n",
       "    <tr>\n",
       "      <th>A8</th>\n",
       "      <td>4</td>\n",
       "      <td>9</td>\n",
       "      <td>[2.24, 6.4, 1.41]</td>\n",
       "      <td>3</td>\n",
       "    </tr>\n",
       "  </tbody>\n",
       "</table>\n",
       "</div>"
      ],
      "text/plain": [
       "       coorX  coorY          distancias Cluster\n",
       "punto                                          \n",
       "A1         2     10   [0.0, 8.49, 3.61]       1\n",
       "A2         2      5   [5.0, 6.08, 4.24]       3\n",
       "A3         8      4    [8.49, 0.0, 5.0]       2\n",
       "A4         5      8    [3.61, 5.0, 0.0]       3\n",
       "A5         7      5  [7.07, 1.41, 3.61]       2\n",
       "A6         6      4   [7.21, 2.0, 4.12]       2\n",
       "A7         1      2  [8.06, 7.28, 7.21]       3\n",
       "A8         4      9   [2.24, 6.4, 1.41]       3"
      ]
     },
     "metadata": {},
     "output_type": "display_data"
    },
    {
     "data": {
      "image/png": "[encoded data removed]",
      "text/plain": [
       "<Figure size 432x288 with 1 Axes>"
      ]
     },
     "metadata": {
      "needs_background": "light"
     },
     "output_type": "display_data"
    },
    {
     "name": "stdout",
     "output_type": "stream",
     "text": [
      "Centroides:  [[2, 10], [8, 4], [5, 8]]\n"
     ]
    }
   ],
   "source": [
    "# Paso 1: Asignación de Cluster según centroides y calculo de  centroides\n",
    "coords.loc['A1', 'Cluster']='1'\n",
    "coords.loc['A3', 'Cluster']='2'\n",
    "coords.loc['A4', 'Cluster']='3'\n",
    "centroides=[[2,10],[8,4],[5,8]]\n",
    "\n",
    "# Paso 2: Calculo de las distancias con los centroides\n",
    "def dist_euclidea(punto:list, centroides=list):\n",
    "    '''\n",
    "    Calcular distancias en base a los centros del estado inicial\n",
    "    '''\n",
    "    # print('Centroides: ', centroides)\n",
    "    distancias=[]\n",
    "    for centro in centroides:\n",
    "        distancia=math.sqrt((punto[0]-centro[0])**2+(punto[1]-centro[1])**2)\n",
    "        distancias.append(round(distancia,2))\n",
    "        \n",
    "    return distancias\n",
    "\n",
    "        \n",
    "distancias=[dist_euclidea([coords['coorX'].iat[x], coords.iloc[x]['coorY']], centroides) \n",
    "            for x, val in enumerate(coords.index)]\n",
    "coords['distancias']=distancias\n",
    "\n",
    "# Paso 3: Asignar cluster por minima distancia\n",
    "def agrupamiento(grupo_distancias:list):\n",
    "    '''\n",
    "    Agrupamos en Cluster según la minima distancia\n",
    "    '''\n",
    "    cluster=[]\n",
    "    for distancias in grupo_distancias:\n",
    "        if distancias[0]<distancias[1] and distancias[0]<distancias[2]:\n",
    "            cluster.append('1')\n",
    "        if distancias[1]<distancias[0] and distancias[1]<distancias[2]:\n",
    "            cluster.append('2')\n",
    "        if distancias[2]<distancias[0] and distancias[2]<distancias[1]:\n",
    "            cluster.append('3')\n",
    "            \n",
    "    return cluster\n",
    "       \n",
    "    \n",
    "coords['Cluster']=agrupamiento(coords['distancias'])\n",
    "display(coords)\n",
    "\n",
    "# Creacion de Scatter\n",
    "sns.scatterplot(data=coords, x=\"coorX\", y=\"coorY\", hue=\"Cluster\", s=500)\n",
    "\n",
    "# Asignación del label del punto 0.2 puntos por encima de la coordenada y\n",
    "for i, txt in enumerate(coords.index):\n",
    "    plt.annotate(txt, (coords['coorX'].iat[i], coords['coorY'].iat[i]+0.6))\n",
    "\n",
    "plt.ylim(1,11)\n",
    "plt.show()\n",
    "print('Centroides: ', centroides)"
   ]
  },
  {
   "cell_type": "markdown",
   "metadata": {
    "tags": []
   },
   "source": [
    "<div style=\"font-size:14px; text-align:center\"><b>ITERACIÓN 1</b><br></div>"
   ]
  },
  {
   "cell_type": "markdown",
   "metadata": {
    "tags": []
   },
   "source": [
    "Recalcular los centroides de los Cluster obtenidos y comprobar si cambia el ordenamiento de los puntos en los Cluster."
   ]
  },
  {
   "cell_type": "code",
   "execution_count": 4,
   "metadata": {
    "tags": []
   },
   "outputs": [
    {
     "data": {
      "text/html": [
       "<div>\n",
       "<style scoped>\n",
       "    .dataframe tbody tr th:only-of-type {\n",
       "        vertical-align: middle;\n",
       "    }\n",
       "\n",
       "    .dataframe tbody tr th {\n",
       "        vertical-align: top;\n",
       "    }\n",
       "\n",
       "    .dataframe thead th {\n",
       "        text-align: right;\n",
       "    }\n",
       "</style>\n",
       "<table border=\"1\" class=\"dataframe\">\n",
       "  <thead>\n",
       "    <tr style=\"text-align: right;\">\n",
       "      <th></th>\n",
       "      <th>coorX</th>\n",
       "      <th>coorY</th>\n",
       "      <th>distancias</th>\n",
       "      <th>Cluster</th>\n",
       "    </tr>\n",
       "    <tr>\n",
       "      <th>punto</th>\n",
       "      <th></th>\n",
       "      <th></th>\n",
       "      <th></th>\n",
       "      <th></th>\n",
       "    </tr>\n",
       "  </thead>\n",
       "  <tbody>\n",
       "    <tr>\n",
       "      <th>A1</th>\n",
       "      <td>2</td>\n",
       "      <td>10</td>\n",
       "      <td>[0.0, 7.56, 4.12]</td>\n",
       "      <td>1</td>\n",
       "    </tr>\n",
       "    <tr>\n",
       "      <th>A2</th>\n",
       "      <td>2</td>\n",
       "      <td>5</td>\n",
       "      <td>[5.0, 5.04, 1.41]</td>\n",
       "      <td>3</td>\n",
       "    </tr>\n",
       "    <tr>\n",
       "      <th>A3</th>\n",
       "      <td>8</td>\n",
       "      <td>4</td>\n",
       "      <td>[8.49, 1.05, 5.39]</td>\n",
       "      <td>2</td>\n",
       "    </tr>\n",
       "    <tr>\n",
       "      <th>A4</th>\n",
       "      <td>5</td>\n",
       "      <td>8</td>\n",
       "      <td>[3.61, 4.18, 2.83]</td>\n",
       "      <td>3</td>\n",
       "    </tr>\n",
       "    <tr>\n",
       "      <th>A5</th>\n",
       "      <td>7</td>\n",
       "      <td>5</td>\n",
       "      <td>[7.07, 0.67, 4.12]</td>\n",
       "      <td>2</td>\n",
       "    </tr>\n",
       "    <tr>\n",
       "      <th>A6</th>\n",
       "      <td>6</td>\n",
       "      <td>4</td>\n",
       "      <td>[7.21, 1.05, 3.61]</td>\n",
       "      <td>2</td>\n",
       "    </tr>\n",
       "    <tr>\n",
       "      <th>A7</th>\n",
       "      <td>1</td>\n",
       "      <td>2</td>\n",
       "      <td>[8.06, 6.44, 4.47]</td>\n",
       "      <td>3</td>\n",
       "    </tr>\n",
       "    <tr>\n",
       "      <th>A8</th>\n",
       "      <td>4</td>\n",
       "      <td>9</td>\n",
       "      <td>[2.24, 5.55, 3.16]</td>\n",
       "      <td>1</td>\n",
       "    </tr>\n",
       "  </tbody>\n",
       "</table>\n",
       "</div>"
      ],
      "text/plain": [
       "       coorX  coorY          distancias Cluster\n",
       "punto                                          \n",
       "A1         2     10   [0.0, 7.56, 4.12]       1\n",
       "A2         2      5   [5.0, 5.04, 1.41]       3\n",
       "A3         8      4  [8.49, 1.05, 5.39]       2\n",
       "A4         5      8  [3.61, 4.18, 2.83]       3\n",
       "A5         7      5  [7.07, 0.67, 4.12]       2\n",
       "A6         6      4  [7.21, 1.05, 3.61]       2\n",
       "A7         1      2  [8.06, 6.44, 4.47]       3\n",
       "A8         4      9  [2.24, 5.55, 3.16]       1"
      ]
     },
     "metadata": {},
     "output_type": "display_data"
    },
    {
     "data": {
      "image/png": "[encoded data removed]",
      "text/plain": [
       "<Figure size 432x288 with 1 Axes>"
      ]
     },
     "metadata": {
      "needs_background": "light"
     },
     "output_type": "display_data"
    },
    {
     "name": "stdout",
     "output_type": "stream",
     "text": [
      "Centroides:  [[2.0, 10.0], [7.0, 4.33], [3.0, 6.0]]\n"
     ]
    }
   ],
   "source": [
    "# Paso 1: Recálculo de centroides.\n",
    "def recalc_centroide(data:pd.DataFrame):\n",
    "    '''\n",
    "    Suma de las coordenadas X e Y para cada punto perteneciente al Cluster.\n",
    "    '''\n",
    "    # Obtener total de puntos por Cluster\n",
    "    totales=data[['Cluster']].value_counts().sort_index()\n",
    "    \n",
    "    # Obtener la suma de las coordenadas X e Y por Cluster\n",
    "    data=data.groupby(by=['Cluster']).sum()\n",
    "    \n",
    "    # Dividir la coordenada por el total de puntos del Cluster\n",
    "    centroides=[]\n",
    "    for i in range(3):\n",
    "        coordx=round(data.iloc[i][0]/totales.iloc[i],2)\n",
    "        coordy=round(data.iloc[i][1]/totales.iloc[i],2)\n",
    "        centroides.append([coordx, coordy])\n",
    "\n",
    "    return centroides\n",
    "    \n",
    "    \n",
    "centroides=recalc_centroide(coords)  \n",
    "\n",
    "# Paso 2: Calculo de las distancias con los centroides\n",
    "distancias=[dist_euclidea([coords['coorX'].iat[x], coords.iloc[x]['coorY']], centroides) \n",
    "            for x, val in enumerate(coords.index)]\n",
    "coords['distancias']=distancias\n",
    "\n",
    "# Paso 3: Asignar cluster por minima distancia   \n",
    "coords['Cluster']=agrupamiento(coords['distancias'])\n",
    "\n",
    "display(coords)\n",
    "\n",
    "# Creacion de Scatter\n",
    "sns.scatterplot(data=coords, x=\"coorX\", y=\"coorY\", hue=\"Cluster\", s=500)\n",
    "\n",
    "# Asignación del label del punto 0.2 puntos por encima de la coordenada y\n",
    "for i, txt in enumerate(coords.index):\n",
    "    plt.annotate(txt, (coords['coorX'].iat[i], coords['coorY'].iat[i]+0.6))\n",
    "\n",
    "plt.ylim(1,11)\n",
    "plt.show()\n",
    "print('Centroides: ', centroides)"
   ]
  },
  {
   "cell_type": "markdown",
   "metadata": {
    "tags": []
   },
   "source": [
    "Varia de Cluster el punto A8 por lo que se vuelve a iterar para recalcular Clusters."
   ]
  },
  {
   "cell_type": "markdown",
   "metadata": {
    "tags": []
   },
   "source": [
    "<div style=\"font-size:14px; text-align:center\"><b>ITERACIÓN 2</b><br></div>"
   ]
  },
  {
   "cell_type": "code",
   "execution_count": 5,
   "metadata": {
    "tags": []
   },
   "outputs": [
    {
     "data": {
      "text/html": [
       "<div>\n",
       "<style scoped>\n",
       "    .dataframe tbody tr th:only-of-type {\n",
       "        vertical-align: middle;\n",
       "    }\n",
       "\n",
       "    .dataframe tbody tr th {\n",
       "        vertical-align: top;\n",
       "    }\n",
       "\n",
       "    .dataframe thead th {\n",
       "        text-align: right;\n",
       "    }\n",
       "</style>\n",
       "<table border=\"1\" class=\"dataframe\">\n",
       "  <thead>\n",
       "    <tr style=\"text-align: right;\">\n",
       "      <th></th>\n",
       "      <th>coorX</th>\n",
       "      <th>coorY</th>\n",
       "      <th>distancias</th>\n",
       "      <th>Cluster</th>\n",
       "    </tr>\n",
       "    <tr>\n",
       "      <th>punto</th>\n",
       "      <th></th>\n",
       "      <th></th>\n",
       "      <th></th>\n",
       "      <th></th>\n",
       "    </tr>\n",
       "  </thead>\n",
       "  <tbody>\n",
       "    <tr>\n",
       "      <th>A1</th>\n",
       "      <td>2</td>\n",
       "      <td>10</td>\n",
       "      <td>[1.12, 7.56, 5.04]</td>\n",
       "      <td>1</td>\n",
       "    </tr>\n",
       "    <tr>\n",
       "      <th>A2</th>\n",
       "      <td>2</td>\n",
       "      <td>5</td>\n",
       "      <td>[4.61, 5.04, 0.67]</td>\n",
       "      <td>3</td>\n",
       "    </tr>\n",
       "    <tr>\n",
       "      <th>A3</th>\n",
       "      <td>8</td>\n",
       "      <td>4</td>\n",
       "      <td>[7.43, 1.05, 5.42]</td>\n",
       "      <td>2</td>\n",
       "    </tr>\n",
       "    <tr>\n",
       "      <th>A4</th>\n",
       "      <td>5</td>\n",
       "      <td>8</td>\n",
       "      <td>[2.5, 4.18, 3.8]</td>\n",
       "      <td>1</td>\n",
       "    </tr>\n",
       "    <tr>\n",
       "      <th>A5</th>\n",
       "      <td>7</td>\n",
       "      <td>5</td>\n",
       "      <td>[6.02, 0.67, 4.33]</td>\n",
       "      <td>2</td>\n",
       "    </tr>\n",
       "    <tr>\n",
       "      <th>A6</th>\n",
       "      <td>6</td>\n",
       "      <td>4</td>\n",
       "      <td>[6.26, 1.05, 3.48]</td>\n",
       "      <td>2</td>\n",
       "    </tr>\n",
       "    <tr>\n",
       "      <th>A7</th>\n",
       "      <td>1</td>\n",
       "      <td>2</td>\n",
       "      <td>[7.76, 6.44, 3.43]</td>\n",
       "      <td>3</td>\n",
       "    </tr>\n",
       "    <tr>\n",
       "      <th>A8</th>\n",
       "      <td>4</td>\n",
       "      <td>9</td>\n",
       "      <td>[1.12, 5.55, 4.22]</td>\n",
       "      <td>1</td>\n",
       "    </tr>\n",
       "  </tbody>\n",
       "</table>\n",
       "</div>"
      ],
      "text/plain": [
       "       coorX  coorY          distancias Cluster\n",
       "punto                                          \n",
       "A1         2     10  [1.12, 7.56, 5.04]       1\n",
       "A2         2      5  [4.61, 5.04, 0.67]       3\n",
       "A3         8      4  [7.43, 1.05, 5.42]       2\n",
       "A4         5      8    [2.5, 4.18, 3.8]       1\n",
       "A5         7      5  [6.02, 0.67, 4.33]       2\n",
       "A6         6      4  [6.26, 1.05, 3.48]       2\n",
       "A7         1      2  [7.76, 6.44, 3.43]       3\n",
       "A8         4      9  [1.12, 5.55, 4.22]       1"
      ]
     },
     "metadata": {},
     "output_type": "display_data"
    },
    {
     "data": {
      "image/png": "[encoded data removed]",
      "text/plain": [
       "<Figure size 432x288 with 1 Axes>"
      ]
     },
     "metadata": {
      "needs_background": "light"
     },
     "output_type": "display_data"
    },
    {
     "name": "stdout",
     "output_type": "stream",
     "text": [
      "Centroides:  [[3.0, 9.5], [7.0, 4.33], [2.67, 5.0]]\n"
     ]
    }
   ],
   "source": [
    "# Paso 1: Recálculo de centroides.  \n",
    "centroides=recalc_centroide(coords)  \n",
    "\n",
    "# Paso 2: Calculo de las distancias con los centroides\n",
    "distancias=[dist_euclidea([coords['coorX'].iat[x], coords.iloc[x]['coorY']], centroides) \n",
    "            for x, val in enumerate(coords.index)]\n",
    "coords['distancias']=distancias\n",
    "\n",
    "# Paso 3: Asignar cluster por minima distancia   \n",
    "coords['Cluster']=agrupamiento(coords['distancias'])\n",
    "\n",
    "display(coords)\n",
    "\n",
    "# Creacion de Scatter\n",
    "sns.scatterplot(data=coords, x=\"coorX\", y=\"coorY\", hue=\"Cluster\", s=500)\n",
    "\n",
    "# Asignación del label del punto 0.2 puntos por encima de la coordenada y\n",
    "for i, txt in enumerate(coords.index):\n",
    "    plt.annotate(txt, (coords['coorX'].iat[i], coords['coorY'].iat[i]+0.6))\n",
    "\n",
    "plt.ylim(1,11)\n",
    "plt.show()\n",
    "print('Centroides: ', centroides)"
   ]
  },
  {
   "cell_type": "markdown",
   "metadata": {
    "tags": []
   },
   "source": [
    "Varia de Cluster el punto A4 por lo que se vuelve a iterar para recalcular Clusters."
   ]
  },
  {
   "cell_type": "markdown",
   "metadata": {
    "tags": []
   },
   "source": [
    "<div style=\"font-size:14px; text-align:center\"><b>ITERACIÓN 3</b><br></div>"
   ]
  },
  {
   "cell_type": "code",
   "execution_count": 6,
   "metadata": {
    "tags": []
   },
   "outputs": [
    {
     "data": {
      "text/html": [
       "<div>\n",
       "<style scoped>\n",
       "    .dataframe tbody tr th:only-of-type {\n",
       "        vertical-align: middle;\n",
       "    }\n",
       "\n",
       "    .dataframe tbody tr th {\n",
       "        vertical-align: top;\n",
       "    }\n",
       "\n",
       "    .dataframe thead th {\n",
       "        text-align: right;\n",
       "    }\n",
       "</style>\n",
       "<table border=\"1\" class=\"dataframe\">\n",
       "  <thead>\n",
       "    <tr style=\"text-align: right;\">\n",
       "      <th></th>\n",
       "      <th>coorX</th>\n",
       "      <th>coorY</th>\n",
       "      <th>distancias</th>\n",
       "      <th>Cluster</th>\n",
       "    </tr>\n",
       "    <tr>\n",
       "      <th>punto</th>\n",
       "      <th></th>\n",
       "      <th></th>\n",
       "      <th></th>\n",
       "      <th></th>\n",
       "    </tr>\n",
       "  </thead>\n",
       "  <tbody>\n",
       "    <tr>\n",
       "      <th>A1</th>\n",
       "      <td>2</td>\n",
       "      <td>10</td>\n",
       "      <td>[1.95, 7.56, 6.52]</td>\n",
       "      <td>1</td>\n",
       "    </tr>\n",
       "    <tr>\n",
       "      <th>A2</th>\n",
       "      <td>2</td>\n",
       "      <td>5</td>\n",
       "      <td>[4.33, 5.04, 1.58]</td>\n",
       "      <td>3</td>\n",
       "    </tr>\n",
       "    <tr>\n",
       "      <th>A3</th>\n",
       "      <td>8</td>\n",
       "      <td>4</td>\n",
       "      <td>[6.61, 1.05, 6.52]</td>\n",
       "      <td>2</td>\n",
       "    </tr>\n",
       "    <tr>\n",
       "      <th>A4</th>\n",
       "      <td>5</td>\n",
       "      <td>8</td>\n",
       "      <td>[1.66, 4.18, 5.7]</td>\n",
       "      <td>1</td>\n",
       "    </tr>\n",
       "    <tr>\n",
       "      <th>A5</th>\n",
       "      <td>7</td>\n",
       "      <td>5</td>\n",
       "      <td>[5.2, 0.67, 5.7]</td>\n",
       "      <td>2</td>\n",
       "    </tr>\n",
       "    <tr>\n",
       "      <th>A6</th>\n",
       "      <td>6</td>\n",
       "      <td>4</td>\n",
       "      <td>[5.52, 1.05, 4.53]</td>\n",
       "      <td>2</td>\n",
       "    </tr>\n",
       "    <tr>\n",
       "      <th>A7</th>\n",
       "      <td>1</td>\n",
       "      <td>2</td>\n",
       "      <td>[7.49, 6.44, 1.58]</td>\n",
       "      <td>3</td>\n",
       "    </tr>\n",
       "    <tr>\n",
       "      <th>A8</th>\n",
       "      <td>4</td>\n",
       "      <td>9</td>\n",
       "      <td>[0.33, 5.55, 6.04]</td>\n",
       "      <td>1</td>\n",
       "    </tr>\n",
       "  </tbody>\n",
       "</table>\n",
       "</div>"
      ],
      "text/plain": [
       "       coorX  coorY          distancias Cluster\n",
       "punto                                          \n",
       "A1         2     10  [1.95, 7.56, 6.52]       1\n",
       "A2         2      5  [4.33, 5.04, 1.58]       3\n",
       "A3         8      4  [6.61, 1.05, 6.52]       2\n",
       "A4         5      8   [1.66, 4.18, 5.7]       1\n",
       "A5         7      5    [5.2, 0.67, 5.7]       2\n",
       "A6         6      4  [5.52, 1.05, 4.53]       2\n",
       "A7         1      2  [7.49, 6.44, 1.58]       3\n",
       "A8         4      9  [0.33, 5.55, 6.04]       1"
      ]
     },
     "metadata": {},
     "output_type": "display_data"
    },
    {
     "data": {
      "image/png": "[encoded data removed]",
      "text/plain": [
       "<Figure size 432x288 with 1 Axes>"
      ]
     },
     "metadata": {
      "needs_background": "light"
     },
     "output_type": "display_data"
    },
    {
     "name": "stdout",
     "output_type": "stream",
     "text": [
      "Centroides:  [[3.67, 9.0], [7.0, 4.33], [1.5, 3.5]]\n"
     ]
    }
   ],
   "source": [
    "# Paso 1: Recálculo de centroides.  \n",
    "centroides=recalc_centroide(coords)  \n",
    "\n",
    "# Paso 2: Calculo de las distancias con los centroides\n",
    "distancias=[dist_euclidea([coords['coorX'].iat[x], coords.iloc[x]['coorY']], centroides) \n",
    "            for x, val in enumerate(coords.index)]\n",
    "coords['distancias']=distancias\n",
    "\n",
    "# Paso 3: Asignar cluster por minima distancia   \n",
    "coords['Cluster']=agrupamiento(coords['distancias'])\n",
    "\n",
    "display(coords)\n",
    "\n",
    "# Creacion de Scatter\n",
    "# ax = coords.plot.scatter(x='coorX', y='coorY')\n",
    "sns.scatterplot(data=coords, x=\"coorX\", y=\"coorY\", hue=\"Cluster\", s=500)\n",
    "\n",
    "# Asignación del label del punto 0.2 puntos por encima de la coordenada y\n",
    "for i, txt in enumerate(coords.index):\n",
    "    plt.annotate(txt, (coords['coorX'].iat[i], coords['coorY'].iat[i]+0.6))\n",
    "\n",
    "plt.ylim(1,11)\n",
    "plt.show()\n",
    "print('Centroides: ', centroides)"
   ]
  },
  {
   "cell_type": "markdown",
   "metadata": {
    "tags": []
   },
   "source": [
    "No ha variado los puntos por lo que se finaliza de realizar las iteraciones para el cálculo del cluster siendo el resultado final el obtenido en esta iteración."
   ]
  },
  {
   "cell_type": "markdown",
   "metadata": {},
   "source": [
    " "
   ]
  },
  {
   "cell_type": "markdown",
   "metadata": {
    "tags": []
   },
   "source": [
    "<div style=\"font-size:14px; text-align:justify\"><b>2: </b>El valor de la métrica SSE.</div>"
   ]
  },
  {
   "cell_type": "markdown",
   "metadata": {
    "tags": []
   },
   "source": [
    "Como métrica más empleada para la evaluación del *clustering* está la suma de errores cuadráticos (SSE). Esta se calcula a partir de la suma de las distancias al cuadrado de cada patrón con respecto a su centroide."
   ]
  },
  {
   "cell_type": "code",
   "execution_count": 7,
   "metadata": {
    "tags": []
   },
   "outputs": [
    {
     "name": "stdout",
     "output_type": "stream",
     "text": [
      "El valor de la métrica SSE:  14.31\n"
     ]
    }
   ],
   "source": [
    "# Paso 1: Calculo de las distancias al centroide\n",
    "distancias=[min(coords.iloc[x]['distancias']) for x, val in enumerate(coords.index)]\n",
    "\n",
    "# Paso 2: Calculo de SSE\n",
    "sse=round(sum([x**2 for x in distancias]), 2)\n",
    "print('El valor de la métrica SSE: ', sse)"
   ]
  },
  {
   "cell_type": "code",
   "execution_count": null,
   "metadata": {
    "tags": []
   },
   "outputs": [],
   "source": []
  },
  {
   "cell_type": "code",
   "execution_count": null,
   "metadata": {
    "tags": []
   },
   "outputs": [],
   "source": []
  },
  {
   "cell_type": "code",
   "execution_count": null,
   "metadata": {
    "tags": []
   },
   "outputs": [],
   "source": []
  },
  {
   "cell_type": "code",
   "execution_count": null,
   "metadata": {
    "tags": []
   },
   "outputs": [],
   "source": []
  },
  {
   "cell_type": "markdown",
   "metadata": {},
   "source": [
    " "
   ]
  },
  {
   "cell_type": "markdown",
   "metadata": {},
   "source": [
    "<div style=\"font-size:14px; text-align:justify\"><b>PROBLEMA II.-</b><br></div>"
   ]
  },
  {
   "cell_type": "markdown",
   "metadata": {},
   "source": [
    "Dada la siguiente matriz de distancias entre cinco patrones:"
   ]
  },
  {
   "cell_type": "code",
   "execution_count": 8,
   "metadata": {},
   "outputs": [
    {
     "data": {
      "text/html": [
       "<div>\n",
       "<style scoped>\n",
       "    .dataframe tbody tr th:only-of-type {\n",
       "        vertical-align: middle;\n",
       "    }\n",
       "\n",
       "    .dataframe tbody tr th {\n",
       "        vertical-align: top;\n",
       "    }\n",
       "\n",
       "    .dataframe thead th {\n",
       "        text-align: right;\n",
       "    }\n",
       "</style>\n",
       "<table border=\"1\" class=\"dataframe\">\n",
       "  <thead>\n",
       "    <tr style=\"text-align: right;\">\n",
       "      <th></th>\n",
       "      <th>A</th>\n",
       "      <th>B</th>\n",
       "      <th>C</th>\n",
       "      <th>D</th>\n",
       "      <th>E</th>\n",
       "    </tr>\n",
       "  </thead>\n",
       "  <tbody>\n",
       "    <tr>\n",
       "      <th>A</th>\n",
       "      <td>NaN</td>\n",
       "      <td>1.0</td>\n",
       "      <td>2.0</td>\n",
       "      <td>9.0</td>\n",
       "      <td>10.0</td>\n",
       "    </tr>\n",
       "    <tr>\n",
       "      <th>B</th>\n",
       "      <td>1.0</td>\n",
       "      <td>NaN</td>\n",
       "      <td>3.0</td>\n",
       "      <td>7.0</td>\n",
       "      <td>5.0</td>\n",
       "    </tr>\n",
       "    <tr>\n",
       "      <th>C</th>\n",
       "      <td>2.0</td>\n",
       "      <td>3.0</td>\n",
       "      <td>NaN</td>\n",
       "      <td>4.0</td>\n",
       "      <td>6.0</td>\n",
       "    </tr>\n",
       "    <tr>\n",
       "      <th>D</th>\n",
       "      <td>9.0</td>\n",
       "      <td>7.0</td>\n",
       "      <td>4.0</td>\n",
       "      <td>NaN</td>\n",
       "      <td>8.0</td>\n",
       "    </tr>\n",
       "    <tr>\n",
       "      <th>E</th>\n",
       "      <td>10.0</td>\n",
       "      <td>5.0</td>\n",
       "      <td>6.0</td>\n",
       "      <td>8.0</td>\n",
       "      <td>NaN</td>\n",
       "    </tr>\n",
       "  </tbody>\n",
       "</table>\n",
       "</div>"
      ],
      "text/plain": [
       "      A    B    C    D     E\n",
       "A   NaN  1.0  2.0  9.0  10.0\n",
       "B   1.0  NaN  3.0  7.0   5.0\n",
       "C   2.0  3.0  NaN  4.0   6.0\n",
       "D   9.0  7.0  4.0  NaN   8.0\n",
       "E  10.0  5.0  6.0  8.0   NaN"
      ]
     },
     "execution_count": 8,
     "metadata": {},
     "output_type": "execute_result"
    }
   ],
   "source": [
    "data={'A':[np.NaN, 1, 2, 9, 10], 'B':[1, np.NaN, 3, 7, 5],\n",
    "     'C':[2, 3, np.NaN, 4, 6], 'D':[9, 7, 4, np.NaN, 8],\n",
    "     'E':[10, 5, 6, 8, np.NaN]}\n",
    "df_distancias=pd.DataFrame(data=data, index=['A', 'B', 'C', 'D', 'E'])\n",
    "\n",
    "# data={'A':[0,1,4,5], 'B':[1,0,2,6],\n",
    "#      'C':[4,2,0,3], 'D':[5,6,3,0]}\n",
    "# df_distancias=pd.DataFrame(data=data, index=['A', 'B', 'C', 'D'])\n",
    "\n",
    "df_distancias"
   ]
  },
  {
   "cell_type": "markdown",
   "metadata": {},
   "source": [
    "Se pide:\n",
    "1. Aplicar un clustering jerárquico con el método de enlace simple.\n",
    "2. Aplicar un clustering jerárquico con el método de enlace completo.\n",
    "3. ¿Se podría usar el método de enlace medio con estos datos? Justifica la respuesta."
   ]
  },
  {
   "cell_type": "markdown",
   "metadata": {
    "tags": []
   },
   "source": [
    "<div style=\"font-size:14px; text-align:justify\"><b>1: </b>Aplicar un clustering jerárquico con el método de enlace simple.</div>"
   ]
  },
  {
   "cell_type": "markdown",
   "metadata": {},
   "source": [
    "Para la agrupación de Clusters, se escoge la menor distancia entre estos."
   ]
  },
  {
   "cell_type": "markdown",
   "metadata": {
    "tags": []
   },
   "source": [
    "<div style=\"font-size:14px; text-align:center\"><b>ESTADO INCIAL</b><br></div>"
   ]
  },
  {
   "cell_type": "markdown",
   "metadata": {
    "tags": []
   },
   "source": [
    "La distancia entre A y B es la menor por lo que este será C1. Como resultado quedaría: C1(A, B); C2(C); C3(D); C4(E)"
   ]
  },
  {
   "cell_type": "markdown",
   "metadata": {
    "tags": []
   },
   "source": [
    "<div style=\"font-size:14px; text-align:center\"><b>ITERACIÓN 1</b><br></div>"
   ]
  },
  {
   "cell_type": "code",
   "execution_count": 9,
   "metadata": {},
   "outputs": [
    {
     "name": "stdout",
     "output_type": "stream",
     "text": [
      "De las distancias  [2.0, 7.0, 5.0, 4.0, 6.0, 8.0]  la menor resulta  2.0\n"
     ]
    }
   ],
   "source": [
    "# Hallar la distancia minima entre Cluster y elegir la union de Cluster según la menor de estas.\n",
    "\n",
    "# Distancia C1 y C2 -> min(d(A,C),d(B,C))\n",
    "# Distancia C1 y C3 -> min(d(A,D),d(B,D))\n",
    "# Distancia C1 y C4 -> min(d(A,E),d(B,E))\n",
    "d_C1C2=min([df_distancias.loc['A']['C'], df_distancias.loc['B']['C']])\n",
    "d_C1C3=min([df_distancias.loc['A']['D'], df_distancias.loc['B']['D']])\n",
    "d_C1C4=min([df_distancias.loc['A']['E'], df_distancias.loc['B']['E']])\n",
    "# Distancia C2 y C3 -> min(d(C, D))\n",
    "# Distancia C2 y C4 -> min(d(C, E))\n",
    "d_C2C3=df_distancias.loc['C']['D']\n",
    "d_C2C4=df_distancias.loc['C']['E']\n",
    "# Distancia C3 y C4 -> min(d(D, E))\n",
    "d_C3C4=df_distancias.loc['D']['E']\n",
    "\n",
    "res=[d_C1C2, d_C1C3, d_C1C4, d_C2C3, d_C2C4, d_C3C4]\n",
    "\n",
    "print('De las distancias ',res,' la menor resulta ', min(res))"
   ]
  },
  {
   "cell_type": "markdown",
   "metadata": {
    "tags": []
   },
   "source": [
    "La distancia entre C1 y C2 es la menor por lo que se añade a C1 el punto C. Como resultado quedaría: C1(A, B, (C)); C2(D); C3(E)"
   ]
  },
  {
   "cell_type": "markdown",
   "metadata": {
    "tags": []
   },
   "source": [
    "<div style=\"font-size:14px; text-align:center\"><b>ITERACIÓN 2</b><br></div>"
   ]
  },
  {
   "cell_type": "code",
   "execution_count": 10,
   "metadata": {},
   "outputs": [
    {
     "name": "stdout",
     "output_type": "stream",
     "text": [
      "De las distancias  [4.0, 5.0, 8.0]  la menor resulta  4.0\n"
     ]
    }
   ],
   "source": [
    "# Hallar la distancia minima entre Cluster y elegir la union de Cluster según la menor de estas.\n",
    "\n",
    "# Distancia C1 y C2 -> min(d(A,D),d(B,D),d(C,D))\n",
    "# Distancia C1 y C3 -> min(d(A,E),d(B,E),d(C,E))\n",
    "d_C1C2=min([df_distancias.loc['A']['D'], df_distancias.loc['B']['D'], df_distancias.loc['C']['D']])\n",
    "d_C1C3=min([df_distancias.loc['A']['E'], df_distancias.loc['B']['E'], df_distancias.loc['C']['E']])\n",
    "# Distancia C2 y C3 -> min(d(D, E))\n",
    "d_C2C3=df_distancias.loc['D']['E']\n",
    "\n",
    "res=[d_C1C2, d_C1C3, d_C2C3]\n",
    "\n",
    "print('De las distancias ',res,' la menor resulta ', min(res))"
   ]
  },
  {
   "cell_type": "markdown",
   "metadata": {
    "tags": []
   },
   "source": [
    "La distancia entre C1 y C2 es la menor por lo que se añade a C1 el punto D. Como resultado quedaría: C1((A, B, (C)), D); C2(E)"
   ]
  },
  {
   "cell_type": "markdown",
   "metadata": {
    "tags": []
   },
   "source": [
    "<div style=\"font-size:14px; text-align:center\"><b>ITERACIÓN 3</b><br></div>"
   ]
  },
  {
   "cell_type": "markdown",
   "metadata": {},
   "source": [
    "Dado que solo queda un punto por unir, este se añade a C1, quedando finalmente el resultado del clustering jerarquico: C1((((AB)C)D)E)"
   ]
  },
  {
   "cell_type": "code",
   "execution_count": 11,
   "metadata": {},
   "outputs": [
    {
     "name": "stderr",
     "output_type": "stream",
     "text": [
      "C:\\Users\\vicsi\\AppData\\Local\\Temp\\ipykernel_8376\\1592421344.py:7: ClusterWarning: scipy.cluster: The symmetric non-negative hollow observation matrix looks suspiciously like an uncondensed distance matrix\n",
      "  Z = linkage(x, 'single')\n"
     ]
    },
    {
     "data": {
      "image/png": "[encoded data removed]",
      "text/plain": [
       "<Figure size 432x288 with 1 Axes>"
      ]
     },
     "metadata": {
      "needs_background": "light"
     },
     "output_type": "display_data"
    }
   ],
   "source": [
    "from scipy.cluster.hierarchy import dendrogram, linkage\n",
    "\n",
    "# Obtener los datos a mostrar\n",
    "x=df_distancias.fillna(0)\n",
    "x=x.to_numpy() \n",
    "# Calculo del clustering por el método de enlace simple\n",
    "Z = linkage(x, 'single')\n",
    " \n",
    "# Ploteo de resultado\n",
    "dendrogram(Z, labels=df_distancias.index)\n",
    "plt.show()"
   ]
  },
  {
   "cell_type": "markdown",
   "metadata": {},
   "source": [
    " "
   ]
  },
  {
   "cell_type": "markdown",
   "metadata": {
    "tags": []
   },
   "source": [
    "<div style=\"font-size:14px; text-align:justify\"><b>2: </b>Aplicar un clustering jerárquico con el método de enlace completo.</div>"
   ]
  },
  {
   "cell_type": "markdown",
   "metadata": {},
   "source": [
    "Para la agrupación de Clusters, se escoge la mayor distancia entre estos."
   ]
  },
  {
   "cell_type": "markdown",
   "metadata": {
    "tags": []
   },
   "source": [
    "<div style=\"font-size:14px; text-align:center\"><b>ESTADO INCIAL</b><br></div>"
   ]
  },
  {
   "cell_type": "markdown",
   "metadata": {
    "tags": []
   },
   "source": [
    "La distancia entre A y B es la menor por lo que este será C1. Como resultado quedaría: C1(A, B); C2(C); C3(D); C4(E)"
   ]
  },
  {
   "cell_type": "markdown",
   "metadata": {
    "tags": []
   },
   "source": [
    "<div style=\"font-size:14px; text-align:center\"><b>ITERACIÓN 1</b><br></div>"
   ]
  },
  {
   "cell_type": "code",
   "execution_count": 12,
   "metadata": {},
   "outputs": [
    {
     "name": "stdout",
     "output_type": "stream",
     "text": [
      "De las distancias  [3.0, 9.0, 10.0, 4.0, 6.0, 8.0]  la menor resulta  3.0\n"
     ]
    }
   ],
   "source": [
    "# Hallar la distancia maxima entre Cluster y elegir la union de Cluster según la menor de estas.\n",
    "\n",
    "# Distancia C1 y C2 -> max(d(A,C),d(B,C))\n",
    "# Distancia C1 y C3 -> max(d(A,D),d(B,D))\n",
    "# Distancia C1 y C4 -> max(d(A,E),d(B,E))\n",
    "d_C1C2=max([df_distancias.loc['A']['C'], df_distancias.loc['B']['C']])\n",
    "d_C1C3=max([df_distancias.loc['A']['D'], df_distancias.loc['B']['D']])\n",
    "d_C1C4=max([df_distancias.loc['A']['E'], df_distancias.loc['B']['E']])\n",
    "# Distancia C2 y C3 -> max(d(C, D))\n",
    "# Distancia C2 y C4 -> max(d(C, E))\n",
    "d_C2C3=df_distancias.loc['C']['D']\n",
    "d_C2C4=df_distancias.loc['C']['E']\n",
    "# Distancia C3 y C4 -> max(d(D, E))\n",
    "d_C3C4=df_distancias.loc['D']['E']\n",
    "\n",
    "res=[d_C1C2, d_C1C3, d_C1C4, d_C2C3, d_C2C4, d_C3C4]\n",
    "\n",
    "print('De las distancias ',res,' la menor resulta ', min(res))"
   ]
  },
  {
   "cell_type": "markdown",
   "metadata": {
    "tags": []
   },
   "source": [
    "La distancia entre C1 y C2 es la mayor por lo que se añade a C1 el punto C. Como resultado quedaría: C1(A, B, (C)); C2(D); C3(E)"
   ]
  },
  {
   "cell_type": "markdown",
   "metadata": {
    "tags": []
   },
   "source": [
    "<div style=\"font-size:14px; text-align:center\"><b>ITERACIÓN 2</b><br></div>"
   ]
  },
  {
   "cell_type": "code",
   "execution_count": 13,
   "metadata": {},
   "outputs": [
    {
     "name": "stdout",
     "output_type": "stream",
     "text": [
      "De las distancias  [9.0, 10.0, 8.0]  la menor resulta  8.0\n"
     ]
    }
   ],
   "source": [
    "# Hallar la distancia maxima entre Cluster y elegir la union de Cluster según la menor de estas.\n",
    "\n",
    "# Distancia C1 y C2 -> min(d(A,D),d(B,D),d(C,D))\n",
    "# Distancia C1 y C3 -> min(d(A,E),d(B,E),d(C,E))\n",
    "d_C1C2=max([df_distancias.loc['A']['D'], df_distancias.loc['B']['D'], df_distancias.loc['C']['D']])\n",
    "d_C1C3=max([df_distancias.loc['A']['E'], df_distancias.loc['B']['E'], df_distancias.loc['C']['E']])\n",
    "# Distancia C2 y C3 -> min(d(D, E))\n",
    "d_C2C3=df_distancias.loc['D']['E']\n",
    "\n",
    "res=[d_C1C2, d_C1C3, d_C2C3]\n",
    "\n",
    "print('De las distancias ',res,' la menor resulta ', min(res))"
   ]
  },
  {
   "cell_type": "markdown",
   "metadata": {
    "tags": []
   },
   "source": [
    "La distancia entre C2 y C3 es la menor por lo que se añade a C2 el punto E. Como resultado quedaría: C1((A, B, (C))); C2(D, E)"
   ]
  },
  {
   "cell_type": "markdown",
   "metadata": {
    "tags": []
   },
   "source": [
    "<div style=\"font-size:14px; text-align:center\"><b>ITERACIÓN 3</b><br></div>"
   ]
  },
  {
   "cell_type": "markdown",
   "metadata": {},
   "source": [
    "Dado que solo queda un punto por unir, este se añade a C1, quedando finalmente el resultado del clustering jerarquico: C1((((AB)C)(DE))"
   ]
  },
  {
   "cell_type": "code",
   "execution_count": 14,
   "metadata": {},
   "outputs": [
    {
     "name": "stderr",
     "output_type": "stream",
     "text": [
      "C:\\Users\\vicsi\\AppData\\Local\\Temp\\ipykernel_8376\\2961250973.py:7: ClusterWarning: scipy.cluster: The symmetric non-negative hollow observation matrix looks suspiciously like an uncondensed distance matrix\n",
      "  Z = linkage(x, 'complete')\n"
     ]
    },
    {
     "data": {
      "image/png": "[encoded data removed]",
      "text/plain": [
       "<Figure size 432x288 with 1 Axes>"
      ]
     },
     "metadata": {
      "needs_background": "light"
     },
     "output_type": "display_data"
    }
   ],
   "source": [
    "from scipy.cluster.hierarchy import dendrogram, linkage\n",
    "\n",
    "# Obtener los datos a mostrar\n",
    "x=df_distancias.fillna(0)\n",
    "x=x.to_numpy() \n",
    "# Calculo del clustering por el método de enlace simple\n",
    "Z = linkage(x, 'complete')\n",
    " \n",
    "# Ploteo de resultado\n",
    "dendrogram(Z, labels=df_distancias.index)\n",
    "plt.show()"
   ]
  },
  {
   "cell_type": "markdown",
   "metadata": {},
   "source": [
    " "
   ]
  },
  {
   "cell_type": "markdown",
   "metadata": {
    "tags": []
   },
   "source": [
    "<div style=\"font-size:14px; text-align:justify\"><b>2: </b>¿Se podría usar el método de enlace medio con estos datos? Justifica la respuesta.</div>"
   ]
  },
  {
   "cell_type": "markdown",
   "metadata": {},
   "source": [
    "Si que se podría emplear el método de enlace medio. Para obtener este, se calcula la media de las distancias entre los puntos de los clusters. Y dado que si se realiza la media de una única distancia aportada en el enunciado, su calculo sería la división de esta entre 1, no hay ningún problema matemático para el cálculo."
   ]
  },
  {
   "cell_type": "code",
   "execution_count": 15,
   "metadata": {},
   "outputs": [
    {
     "name": "stderr",
     "output_type": "stream",
     "text": [
      "C:\\Users\\vicsi\\AppData\\Local\\Temp\\ipykernel_8376\\2634135672.py:7: ClusterWarning: scipy.cluster: The symmetric non-negative hollow observation matrix looks suspiciously like an uncondensed distance matrix\n",
      "  Z = linkage(x, 'average')\n"
     ]
    },
    {
     "data": {
      "image/png": "[encoded data removed]",
      "text/plain": [
       "<Figure size 432x288 with 1 Axes>"
      ]
     },
     "metadata": {
      "needs_background": "light"
     },
     "output_type": "display_data"
    }
   ],
   "source": [
    "from scipy.cluster.hierarchy import dendrogram, linkage\n",
    "\n",
    "# Obtener los datos a mostrar\n",
    "x=df_distancias.fillna(0)\n",
    "x=x.to_numpy() \n",
    "# Calculo del clustering por el método de enlace simple\n",
    "Z = linkage(x, 'average')\n",
    " \n",
    "# Ploteo de resultado\n",
    "dendrogram(Z, labels=df_distancias.index)\n",
    "plt.show()"
   ]
  },
  {
   "cell_type": "markdown",
   "metadata": {},
   "source": [
    "Como se observa en el dendrograma, si sería posible y además, las uniones resultarian ser como para el método completo pero con diferencia en las distancias entre clusters."
   ]
  },
  {
   "cell_type": "markdown",
   "metadata": {},
   "source": [
    " "
   ]
  },
  {
   "cell_type": "markdown",
   "metadata": {},
   "source": [
    " "
   ]
  },
  {
   "cell_type": "markdown",
   "metadata": {},
   "source": [
    "<div style=\"font-size:14px; text-align:justify\"><b>PROBLEMA III.-</b><br></div>"
   ]
  },
  {
   "cell_type": "markdown",
   "metadata": {},
   "source": [
    "Dados los mismos puntos del Problema I.\n",
    "\n",
    "Se pide:\n",
    "1. Aplicar DBSCAN considerando 𝑀 = 3 y ϵ = √2.\n",
    "2. Aplicar DBSCAN considerando 𝑀 = 3 y ϵ = √10.\n",
    "3. ¿En qué afecta el cambio del parámetro ϵ ?"
   ]
  },
  {
   "cell_type": "code",
   "execution_count": 227,
   "metadata": {},
   "outputs": [
    {
     "data": {
      "image/png": "[encoded data removed]",
      "text/plain": [
       "<Figure size 504x252 with 1 Axes>"
      ]
     },
     "metadata": {
      "needs_background": "light"
     },
     "output_type": "display_data"
    }
   ],
   "source": [
    "# Indicación del punto\n",
    "puntos=[f'A{x}' for x in range(1,9)]\n",
    "\n",
    "# Lectura de .csv y asignación al indice los puntos\n",
    "coords=pd.read_csv('l5p1.csv')\n",
    "coords=coords.assign(punto=puntos)\n",
    "coords.set_index('punto', inplace=True)\n",
    "# Creación de la columna Cluster que más adelante se rellenará con 1, 2 ó 3\n",
    "# Creación de la columna distancias que más adelante se rellenara con lista de distancias\n",
    "coords=coords.assign(distancias=np.NaN, Cluster=np.NaN)\n",
    "# print(coords)\n",
    "\n",
    "# Creacion de Scatter\n",
    "coords.plot.scatter(x='coorX', y='coorY', s=50)\n",
    "\n",
    "# Asignación del label del punto 0.2 puntos por encima de la coordenada y\n",
    "for i, txt in enumerate(coords.index):\n",
    "    plt.annotate(txt, (coords['coorX'].iat[i], coords['coorY'].iat[i]+0.6))\n",
    "\n",
    "plt.ylim(1,12)\n",
    "plt.show()"
   ]
  },
  {
   "cell_type": "markdown",
   "metadata": {},
   "source": [
    " "
   ]
  },
  {
   "cell_type": "markdown",
   "metadata": {
    "tags": []
   },
   "source": [
    "<div style=\"font-size:14px; text-align:justify\"><b>1: </b>Aplicar DBSCAN considerando 𝑀 = 3 y ϵ = √2.</div>"
   ]
  },
  {
   "cell_type": "code",
   "execution_count": 142,
   "metadata": {},
   "outputs": [
    {
     "data": {
      "image/png": "[encoded data removed]",
      "text/plain": [
       "<Figure size 504x252 with 1 Axes>"
      ]
     },
     "metadata": {
      "needs_background": "light"
     },
     "output_type": "display_data"
    },
    {
     "data": {
      "image/png": "[encoded data removed]",
      "text/plain": [
       "<Figure size 504x252 with 1 Axes>"
      ]
     },
     "metadata": {
      "needs_background": "light"
     },
     "output_type": "display_data"
    }
   ],
   "source": [
    "# Radio de DBSCAN\n",
    "RADIO = math.sqrt(2)\n",
    "\n",
    "# Representacion de los datos\n",
    "# Parametrizació\n",
    "fig, ax = plt.subplots(figsize=[5,10])\n",
    "\n",
    "ax.set(xlim=(0, 10), ylim = (0, 12))\n",
    "\n",
    "fig = plt.scatter(x=coords['coorX'], y=coords['coorY'])\n",
    "\n",
    "RADIO = math.sqrt(2)\n",
    "\n",
    "for i, txt in enumerate(coords.index):\n",
    "    plt.annotate(txt, (coords['coorX'].iat[i], coords['coorY'].iat[i]+0.6))\n",
    "    ax.add_artist(plt.Circle((coords['coorX'].iat[i], coords['coorY'].iat[i]),\n",
    "                             RADIO, color='r', alpha=0.3))\n",
    "\n",
    "ax.set_aspect('equal', 'box')\n",
    "\n",
    "\n",
    "\n",
    "\n",
    "# # Imprimir los datos\n",
    "# # fig, ax = plt.subplots()\n",
    "# # coords.plot.scatter(x='coorX', y='coorY')\n",
    "# # plt.scatter(x=coords['coorX'], y=coords['coorY'])\n",
    "\n",
    "# # Asignación del label del punto 0.2 puntos por encima de la coordenada y\n",
    "# result=math.sqrt(2)\n",
    "# result=1\n",
    "\n",
    "# # fig,ax = plt.subplots(figsize=[7,7])\n",
    "# fig,ax = plt.subplots()\n",
    "# # set limits BEFORE plotting\n",
    "# ax.set_xlim((0,12))\n",
    "# ax.set_ylim((0,12))\n",
    "# # radius in data coordinates:\n",
    "# r = 0.5 # units\n",
    "# # radius in display coordinates:\n",
    "# r_ = ax.transData.transform([r,0])[0] - ax.transData.transform([0,0])[0] # points\n",
    "# # marker size as the area of a circle\n",
    "# marker_size = math.pi * result**2\n",
    "\n",
    "\n",
    "# # circles=[]\n",
    "# for i, txt in enumerate(coords.index):\n",
    "#     plt.annotate(txt, (coords['coorX'].iat[i], coords['coorY'].iat[i]+0.6))\n",
    "#     plt.scatter(coords['coorX'].iat[i], coords['coorY'].iat[i], s = marker_size, alpha = 0.5)\n",
    "#     # circles.append(plt.scatter(coords['coorX'].iat[i], coords['coorY'].iat[i], s = result*10000, alpha = 0.5))\n",
    "#     # ax.add_patch(plt.scatter(coords['coorX'].iat[i], coords['coorY'].iat[i], s = result*1000, alpha = 0.5))\n",
    "#     # plt.Circle((coords['coorX'].iat[i], coords['coorY'].iat[i]), result)\n",
    "#     # plt.scatter(coords['coorX'].iat[i], coords['coorY'].iat[i], marker = 'o', s = result, alpha = 0.2)\n",
    "\n",
    "\n",
    "# # plt.ylim(0,12)\n",
    "# # plt.xlim(0,9)\n",
    "# # # ax.add_patch(circles)\n",
    "\n",
    "# # plt.autoscale=True\n",
    "\n",
    "# ax.set_aspect(1)\n",
    "# plt.show()"
   ]
  },
  {
   "cell_type": "code",
   "execution_count": 228,
   "metadata": {},
   "outputs": [
    {
     "data": {
      "image/png": "[encoded data removed]",
      "text/plain": [
       "<Figure size 360x720 with 1 Axes>"
      ]
     },
     "metadata": {
      "needs_background": "light"
     },
     "output_type": "display_data"
    }
   ],
   "source": [
    "\n",
    "fig, ax = plt.subplots(figsize=[5,10])\n",
    "\n",
    "ax.set(xlim=(0, 10), ylim = (0, 12))\n",
    "\n",
    "fig = plt.scatter(x=coords['coorX'], y=coords['coorY'])\n",
    "\n",
    "RADIO = math.sqrt(2)\n",
    "\n",
    "for i, txt in enumerate(coords.index):\n",
    "    plt.annotate(txt, (coords['coorX'].iat[i], coords['coorY'].iat[i]+0.6))\n",
    "    ax.add_artist(plt.Circle((coords['coorX'].iat[i], coords['coorY'].iat[i]),\n",
    "                             RADIO, color='r', alpha=0.3))\n",
    "\n",
    "ax.set_aspect('equal', 'box')"
   ]
  },
  {
   "cell_type": "code",
   "execution_count": null,
   "metadata": {},
   "outputs": [],
   "source": []
  }
 ],
 "metadata": {
  "kernelspec": {
   "display_name": "Python 3 (ipykernel)",
   "language": "python",
   "name": "python3"
  },
  "language_info": {
   "codemirror_mode": {
    "name": "ipython",
    "version": 3
   },
   "file_extension": ".py",
   "mimetype": "text/x-python",
   "name": "python",
   "nbconvert_exporter": "python",
   "pygments_lexer": "ipython3",
   "version": "3.8.5"
  }
 },
 "nbformat": 4,
 "nbformat_minor": 4
}
