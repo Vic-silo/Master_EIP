{
 "cells": [
  {
   "cell_type": "markdown",
   "metadata": {
    "tags": []
   },
   "source": [
    "# Fundamentos IA y Machine Learning.\n",
    "\n",
    "## Autor: Victor Simo Lozano\n",
    "\n",
    "## Actividad 3\n",
    "<p>Modelos de Regresión y Clasificación I.</p>\n",
    "    \n",
    "\n",
    "<hr style=\"border-color:red\">"
   ]
  },
  {
   "cell_type": "markdown",
   "metadata": {},
   "source": [
    " "
   ]
  },
  {
   "cell_type": "markdown",
   "metadata": {},
   "source": [
    " "
   ]
  },
  {
   "cell_type": "code",
   "execution_count": 1,
   "metadata": {},
   "outputs": [],
   "source": [
    "# Generales \n",
    "import numpy as np\n",
    "import math\n",
    "\n",
    "# Trabajar con dataset\n",
    "import pandas as pd\n",
    "from sklearn import metrics\n",
    "\n",
    "# Presentación de datos\n",
    "import seaborn as sns\n",
    "import matplotlib.pyplot as plt"
   ]
  },
  {
   "cell_type": "markdown",
   "metadata": {},
   "source": [
    "<div style=\"font-size:14px; text-align:justify\"><b>PROBLEMA I.-</b><br></div>"
   ]
  },
  {
   "cell_type": "markdown",
   "metadata": {},
   "source": [
    "Se desea estimar el valor 𝑌 de una casa dada su superficie 𝑋1 y el número de habitaciones 𝑋2 . Hasta ahora, se conocen los siguientes datos de entrenamiento:"
   ]
  },
  {
   "cell_type": "code",
   "execution_count": 2,
   "metadata": {
    "tags": []
   },
   "outputs": [
    {
     "data": {
      "text/html": [
       "<div>\n",
       "<style scoped>\n",
       "    .dataframe tbody tr th:only-of-type {\n",
       "        vertical-align: middle;\n",
       "    }\n",
       "\n",
       "    .dataframe tbody tr th {\n",
       "        vertical-align: top;\n",
       "    }\n",
       "\n",
       "    .dataframe thead th {\n",
       "        text-align: right;\n",
       "    }\n",
       "</style>\n",
       "<table border=\"1\" class=\"dataframe\">\n",
       "  <thead>\n",
       "    <tr style=\"text-align: right;\">\n",
       "      <th></th>\n",
       "      <th>x1</th>\n",
       "      <th>x2</th>\n",
       "      <th>y</th>\n",
       "    </tr>\n",
       "  </thead>\n",
       "  <tbody>\n",
       "    <tr>\n",
       "      <th>0</th>\n",
       "      <td>60</td>\n",
       "      <td>1</td>\n",
       "      <td>120</td>\n",
       "    </tr>\n",
       "    <tr>\n",
       "      <th>1</th>\n",
       "      <td>55</td>\n",
       "      <td>2</td>\n",
       "      <td>125</td>\n",
       "    </tr>\n",
       "    <tr>\n",
       "      <th>2</th>\n",
       "      <td>70</td>\n",
       "      <td>1</td>\n",
       "      <td>130</td>\n",
       "    </tr>\n",
       "    <tr>\n",
       "      <th>3</th>\n",
       "      <td>60</td>\n",
       "      <td>2</td>\n",
       "      <td>112</td>\n",
       "    </tr>\n",
       "    <tr>\n",
       "      <th>4</th>\n",
       "      <td>62</td>\n",
       "      <td>1</td>\n",
       "      <td>122</td>\n",
       "    </tr>\n",
       "    <tr>\n",
       "      <th>5</th>\n",
       "      <td>70</td>\n",
       "      <td>2</td>\n",
       "      <td>135</td>\n",
       "    </tr>\n",
       "    <tr>\n",
       "      <th>6</th>\n",
       "      <td>60</td>\n",
       "      <td>3</td>\n",
       "      <td>128</td>\n",
       "    </tr>\n",
       "    <tr>\n",
       "      <th>7</th>\n",
       "      <td>80</td>\n",
       "      <td>1</td>\n",
       "      <td>140</td>\n",
       "    </tr>\n",
       "    <tr>\n",
       "      <th>8</th>\n",
       "      <td>80</td>\n",
       "      <td>2</td>\n",
       "      <td>150</td>\n",
       "    </tr>\n",
       "    <tr>\n",
       "      <th>9</th>\n",
       "      <td>85</td>\n",
       "      <td>3</td>\n",
       "      <td>160</td>\n",
       "    </tr>\n",
       "  </tbody>\n",
       "</table>\n",
       "</div>"
      ],
      "text/plain": [
       "   x1  x2    y\n",
       "0  60   1  120\n",
       "1  55   2  125\n",
       "2  70   1  130\n",
       "3  60   2  112\n",
       "4  62   1  122\n",
       "5  70   2  135\n",
       "6  60   3  128\n",
       "7  80   1  140\n",
       "8  80   2  150\n",
       "9  85   3  160"
      ]
     },
     "execution_count": 2,
     "metadata": {},
     "output_type": "execute_result"
    }
   ],
   "source": [
    "p1_train = pd.read_csv('l3p1_train.csv')\n",
    "\n",
    "p1_train"
   ]
  },
  {
   "cell_type": "markdown",
   "metadata": {},
   "source": [
    " "
   ]
  },
  {
   "cell_type": "markdown",
   "metadata": {
    "tags": []
   },
   "source": [
    "<div style=\"font-size:14px; text-align:justify\"><b>1: </b>Calcular el modelo de regresión lineal simple de 𝑌 en función de 𝑋1.</div>"
   ]
  },
  {
   "cell_type": "code",
   "execution_count": 3,
   "metadata": {
    "tags": []
   },
   "outputs": [
    {
     "data": {
      "text/html": [
       "<div>\n",
       "<style scoped>\n",
       "    .dataframe tbody tr th:only-of-type {\n",
       "        vertical-align: middle;\n",
       "    }\n",
       "\n",
       "    .dataframe tbody tr th {\n",
       "        vertical-align: top;\n",
       "    }\n",
       "\n",
       "    .dataframe thead th {\n",
       "        text-align: right;\n",
       "    }\n",
       "</style>\n",
       "<table border=\"1\" class=\"dataframe\">\n",
       "  <thead>\n",
       "    <tr style=\"text-align: right;\">\n",
       "      <th></th>\n",
       "      <th>x1</th>\n",
       "      <th>y</th>\n",
       "    </tr>\n",
       "  </thead>\n",
       "  <tbody>\n",
       "    <tr>\n",
       "      <th>0</th>\n",
       "      <td>0.166667</td>\n",
       "      <td>120</td>\n",
       "    </tr>\n",
       "    <tr>\n",
       "      <th>1</th>\n",
       "      <td>0.000000</td>\n",
       "      <td>125</td>\n",
       "    </tr>\n",
       "    <tr>\n",
       "      <th>2</th>\n",
       "      <td>0.500000</td>\n",
       "      <td>130</td>\n",
       "    </tr>\n",
       "    <tr>\n",
       "      <th>3</th>\n",
       "      <td>0.166667</td>\n",
       "      <td>112</td>\n",
       "    </tr>\n",
       "    <tr>\n",
       "      <th>4</th>\n",
       "      <td>0.233333</td>\n",
       "      <td>122</td>\n",
       "    </tr>\n",
       "    <tr>\n",
       "      <th>5</th>\n",
       "      <td>0.500000</td>\n",
       "      <td>135</td>\n",
       "    </tr>\n",
       "    <tr>\n",
       "      <th>6</th>\n",
       "      <td>0.166667</td>\n",
       "      <td>128</td>\n",
       "    </tr>\n",
       "    <tr>\n",
       "      <th>7</th>\n",
       "      <td>0.833333</td>\n",
       "      <td>140</td>\n",
       "    </tr>\n",
       "    <tr>\n",
       "      <th>8</th>\n",
       "      <td>0.833333</td>\n",
       "      <td>150</td>\n",
       "    </tr>\n",
       "    <tr>\n",
       "      <th>9</th>\n",
       "      <td>1.000000</td>\n",
       "      <td>160</td>\n",
       "    </tr>\n",
       "  </tbody>\n",
       "</table>\n",
       "</div>"
      ],
      "text/plain": [
       "         x1    y\n",
       "0  0.166667  120\n",
       "1  0.000000  125\n",
       "2  0.500000  130\n",
       "3  0.166667  112\n",
       "4  0.233333  122\n",
       "5  0.500000  135\n",
       "6  0.166667  128\n",
       "7  0.833333  140\n",
       "8  0.833333  150\n",
       "9  1.000000  160"
      ]
     },
     "execution_count": 3,
     "metadata": {},
     "output_type": "execute_result"
    }
   ],
   "source": [
    "# Escalado de parametros entre 0 y 1 para obtener valores del mismo orden.\n",
    "def escalar(data, minimo, maximo):        \n",
    "    return [(i-minimo)/(maximo - minimo) for i in data]\n",
    "\n",
    "# Dataframe apartado\n",
    "p1_1 = p1_train[['x1', 'y']].copy()\n",
    "\n",
    "# Escalado del dataframe\n",
    "p1_1['x1'] = escalar(p1_1['x1'], p1_train['x1'].min(), p1_train['x1'].max())\n",
    "p1_1"
   ]
  },
  {
   "cell_type": "code",
   "execution_count": 4,
   "metadata": {
    "tags": []
   },
   "outputs": [
    {
     "name": "stdout",
     "output_type": "stream",
     "text": [
      "µ_y_x1: [132.2, 0.44]\n",
      "Σ_y_x1: [[1.89360000e+02 4.09533333e+00]\n",
      " [4.09533333e+00 1.09066667e-01]]\n"
     ]
    }
   ],
   "source": [
    "# Obtener las medias de los valores de atributo y objetivo\n",
    "mean_y_x1 = [round(p1_1['y'].mean(),4), round(p1_1['x1'].mean(),4)]\n",
    "\n",
    "print(f'µ_y_x1: {mean_y_x1}')\n",
    "\n",
    "# Obtener la matriz de covarianzas\n",
    "def covarianza(data1, data2):\n",
    "    sum_covar=0\n",
    "    for v1, v2 in zip(data1, data2):\n",
    "        sum_covar += (v1 - data1.mean())*(v2 - data2.mean())\n",
    "        \n",
    "    return sum_covar/(len(data1))\n",
    "\n",
    "matriz_covarianzas = np.asarray([[covarianza(p1_1['y'], p1_1['y']),covarianza(p1_1['y'], p1_1['x1'])],\n",
    "                                 [covarianza(p1_1['x1'], p1_1['y']),covarianza(p1_1['x1'], p1_1['x1'])]])\n",
    "\n",
    "print(f'Σ_y_x1: {matriz_covarianzas}')"
   ]
  },
  {
   "cell_type": "code",
   "execution_count": 5,
   "metadata": {
    "tags": []
   },
   "outputs": [
    {
     "data": {
      "image/png": "[encoded data removed]",
      "text/plain": [
       "<Figure size 432x288 with 2 Axes>"
      ]
     },
     "metadata": {
      "needs_background": "light"
     },
     "output_type": "display_data"
    }
   ],
   "source": [
    "sns.heatmap(matriz_covarianzas, annot=True,\n",
    "            yticklabels=['y', 'x1'],\n",
    "            xticklabels=['y', 'x1']).set(title='Σ yx1')\n",
    "plt.show()"
   ]
  },
  {
   "cell_type": "markdown",
   "metadata": {
    "tags": []
   },
   "source": [
    "Calcular el modelo mediante la expresión:<br>\n",
    "Y=ß0 + ß1·X1\n",
    "\n",
    "Donde el coeficiente de regresión será:<br>\n",
    "ß1 = S_x1,y/S²x1<br>\n",
    "ß0 = Y - ß1·X1"
   ]
  },
  {
   "cell_type": "code",
   "execution_count": 6,
   "metadata": {
    "tags": []
   },
   "outputs": [
    {
     "data": {
      "text/plain": [
       "(115.67848410757945, 37.54889975550121)"
      ]
     },
     "execution_count": 6,
     "metadata": {},
     "output_type": "execute_result"
    }
   ],
   "source": [
    "# Calculo del modelo mediante ecuación Y = ß0 + ß1·X1\n",
    "def adjunto(matriz, i, j):\n",
    "    '''\n",
    "    Calculo del valor adjunto de una matriz\n",
    "    :param i: Indice de la fila\n",
    "    :param j: Indice de la columna\n",
    "    '''\n",
    "    # Calcular el signo de acuerdo con la posición del elemento en la matriz\n",
    "    signo = -1**(i+j)\n",
    "    \n",
    "    # Eliminar fila y columna 'i' y 'j'\n",
    "    # Convertir los indices de matriz en indice de operación Numpy\n",
    "    i -= 1\n",
    "    j -= 1\n",
    "    ma = np.delete(matriz, i, axis=0)\n",
    "    ma = np.delete(ma, j, axis=1)\n",
    "    \n",
    "    # Calculo del determinante de la matriz resulante\n",
    "    det = np.linalg.det(ma)\n",
    "    \n",
    "    return signo * det\n",
    "\n",
    "m1_B1 = adjunto(matriz_covarianzas,1,2)/adjunto(matriz_covarianzas,1,1)\n",
    "m1_B0 = p1_1['y'].mean() - m1_B1 * p1_1['x1'].mean()\n",
    "        \n",
    "m1_B0, m1_B1"
   ]
  },
  {
   "cell_type": "markdown",
   "metadata": {},
   "source": [
    "El modelo será **Y = 115.68 + 37.55·X1**"
   ]
  },
  {
   "cell_type": "markdown",
   "metadata": {
    "tags": []
   },
   "source": [
    " "
   ]
  },
  {
   "cell_type": "markdown",
   "metadata": {
    "tags": []
   },
   "source": [
    "<div style=\"font-size:14px; text-align:justify\"><b>2: </b>Calcular el modelo de regresión lineal simple de 𝑌 en función de 𝑋2.</div>"
   ]
  },
  {
   "cell_type": "code",
   "execution_count": 7,
   "metadata": {
    "tags": []
   },
   "outputs": [
    {
     "data": {
      "text/html": [
       "<div>\n",
       "<style scoped>\n",
       "    .dataframe tbody tr th:only-of-type {\n",
       "        vertical-align: middle;\n",
       "    }\n",
       "\n",
       "    .dataframe tbody tr th {\n",
       "        vertical-align: top;\n",
       "    }\n",
       "\n",
       "    .dataframe thead th {\n",
       "        text-align: right;\n",
       "    }\n",
       "</style>\n",
       "<table border=\"1\" class=\"dataframe\">\n",
       "  <thead>\n",
       "    <tr style=\"text-align: right;\">\n",
       "      <th></th>\n",
       "      <th>x2</th>\n",
       "      <th>y</th>\n",
       "    </tr>\n",
       "  </thead>\n",
       "  <tbody>\n",
       "    <tr>\n",
       "      <th>0</th>\n",
       "      <td>0.0</td>\n",
       "      <td>120</td>\n",
       "    </tr>\n",
       "    <tr>\n",
       "      <th>1</th>\n",
       "      <td>0.5</td>\n",
       "      <td>125</td>\n",
       "    </tr>\n",
       "    <tr>\n",
       "      <th>2</th>\n",
       "      <td>0.0</td>\n",
       "      <td>130</td>\n",
       "    </tr>\n",
       "    <tr>\n",
       "      <th>3</th>\n",
       "      <td>0.5</td>\n",
       "      <td>112</td>\n",
       "    </tr>\n",
       "    <tr>\n",
       "      <th>4</th>\n",
       "      <td>0.0</td>\n",
       "      <td>122</td>\n",
       "    </tr>\n",
       "    <tr>\n",
       "      <th>5</th>\n",
       "      <td>0.5</td>\n",
       "      <td>135</td>\n",
       "    </tr>\n",
       "    <tr>\n",
       "      <th>6</th>\n",
       "      <td>1.0</td>\n",
       "      <td>128</td>\n",
       "    </tr>\n",
       "    <tr>\n",
       "      <th>7</th>\n",
       "      <td>0.0</td>\n",
       "      <td>140</td>\n",
       "    </tr>\n",
       "    <tr>\n",
       "      <th>8</th>\n",
       "      <td>0.5</td>\n",
       "      <td>150</td>\n",
       "    </tr>\n",
       "    <tr>\n",
       "      <th>9</th>\n",
       "      <td>1.0</td>\n",
       "      <td>160</td>\n",
       "    </tr>\n",
       "  </tbody>\n",
       "</table>\n",
       "</div>"
      ],
      "text/plain": [
       "    x2    y\n",
       "0  0.0  120\n",
       "1  0.5  125\n",
       "2  0.0  130\n",
       "3  0.5  112\n",
       "4  0.0  122\n",
       "5  0.5  135\n",
       "6  1.0  128\n",
       "7  0.0  140\n",
       "8  0.5  150\n",
       "9  1.0  160"
      ]
     },
     "execution_count": 7,
     "metadata": {},
     "output_type": "execute_result"
    }
   ],
   "source": [
    "# Escalado de parametros entre 0 y 1 para obtener valores del mismo orden.\n",
    "# Dataframe apartado\n",
    "p1_2 = p1_train[['x2', 'y']].copy()\n",
    "\n",
    "# Escalado del dataframe\n",
    "p1_2['x2'] = escalar(p1_2['x2'], p1_train['x2'].min(), p1_train['x2'].max())\n",
    "p1_2"
   ]
  },
  {
   "cell_type": "code",
   "execution_count": 8,
   "metadata": {
    "tags": []
   },
   "outputs": [
    {
     "name": "stdout",
     "output_type": "stream",
     "text": [
      "µ_y_x2: [132.2, 0.4]\n",
      "Σ_y_x2: [[1.8936e+02 2.0200e+00]\n",
      " [2.0200e+00 1.4000e-01]]\n"
     ]
    }
   ],
   "source": [
    "# Obtener las medias de los valores de atributo y objetivo\n",
    "mean_y_x2 = [round(p1_2['y'].mean(),4), round(p1_2['x2'].mean(),4)]\n",
    "\n",
    "print(f'µ_y_x2: {mean_y_x2}')\n",
    "\n",
    "matriz_covarianzas = np.asarray([[covarianza(p1_2['y'], p1_2['y']),covarianza(p1_2['y'], p1_2['x2'])],\n",
    "                                 [covarianza(p1_2['x2'], p1_2['y']),covarianza(p1_2['x2'], p1_2['x2'])]])\n",
    "\n",
    "print(f'Σ_y_x2: {matriz_covarianzas}')"
   ]
  },
  {
   "cell_type": "code",
   "execution_count": 9,
   "metadata": {
    "tags": []
   },
   "outputs": [
    {
     "data": {
      "image/png": "[encoded data removed]",
      "text/plain": [
       "<Figure size 432x288 with 2 Axes>"
      ]
     },
     "metadata": {
      "needs_background": "light"
     },
     "output_type": "display_data"
    }
   ],
   "source": [
    "sns.heatmap(matriz_covarianzas, annot=True,\n",
    "            yticklabels=['y', 'x2'],\n",
    "            xticklabels=['y', 'x2']).set(title='Σ yx2')\n",
    "plt.show()"
   ]
  },
  {
   "cell_type": "markdown",
   "metadata": {
    "tags": []
   },
   "source": [
    "Calcular el modelo mediante la expresión:<br>\n",
    "Y=ß0 + ß1·X2\n",
    "\n",
    "Donde el coeficiente de regresión será:<br>\n",
    "ß1 = S_x2,y/S²x2<br>\n",
    "ß0 = Y - ß1·X2"
   ]
  },
  {
   "cell_type": "code",
   "execution_count": 10,
   "metadata": {
    "tags": []
   },
   "outputs": [
    {
     "data": {
      "text/plain": [
       "(126.42857142857142, 14.428571428571425)"
      ]
     },
     "execution_count": 10,
     "metadata": {},
     "output_type": "execute_result"
    }
   ],
   "source": [
    "# Calculo del modelo mediante ecuación Y = ß0 + ß1·X1\n",
    "m2_B1 = adjunto(matriz_covarianzas,1,2)/adjunto(matriz_covarianzas,1,1)\n",
    "m2_B0 = p1_2['y'].mean() - m2_B1 * p1_2['x2'].mean()\n",
    "        \n",
    "m2_B0, m2_B1"
   ]
  },
  {
   "cell_type": "markdown",
   "metadata": {
    "tags": []
   },
   "source": [
    "El modelo será **Y = 12643 + 14.43·X2**"
   ]
  },
  {
   "cell_type": "markdown",
   "metadata": {
    "tags": []
   },
   "source": [
    " "
   ]
  },
  {
   "cell_type": "markdown",
   "metadata": {
    "tags": []
   },
   "source": [
    "<div style=\"font-size:14px; text-align:justify\"><b>3: </b>El modelo de regresión lineal múltiple de 𝑌 en función de 𝑋1 y 𝑋2.</div>"
   ]
  },
  {
   "cell_type": "code",
   "execution_count": 11,
   "metadata": {
    "tags": []
   },
   "outputs": [
    {
     "data": {
      "text/html": [
       "<div>\n",
       "<style scoped>\n",
       "    .dataframe tbody tr th:only-of-type {\n",
       "        vertical-align: middle;\n",
       "    }\n",
       "\n",
       "    .dataframe tbody tr th {\n",
       "        vertical-align: top;\n",
       "    }\n",
       "\n",
       "    .dataframe thead th {\n",
       "        text-align: right;\n",
       "    }\n",
       "</style>\n",
       "<table border=\"1\" class=\"dataframe\">\n",
       "  <thead>\n",
       "    <tr style=\"text-align: right;\">\n",
       "      <th></th>\n",
       "      <th>x1</th>\n",
       "      <th>x2</th>\n",
       "      <th>y</th>\n",
       "    </tr>\n",
       "  </thead>\n",
       "  <tbody>\n",
       "    <tr>\n",
       "      <th>0</th>\n",
       "      <td>0.166667</td>\n",
       "      <td>0.0</td>\n",
       "      <td>120</td>\n",
       "    </tr>\n",
       "    <tr>\n",
       "      <th>1</th>\n",
       "      <td>0.000000</td>\n",
       "      <td>0.5</td>\n",
       "      <td>125</td>\n",
       "    </tr>\n",
       "    <tr>\n",
       "      <th>2</th>\n",
       "      <td>0.500000</td>\n",
       "      <td>0.0</td>\n",
       "      <td>130</td>\n",
       "    </tr>\n",
       "    <tr>\n",
       "      <th>3</th>\n",
       "      <td>0.166667</td>\n",
       "      <td>0.5</td>\n",
       "      <td>112</td>\n",
       "    </tr>\n",
       "    <tr>\n",
       "      <th>4</th>\n",
       "      <td>0.233333</td>\n",
       "      <td>0.0</td>\n",
       "      <td>122</td>\n",
       "    </tr>\n",
       "    <tr>\n",
       "      <th>5</th>\n",
       "      <td>0.500000</td>\n",
       "      <td>0.5</td>\n",
       "      <td>135</td>\n",
       "    </tr>\n",
       "    <tr>\n",
       "      <th>6</th>\n",
       "      <td>0.166667</td>\n",
       "      <td>1.0</td>\n",
       "      <td>128</td>\n",
       "    </tr>\n",
       "    <tr>\n",
       "      <th>7</th>\n",
       "      <td>0.833333</td>\n",
       "      <td>0.0</td>\n",
       "      <td>140</td>\n",
       "    </tr>\n",
       "    <tr>\n",
       "      <th>8</th>\n",
       "      <td>0.833333</td>\n",
       "      <td>0.5</td>\n",
       "      <td>150</td>\n",
       "    </tr>\n",
       "    <tr>\n",
       "      <th>9</th>\n",
       "      <td>1.000000</td>\n",
       "      <td>1.0</td>\n",
       "      <td>160</td>\n",
       "    </tr>\n",
       "  </tbody>\n",
       "</table>\n",
       "</div>"
      ],
      "text/plain": [
       "         x1   x2    y\n",
       "0  0.166667  0.0  120\n",
       "1  0.000000  0.5  125\n",
       "2  0.500000  0.0  130\n",
       "3  0.166667  0.5  112\n",
       "4  0.233333  0.0  122\n",
       "5  0.500000  0.5  135\n",
       "6  0.166667  1.0  128\n",
       "7  0.833333  0.0  140\n",
       "8  0.833333  0.5  150\n",
       "9  1.000000  1.0  160"
      ]
     },
     "execution_count": 11,
     "metadata": {},
     "output_type": "execute_result"
    }
   ],
   "source": [
    "# Escalado de parametros entre 0 y 1 para obtener valores del mismo orden.\n",
    "# Dataframe apartado\n",
    "p1_3 = p1_train.copy()\n",
    "\n",
    "# Escalado del dataframe\n",
    "p1_3['x1'] = p1_1['x1']\n",
    "p1_3['x2'] = p1_2['x2']\n",
    "p1_3"
   ]
  },
  {
   "cell_type": "code",
   "execution_count": 12,
   "metadata": {
    "tags": []
   },
   "outputs": [
    {
     "name": "stdout",
     "output_type": "stream",
     "text": [
      "µ_y_x1_x2: [132.2, 0.44, 0.4]\n",
      "Σ_y_x1_x2: [[1.89360000e+02 4.09533333e+00 2.02000000e+00]\n",
      " [4.09533333e+00 1.09066667e-01 1.56666667e-02]\n",
      " [2.02000000e+00 1.56666667e-02 1.40000000e-01]]\n"
     ]
    }
   ],
   "source": [
    "# Obtener las medias de los valores de atributo y objetivo\n",
    "mean_y_x1_x2 = [round(p1_3['y'].mean(),4), round(p1_3['x1'].mean(),4), round(p1_3['x2'].mean(),4)]\n",
    "\n",
    "print(f'µ_y_x1_x2: {mean_y_x1_x2}')\n",
    "\n",
    "matriz_covarianzas = np.asarray([[covarianza(p1_3['y'], p1_3['y']),covarianza(p1_3['y'], p1_3['x1']),covarianza(p1_3['y'], p1_3['x2'])],\n",
    "                                 [covarianza(p1_3['x1'], p1_3['y']),covarianza(p1_3['x1'], p1_3['x1']),covarianza(p1_3['x1'], p1_3['x2'])],\n",
    "                                 [covarianza(p1_3['x2'], p1_3['y']),covarianza(p1_3['x2'], p1_3['x1']),covarianza(p1_3['x2'], p1_3['x2'])]])\n",
    "\n",
    "print(f'Σ_y_x1_x2: {matriz_covarianzas}')"
   ]
  },
  {
   "cell_type": "code",
   "execution_count": 13,
   "metadata": {
    "tags": []
   },
   "outputs": [
    {
     "data": {
      "image/png": "[encoded data removed]",
      "text/plain": [
       "<Figure size 432x288 with 2 Axes>"
      ]
     },
     "metadata": {
      "needs_background": "light"
     },
     "output_type": "display_data"
    }
   ],
   "source": [
    "sns.heatmap(matriz_covarianzas, annot=True,\n",
    "            yticklabels=['y', 'x1', 'x2'],\n",
    "            xticklabels=['y', 'x1', 'x2']).set(title='Σ yx1x2')\n",
    "plt.show()"
   ]
  },
  {
   "cell_type": "markdown",
   "metadata": {
    "tags": []
   },
   "source": [
    "Calcular el modelo mediante la expresión:<br>\n",
    "Y=ß0 + ß1·X1 + ß2·X2\n",
    "\n",
    "Donde el coeficiente de regresión será:<br>\n",
    "ß1 = - (Adj_1,i+1 / Adj_1+1)<br>\n",
    "ß0 = Y - ß1·X1 - ß2·X0"
   ]
  },
  {
   "cell_type": "code",
   "execution_count": 14,
   "metadata": {
    "tags": []
   },
   "outputs": [
    {
     "data": {
      "text/plain": [
       "(143.9071035018304, -36.055910956624636, 10.39374329771105)"
      ]
     },
     "execution_count": 14,
     "metadata": {},
     "output_type": "execute_result"
    }
   ],
   "source": [
    "# Calculo del modelo mediante ecuación Y = ß0 + ß1·X1 + ß2·X2\n",
    "m3_B1 = - adjunto(matriz_covarianzas,1,2)/adjunto(matriz_covarianzas,1,1)\n",
    "m3_B2 = - adjunto(matriz_covarianzas,1,3)/adjunto(matriz_covarianzas,1,1)\n",
    "m3_B0 = p1_2['y'].mean() - m3_B1 * p1_3['x1'].mean() - m3_B2 * p1_3['x2'].mean()\n",
    "        \n",
    "m3_B0, m3_B1, m3_B2"
   ]
  },
  {
   "cell_type": "markdown",
   "metadata": {
    "tags": []
   },
   "source": [
    "El modelo será **Y = 143.91 - 36.06·X1 + 10.39·X2**"
   ]
  },
  {
   "cell_type": "markdown",
   "metadata": {
    "tags": []
   },
   "source": [
    " "
   ]
  },
  {
   "cell_type": "markdown",
   "metadata": {
    "tags": []
   },
   "source": [
    "<div style=\"font-size:14px; text-align:justify\"><b>4: </b>Validar cada modelo con el siguiente conjunto de test.</div>"
   ]
  },
  {
   "cell_type": "code",
   "execution_count": 15,
   "metadata": {
    "tags": []
   },
   "outputs": [
    {
     "data": {
      "text/html": [
       "<div>\n",
       "<style scoped>\n",
       "    .dataframe tbody tr th:only-of-type {\n",
       "        vertical-align: middle;\n",
       "    }\n",
       "\n",
       "    .dataframe tbody tr th {\n",
       "        vertical-align: top;\n",
       "    }\n",
       "\n",
       "    .dataframe thead th {\n",
       "        text-align: right;\n",
       "    }\n",
       "</style>\n",
       "<table border=\"1\" class=\"dataframe\">\n",
       "  <thead>\n",
       "    <tr style=\"text-align: right;\">\n",
       "      <th></th>\n",
       "      <th>x1</th>\n",
       "      <th>x2</th>\n",
       "      <th>y</th>\n",
       "    </tr>\n",
       "  </thead>\n",
       "  <tbody>\n",
       "    <tr>\n",
       "      <th>0</th>\n",
       "      <td>0.100000</td>\n",
       "      <td>0.0</td>\n",
       "      <td>120</td>\n",
       "    </tr>\n",
       "    <tr>\n",
       "      <th>1</th>\n",
       "      <td>-0.166667</td>\n",
       "      <td>1.0</td>\n",
       "      <td>128</td>\n",
       "    </tr>\n",
       "    <tr>\n",
       "      <th>2</th>\n",
       "      <td>0.833333</td>\n",
       "      <td>0.0</td>\n",
       "      <td>140</td>\n",
       "    </tr>\n",
       "    <tr>\n",
       "      <th>3</th>\n",
       "      <td>0.333333</td>\n",
       "      <td>0.5</td>\n",
       "      <td>115</td>\n",
       "    </tr>\n",
       "    <tr>\n",
       "      <th>4</th>\n",
       "      <td>0.000000</td>\n",
       "      <td>0.0</td>\n",
       "      <td>120</td>\n",
       "    </tr>\n",
       "    <tr>\n",
       "      <th>5</th>\n",
       "      <td>0.666667</td>\n",
       "      <td>0.5</td>\n",
       "      <td>145</td>\n",
       "    </tr>\n",
       "    <tr>\n",
       "      <th>6</th>\n",
       "      <td>0.000000</td>\n",
       "      <td>1.0</td>\n",
       "      <td>125</td>\n",
       "    </tr>\n",
       "    <tr>\n",
       "      <th>7</th>\n",
       "      <td>0.833333</td>\n",
       "      <td>1.0</td>\n",
       "      <td>170</td>\n",
       "    </tr>\n",
       "    <tr>\n",
       "      <th>8</th>\n",
       "      <td>0.500000</td>\n",
       "      <td>0.0</td>\n",
       "      <td>135</td>\n",
       "    </tr>\n",
       "    <tr>\n",
       "      <th>9</th>\n",
       "      <td>0.666667</td>\n",
       "      <td>1.0</td>\n",
       "      <td>155</td>\n",
       "    </tr>\n",
       "  </tbody>\n",
       "</table>\n",
       "</div>"
      ],
      "text/plain": [
       "         x1   x2    y\n",
       "0  0.100000  0.0  120\n",
       "1 -0.166667  1.0  128\n",
       "2  0.833333  0.0  140\n",
       "3  0.333333  0.5  115\n",
       "4  0.000000  0.0  120\n",
       "5  0.666667  0.5  145\n",
       "6  0.000000  1.0  125\n",
       "7  0.833333  1.0  170\n",
       "8  0.500000  0.0  135\n",
       "9  0.666667  1.0  155"
      ]
     },
     "execution_count": 15,
     "metadata": {},
     "output_type": "execute_result"
    }
   ],
   "source": [
    "# Obtención de los valores de test\n",
    "p1_test = pd.read_csv('l3p1_test.csv')\n",
    "\n",
    "# Escalado de los atributos entre 0 y 1 según los máximos del train\n",
    "p1_test['x1'] = escalar(p1_test['x1'], p1_train['x1'].min(), p1_train['x1'].max())\n",
    "p1_test['x2'] = escalar(p1_test['x2'], p1_train['x2'].min(), p1_train['x2'].max())\n",
    "\n",
    "p1_test"
   ]
  },
  {
   "cell_type": "code",
   "execution_count": 16,
   "metadata": {
    "tags": []
   },
   "outputs": [],
   "source": [
    "# Relizar predicciones con las funciones para cada modelo\n",
    "def reg_simple(b0, b1, x):\n",
    "    return b0 + b1 * x\n",
    "\n",
    "def reg_multiple(x1, x2):\n",
    "    return m3_B0 + m3_B1 * x1 + m3_B2 * x2"
   ]
  },
  {
   "cell_type": "code",
   "execution_count": 17,
   "metadata": {
    "tags": []
   },
   "outputs": [
    {
     "data": {
      "text/html": [
       "<div>\n",
       "<style scoped>\n",
       "    .dataframe tbody tr th:only-of-type {\n",
       "        vertical-align: middle;\n",
       "    }\n",
       "\n",
       "    .dataframe tbody tr th {\n",
       "        vertical-align: top;\n",
       "    }\n",
       "\n",
       "    .dataframe thead th {\n",
       "        text-align: right;\n",
       "    }\n",
       "</style>\n",
       "<table border=\"1\" class=\"dataframe\">\n",
       "  <thead>\n",
       "    <tr style=\"text-align: right;\">\n",
       "      <th></th>\n",
       "      <th>y_m1</th>\n",
       "      <th>y_m2</th>\n",
       "      <th>y_m3</th>\n",
       "      <th>y</th>\n",
       "    </tr>\n",
       "  </thead>\n",
       "  <tbody>\n",
       "    <tr>\n",
       "      <th>0</th>\n",
       "      <td>119.433374</td>\n",
       "      <td>126.428571</td>\n",
       "      <td>140.301512</td>\n",
       "      <td>120</td>\n",
       "    </tr>\n",
       "    <tr>\n",
       "      <th>1</th>\n",
       "      <td>109.420334</td>\n",
       "      <td>140.857143</td>\n",
       "      <td>160.310165</td>\n",
       "      <td>128</td>\n",
       "    </tr>\n",
       "    <tr>\n",
       "      <th>2</th>\n",
       "      <td>146.969234</td>\n",
       "      <td>126.428571</td>\n",
       "      <td>113.860511</td>\n",
       "      <td>140</td>\n",
       "    </tr>\n",
       "    <tr>\n",
       "      <th>3</th>\n",
       "      <td>128.194784</td>\n",
       "      <td>133.642857</td>\n",
       "      <td>137.085338</td>\n",
       "      <td>115</td>\n",
       "    </tr>\n",
       "    <tr>\n",
       "      <th>4</th>\n",
       "      <td>115.678484</td>\n",
       "      <td>126.428571</td>\n",
       "      <td>143.907104</td>\n",
       "      <td>120</td>\n",
       "    </tr>\n",
       "    <tr>\n",
       "      <th>5</th>\n",
       "      <td>140.711084</td>\n",
       "      <td>133.642857</td>\n",
       "      <td>125.066701</td>\n",
       "      <td>145</td>\n",
       "    </tr>\n",
       "    <tr>\n",
       "      <th>6</th>\n",
       "      <td>115.678484</td>\n",
       "      <td>140.857143</td>\n",
       "      <td>154.300847</td>\n",
       "      <td>125</td>\n",
       "    </tr>\n",
       "    <tr>\n",
       "      <th>7</th>\n",
       "      <td>146.969234</td>\n",
       "      <td>140.857143</td>\n",
       "      <td>124.254254</td>\n",
       "      <td>170</td>\n",
       "    </tr>\n",
       "    <tr>\n",
       "      <th>8</th>\n",
       "      <td>134.452934</td>\n",
       "      <td>126.428571</td>\n",
       "      <td>125.879148</td>\n",
       "      <td>135</td>\n",
       "    </tr>\n",
       "    <tr>\n",
       "      <th>9</th>\n",
       "      <td>140.711084</td>\n",
       "      <td>140.857143</td>\n",
       "      <td>130.263573</td>\n",
       "      <td>155</td>\n",
       "    </tr>\n",
       "  </tbody>\n",
       "</table>\n",
       "</div>"
      ],
      "text/plain": [
       "         y_m1        y_m2        y_m3    y\n",
       "0  119.433374  126.428571  140.301512  120\n",
       "1  109.420334  140.857143  160.310165  128\n",
       "2  146.969234  126.428571  113.860511  140\n",
       "3  128.194784  133.642857  137.085338  115\n",
       "4  115.678484  126.428571  143.907104  120\n",
       "5  140.711084  133.642857  125.066701  145\n",
       "6  115.678484  140.857143  154.300847  125\n",
       "7  146.969234  140.857143  124.254254  170\n",
       "8  134.452934  126.428571  125.879148  135\n",
       "9  140.711084  140.857143  130.263573  155"
      ]
     },
     "execution_count": 17,
     "metadata": {},
     "output_type": "execute_result"
    }
   ],
   "source": [
    "# Predicciones Modelo 1\n",
    "pred_m1=[reg_simple(m1_B0, m1_B1, x)  for x in p1_test['x1']]\n",
    "# Predicciones Modelo 2\n",
    "pred_m2=[reg_simple(m2_B0, m2_B1, x)  for x in p1_test['x2']]\n",
    "# Predicciones Modelo 3\n",
    "pred_m3=[reg_multiple(x1, x2)  for x1, x2 in zip(p1_test['x1'], p1_test['x2'])]\n",
    "\n",
    "# Muestra de resultados\n",
    "p1_preds=pd.DataFrame({'y_m1':pd.Series(pred_m1),'y_m2':pd.Series(pred_m2),\n",
    "                       'y_m3':pd.Series(pred_m3),'y':p1_test['y']})\n",
    "p1_preds"
   ]
  },
  {
   "cell_type": "code",
   "execution_count": 18,
   "metadata": {
    "tags": []
   },
   "outputs": [
    {
     "data": {
      "text/html": [
       "<div>\n",
       "<style scoped>\n",
       "    .dataframe tbody tr th:only-of-type {\n",
       "        vertical-align: middle;\n",
       "    }\n",
       "\n",
       "    .dataframe tbody tr th {\n",
       "        vertical-align: top;\n",
       "    }\n",
       "\n",
       "    .dataframe thead th {\n",
       "        text-align: right;\n",
       "    }\n",
       "</style>\n",
       "<table border=\"1\" class=\"dataframe\">\n",
       "  <thead>\n",
       "    <tr style=\"text-align: right;\">\n",
       "      <th></th>\n",
       "      <th>e_m1</th>\n",
       "      <th>e_m2</th>\n",
       "      <th>e_m3</th>\n",
       "    </tr>\n",
       "  </thead>\n",
       "  <tbody>\n",
       "    <tr>\n",
       "      <th>0</th>\n",
       "      <td>0.566626</td>\n",
       "      <td>-6.428571</td>\n",
       "      <td>-20.301512</td>\n",
       "    </tr>\n",
       "    <tr>\n",
       "      <th>1</th>\n",
       "      <td>18.579666</td>\n",
       "      <td>-12.857143</td>\n",
       "      <td>-32.310165</td>\n",
       "    </tr>\n",
       "    <tr>\n",
       "      <th>2</th>\n",
       "      <td>-6.969234</td>\n",
       "      <td>13.571429</td>\n",
       "      <td>26.139489</td>\n",
       "    </tr>\n",
       "    <tr>\n",
       "      <th>3</th>\n",
       "      <td>-13.194784</td>\n",
       "      <td>-18.642857</td>\n",
       "      <td>-22.085338</td>\n",
       "    </tr>\n",
       "    <tr>\n",
       "      <th>4</th>\n",
       "      <td>4.321516</td>\n",
       "      <td>-6.428571</td>\n",
       "      <td>-23.907104</td>\n",
       "    </tr>\n",
       "    <tr>\n",
       "      <th>5</th>\n",
       "      <td>4.288916</td>\n",
       "      <td>11.357143</td>\n",
       "      <td>19.933299</td>\n",
       "    </tr>\n",
       "    <tr>\n",
       "      <th>6</th>\n",
       "      <td>9.321516</td>\n",
       "      <td>-15.857143</td>\n",
       "      <td>-29.300847</td>\n",
       "    </tr>\n",
       "    <tr>\n",
       "      <th>7</th>\n",
       "      <td>23.030766</td>\n",
       "      <td>29.142857</td>\n",
       "      <td>45.745746</td>\n",
       "    </tr>\n",
       "    <tr>\n",
       "      <th>8</th>\n",
       "      <td>0.547066</td>\n",
       "      <td>8.571429</td>\n",
       "      <td>9.120852</td>\n",
       "    </tr>\n",
       "    <tr>\n",
       "      <th>9</th>\n",
       "      <td>14.288916</td>\n",
       "      <td>14.142857</td>\n",
       "      <td>24.736427</td>\n",
       "    </tr>\n",
       "  </tbody>\n",
       "</table>\n",
       "</div>"
      ],
      "text/plain": [
       "        e_m1       e_m2       e_m3\n",
       "0   0.566626  -6.428571 -20.301512\n",
       "1  18.579666 -12.857143 -32.310165\n",
       "2  -6.969234  13.571429  26.139489\n",
       "3 -13.194784 -18.642857 -22.085338\n",
       "4   4.321516  -6.428571 -23.907104\n",
       "5   4.288916  11.357143  19.933299\n",
       "6   9.321516 -15.857143 -29.300847\n",
       "7  23.030766  29.142857  45.745746\n",
       "8   0.547066   8.571429   9.120852\n",
       "9  14.288916  14.142857  24.736427"
      ]
     },
     "execution_count": 18,
     "metadata": {},
     "output_type": "execute_result"
    }
   ],
   "source": [
    "# Calcular los residuos ei = yi − y_pred_i\n",
    "e_m1=[y-y_pred for y, y_pred in zip(p1_preds['y'],p1_preds['y_m1'])]\n",
    "e_m2=[y-y_pred for y, y_pred in zip(p1_preds['y'],p1_preds['y_m2'])]\n",
    "e_m3=[y-y_pred for y, y_pred in zip(p1_preds['y'],p1_preds['y_m3'])]\n",
    "\n",
    "# Muestra de resultados\n",
    "e_preds=pd.DataFrame({'e_m1':pd.Series(e_m1),'e_m2':pd.Series(e_m2),\n",
    "                       'e_m3':pd.Series(e_m3)})\n",
    "e_preds"
   ]
  },
  {
   "cell_type": "code",
   "execution_count": 19,
   "metadata": {
    "tags": []
   },
   "outputs": [
    {
     "data": {
      "text/html": [
       "<div>\n",
       "<style scoped>\n",
       "    .dataframe tbody tr th:only-of-type {\n",
       "        vertical-align: middle;\n",
       "    }\n",
       "\n",
       "    .dataframe tbody tr th {\n",
       "        vertical-align: top;\n",
       "    }\n",
       "\n",
       "    .dataframe thead th {\n",
       "        text-align: right;\n",
       "    }\n",
       "</style>\n",
       "<table border=\"1\" class=\"dataframe\">\n",
       "  <thead>\n",
       "    <tr style=\"text-align: right;\">\n",
       "      <th></th>\n",
       "      <th>MAE</th>\n",
       "      <th>MSE</th>\n",
       "      <th>RMSE</th>\n",
       "      <th>R²</th>\n",
       "    </tr>\n",
       "    <tr>\n",
       "      <th>Métrica</th>\n",
       "      <th></th>\n",
       "      <th></th>\n",
       "      <th></th>\n",
       "      <th></th>\n",
       "    </tr>\n",
       "  </thead>\n",
       "  <tbody>\n",
       "    <tr>\n",
       "      <th>M1</th>\n",
       "      <td>9.510901</td>\n",
       "      <td>142.704714</td>\n",
       "      <td>11.945908</td>\n",
       "      <td>0.591107</td>\n",
       "    </tr>\n",
       "    <tr>\n",
       "      <th>M2</th>\n",
       "      <td>13.700000</td>\n",
       "      <td>228.292857</td>\n",
       "      <td>15.109363</td>\n",
       "      <td>0.180534</td>\n",
       "    </tr>\n",
       "    <tr>\n",
       "      <th>M3</th>\n",
       "      <td>25.358078</td>\n",
       "      <td>724.231287</td>\n",
       "      <td>26.911546</td>\n",
       "      <td>0.326809</td>\n",
       "    </tr>\n",
       "  </tbody>\n",
       "</table>\n",
       "</div>"
      ],
      "text/plain": [
       "               MAE         MSE       RMSE        R²\n",
       "Métrica                                            \n",
       "M1        9.510901  142.704714  11.945908  0.591107\n",
       "M2       13.700000  228.292857  15.109363  0.180534\n",
       "M3       25.358078  724.231287  26.911546  0.326809"
      ]
     },
     "execution_count": 19,
     "metadata": {},
     "output_type": "execute_result"
    }
   ],
   "source": [
    "# Calcular métricas del modelo\n",
    "metrics_pred=pd.DataFrame({'Métrica':['M1','M2','M3'],'MAE':np.NaN, \n",
    "                      'MSE':np.NaN, 'RMSE':np.NaN, 'R²':np.NaN}\n",
    "                    ).set_index('Métrica')\n",
    "\n",
    "# MAE: Mean Absolute Error\n",
    "metrics_pred.loc['M1','MAE']=metrics.mean_absolute_error(p1_preds['y'], p1_preds['y_m1'])\n",
    "metrics_pred.loc['M2','MAE']=metrics.mean_absolute_error(p1_preds['y'], p1_preds['y_m2'])\n",
    "metrics_pred.loc['M3','MAE']=metrics.mean_absolute_error(p1_preds['y'], p1_preds['y_m3'])\n",
    "# MSE: Mean Squared Error\n",
    "metrics_pred.loc['M1','MSE']=metrics.mean_squared_error(p1_preds['y'], p1_preds['y_m1'])\n",
    "metrics_pred.loc['M2','MSE']=metrics.mean_squared_error(p1_preds['y'], p1_preds['y_m2'])\n",
    "metrics_pred.loc['M3','MSE']=metrics.mean_squared_error(p1_preds['y'], p1_preds['y_m3'])\n",
    "# RMSE: Root Mean Squared Error\n",
    "metrics_pred.loc['M1','RMSE']=math.sqrt(metrics_pred.loc['M1','MSE'])\n",
    "metrics_pred.loc['M2','RMSE']=math.sqrt(metrics_pred.loc['M2','MSE'])\n",
    "metrics_pred.loc['M3','RMSE']=math.sqrt(metrics_pred.loc['M3','MSE'])\n",
    "# R²: Coefficient of determination\n",
    "def r_pearson(pred,obj):\n",
    "    sum_covar = 0\n",
    "    pred_var = 0\n",
    "    obj_var = 0\n",
    "    for y_pred, y in zip(pred, obj):\n",
    "        sum_covar += (y_pred - pred.mean())*(y - obj.mean())\n",
    "        pred_var += (y_pred - pred.mean())**2\n",
    "        obj_var += (y - obj.mean())**2\n",
    "        \n",
    "    return round((sum_covar**2/(pred_var*obj_var)) ,10)\n",
    "\n",
    "metrics_pred.loc['M1','R²']=r_pearson(p1_preds['y'], p1_preds['y_m1'])\n",
    "metrics_pred.loc['M2','R²']=r_pearson(p1_preds['y'], p1_preds['y_m2'])\n",
    "metrics_pred.loc['M3','R²']=r_pearson(p1_preds['y'], p1_preds['y_m3'])\n",
    "\n",
    "metrics_pred"
   ]
  },
  {
   "cell_type": "markdown",
   "metadata": {
    "tags": []
   },
   "source": [
    "Según las métricas, el mejor es el **Modelo 1**. Esto se debe a que la variable *X2* no es un buen predictor para el modelo, aunque si tiene cierto peso en el modelo de regresión múltiple 3."
   ]
  },
  {
   "cell_type": "markdown",
   "metadata": {},
   "source": [
    " "
   ]
  },
  {
   "cell_type": "markdown",
   "metadata": {},
   "source": [
    " "
   ]
  },
  {
   "cell_type": "markdown",
   "metadata": {},
   "source": [
    "<div style=\"font-size:14px; text-align:justify\"><b>PROBLEMA II.-</b><br></div>"
   ]
  },
  {
   "cell_type": "markdown",
   "metadata": {},
   "source": [
    "Haciendo uso de la base de datos Iris vista anteriormente, se ha ejecutado un algoritmo para estimar los parámetros de una regresión logística múltiple.<br>\n",
    "Como el problema tiene tres clases: setosa (1), versicolor (2) y virgínica (3), se han generado los dos modelos siguientes:<br>\n",
    "𝑓1(𝑿, 𝛽1) = 541.0741 – 33.121𝑋1 − 10.2824𝑋2 − 38.5734𝑋3 − 90.4374𝑋4<br>\n",
    "𝑓2(𝑿,𝜷𝟐) = 501.1562 − 26.3497𝑋1 − 24.2689𝑋2 − 10.7613𝑋3 − 130.0915𝑋4"
   ]
  },
  {
   "cell_type": "markdown",
   "metadata": {
    "tags": []
   },
   "source": [
    "<div style=\"font-size:14px; text-align:justify\"><b>1: </b>Hallar las predicciones del modelo para el siguiente conjunto de test.</div>"
   ]
  },
  {
   "cell_type": "code",
   "execution_count": 20,
   "metadata": {},
   "outputs": [
    {
     "data": {
      "text/html": [
       "<div>\n",
       "<style scoped>\n",
       "    .dataframe tbody tr th:only-of-type {\n",
       "        vertical-align: middle;\n",
       "    }\n",
       "\n",
       "    .dataframe tbody tr th {\n",
       "        vertical-align: top;\n",
       "    }\n",
       "\n",
       "    .dataframe thead th {\n",
       "        text-align: right;\n",
       "    }\n",
       "</style>\n",
       "<table border=\"1\" class=\"dataframe\">\n",
       "  <thead>\n",
       "    <tr style=\"text-align: right;\">\n",
       "      <th></th>\n",
       "      <th>x1</th>\n",
       "      <th>x2</th>\n",
       "      <th>x3</th>\n",
       "      <th>x4</th>\n",
       "      <th>clase</th>\n",
       "    </tr>\n",
       "  </thead>\n",
       "  <tbody>\n",
       "    <tr>\n",
       "      <th>0</th>\n",
       "      <td>4.6</td>\n",
       "      <td>3.2</td>\n",
       "      <td>1.4</td>\n",
       "      <td>0.2</td>\n",
       "      <td>1</td>\n",
       "    </tr>\n",
       "    <tr>\n",
       "      <th>1</th>\n",
       "      <td>5.3</td>\n",
       "      <td>3.7</td>\n",
       "      <td>1.5</td>\n",
       "      <td>0.2</td>\n",
       "      <td>1</td>\n",
       "    </tr>\n",
       "    <tr>\n",
       "      <th>2</th>\n",
       "      <td>5.7</td>\n",
       "      <td>4.4</td>\n",
       "      <td>1.5</td>\n",
       "      <td>0.4</td>\n",
       "      <td>1</td>\n",
       "    </tr>\n",
       "    <tr>\n",
       "      <th>3</th>\n",
       "      <td>5.0</td>\n",
       "      <td>3.5</td>\n",
       "      <td>1.6</td>\n",
       "      <td>0.6</td>\n",
       "      <td>2</td>\n",
       "    </tr>\n",
       "    <tr>\n",
       "      <th>4</th>\n",
       "      <td>5.5</td>\n",
       "      <td>2.5</td>\n",
       "      <td>4.0</td>\n",
       "      <td>1.3</td>\n",
       "      <td>2</td>\n",
       "    </tr>\n",
       "    <tr>\n",
       "      <th>5</th>\n",
       "      <td>5.7</td>\n",
       "      <td>3.0</td>\n",
       "      <td>4.2</td>\n",
       "      <td>1.2</td>\n",
       "      <td>2</td>\n",
       "    </tr>\n",
       "    <tr>\n",
       "      <th>6</th>\n",
       "      <td>5.7</td>\n",
       "      <td>2.8</td>\n",
       "      <td>4.1</td>\n",
       "      <td>1.3</td>\n",
       "      <td>3</td>\n",
       "    </tr>\n",
       "    <tr>\n",
       "      <th>7</th>\n",
       "      <td>5.8</td>\n",
       "      <td>2.7</td>\n",
       "      <td>5.1</td>\n",
       "      <td>1.9</td>\n",
       "      <td>3</td>\n",
       "    </tr>\n",
       "    <tr>\n",
       "      <th>8</th>\n",
       "      <td>6.3</td>\n",
       "      <td>2.5</td>\n",
       "      <td>5.0</td>\n",
       "      <td>1.9</td>\n",
       "      <td>3</td>\n",
       "    </tr>\n",
       "    <tr>\n",
       "      <th>9</th>\n",
       "      <td>5.9</td>\n",
       "      <td>3.0</td>\n",
       "      <td>5.1</td>\n",
       "      <td>1.8</td>\n",
       "      <td>3</td>\n",
       "    </tr>\n",
       "  </tbody>\n",
       "</table>\n",
       "</div>"
      ],
      "text/plain": [
       "    x1   x2   x3   x4  clase\n",
       "0  4.6  3.2  1.4  0.2      1\n",
       "1  5.3  3.7  1.5  0.2      1\n",
       "2  5.7  4.4  1.5  0.4      1\n",
       "3  5.0  3.5  1.6  0.6      2\n",
       "4  5.5  2.5  4.0  1.3      2\n",
       "5  5.7  3.0  4.2  1.2      2\n",
       "6  5.7  2.8  4.1  1.3      3\n",
       "7  5.8  2.7  5.1  1.9      3\n",
       "8  6.3  2.5  5.0  1.9      3\n",
       "9  5.9  3.0  5.1  1.8      3"
      ]
     },
     "execution_count": 20,
     "metadata": {},
     "output_type": "execute_result"
    }
   ],
   "source": [
    "p2_test=pd.read_csv('l3p2_test.csv')\n",
    "p2_test"
   ]
  },
  {
   "cell_type": "code",
   "execution_count": 21,
   "metadata": {},
   "outputs": [
    {
     "data": {
      "text/html": [
       "<div>\n",
       "<style scoped>\n",
       "    .dataframe tbody tr th:only-of-type {\n",
       "        vertical-align: middle;\n",
       "    }\n",
       "\n",
       "    .dataframe tbody tr th {\n",
       "        vertical-align: top;\n",
       "    }\n",
       "\n",
       "    .dataframe thead th {\n",
       "        text-align: right;\n",
       "    }\n",
       "</style>\n",
       "<table border=\"1\" class=\"dataframe\">\n",
       "  <thead>\n",
       "    <tr style=\"text-align: right;\">\n",
       "      <th></th>\n",
       "      <th>e^f1</th>\n",
       "      <th>e^f2</th>\n",
       "      <th>Σe^ft</th>\n",
       "      <th>p(Y=1|X)</th>\n",
       "      <th>p(Y=2|X)</th>\n",
       "      <th>p(Y=3|X)</th>\n",
       "      <th>Clase Predicha</th>\n",
       "      <th>Clase Real</th>\n",
       "    </tr>\n",
       "    <tr>\n",
       "      <th>Patron</th>\n",
       "      <th></th>\n",
       "      <th></th>\n",
       "      <th></th>\n",
       "      <th></th>\n",
       "      <th></th>\n",
       "      <th></th>\n",
       "      <th></th>\n",
       "      <th></th>\n",
       "    </tr>\n",
       "  </thead>\n",
       "  <tbody>\n",
       "    <tr>\n",
       "      <th>1</th>\n",
       "      <td>1.658002e+123</td>\n",
       "      <td>2.747976e+113</td>\n",
       "      <td>1.658002e+123</td>\n",
       "      <td>1.0</td>\n",
       "      <td>0.0</td>\n",
       "      <td>0.0</td>\n",
       "      <td>1</td>\n",
       "      <td>1</td>\n",
       "    </tr>\n",
       "    <tr>\n",
       "      <th>2</th>\n",
       "      <td>1.748162e+109</td>\n",
       "      <td>4.912023e+99</td>\n",
       "      <td>1.748162e+109</td>\n",
       "      <td>1.0</td>\n",
       "      <td>0.0</td>\n",
       "      <td>0.0</td>\n",
       "      <td>1</td>\n",
       "      <td>1</td>\n",
       "    </tr>\n",
       "    <tr>\n",
       "      <th>3</th>\n",
       "      <td>3.218616e+92</td>\n",
       "      <td>2.731178e+76</td>\n",
       "      <td>3.218616e+92</td>\n",
       "      <td>1.0</td>\n",
       "      <td>0.0</td>\n",
       "      <td>0.0</td>\n",
       "      <td>1</td>\n",
       "      <td>1</td>\n",
       "    </tr>\n",
       "    <tr>\n",
       "      <th>4</th>\n",
       "      <td>1.161911e+97</td>\n",
       "      <td>1.464615e+82</td>\n",
       "      <td>1.161911e+97</td>\n",
       "      <td>1.0</td>\n",
       "      <td>0.0</td>\n",
       "      <td>0.0</td>\n",
       "      <td>1</td>\n",
       "      <td>2</td>\n",
       "    </tr>\n",
       "    <tr>\n",
       "      <th>5</th>\n",
       "      <td>4.363034e+26</td>\n",
       "      <td>1.654314e+36</td>\n",
       "      <td>1.654314e+36</td>\n",
       "      <td>0.0</td>\n",
       "      <td>1.0</td>\n",
       "      <td>0.0</td>\n",
       "      <td>2</td>\n",
       "      <td>2</td>\n",
       "    </tr>\n",
       "    <tr>\n",
       "      <th>6</th>\n",
       "      <td>1.280394e+22</td>\n",
       "      <td>2.371783e+33</td>\n",
       "      <td>2.371783e+33</td>\n",
       "      <td>0.0</td>\n",
       "      <td>1.0</td>\n",
       "      <td>0.0</td>\n",
       "      <td>2</td>\n",
       "      <td>2</td>\n",
       "    </tr>\n",
       "    <tr>\n",
       "      <th>7</th>\n",
       "      <td>5.598049e+20</td>\n",
       "      <td>1.998021e+30</td>\n",
       "      <td>1.998021e+30</td>\n",
       "      <td>0.0</td>\n",
       "      <td>1.0</td>\n",
       "      <td>0.0</td>\n",
       "      <td>2</td>\n",
       "      <td>3</td>\n",
       "    </tr>\n",
       "    <tr>\n",
       "      <th>8</th>\n",
       "      <td>2.742053e-21</td>\n",
       "      <td>4.343567e-09</td>\n",
       "      <td>4.343567e-09</td>\n",
       "      <td>0.0</td>\n",
       "      <td>0.0</td>\n",
       "      <td>1.0</td>\n",
       "      <td>3</td>\n",
       "      <td>3</td>\n",
       "    </tr>\n",
       "    <tr>\n",
       "      <th>9</th>\n",
       "      <td>6.520509e-26</td>\n",
       "      <td>3.100338e-12</td>\n",
       "      <td>3.100338e-12</td>\n",
       "      <td>0.0</td>\n",
       "      <td>0.0</td>\n",
       "      <td>1.0</td>\n",
       "      <td>3</td>\n",
       "      <td>3</td>\n",
       "    </tr>\n",
       "    <tr>\n",
       "      <th>10</th>\n",
       "      <td>3.869177e-20</td>\n",
       "      <td>9.579455e-08</td>\n",
       "      <td>9.579455e-08</td>\n",
       "      <td>0.0</td>\n",
       "      <td>0.0</td>\n",
       "      <td>1.0</td>\n",
       "      <td>3</td>\n",
       "      <td>3</td>\n",
       "    </tr>\n",
       "  </tbody>\n",
       "</table>\n",
       "</div>"
      ],
      "text/plain": [
       "                 e^f1           e^f2          Σe^ft  p(Y=1|X)  p(Y=2|X)  \\\n",
       "Patron                                                                    \n",
       "1       1.658002e+123  2.747976e+113  1.658002e+123       1.0       0.0   \n",
       "2       1.748162e+109   4.912023e+99  1.748162e+109       1.0       0.0   \n",
       "3        3.218616e+92   2.731178e+76   3.218616e+92       1.0       0.0   \n",
       "4        1.161911e+97   1.464615e+82   1.161911e+97       1.0       0.0   \n",
       "5        4.363034e+26   1.654314e+36   1.654314e+36       0.0       1.0   \n",
       "6        1.280394e+22   2.371783e+33   2.371783e+33       0.0       1.0   \n",
       "7        5.598049e+20   1.998021e+30   1.998021e+30       0.0       1.0   \n",
       "8        2.742053e-21   4.343567e-09   4.343567e-09       0.0       0.0   \n",
       "9        6.520509e-26   3.100338e-12   3.100338e-12       0.0       0.0   \n",
       "10       3.869177e-20   9.579455e-08   9.579455e-08       0.0       0.0   \n",
       "\n",
       "        p(Y=3|X)  Clase Predicha  Clase Real  \n",
       "Patron                                        \n",
       "1            0.0               1           1  \n",
       "2            0.0               1           1  \n",
       "3            0.0               1           1  \n",
       "4            0.0               1           2  \n",
       "5            0.0               2           2  \n",
       "6            0.0               2           2  \n",
       "7            0.0               2           3  \n",
       "8            1.0               3           3  \n",
       "9            1.0               3           3  \n",
       "10           1.0               3           3  "
      ]
     },
     "execution_count": 21,
     "metadata": {},
     "output_type": "execute_result"
    }
   ],
   "source": [
    "# Evaluación de las funciones para cada clase.\n",
    "# Nota: Para la probabilidad de pertenencia a la clase 3, será la diferencia a 1 del sumatorio de las otras.\n",
    "def f1(x1,x2,x3,x4):\n",
    "    return 541.0741 - 33.121*x1 - 10.2824*x2 - 38.5734*x3 - 90.4374*x4\n",
    "\n",
    "def f2(x1, x2, x3, x4):\n",
    "    return 501.1562 - 26.3497*x1 - 24.2689*x2 - 10.7613*x3 - 130.0915*x4\n",
    "\n",
    "def probabilidad(modelo, sumatorio):\n",
    "    return round(modelo/(1+sumatorio),0)\n",
    "\n",
    "\n",
    "# Dataframe de resultados\n",
    "p3_pred=pd.DataFrame({'Patron':range(1,11),'e^f1':np.NaN, 'e^f2':np.NaN, 'Σe^ft':np.NaN,\n",
    "                     'p(Y=1|X)':np.NaN, 'p(Y=2|X)':np.NaN, 'p(Y=3|X)':np.NaN,\n",
    "                     'Clase Predicha':np.NaN, 'Clase Real':p2_test['clase']}).set_index('Patron')\n",
    "\n",
    "# Evaluación de las funciones de cada modelo\n",
    "def pred(pred1, pred2, pred3):\n",
    "    '''\n",
    "    Obtener la prediccion de acuerdo con la probabilidad de pertenecer a la clase\n",
    "    '''\n",
    "    predictions=[]\n",
    "    for x1, x2, x3 in zip(pred1, pred2, pred3):\n",
    "        if x1 == 1.0:\n",
    "            predictions.append(1)\n",
    "        elif x2 == 1.0:\n",
    "            predictions.append(2)\n",
    "        elif x3 == 1.0:\n",
    "            predictions.append(3)\n",
    "    \n",
    "    return predictions\n",
    "    \n",
    "    \n",
    "p3_pred['e^f1']=[math.exp(f1(x1, x2, x3, x4)) for x1, x2, x3, x4 in zip(p2_test['x1'], p2_test['x2'], p2_test['x3'], p2_test['x4'])]\n",
    "p3_pred['e^f2']=[math.exp(f2(x1, x2, x3, x4)) for x1, x2, x3, x4 in zip(p2_test['x1'], p2_test['x2'], p2_test['x3'], p2_test['x4'])]\n",
    "p3_pred[p3_pred.columns[2]]=p3_pred[['e^f1','e^f2']].sum(axis=1) # Sumatorio por filas de las columnas de función\n",
    "p3_pred['p(Y=1|X)']=[probabilidad(x,sumatorio) for x, sumatorio in zip(p3_pred['e^f1'], p3_pred['Σe^ft'])]\n",
    "p3_pred['p(Y=2|X)']=[probabilidad(x,sumatorio) for x, sumatorio in zip(p3_pred['e^f2'], p3_pred['Σe^ft'])]\n",
    "p3_pred['p(Y=3|X)']=1-p3_pred[['p(Y=1|X)','p(Y=2|X)']].sum(axis=1) # Sumatorio por filas de las columnas de función\n",
    "p3_pred['Clase Predicha']=pred(p3_pred['p(Y=1|X)'], p3_pred['p(Y=2|X)'], p3_pred['p(Y=3|X)'])\n",
    "\n",
    "p3_pred"
   ]
  },
  {
   "cell_type": "markdown",
   "metadata": {},
   "source": [
    " "
   ]
  },
  {
   "cell_type": "markdown",
   "metadata": {
    "tags": []
   },
   "source": [
    "<div style=\"font-size:14px; text-align:justify\"><b>2: </b>Evaluar el rendimiento del clasificador en dicho conjunto.</div>"
   ]
  },
  {
   "cell_type": "code",
   "execution_count": 22,
   "metadata": {},
   "outputs": [
    {
     "data": {
      "image/png": "[encoded data removed]",
      "text/plain": [
       "<Figure size 432x288 with 2 Axes>"
      ]
     },
     "metadata": {
      "needs_background": "light"
     },
     "output_type": "display_data"
    },
    {
     "name": "stdout",
     "output_type": "stream",
     "text": [
      "CCR: 0.8\n",
      "Kappa: 0.70\n"
     ]
    }
   ],
   "source": [
    "# Calcular matriz de confusión y las métricas CCR y Kappa para el modelo.\n",
    "# Matriz de confusión\n",
    "def cm_values(pred, real):\n",
    "    '''\n",
    "    Cálculo de las celdas de la matriz de confusión.\n",
    "    :param pred: Valores predecidos.\n",
    "    :param real: Valores reales.\n",
    "    '''\n",
    "    clases=real.unique() # Total de clases en set\n",
    "    matrix=[] # Resultado de valores de matriz\n",
    "    clase_valores=[0 for i in range(len(clases))] # Valores para cada clase\n",
    "    \n",
    "    for clase in range(len(clases)):\n",
    "        for y, y_pred in zip(real, pred):\n",
    "            if y == clases[clase]:\n",
    "                if y_pred == y:\n",
    "                    # El valor de la diagonal de la matriz como positivo\n",
    "                    clase_valores[clase] += 1\n",
    "                elif y_pred != y:\n",
    "                    # Recorrer resto de clases y ver cual coincide\n",
    "                    for x in clases:\n",
    "                        if y_pred == x:\n",
    "                            clase_valores[x-1] += 1\n",
    "                            \n",
    "        # Agregar lista de valores de la clase vista\n",
    "        matrix.append(clase_valores)\n",
    "        clase_valores=[0 for i in range(len(clases))] # Reset de lista de valores\n",
    "        \n",
    "    # Ploteado de matriz\n",
    "    sns.heatmap(matrix, annot=True, \n",
    "                xticklabels= clases, yticklabels= clases).set(\n",
    "        title='Matriz confusión Multiclase', xlabel='Predicción', ylabel='Clase Real')\n",
    "    plt.show()\n",
    "    \n",
    "    return\n",
    "\n",
    "        \n",
    "cm_values(p3_pred['Clase Predicha'],p3_pred['Clase Real'])\n",
    "\n",
    "# Accuracy del modelo. CCR\n",
    "print(f\"CCR: {metrics.accuracy_score(p3_pred['Clase Real'], p3_pred['Clase Predicha'])}\")\n",
    "print(f\"Kappa: {metrics.cohen_kappa_score(p3_pred['Clase Real'], p3_pred['Clase Predicha']):.2f}\")"
   ]
  },
  {
   "cell_type": "markdown",
   "metadata": {},
   "source": [
    "Evaluación de las  métricas para cada clase del set de datos. Estas metricas son las vistas teóricamente y ya desarrolladas en la actividad anterior. En esta caso, se empleará el módulo **Scikit-learn** de Python para el cálculo de la mismas."
   ]
  },
  {
   "cell_type": "code",
   "execution_count": 23,
   "metadata": {},
   "outputs": [
    {
     "data": {
      "text/html": [
       "<div>\n",
       "<style scoped>\n",
       "    .dataframe tbody tr th:only-of-type {\n",
       "        vertical-align: middle;\n",
       "    }\n",
       "\n",
       "    .dataframe tbody tr th {\n",
       "        vertical-align: top;\n",
       "    }\n",
       "\n",
       "    .dataframe thead th {\n",
       "        text-align: right;\n",
       "    }\n",
       "</style>\n",
       "<table border=\"1\" class=\"dataframe\">\n",
       "  <thead>\n",
       "    <tr style=\"text-align: right;\">\n",
       "      <th></th>\n",
       "      <th>Recall</th>\n",
       "      <th>FP-Rate</th>\n",
       "      <th>Specifity</th>\n",
       "      <th>Precision</th>\n",
       "      <th>F-Score</th>\n",
       "    </tr>\n",
       "    <tr>\n",
       "      <th>Clase</th>\n",
       "      <th></th>\n",
       "      <th></th>\n",
       "      <th></th>\n",
       "      <th></th>\n",
       "      <th></th>\n",
       "    </tr>\n",
       "  </thead>\n",
       "  <tbody>\n",
       "    <tr>\n",
       "      <th>1</th>\n",
       "      <td>1.000000</td>\n",
       "      <td>0.140000</td>\n",
       "      <td>0.85714</td>\n",
       "      <td>0.750000</td>\n",
       "      <td>0.857143</td>\n",
       "    </tr>\n",
       "    <tr>\n",
       "      <th>2</th>\n",
       "      <td>0.666667</td>\n",
       "      <td>0.140000</td>\n",
       "      <td>0.85714</td>\n",
       "      <td>0.666667</td>\n",
       "      <td>0.666667</td>\n",
       "    </tr>\n",
       "    <tr>\n",
       "      <th>3</th>\n",
       "      <td>0.750000</td>\n",
       "      <td>0.000000</td>\n",
       "      <td>1.00000</td>\n",
       "      <td>1.000000</td>\n",
       "      <td>0.857143</td>\n",
       "    </tr>\n",
       "    <tr>\n",
       "      <th>Promedio</th>\n",
       "      <td>0.805556</td>\n",
       "      <td>0.093333</td>\n",
       "      <td>0.90476</td>\n",
       "      <td>0.805556</td>\n",
       "      <td>0.793651</td>\n",
       "    </tr>\n",
       "  </tbody>\n",
       "</table>\n",
       "</div>"
      ],
      "text/plain": [
       "            Recall   FP-Rate  Specifity  Precision   F-Score\n",
       "Clase                                                       \n",
       "1         1.000000  0.140000    0.85714   0.750000  0.857143\n",
       "2         0.666667  0.140000    0.85714   0.666667  0.666667\n",
       "3         0.750000  0.000000    1.00000   1.000000  0.857143\n",
       "Promedio  0.805556  0.093333    0.90476   0.805556  0.793651"
      ]
     },
     "execution_count": 23,
     "metadata": {},
     "output_type": "execute_result"
    }
   ],
   "source": [
    "def info_class(cfm, index:int):\n",
    "    '''\n",
    "    TN, FN, TP, FP para la clase en set multiclase\n",
    "    :param index: Indice de la matriz como clase a evaluar\n",
    "    '''\n",
    "    # Valor de la diagonal coincidente con la prediccion y real\n",
    "    tp=cfm[index][index]\n",
    "    \n",
    "    # Valores fuera de la fila y columna de la clase\n",
    "    tn=0\n",
    "    # Recorrer filas no coincidentes con clase\n",
    "    for i in range(len(cfm)):\n",
    "        if i != index:\n",
    "            # Recorrer columnas no coincidentes con la clase\n",
    "            for j in range(len(cfm)):\n",
    "                if j != index:\n",
    "                    tn += cfm[i][j]\n",
    "            \n",
    "    # Valores de la clase en columna no coincidentes con el valor real\n",
    "    fp=sum([cfm[x][index] for x in range(len(cfm)) if x != index])\n",
    "    \n",
    "    # Valores de la clase en fila no coincidentes con el valor real\n",
    "    fn=sum([cfm[index][x] for x in range(len(cfm)) if x != index])\n",
    "    \n",
    "    return tp, fp, fn, tn\n",
    "\n",
    "\n",
    "def especifidad (tn, fp):\n",
    "    '''\n",
    "    Patrones negativos bien predichos\n",
    "    '''\n",
    "    return round(tn/(tn+fp),5)\n",
    "\n",
    "def fp_rate(fp, tn):\n",
    "    '''\n",
    "    Patrones negativos predichos como positivos\n",
    "    '''\n",
    "    return round(fp/(fp+tn),2)\n",
    "\n",
    "\n",
    "# Dataframe resultados\n",
    "metricas=pd.DataFrame({'Clase':['1','2','3','Promedio'],'Recall':[0]*4,'FP-Rate':[0]*4,\n",
    "                          'Specifity':[0]*4,'Precision':[0]*4,'F-Score':[0]*4}).set_index('Clase')\n",
    "\n",
    "# Metricas\n",
    "# Matrices de confusión por clase: TP, FP, FN, TN\n",
    "cm=metrics.confusion_matrix(p3_pred['Clase Real'], p3_pred['Clase Predicha'])\n",
    "cm_c1=info_class(cm, 0)\n",
    "cm_c2=info_class(cm, 1)\n",
    "cm_c3=info_class(cm, 2)\n",
    "\n",
    "# Precision, Recall y F-Score  \n",
    "precision, recall, fscore, support = metrics.precision_recall_fscore_support(p3_pred['Clase Real'], p3_pred['Clase Predicha'])\n",
    "\n",
    "# Recall\n",
    "metricas.loc['1', 'Recall']=recall[0]\n",
    "metricas.loc['2', 'Recall']=recall[1]\n",
    "metricas.loc['3', 'Recall']=recall[2]\n",
    "metricas.loc['Promedio', 'Recall']=metricas['Recall'].iloc[:3].mean()\n",
    "\n",
    "# FP_rate\n",
    "metricas.loc['1', 'FP-Rate']=fp_rate(cm_c1[1],cm_c1[3])\n",
    "metricas.loc['2', 'FP-Rate']=fp_rate(cm_c2[1],cm_c2[3])\n",
    "metricas.loc['3', 'FP-Rate']=fp_rate(cm_c3[1],cm_c3[3])\n",
    "metricas.loc['Promedio', 'FP-Rate']=metricas['FP-Rate'].iloc[:3].mean()\n",
    "\n",
    "# Especifidad\n",
    "metricas.loc['1', 'Specifity']=especifidad(cm_c1[3],cm_c1[1])\n",
    "metricas.loc['2', 'Specifity']=especifidad(cm_c2[3],cm_c2[1])\n",
    "metricas.loc['3', 'Specifity']=especifidad(cm_c3[3],cm_c3[1])\n",
    "metricas.loc['Promedio', 'Specifity']=metricas['Specifity'].iloc[:3].mean()\n",
    "\n",
    "# Precision\n",
    "metricas.loc['1', 'Precision']=precision[0]\n",
    "metricas.loc['2', 'Precision']=precision[1]\n",
    "metricas.loc['3', 'Precision']=precision[2]\n",
    "metricas.loc['Promedio', 'Precision']=metricas['Precision'].iloc[:3].mean()\n",
    "\n",
    "# F-Score\n",
    "metricas.loc['1', 'F-Score']=fscore[0]\n",
    "metricas.loc['2', 'F-Score']=fscore[1]\n",
    "metricas.loc['3', 'F-Score']=fscore[2]\n",
    "metricas.loc['Promedio', 'F-Score']=metricas['F-Score'].iloc[:3].mean()\n",
    "\n",
    "metricas"
   ]
  },
  {
   "cell_type": "markdown",
   "metadata": {},
   "source": [
    "Con los resultados obtenidos, se podría decir que el modelo funciona bien para el caso de estudio.<br>\n",
    "El modelo es capaz de discernir bien las clases y con una media de 90% clasificar las clases negativas. Además, el F-Score medio es del 80%.<br>\n",
    "Pero, pese a que el modelo está aceptable en términos medios, si atendemos a los resultados de la clase 2, estos no lo serian, pues obtiene resultados no tan buenos que hacen que la media del modelo disminuya."
   ]
  },
  {
   "cell_type": "markdown",
   "metadata": {},
   "source": [
    " "
   ]
  },
  {
   "cell_type": "markdown",
   "metadata": {
    "tags": []
   },
   "source": [
    "<div style=\"font-size:14px; text-align:justify\"><b>3: </b>Comparar el modelo obtenido con el expuesto en la lección 3.</div>"
   ]
  },
  {
   "cell_type": "markdown",
   "metadata": {},
   "source": [
    "Pese a que las funciones de regresión logistica sean diferentes, ambos obtienen los mismos resultados para la predicción de las clases. Esto se debe a que los aciertos, han sido los mismos. en resumen, **ambos modelos funcionan idénticamente**."
   ]
  }
 ],
 "metadata": {
  "kernelspec": {
   "display_name": "Python 3 (ipykernel)",
   "language": "python",
   "name": "python3"
  },
  "language_info": {
   "codemirror_mode": {
    "name": "ipython",
    "version": 3
   },
   "file_extension": ".py",
   "mimetype": "text/x-python",
   "name": "python",
   "nbconvert_exporter": "python",
   "pygments_lexer": "ipython3",
   "version": "3.8.5"
  }
 },
 "nbformat": 4,
 "nbformat_minor": 4
}
